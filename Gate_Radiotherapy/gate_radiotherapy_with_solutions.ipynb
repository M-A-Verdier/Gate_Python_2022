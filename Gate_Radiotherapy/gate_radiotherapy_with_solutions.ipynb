{
 "cells": [
  {
   "cell_type": "markdown",
   "metadata": {
    "slideshow": {
     "slide_type": "slide"
    }
   },
   "source": [
    "# Python Data Analysis for Radiotherapy Applications"
   ]
  },
  {
   "cell_type": "markdown",
   "metadata": {
    "slideshow": {
     "slide_type": "subslide"
    }
   },
   "source": [
    "## Contents:\n",
    "* Dose map with gammas and protons in external RT\n",
    "* Dose map analysis for internal RT\n",
    "* PhSp files: reading IEAE and ROOT formats\n",
    "* GateTools"
   ]
  },
  {
   "cell_type": "markdown",
   "metadata": {
    "slideshow": {
     "slide_type": "slide"
    }
   },
   "source": [
    "# Dose map analysis with the example Ex_dose3D"
   ]
  },
  {
   "cell_type": "markdown",
   "metadata": {
    "slideshow": {
     "slide_type": "fragment"
    }
   },
   "source": [
    "#### We will first have a look at a GATE example to produce a 3D dose map:\n",
    "* open a terminal and go to the folder gate_radiotherapy/Ex_dose3D\n",
    "* look at the different files and open mac/main.mac\n",
    "* look at all the sections and in particular to the geometry and ouputs section\n",
    "* run the example with  \n",
    "`Gate --qt mac/main.mac`\n",
    "* check the output folder and the different files produced\n",
    "* analyse the output 3D dose map with the following cells  \n",
    "(some high statistic results with 1e6 particles are available in results.1e6/)"
   ]
  },
  {
   "cell_type": "code",
   "execution_count": 1,
   "metadata": {},
   "outputs": [
    {
     "name": "stdout",
     "output_type": "stream",
     "text": [
      "/home/mverdier/Documents/IMNC/Gate_SC/Formation_CNRS/2022/Wednesday/Gate_Radiotherapy/Ex_dose3D\n"
     ]
    }
   ],
   "source": [
    "cd Ex_dose3D/"
   ]
  },
  {
   "cell_type": "code",
   "execution_count": 2,
   "metadata": {},
   "outputs": [
    {
     "data": {
      "text/plain": [
       "'/home/mverdier/Documents/IMNC/Gate_SC/Formation_CNRS/2022/Wednesday/Gate_Radiotherapy/Ex_dose3D'"
      ]
     },
     "execution_count": 2,
     "metadata": {},
     "output_type": "execute_result"
    }
   ],
   "source": [
    "pwd"
   ]
  },
  {
   "cell_type": "code",
   "execution_count": 3,
   "metadata": {},
   "outputs": [
    {
     "name": "stdout",
     "output_type": "stream",
     "text": [
      "\u001b[0m\u001b[01;34mdata\u001b[0m/  \u001b[01;34mmac\u001b[0m/  main.mac  \u001b[01;34moutput\u001b[0m/  README.md  \u001b[01;34mresults.1e6\u001b[0m/\n"
     ]
    }
   ],
   "source": [
    "ls"
   ]
  },
  {
   "cell_type": "code",
   "execution_count": 4,
   "metadata": {},
   "outputs": [
    {
     "name": "stdout",
     "output_type": "stream",
     "text": [
      "#=====================================================\n",
      "# VERBOSITY\n",
      "#=====================================================\n",
      "\n",
      "/control/execute    mac/verbose.mac\n",
      "\n",
      "#=====================================================\n",
      "# GEOMETRY\n",
      "#=====================================================\n",
      "\n",
      "\n",
      "/gate/geometry/setMaterialDatabase  data/GateMaterials.db\n",
      "\n",
      "# World\n",
      "/gate/world/geometry/setXLength     1 m\n",
      "/gate/world/geometry/setYLength     1 m\n",
      "/gate/world/geometry/setZLength     1 m\n",
      "/gate/world/setMaterial             Air\n",
      "\n",
      "# Generate materials from Hounsfield units\n",
      "/gate/HounsfieldMaterialGenerator/SetMaterialTable                  data/Schneider2000MaterialsTable.txt\n",
      "/gate/HounsfieldMaterialGenerator/SetDensityTable                   data/Schneider2000DensitiesTable.txt\n",
      "/gate/HounsfieldMaterialGenerator/SetDensityTolerance               0.1 g/cm3\n",
      "/gate/HounsfieldMaterialGenerator/SetOutputMaterialDatabaseFilename data/patient-HUmaterials.db\n",
      "/gate/HounsfieldMaterialGenerator/SetOutputHUMaterialFilename       data/patient-HU2mat.txt\n",
      "/gate/HounsfieldMaterialGenerator/Generate\n",
      "\n",
      "/gate/world/daughters/name                      patient\n",
      "/gate/world/daughters/insert                    ImageNestedParametrisedVolume\n",
      "\n",
      "/gate/geometry/setMaterialDatabase              data/patient-HUmaterials.db\n",
      "/gate/patient/geometry/setHUToMaterialFile      data/patient-HU2mat.txt\n",
      "/gate/patient/geometry/setImage                 data/patient-2mm.mhd\n",
      "\n",
      "# optional : dump used image\n",
      "# /gate/patient/geometry/buildAndDumpLabeledImage data/patient-2mm-labeled-NPV.mhd\n",
      "\n",
      "/gate/patient/placement/setTranslation          0 0 272 mm\n",
      "\n",
      "#=====================================================\n",
      "# PHYSICS\n",
      "#=====================================================\n",
      "\n",
      "/gate/physics/addPhysicsList            emstandard_opt1\n",
      "\n",
      "/gate/physics/Gamma/SetCutInRegion      world 10 mm\n",
      "/gate/physics/Electron/SetCutInRegion   world 10 mm\n",
      "/gate/physics/Positron/SetCutInRegion   world 10 mm\n",
      "\n",
      "/gate/physics/Gamma/SetCutInRegion      patient 0.1 mm\n",
      "/gate/physics/Electron/SetCutInRegion   patient 0.1 mm\n",
      "/gate/physics/Positron/SetCutInRegion   patient 0.1 mm\n",
      "\n",
      "/gate/physics/displayCuts\n",
      "\n",
      "#=====================================================\n",
      "# OUTPUTS\n",
      "#=====================================================\n",
      "\n",
      "/gate/actor/addActor                        DoseActor  dose3d\n",
      "/gate/actor/dose3d/save                     output/3d.mhd\n",
      "/gate/actor/dose3d/attachTo                 patient\n",
      "/gate/actor/dose3d/stepHitType              random\n",
      "/gate/actor/dose3d/setPosition              0 0 0 cm\n",
      "/gate/actor/dose3d/setResolution            50 50 50\n",
      "/gate/actor/dose3d/saveEveryNSeconds        60\n",
      "/gate/actor/dose3d/enableDose               true\n",
      "#/gate/actor/dose3d/enableEdep              true\n",
      "#/gate/actor/dose3d/enableUncertaintyEdep   true\n",
      "\n",
      "/gate/actor/addActor                        SimulationStatisticActor stat\n",
      "/gate/actor/stat/save                       output/stat-pat.txt\n",
      "/gate/actor/stat/saveEveryNSeconds          60\n",
      "\n",
      "#=====================================================\n",
      "# VISUALISATION\n",
      "#=====================================================\n",
      "\n",
      "/control/execute mac/visu.mac\n",
      "\n",
      "#=====================================================\n",
      "# INITIALISATION\n",
      "#=====================================================\n",
      "\n",
      "/gate/run/initialize\n",
      "\n",
      "#=====================================================\n",
      "# BEAMS\n",
      "#=====================================================\n",
      "\n",
      "/gate/source/addSource                  mybeam gps\n",
      "#/gate/source/mybeam/gps/particle        proton\n",
      "/gate/source/mybeam/gps/particle        gamma\n",
      "/gate/source/mybeam/gps/pos/type        Beam\n",
      "/gate/source/mybeam/gps/pos/rot1        0 1 0\n",
      "/gate/source/mybeam/gps/pos/rot2        1 0 0\n",
      "/gate/source/mybeam/gps/pos/shape       Circle\n",
      "/gate/source/mybeam/gps/pos/centre      0 0 0 mm\n",
      "/gate/source/mybeam/gps/pos/sigma_x     3 mm\n",
      "/gate/source/mybeam/gps/pos/sigma_y     3 mm\n",
      "#/gate/source/mybeam/gps/ene/mono        100 MeV\n",
      "/gate/source/mybeam/gps/ene/mono        10 MeV\n",
      "/gate/source/mybeam/gps/ene/type        Gauss\n",
      "/gate/source/mybeam/gps/ene/sigma       1.0 MeV\n",
      "/gate/source/mybeam/gps/direction       0 0 1\n",
      "\n",
      "#=====================================================\n",
      "# START BEAMS\n",
      "#=====================================================\n",
      "\n",
      "# JamesRandom Ranlux64 MersenneTwister\n",
      "/gate/random/setEngineName MersenneTwister\n",
      "/gate/random/setEngineSeed auto\n",
      "\n",
      "#/tracking/verbose 1\n",
      "\n",
      "/gate/application/noGlobalOutput\n",
      "/gate/application/setTotalNumberOfPrimaries 1e3\n",
      "/gate/application/start\n",
      "\n"
     ]
    }
   ],
   "source": [
    "cat main.mac"
   ]
  },
  {
   "cell_type": "code",
   "execution_count": 5,
   "metadata": {},
   "outputs": [
    {
     "name": "stdout",
     "output_type": "stream",
     "text": [
      "[G4] \n",
      "[G4] **************************************************************\n",
      "[G4]  Geant4 version Name: geant4-10-07-patch-02    (11-June-2021)\n",
      "[G4]                        Copyright : Geant4 Collaboration\n",
      "[G4]                       References : NIM A 506 (2003), 250-303\n",
      "[G4]                                  : IEEE-TNS 53 (2006), 270-278\n",
      "[G4]                                  : NIM A 835 (2016), 186-225\n",
      "[G4]                              WWW : http://geant4.org/\n",
      "[G4] **************************************************************\n",
      "[G4] \n",
      "[Core-0] Initialization of geometry\n",
      "[Core-0] Initialization of physics\n",
      "[Core-0] Initialization of actors\n",
      "[G4] Available UI session types: [ Qt, GAG, tcsh, csh ]\n",
      "[Core-0] \n",
      "[Core-0] *************************************************\n",
      "[Core-0]  GATE version 9.1 (2021)\n",
      "[Core-0]  Copyright : OpenGATE Collaboration\n",
      "[Core-0]  Reference : Phys. Med. Biol. 49 (2004) 4543-4561\n",
      "[Core-0]  Reference : Phys. Med. Biol. 56 (2011) 881-901\n",
      "[Core-0]  Reference : Med. Phys. 41(6)    (2014)\n",
      "[Core-0]  http://www.opengatecollaboration.org        \n",
      "[Core-0] *************************************************\n",
      "[Core-0] \n",
      "[Core-0] You are using Geant4 version 10.7.2\n",
      "[Core-0] Starting macro main.mac\n",
      "I/O warning : failed to load external entity \"./Materials.xml\"\n",
      "I/O warning: Discard the previous warning if your simulation doesn't transport OPTICAL PHOTONS. \n",
      "Otherwise, please copy the ./Materials.xml file from the gate-source directory in the directory where you run your main macro.\n",
      "[Geometry-1]  Generation of 42 materials.\n",
      "[Physic-0] The following Geant4's physic-list is enabled :emstandard_opt1\n",
      "/tracking/storeTrajectory 1\n",
      "Attributes available for modeling and filtering with\n",
      "  \"/vis/modeling/trajectories/create/drawByAttribute\" and\n",
      "  \"/vis/filtering/trajectories/create/attributeFilter\" commands:\n",
      "G4TrajectoriesModel:\n",
      "  Event ID (EventID): G4int\n",
      "  Run ID (RunID): G4int\n",
      "G4Trajectory:\n",
      "  Charge (Ch): unit: e+ (G4double)\n",
      "  Track ID (ID): G4int\n",
      "  Initial kinetic energy (IKE): G4BestUnit (G4double)\n",
      "  Initial momentum magnitude (IMag): G4BestUnit (G4double)\n",
      "  Initial momentum (IMom): G4BestUnit (G4ThreeVector)\n",
      "  No. of points (NTP): G4int\n",
      "  PDG Encoding (PDG): G4int\n",
      "  Parent ID (PID): G4int\n",
      "  Particle Name (PN): G4String\n",
      "G4TrajectoryPoint:\n",
      "  Position (Pos): G4BestUnit (G4ThreeVector)\n",
      "WARNING: Trajectory storing has been requested.  This action may be\n",
      "  reversed with \"/tracking/storeTrajectory 0\".\n",
      "WARNING: The vis manager will keep up to 100 events.\n",
      "  This may use a lot of memory.\n",
      "  It may be changed with, e.g., \"/vis/scene/endOfEventAction accumulate 10\".\n",
      "[Core-0] Initialization of geometry\n",
      "[Physic-1]   \n",
      "[Physic-1]  ----------------------------------------------------------\n",
      "[Physic-1]                      Ionization potential \n",
      "[Physic-1]   - worldDefaultAir\t defaut value: I = 85.7031 eV \n",
      "[Physic-1]   - Air\t defaut value: I = 85.6694 eV \n",
      "[Physic-1]   - Air_0\t defaut value: I = 85.6835 eV \n",
      "[Physic-1]   - Lung_1\t defaut value: I = 69.7265 eV \n",
      "[Physic-1]   - Lung_2\t defaut value: I = 69.7265 eV \n",
      "[Physic-1]   - Lung_3\t defaut value: I = 69.7265 eV \n",
      "[Physic-1]   - Lung_4\t defaut value: I = 69.7265 eV \n",
      "[Physic-1]   - Lung_5\t defaut value: I = 69.7265 eV \n",
      "[Physic-1]   - Lung_6\t defaut value: I = 69.7265 eV \n",
      "[Physic-1]   - Lung_7\t defaut value: I = 69.7265 eV \n",
      "[Physic-1]   - Lung_8\t defaut value: I = 69.7265 eV \n",
      "[Physic-1]   - Lung_9\t defaut value: I = 69.7265 eV \n",
      "[Physic-1]   - AT_AG_SI1_10\t defaut value: I = 62.0319 eV \n",
      "[Physic-1]   - AT_AG_SI2_11\t defaut value: I = 63.4683 eV \n",
      "[Physic-1]   - AT_AG_SI3_12\t defaut value: I = 65.0113 eV \n",
      "[Physic-1]   - AT_AG_SI4_13\t defaut value: I = 66.2236 eV \n",
      "[Physic-1]   - AT_AG_SI5_14\t defaut value: I = 67.2633 eV \n",
      "[Physic-1]   - SoftTissus_15\t defaut value: I = 69.3673 eV \n",
      "[Physic-1]   - ConnectiveTissue_16\t defaut value: I = 70.1132 eV \n",
      "[Physic-1]   - Marrow_Bone01_17\t defaut value: I = 70.1517 eV \n",
      "[Physic-1]   - Marrow_Bone02_18\t defaut value: I = 72.8112 eV \n",
      "[Physic-1]   - Marrow_Bone03_19\t defaut value: I = 75.8101 eV \n",
      "[Physic-1]   - Marrow_Bone04_20\t defaut value: I = 78.6833 eV \n",
      "[Physic-1]   - Marrow_Bone05_21\t defaut value: I = 81.1811 eV \n",
      "[Physic-1]   - Marrow_Bone06_22\t defaut value: I = 83.7728 eV \n",
      "[Physic-1]   - Marrow_Bone07_23\t defaut value: I = 86.3313 eV \n",
      "[Physic-1]   - Marrow_Bone08_24\t defaut value: I = 89.0293 eV \n",
      "[Physic-1]   - Marrow_Bone09_25\t defaut value: I = 91.2528 eV \n",
      "[Physic-1]   - Marrow_Bone10_26\t defaut value: I = 93.2682 eV \n",
      "[Physic-1]   - Marrow_Bone11_27\t defaut value: I = 95.6021 eV \n",
      "[Physic-1]   - Marrow_Bone12_28\t defaut value: I = 97.5111 eV \n",
      "[Physic-1]   - Marrow_Bone13_29\t defaut value: I = 99.4546 eV \n",
      "[Physic-1]   - Marrow_Bone14_30\t defaut value: I = 101.433 eV \n",
      "[Physic-1]   - Marrow_Bone15_31\t defaut value: I = 102.82 eV \n",
      "[Physic-1]   - AmalgamTooth_32\t defaut value: I = 463.985 eV \n",
      "[Physic-1]   - AmalgamTooth_33\t defaut value: I = 463.985 eV \n",
      "[Physic-1]   - AmalgamTooth_34\t defaut value: I = 463.985 eV \n",
      "[Physic-1]   - AmalgamTooth_35\t defaut value: I = 463.985 eV \n",
      "[Physic-1]   - MetallImplants_36\t defaut value: I = 233 eV \n",
      "[Physic-1]   - MetallImplants_37\t defaut value: I = 233 eV \n",
      "[Physic-1]   - MetallImplants_38\t defaut value: I = 233 eV \n",
      "[Physic-1]   - MetallImplants_39\t defaut value: I = 233 eV \n",
      "[Physic-1]   - MetallImplants_40\t defaut value: I = 233 eV \n",
      "[Physic-1]   - MetallImplants_41\t defaut value: I = 233 eV \n",
      "[Physic-1]  ----------------------------------------------------------\n",
      "G4PhysicalVolumeModel::Validate(): A volume of the same name and\n",
      "  copy number (\"world_phys\", copy 0) still exists and is being used.\n",
      "  But it is not the same volume you originally specified\n",
      "  in /vis/scene/add/.\n",
      "[Core-0] Initialization of physics\n",
      "[Core-0] Initialization of actors\n",
      "[Acquisition-0]   \n",
      "[Acquisition-0] ============= Source initialization =============\n",
      "[Acquisition-0]   \n",
      "[Acquisition-0] ============= Acquisition starts! =============\n",
      "[Acquisition-0] Simulation start time = 0 sec\n",
      "[Acquisition-0] Simulation end time   = 1 sec\n",
      "[Acquisition-0] Simulation will have  = 1 run(s)\n",
      "[Acquisition-0] Slice 0 from 0 to 1 s [slice=1 s]\n",
      "\n",
      "### ===  Deexcitation model UAtomDeexcitation is activated for 2 regions:\n",
      "          DefaultRegionForTheWorld  1  1  1\n",
      "          patient  1  1  1\n",
      "### ===  Ignore cuts flag:   0\n",
      "\n",
      "phot:  for gamma applyCuts:1  SubType=12 BuildTable=0\n",
      "      LambdaPrime table from 200 keV to 100 TeV in 61 bins \n",
      "      ===== EM models for the G4Region  DefaultRegionForTheWorld ======\n",
      " LivermorePhElectric : Emin=    0 eV  Emax=  100 TeV  SauterGavrila Fluo\n",
      "\n",
      "compt:  for gamma applyCuts:1  SubType=13 BuildTable=1\n",
      "      Lambda table from 100 eV  to 1 MeV, 7 bins/decade, spline: 1\n",
      "      LambdaPrime table from 1 MeV to 100 TeV in 56 bins \n",
      "      ===== EM models for the G4Region  DefaultRegionForTheWorld ======\n",
      "       Klein-Nishina : Emin=    0 eV  Emax=  100 TeV\n",
      "\n",
      "conv:  for gamma applyCuts:1  SubType=14 BuildTable=1\n",
      "      Lambda table from 1.022 MeV to 100 TeV, 18 bins/decade, spline: 1\n",
      "      ===== EM models for the G4Region  DefaultRegionForTheWorld ======\n",
      "     BetheHeitlerLPM : Emin=    0 eV  Emax=  100 TeV  ModifiedTsai\n",
      "\n",
      "msc:  for e-  SubType= 10\n",
      "      ===== EM models for the G4Region  DefaultRegionForTheWorld ======\n",
      "            UrbanMsc : Emin=    0 eV  Emax=  100 MeV Nbins=42 100 eV  - 100 MeV\n",
      "              StepLim=Minimal Rfact=0.2 Gfact=2.5 Sfact=0.6 DispFlag:1 Skin=1 Llimit=1\n",
      "        WentzelVIUni : Emin=  100 MeV Emax=  100 TeV Nbins=42 100 MeV - 100 TeV\n",
      "              StepLim=Minimal Rfact=0.2 Gfact=2.5 Sfact=0.6 DispFlag:1 Skin=1 Llimit=1\n",
      "\n",
      "eIoni:  for e-  SubType=2\n",
      "      dE/dx and range tables from 100 eV  to 100 TeV in 84 bins\n",
      "      Lambda tables from threshold to 100 TeV, 7 bins/decade, spline: 1\n",
      "      StepFunction=(0.8, 1 mm), integ: 1, fluct: 1, linLossLim= 0.01\n",
      "      ===== EM models for the G4Region  DefaultRegionForTheWorld ======\n",
      "        MollerBhabha : Emin=    0 eV  Emax=  100 TeV\n",
      "\n",
      "eBrem:  for e-  SubType=3\n",
      "      dE/dx and range tables from 100 eV  to 100 TeV in 84 bins\n",
      "      Lambda tables from threshold to 100 TeV, 7 bins/decade, spline: 1\n",
      "      LPM flag: 1 for E > 1 GeV,  VertexHighEnergyTh(GeV)= 100000\n",
      "      ===== EM models for the G4Region  DefaultRegionForTheWorld ======\n",
      "             eBremSB : Emin=    0 eV  Emax=    1 GeV  ModifiedTsai\n",
      "            eBremLPM : Emin=    1 GeV Emax=  100 TeV  ModifiedTsai\n",
      "\n",
      "CoulombScat:  for e-, integral:1  applyCuts:1  SubType=1 BuildTable=1\n",
      "      Lambda table from 100 MeV to 100 TeV, 7 bins/decade, spline: 1\n",
      "      ThetaMin(p) < Theta(degree) < 180; pLimit(GeV^1)= 0.139531\n",
      "      ===== EM models for the G4Region  DefaultRegionForTheWorld ======\n",
      "  eCoulombScattering : Emin=  100 MeV Emax=  100 TeV\n",
      "\n",
      "msc:  for e+  SubType= 10\n",
      "      ===== EM models for the G4Region  DefaultRegionForTheWorld ======\n",
      "            UrbanMsc : Emin=    0 eV  Emax=  100 MeV Nbins=42 100 eV  - 100 MeV\n",
      "              StepLim=Minimal Rfact=0.2 Gfact=2.5 Sfact=0.6 DispFlag:1 Skin=1 Llimit=1\n",
      "        WentzelVIUni : Emin=  100 MeV Emax=  100 TeV Nbins=42 100 MeV - 100 TeV\n",
      "              StepLim=Minimal Rfact=0.2 Gfact=2.5 Sfact=0.6 DispFlag:1 Skin=1 Llimit=1\n",
      "\n",
      "eIoni:  for e+  SubType=2\n",
      "      dE/dx and range tables from 100 eV  to 100 TeV in 84 bins\n",
      "      Lambda tables from threshold to 100 TeV, 7 bins/decade, spline: 1\n",
      "      StepFunction=(0.8, 1 mm), integ: 1, fluct: 1, linLossLim= 0.01\n",
      "      ===== EM models for the G4Region  DefaultRegionForTheWorld ======\n",
      "        MollerBhabha : Emin=    0 eV  Emax=  100 TeV\n",
      "\n",
      "eBrem:  for e+  SubType=3\n",
      "      dE/dx and range tables from 100 eV  to 100 TeV in 84 bins\n",
      "      Lambda tables from threshold to 100 TeV, 7 bins/decade, spline: 1\n",
      "      LPM flag: 1 for E > 1 GeV,  VertexHighEnergyTh(GeV)= 100000\n",
      "      ===== EM models for the G4Region  DefaultRegionForTheWorld ======\n",
      "             eBremSB : Emin=    0 eV  Emax=    1 GeV  ModifiedTsai\n",
      "            eBremLPM : Emin=    1 GeV Emax=  100 TeV  ModifiedTsai\n",
      "\n",
      "annihil:  for e+, integral:1  applyCuts:1  SubType=5 BuildTable=0\n",
      "      ===== EM models for the G4Region  DefaultRegionForTheWorld ======\n",
      "            eplus2gg : Emin=    0 eV  Emax=  100 TeV\n",
      "\n",
      "CoulombScat:  for e+, integral:1  applyCuts:1  SubType=1 BuildTable=1\n",
      "      Lambda table from 100 MeV to 100 TeV, 7 bins/decade, spline: 1\n",
      "      ThetaMin(p) < Theta(degree) < 180; pLimit(GeV^1)= 0.139531\n",
      "      ===== EM models for the G4Region  DefaultRegionForTheWorld ======\n",
      "  eCoulombScattering : Emin=  100 MeV Emax=  100 TeV\n",
      "\n",
      "msc:  for proton  SubType= 10\n",
      "      ===== EM models for the G4Region  DefaultRegionForTheWorld ======\n",
      "        WentzelVIUni : Emin=    0 eV  Emax=  100 TeV Nbins=84 100 eV  - 100 TeV\n",
      "              StepLim=Minimal Rfact=0.2 Gfact=2.5 Sfact=0.6 DispFlag:0 Skin=1 Llimit=1\n",
      "\n",
      "hIoni:  for proton  SubType=2\n",
      "      dE/dx and range tables from 100 eV  to 100 TeV in 84 bins\n",
      "      Lambda tables from threshold to 100 TeV, 7 bins/decade, spline: 1\n",
      "      StepFunction=(0.2, 0.1 mm), integ: 1, fluct: 1, linLossLim= 0.01\n",
      "      ===== EM models for the G4Region  DefaultRegionForTheWorld ======\n",
      "               Bragg : Emin=    0 eV  Emax=    2 MeV\n",
      "          BetheBloch : Emin=    2 MeV Emax=  100 TeV\n",
      "\n",
      "hBrems:  for proton  SubType=3\n",
      "      dE/dx and range tables from 100 eV  to 100 TeV in 84 bins\n",
      "      Lambda tables from threshold to 100 TeV, 7 bins/decade, spline: 1\n",
      "      ===== EM models for the G4Region  DefaultRegionForTheWorld ======\n",
      "               hBrem : Emin=    0 eV  Emax=  100 TeV  ModifiedMephi\n",
      "      ===== Limit on energy threshold has been applied \n",
      "\n",
      "hPairProd:  for proton  SubType=4\n",
      "      dE/dx and range tables from 100 eV  to 100 TeV in 84 bins\n",
      "      Lambda tables from threshold to 100 TeV, 7 bins/decade, spline: 1\n",
      "      Sampling table 17x1001; from 7.50618 GeV to 100 TeV \n",
      "      ===== EM models for the G4Region  DefaultRegionForTheWorld ======\n",
      "           hPairProd : Emin=    0 eV  Emax=  100 TeV  ModifiedMephi\n",
      "\n",
      "CoulombScat:  for proton, integral:1  applyCuts:1  SubType=1 BuildTable=1\n",
      "      Lambda table from threshold  to 100 TeV, 7 bins/decade, spline: 1\n",
      "      ThetaMin(p) < Theta(degree) < 180; pLimit(GeV^1)= 0.139531\n",
      "      ===== EM models for the G4Region  DefaultRegionForTheWorld ======\n",
      "  eCoulombScattering : Emin=    0 eV  Emax=  100 TeV\n",
      "\n",
      "msc:  for GenericIon  SubType= 10\n",
      "      ===== EM models for the G4Region  DefaultRegionForTheWorld ======\n",
      "            UrbanMsc : Emin=    0 eV  Emax=  100 TeV\n",
      "              StepLim=Minimal Rfact=0.2 Gfact=2.5 Sfact=0.6 DispFlag:0 Skin=1 Llimit=1\n",
      "\n",
      "ionIoni:  for GenericIon  SubType=2\n",
      "      dE/dx and range tables from 100 eV  to 100 TeV in 84 bins\n",
      "      Lambda tables from threshold to 100 TeV, 7 bins/decade, spline: 1\n",
      "      StepFunction=(0.2, 0.1 mm), integ: 1, fluct: 1, linLossLim= 0.02\n",
      "      Stopping Power data for 17 ion/material pairs\n",
      "      ===== EM models for the G4Region  DefaultRegionForTheWorld ======\n",
      "            BraggIon : Emin=    0 eV  Emax=    2 MeV\n",
      "          BetheBloch : Emin=    2 MeV Emax=  100 TeV\n",
      "\n",
      "msc:  for alpha  SubType= 10\n",
      "      ===== EM models for the G4Region  DefaultRegionForTheWorld ======\n",
      "            UrbanMsc : Emin=    0 eV  Emax=  100 TeV Nbins=84 100 eV  - 100 TeV\n",
      "              StepLim=Minimal Rfact=0.2 Gfact=2.5 Sfact=0.6 DispFlag:0 Skin=1 Llimit=1\n",
      "\n",
      "ionIoni:  for alpha  SubType=2\n",
      "      dE/dx and range tables from 100 eV  to 100 TeV in 84 bins\n",
      "      Lambda tables from threshold to 100 TeV, 7 bins/decade, spline: 1\n",
      "      StepFunction=(0.2, 0.1 mm), integ: 1, fluct: 1, linLossLim= 0.02\n",
      "      ===== EM models for the G4Region  DefaultRegionForTheWorld ======\n",
      "            BraggIon : Emin=    0 eV  Emax=7.9452 MeV\n",
      "          BetheBloch : Emin=7.9452 MeV Emax=  100 TeV\n",
      "\n",
      "msc:  for anti_proton  SubType= 10\n",
      "      ===== EM models for the G4Region  DefaultRegionForTheWorld ======\n",
      "        WentzelVIUni : Emin=    0 eV  Emax=  100 TeV Nbins=84 100 eV  - 100 TeV\n",
      "              StepLim=Minimal Rfact=0.2 Gfact=2.5 Sfact=0.6 DispFlag:0 Skin=1 Llimit=1\n",
      "\n",
      "hIoni:  for anti_proton  SubType=2\n",
      "      dE/dx and range tables from 100 eV  to 100 TeV in 84 bins\n",
      "      Lambda tables from threshold to 100 TeV, 7 bins/decade, spline: 1\n",
      "      StepFunction=(0.2, 0.1 mm), integ: 1, fluct: 1, linLossLim= 0.01\n",
      "      ===== EM models for the G4Region  DefaultRegionForTheWorld ======\n",
      "            ICRU73QO : Emin=    0 eV  Emax=    2 MeV\n",
      "          BetheBloch : Emin=    2 MeV Emax=  100 TeV\n",
      "\n",
      "hBrems:  for anti_proton  SubType=3\n",
      "      dE/dx and range tables from 100 eV  to 100 TeV in 84 bins\n",
      "      Lambda tables from threshold to 100 TeV, 7 bins/decade, spline: 1\n",
      "      ===== EM models for the G4Region  DefaultRegionForTheWorld ======\n",
      "               hBrem : Emin=    0 eV  Emax=  100 TeV  ModifiedMephi\n",
      "      ===== Limit on energy threshold has been applied \n",
      "\n",
      "hPairProd:  for anti_proton  SubType=4\n",
      "      dE/dx and range tables from 100 eV  to 100 TeV in 84 bins\n",
      "      Lambda tables from threshold to 100 TeV, 7 bins/decade, spline: 1\n",
      "      Sampling table 17x1001; from 7.50618 GeV to 100 TeV \n",
      "      ===== EM models for the G4Region  DefaultRegionForTheWorld ======\n",
      "           hPairProd : Emin=    0 eV  Emax=  100 TeV  ModifiedMephi\n",
      "\n",
      "CoulombScat:  for anti_proton, integral:1  applyCuts:1  SubType=1 BuildTable=1\n",
      "      Lambda table from threshold  to 100 TeV, 7 bins/decade, spline: 1\n",
      "      ThetaMin(p) < Theta(degree) < 180; pLimit(GeV^1)= 0.139531\n",
      "      ===== EM models for the G4Region  DefaultRegionForTheWorld ======\n",
      "  eCoulombScattering : Emin=    0 eV  Emax=  100 TeV\n",
      "\n",
      "msc:  for kaon+  SubType= 10\n",
      "      ===== EM models for the G4Region  DefaultRegionForTheWorld ======\n",
      "        WentzelVIUni : Emin=    0 eV  Emax=  100 TeV Nbins=84 100 eV  - 100 TeV\n",
      "              StepLim=Minimal Rfact=0.2 Gfact=2.5 Sfact=0.6 DispFlag:0 Skin=1 Llimit=1\n",
      "\n",
      "hIoni:  for kaon+  SubType=2\n",
      "      dE/dx and range tables from 100 eV  to 100 TeV in 84 bins\n",
      "      Lambda tables from threshold to 100 TeV, 7 bins/decade, spline: 1\n",
      "      StepFunction=(0.2, 0.1 mm), integ: 1, fluct: 1, linLossLim= 0.01\n",
      "      ===== EM models for the G4Region  DefaultRegionForTheWorld ======\n",
      "               Bragg : Emin=    0 eV  Emax=1.05231 MeV\n",
      "          BetheBloch : Emin=1.05231 MeV Emax=  100 TeV\n",
      "\n",
      "hBrems:  for kaon+  SubType=3\n",
      "      dE/dx and range tables from 100 eV  to 100 TeV in 84 bins\n",
      "      Lambda tables from threshold to 100 TeV, 7 bins/decade, spline: 1\n",
      "      ===== EM models for the G4Region  DefaultRegionForTheWorld ======\n",
      "               hBrem : Emin=    0 eV  Emax=  100 TeV  ModifiedMephi\n",
      "      ===== Limit on energy threshold has been applied \n",
      "\n",
      "hPairProd:  for kaon+  SubType=4\n",
      "      dE/dx and range tables from 100 eV  to 100 TeV in 84 bins\n",
      "      Lambda tables from threshold to 100 TeV, 7 bins/decade, spline: 1\n",
      "      Sampling table 18x1001; from 3.94942 GeV to 100 TeV \n",
      "      ===== EM models for the G4Region  DefaultRegionForTheWorld ======\n",
      "           hPairProd : Emin=    0 eV  Emax=  100 TeV  ModifiedMephi\n",
      "\n",
      "CoulombScat:  for kaon+, integral:1  applyCuts:1  SubType=1 BuildTable=1\n",
      "      Lambda table from threshold  to 100 TeV, 7 bins/decade, spline: 1\n",
      "      ThetaMin(p) < Theta(degree) < 180; pLimit(GeV^1)= 0.139531\n",
      "      ===== EM models for the G4Region  DefaultRegionForTheWorld ======\n",
      "  eCoulombScattering : Emin=    0 eV  Emax=  100 TeV\n",
      "\n",
      "msc:  for kaon-  SubType= 10\n",
      "      ===== EM models for the G4Region  DefaultRegionForTheWorld ======\n",
      "        WentzelVIUni : Emin=    0 eV  Emax=  100 TeV Nbins=84 100 eV  - 100 TeV\n",
      "              StepLim=Minimal Rfact=0.2 Gfact=2.5 Sfact=0.6 DispFlag:0 Skin=1 Llimit=1\n",
      "\n",
      "hIoni:  for kaon-  SubType=2\n",
      "      dE/dx and range tables from 100 eV  to 100 TeV in 84 bins\n",
      "      Lambda tables from threshold to 100 TeV, 7 bins/decade, spline: 1\n",
      "      StepFunction=(0.2, 0.1 mm), integ: 1, fluct: 1, linLossLim= 0.01\n",
      "      ===== EM models for the G4Region  DefaultRegionForTheWorld ======\n",
      "            ICRU73QO : Emin=    0 eV  Emax=1.05231 MeV\n",
      "          BetheBloch : Emin=1.05231 MeV Emax=  100 TeV\n",
      "\n",
      "hBrems:  for kaon-  SubType=3\n",
      "      dE/dx and range tables from 100 eV  to 100 TeV in 84 bins\n",
      "      Lambda tables from threshold to 100 TeV, 7 bins/decade, spline: 1\n",
      "      ===== EM models for the G4Region  DefaultRegionForTheWorld ======\n",
      "               hBrem : Emin=    0 eV  Emax=  100 TeV  ModifiedMephi\n",
      "      ===== Limit on energy threshold has been applied \n",
      "\n",
      "hPairProd:  for kaon-  SubType=4\n",
      "      dE/dx and range tables from 100 eV  to 100 TeV in 84 bins\n",
      "      Lambda tables from threshold to 100 TeV, 7 bins/decade, spline: 1\n",
      "      Sampling table 18x1001; from 3.94942 GeV to 100 TeV \n",
      "      ===== EM models for the G4Region  DefaultRegionForTheWorld ======\n",
      "           hPairProd : Emin=    0 eV  Emax=  100 TeV  ModifiedMephi\n",
      "\n",
      "CoulombScat:  for kaon-, integral:1  applyCuts:1  SubType=1 BuildTable=1\n",
      "      Used Lambda table of kaon+\n",
      "      ThetaMin(p) < Theta(degree) < 180; pLimit(GeV^1)= 0.139531\n",
      "      ===== EM models for the G4Region  DefaultRegionForTheWorld ======\n",
      "  eCoulombScattering : Emin=    0 eV  Emax=  100 TeV\n",
      "\n",
      "msc:  for mu+  SubType= 10\n",
      "      ===== EM models for the G4Region  DefaultRegionForTheWorld ======\n",
      "        WentzelVIUni : Emin=    0 eV  Emax=  100 TeV Nbins=84 100 eV  - 100 TeV\n",
      "              StepLim=Minimal Rfact=0.2 Gfact=2.5 Sfact=0.6 DispFlag:0 Skin=1 Llimit=1\n",
      "\n",
      "muIoni:  for mu+  SubType=2\n",
      "      dE/dx and range tables from 100 eV  to 100 TeV in 84 bins\n",
      "      Lambda tables from threshold to 100 TeV, 7 bins/decade, spline: 1\n",
      "      StepFunction=(0.2, 0.1 mm), integ: 1, fluct: 1, linLossLim= 0.01\n",
      "      ===== EM models for the G4Region  DefaultRegionForTheWorld ======\n",
      "               Bragg : Emin=    0 eV  Emax=  200 keV\n",
      "          BetheBloch : Emin=  200 keV Emax=    1 GeV\n",
      "        MuBetheBloch : Emin=    1 GeV Emax=  100 TeV\n",
      "\n",
      "muBrems:  for mu+  SubType=3\n",
      "      dE/dx and range tables from 100 eV  to 100 TeV in 84 bins\n",
      "      Lambda tables from threshold to 100 TeV, 7 bins/decade, spline: 1\n",
      "      ===== EM models for the G4Region  DefaultRegionForTheWorld ======\n",
      "              MuBrem : Emin=    0 eV  Emax=  100 TeV  ModifiedMephi\n",
      "      ===== Limit on energy threshold has been applied \n",
      "\n",
      "muPairProd:  for mu+  SubType=4\n",
      "      dE/dx and range tables from 100 eV  to 100 TeV in 84 bins\n",
      "      Lambda tables from threshold to 100 TeV, 7 bins/decade, spline: 1\n",
      "      Sampling table 21x1001; from 1 GeV to 100 TeV \n",
      "      ===== EM models for the G4Region  DefaultRegionForTheWorld ======\n",
      "          muPairProd : Emin=    0 eV  Emax=  100 TeV  ModifiedMephi\n",
      "\n",
      "CoulombScat:  for mu+, integral:1  applyCuts:1  SubType=1 BuildTable=1\n",
      "      Lambda table from threshold  to 100 TeV, 7 bins/decade, spline: 1\n",
      "      ThetaMin(p) < Theta(degree) < 180; pLimit(GeV^1)= 0.139531\n",
      "      ===== EM models for the G4Region  DefaultRegionForTheWorld ======\n",
      "  eCoulombScattering : Emin=    0 eV  Emax=  100 TeV\n",
      "\n",
      "msc:  for mu-  SubType= 10\n",
      "      ===== EM models for the G4Region  DefaultRegionForTheWorld ======\n",
      "        WentzelVIUni : Emin=    0 eV  Emax=  100 TeV Nbins=84 100 eV  - 100 TeV\n",
      "              StepLim=Minimal Rfact=0.2 Gfact=2.5 Sfact=0.6 DispFlag:0 Skin=1 Llimit=1\n",
      "\n",
      "muIoni:  for mu-  SubType=2\n",
      "      dE/dx and range tables from 100 eV  to 100 TeV in 84 bins\n",
      "      Lambda tables from threshold to 100 TeV, 7 bins/decade, spline: 1\n",
      "      StepFunction=(0.2, 0.1 mm), integ: 1, fluct: 1, linLossLim= 0.01\n",
      "      ===== EM models for the G4Region  DefaultRegionForTheWorld ======\n",
      "            ICRU73QO : Emin=    0 eV  Emax=  200 keV\n",
      "          BetheBloch : Emin=  200 keV Emax=    1 GeV\n",
      "        MuBetheBloch : Emin=    1 GeV Emax=  100 TeV\n",
      "\n",
      "muBrems:  for mu-  SubType=3\n",
      "      dE/dx and range tables from 100 eV  to 100 TeV in 84 bins\n",
      "      Lambda tables from threshold to 100 TeV, 7 bins/decade, spline: 1\n",
      "      ===== EM models for the G4Region  DefaultRegionForTheWorld ======\n",
      "              MuBrem : Emin=    0 eV  Emax=  100 TeV  ModifiedMephi\n",
      "      ===== Limit on energy threshold has been applied \n",
      "\n",
      "muPairProd:  for mu-  SubType=4\n",
      "      dE/dx and range tables from 100 eV  to 100 TeV in 84 bins\n",
      "      Lambda tables from threshold to 100 TeV, 7 bins/decade, spline: 1\n",
      "      Sampling table 21x1001; from 1 GeV to 100 TeV \n",
      "      ===== EM models for the G4Region  DefaultRegionForTheWorld ======\n",
      "          muPairProd : Emin=    0 eV  Emax=  100 TeV  ModifiedMephi\n",
      "\n",
      "CoulombScat:  for mu-, integral:1  applyCuts:1  SubType=1 BuildTable=1\n",
      "      Used Lambda table of mu+\n",
      "      ThetaMin(p) < Theta(degree) < 180; pLimit(GeV^1)= 0.139531\n",
      "      ===== EM models for the G4Region  DefaultRegionForTheWorld ======\n",
      "  eCoulombScattering : Emin=    0 eV  Emax=  100 TeV\n",
      "\n",
      "msc:  for pi+  SubType= 10\n",
      "      ===== EM models for the G4Region  DefaultRegionForTheWorld ======\n",
      "        WentzelVIUni : Emin=    0 eV  Emax=  100 TeV Nbins=84 100 eV  - 100 TeV\n",
      "              StepLim=Minimal Rfact=0.2 Gfact=2.5 Sfact=0.6 DispFlag:0 Skin=1 Llimit=1\n",
      "\n",
      "hIoni:  for pi+  SubType=2\n",
      "      dE/dx and range tables from 100 eV  to 100 TeV in 84 bins\n",
      "      Lambda tables from threshold to 100 TeV, 7 bins/decade, spline: 1\n",
      "      StepFunction=(0.2, 0.1 mm), integ: 1, fluct: 1, linLossLim= 0.01\n",
      "      ===== EM models for the G4Region  DefaultRegionForTheWorld ======\n",
      "               Bragg : Emin=    0 eV  Emax=297.505 keV\n",
      "          BetheBloch : Emin=297.505 keV Emax=  100 TeV\n",
      "\n",
      "hBrems:  for pi+  SubType=3\n",
      "      dE/dx and range tables from 100 eV  to 100 TeV in 84 bins\n",
      "      Lambda tables from threshold to 100 TeV, 7 bins/decade, spline: 1\n",
      "      ===== EM models for the G4Region  DefaultRegionForTheWorld ======\n",
      "               hBrem : Emin=    0 eV  Emax=  100 TeV  ModifiedMephi\n",
      "      ===== Limit on energy threshold has been applied \n",
      "\n",
      "hPairProd:  for pi+  SubType=4\n",
      "      dE/dx and range tables from 100 eV  to 100 TeV in 84 bins\n",
      "      Lambda tables from threshold to 100 TeV, 7 bins/decade, spline: 1\n",
      "      Sampling table 20x1001; from 1.11656 GeV to 100 TeV \n",
      "      ===== EM models for the G4Region  DefaultRegionForTheWorld ======\n",
      "           hPairProd : Emin=    0 eV  Emax=  100 TeV  ModifiedMephi\n",
      "\n",
      "CoulombScat:  for pi+, integral:1  applyCuts:1  SubType=1 BuildTable=1\n",
      "      Lambda table from threshold  to 100 TeV, 7 bins/decade, spline: 1\n",
      "      ThetaMin(p) < Theta(degree) < 180; pLimit(GeV^1)= 0.139531\n",
      "      ===== EM models for the G4Region  DefaultRegionForTheWorld ======\n",
      "  eCoulombScattering : Emin=    0 eV  Emax=  100 TeV\n",
      "\n",
      "msc:  for pi-  SubType= 10\n",
      "      ===== EM models for the G4Region  DefaultRegionForTheWorld ======\n",
      "        WentzelVIUni : Emin=    0 eV  Emax=  100 TeV Nbins=84 100 eV  - 100 TeV\n",
      "              StepLim=Minimal Rfact=0.2 Gfact=2.5 Sfact=0.6 DispFlag:0 Skin=1 Llimit=1\n",
      "\n",
      "hIoni:  for pi-  SubType=2\n",
      "      dE/dx and range tables from 100 eV  to 100 TeV in 84 bins\n",
      "      Lambda tables from threshold to 100 TeV, 7 bins/decade, spline: 1\n",
      "      StepFunction=(0.2, 0.1 mm), integ: 1, fluct: 1, linLossLim= 0.01\n",
      "      ===== EM models for the G4Region  DefaultRegionForTheWorld ======\n",
      "            ICRU73QO : Emin=    0 eV  Emax=297.505 keV\n",
      "          BetheBloch : Emin=297.505 keV Emax=  100 TeV\n",
      "\n",
      "hBrems:  for pi-  SubType=3\n",
      "      dE/dx and range tables from 100 eV  to 100 TeV in 84 bins\n",
      "      Lambda tables from threshold to 100 TeV, 7 bins/decade, spline: 1\n",
      "      ===== EM models for the G4Region  DefaultRegionForTheWorld ======\n",
      "               hBrem : Emin=    0 eV  Emax=  100 TeV  ModifiedMephi\n",
      "      ===== Limit on energy threshold has been applied \n",
      "\n",
      "hPairProd:  for pi-  SubType=4\n",
      "      dE/dx and range tables from 100 eV  to 100 TeV in 84 bins\n",
      "      Lambda tables from threshold to 100 TeV, 7 bins/decade, spline: 1\n",
      "      Sampling table 20x1001; from 1.11656 GeV to 100 TeV \n",
      "      ===== EM models for the G4Region  DefaultRegionForTheWorld ======\n",
      "           hPairProd : Emin=    0 eV  Emax=  100 TeV  ModifiedMephi\n",
      "\n",
      "CoulombScat:  for pi-, integral:1  applyCuts:1  SubType=1 BuildTable=1\n",
      "      Used Lambda table of pi+\n",
      "      ThetaMin(p) < Theta(degree) < 180; pLimit(GeV^1)= 0.139531\n",
      "      ===== EM models for the G4Region  DefaultRegionForTheWorld ======\n",
      "  eCoulombScattering : Emin=    0 eV  Emax=  100 TeV\n",
      "G4VisManager: Using G4TrajectoryDrawByCharge as fallback trajectory model.\n",
      "See commands in /vis/modeling/trajectories/ for other options.\n",
      "\n",
      "### ===  Deexcitation model UAtomDeexcitation is activated for 2 regions:\n",
      "          DefaultRegionForTheWorld  1  1  1\n",
      "          patient  1  1  1\n",
      "### ===  Ignore cuts flag:   0\n",
      "WARNING: G4VisManager::EndOfEvent: Automatic event keeping suspended.\n",
      "  The number of events exceeds the maximum, 100, that may be kept by\n",
      "  the vis manager.\n",
      "100 events have been kept for refreshing and/or reviewing.\n",
      "  \"/vis/reviewKeptEvents\" to review them one by one.\n",
      "  \"/vis/enable\", then \"/vis/viewer/flush\" or \"/vis/viewer/rebuild\" to see them accumulated.\n",
      "WARNING: G4VisManager::EndOfRun: Automatic event keeping was suspended.\n",
      "  The number of events in the run exceeded the maximum, 100, that may be\n",
      "  kept by the vis manager.\n",
      "  The number of events kept by the vis manager can be changed with\n",
      "  \"/vis/scene/endOfEventAction accumulate <N>\", where N is the\n",
      "  maximum number you wish to allow.  N < 0 means \"unlimited\".\n",
      "[Core-0] End of macro main.mac\n",
      "\n",
      " *** Break *** segmentation violation\n",
      "\n",
      "\n",
      "\n",
      "===========================================================\n",
      "There was a crash.\n",
      "This is the entire stack trace of all threads:\n",
      "===========================================================\n",
      "\n",
      "Thread 5 (Thread 0x7fb2feffd700 (LWP 12598)):\n",
      "#0  0x00007fb31bcc99cf in __GI___poll (fds=0x7fb2f400fd00, nfds=4, timeout=-1) at ../sysdeps/unix/sysv/linux/poll.c:29\n",
      "#1  0x00007fb31a6a436e in ?? () from /usr/lib/x86_64-linux-gnu/libglib-2.0.so.0\n",
      "#2  0x00007fb31a6a44a3 in g_main_context_iteration () from /usr/lib/x86_64-linux-gnu/libglib-2.0.so.0\n",
      "#3  0x00007fb320cbb435 in QEventDispatcherGlib::processEvents(QFlags<QEventLoop::ProcessEventsFlag>) () from /usr/lib/x86_64-linux-gnu/libQt5Core.so.5\n",
      "#4  0x00007fb320c623ab in QEventLoop::exec(QFlags<QEventLoop::ProcessEventsFlag>) () from /usr/lib/x86_64-linux-gnu/libQt5Core.so.5\n",
      "#5  0x00007fb320a9a785 in QThread::exec() () from /usr/lib/x86_64-linux-gnu/libQt5Core.so.5\n",
      "#6  0x00007fb306c0befa in ?? () from /usr/lib/x86_64-linux-gnu/libQt5DBus.so.5\n",
      "#7  0x00007fb320a9b9d2 in ?? () from /usr/lib/x86_64-linux-gnu/libQt5Core.so.5\n",
      "#8  0x00007fb31c0fd609 in start_thread (arg=<optimized out>) at pthread_create.c:477\n",
      "#9  0x00007fb31bcd6163 in clone () at ../sysdeps/unix/sysv/linux/x86_64/clone.S:95\n",
      "\n",
      "Thread 4 (Thread 0x7fb2ff7fe700 (LWP 12597)):\n",
      "#0  0x00007fb31bcc99cf in __GI___poll (fds=0x563ec80b6d90, nfds=2, timeout=-1) at ../sysdeps/unix/sysv/linux/poll.c:29\n",
      "#1  0x00007fb31a6a436e in ?? () from /usr/lib/x86_64-linux-gnu/libglib-2.0.so.0\n",
      "#2  0x00007fb31a6a46f3 in g_main_loop_run () from /usr/lib/x86_64-linux-gnu/libglib-2.0.so.0\n",
      "#3  0x00007fb304ccbf8a in ?? () from /usr/lib/x86_64-linux-gnu/libgio-2.0.so.0\n",
      "#4  0x00007fb31a6cdad1 in ?? () from /usr/lib/x86_64-linux-gnu/libglib-2.0.so.0\n",
      "#5  0x00007fb31c0fd609 in start_thread (arg=<optimized out>) at pthread_create.c:477\n",
      "#6  0x00007fb31bcd6163 in clone () at ../sysdeps/unix/sysv/linux/x86_64/clone.S:95\n",
      "\n",
      "Thread 3 (Thread 0x7fb2fffff700 (LWP 12596)):\n",
      "#0  0x00007fb31bcc99cf in __GI___poll (fds=0x563ec80a7240, nfds=1, timeout=-1) at ../sysdeps/unix/sysv/linux/poll.c:29\n",
      "#1  0x00007fb31a6a436e in ?? () from /usr/lib/x86_64-linux-gnu/libglib-2.0.so.0\n",
      "#2  0x00007fb31a6a44a3 in g_main_context_iteration () from /usr/lib/x86_64-linux-gnu/libglib-2.0.so.0\n",
      "#3  0x00007fb31a6a44f1 in ?? () from /usr/lib/x86_64-linux-gnu/libglib-2.0.so.0\n",
      "#4  0x00007fb31a6cdad1 in ?? () from /usr/lib/x86_64-linux-gnu/libglib-2.0.so.0\n",
      "#5  0x00007fb31c0fd609 in start_thread (arg=<optimized out>) at pthread_create.c:477\n",
      "#6  0x00007fb31bcd6163 in clone () at ../sysdeps/unix/sysv/linux/x86_64/clone.S:95\n",
      "\n",
      "Thread 2 (Thread 0x7fb30629f700 (LWP 12595)):\n",
      "#0  0x00007fb31bcc99cf in __GI___poll (fds=0x7fb3062994e8, nfds=1, timeout=-1) at ../sysdeps/unix/sysv/linux/poll.c:29\n",
      "#1  0x00007fb316dddc1a in ?? () from /usr/lib/x86_64-linux-gnu/libxcb.so.1\n",
      "#2  0x00007fb316ddf90a in xcb_wait_for_event () from /usr/lib/x86_64-linux-gnu/libxcb.so.1\n",
      "#3  0x00007fb306d08298 in ?? () from /usr/lib/x86_64-linux-gnu/libQt5XcbQpa.so.5\n",
      "#4  0x00007fb320a9b9d2 in ?? () from /usr/lib/x86_64-linux-gnu/libQt5Core.so.5\n",
      "#5  0x00007fb31c0fd609 in start_thread (arg=<optimized out>) at pthread_create.c:477\n",
      "#6  0x00007fb31bcd6163 in clone () at ../sysdeps/unix/sysv/linux/x86_64/clone.S:95\n",
      "\n",
      "Thread 1 (Thread 0x7fb316d9dfc0 (LWP 12578)):\n",
      "#0  0x00007fb31bc99caf in __GI___wait4 (pid=12645, stat_loc=stat_loc\n",
      "entry=0x7ffd9b155cd8, options=options\n",
      "entry=0, usage=usage\n",
      "entry=0x0) at ../sysdeps/unix/sysv/linux/wait4.c:27\n",
      "#1  0x00007fb31bc99c2b in __GI___waitpid (pid=<optimized out>, stat_loc=stat_loc\n",
      "entry=0x7ffd9b155cd8, options=options\n",
      "entry=0) at waitpid.c:38\n",
      "#2  0x00007fb31bc08f97 in do_system (line=<optimized out>) at ../sysdeps/posix/system.c:172\n",
      "#3  0x00007fb31de57a93 in TUnixSystem::StackTrace() () from /home/mverdier/root/root-6.21.01/root-install/lib/libCore.so\n",
      "#4  0x00007fb31de5a585 in TUnixSystem::DispatchSignals(ESignals) () from /home/mverdier/root/root-6.21.01/root-install/lib/libCore.so\n",
      "#5  <signal handler called>\n",
      "#6  0x00007fb31af6dd78 in QOpenGLContext::makeCurrent(QSurface*) () from /usr/lib/x86_64-linux-gnu/libQt5Gui.so.5\n",
      "#7  0x00007fb31bab164d in QGLContext::makeCurrent() () from /usr/lib/x86_64-linux-gnu/libQt5OpenGL.so.5\n",
      "#8  0x00007fb31bab7685 in QGLWidgetPrivate::makeCurrent() () from /usr/lib/x86_64-linux-gnu/libQt5OpenGL.so.5\n",
      "#9  0x00007fb3212d6d26 in G4OpenGLImmediateQtViewer::~G4OpenGLImmediateQtViewer() () from /home/mverdier/Geant4/geant4_10_07_p02/geant4-install/lib/libG4OpenGL.so\n",
      "#10 0x00007fb3212d71f4 in non-virtual thunk to G4OpenGLImmediateQtViewer::~G4OpenGLImmediateQtViewer() () from /home/mverdier/Geant4/geant4_10_07_p02/geant4-install/lib/libG4OpenGL.so\n",
      "#11 0x00007fb320c8ceee in QObjectPrivate::deleteChildren() () from /usr/lib/x86_64-linux-gnu/libQt5Core.so.5\n",
      "#12 0x00007fb31b59cc29 in QWidget::~QWidget() () from /usr/lib/x86_64-linux-gnu/libQt5Widgets.so.5\n",
      "#13 0x00007fb31b71305d in QStackedWidget::~QStackedWidget() () from /usr/lib/x86_64-linux-gnu/libQt5Widgets.so.5\n",
      "#14 0x00007fb320c8ceee in QObjectPrivate::deleteChildren() () from /usr/lib/x86_64-linux-gnu/libQt5Core.so.5\n",
      "#15 0x00007fb31b59cc29 in QWidget::~QWidget() () from /usr/lib/x86_64-linux-gnu/libQt5Widgets.so.5\n",
      "#16 0x00007fb320f93b05 in G4QTabWidget::~G4QTabWidget() () from /home/mverdier/Geant4/geant4_10_07_p02/geant4-install/lib/libG4interfaces.so\n",
      "#17 0x00007fb320c8ceee in QObjectPrivate::deleteChildren() () from /usr/lib/x86_64-linux-gnu/libQt5Core.so.5\n",
      "#18 0x00007fb31b59cc29 in QWidget::~QWidget() () from /usr/lib/x86_64-linux-gnu/libQt5Widgets.so.5\n",
      "#19 0x00007fb31b6b44bd in QMainWindow::~QMainWindow() () from /usr/lib/x86_64-linux-gnu/libQt5Widgets.so.5\n",
      "#20 0x00007fb320c8fa44 in QObject::event(QEvent*) () from /usr/lib/x86_64-linux-gnu/libQt5Core.so.5\n",
      "#21 0x00007fb31b5a125d in QWidget::event(QEvent*) () from /usr/lib/x86_64-linux-gnu/libQt5Widgets.so.5\n",
      "#22 0x00007fb31b6b6148 in QMainWindow::event(QEvent*) () from /usr/lib/x86_64-linux-gnu/libQt5Widgets.so.5\n",
      "#23 0x00007fb31b55ea66 in QApplicationPrivate::notify_helper(QObject*, QEvent*) () from /usr/lib/x86_64-linux-gnu/libQt5Widgets.so.5\n",
      "#24 0x00007fb31b5680f0 in QApplication::notify(QObject*, QEvent*) () from /usr/lib/x86_64-linux-gnu/libQt5Widgets.so.5\n",
      "#25 0x00007fb320c6380a in QCoreApplication::notifyInternal2(QObject*, QEvent*) () from /usr/lib/x86_64-linux-gnu/libQt5Core.so.5\n",
      "#26 0x00007fb320c66488 in QCoreApplicationPrivate::sendPostedEvents(QObject*, int, QThreadData*) () from /usr/lib/x86_64-linux-gnu/libQt5Core.so.5\n",
      "#27 0x00007fb320cbbe37 in ?? () from /usr/lib/x86_64-linux-gnu/libQt5Core.so.5\n",
      "#28 0x00007fb31a6a417d in g_main_context_dispatch () from /usr/lib/x86_64-linux-gnu/libglib-2.0.so.0\n",
      "#29 0x00007fb31a6a4400 in ?? () from /usr/lib/x86_64-linux-gnu/libglib-2.0.so.0\n",
      "#30 0x00007fb31a6a44a3 in g_main_context_iteration () from /usr/lib/x86_64-linux-gnu/libglib-2.0.so.0\n",
      "#31 0x00007fb320cbb4b4 in QEventDispatcherGlib::processEvents(QFlags<QEventLoop::ProcessEventsFlag>) () from /usr/lib/x86_64-linux-gnu/libQt5Core.so.5\n",
      "#32 0x00007fb3212f18c4 in G4OpenGLQtViewer::G4MouseReleaseEvent(QMouseEvent*) () from /home/mverdier/Geant4/geant4_10_07_p02/geant4-install/lib/libG4OpenGL.so\n",
      "#33 0x00007fb31b5a12b6 in QWidget::event(QEvent*) () from /usr/lib/x86_64-linux-gnu/libQt5Widgets.so.5\n",
      "#34 0x00007fb31b55ea66 in QApplicationPrivate::notify_helper(QObject*, QEvent*) () from /usr/lib/x86_64-linux-gnu/libQt5Widgets.so.5\n",
      "#35 0x00007fb31b568343 in QApplication::notify(QObject*, QEvent*) () from /usr/lib/x86_64-linux-gnu/libQt5Widgets.so.5\n",
      "#36 0x00007fb320c6380a in QCoreApplication::notifyInternal2(QObject*, QEvent*) () from /usr/lib/x86_64-linux-gnu/libQt5Core.so.5\n",
      "#37 0x00007fb31b567457 in QApplicationPrivate::sendMouseEvent(QWidget*, QMouseEvent*, QWidget*, QWidget*, QWidget**, QPointer<QWidget>&, bool, bool) () from /usr/lib/x86_64-linux-gnu/libQt5Widgets.so.5\n",
      "#38 0x00007fb31b5bd35d in ?? () from /usr/lib/x86_64-linux-gnu/libQt5Widgets.so.5\n",
      "#39 0x00007fb31b5c01ec in ?? () from /usr/lib/x86_64-linux-gnu/libQt5Widgets.so.5\n",
      "#40 0x00007fb31b55ea66 in QApplicationPrivate::notify_helper(QObject*, QEvent*) () from /usr/lib/x86_64-linux-gnu/libQt5Widgets.so.5\n",
      "#41 0x00007fb31b5680f0 in QApplication::notify(QObject*, QEvent*) () from /usr/lib/x86_64-linux-gnu/libQt5Widgets.so.5\n",
      "#42 0x00007fb320c6380a in QCoreApplication::notifyInternal2(QObject*, QEvent*) () from /usr/lib/x86_64-linux-gnu/libQt5Core.so.5\n",
      "#43 0x00007fb31af2f7d3 in QGuiApplicationPrivate::processMouseEvent(QWindowSystemInterfacePrivate::MouseEvent*) () from /usr/lib/x86_64-linux-gnu/libQt5Gui.so.5\n",
      "#44 0x00007fb31af3110b in QGuiApplicationPrivate::processWindowSystemEvent(QWindowSystemInterfacePrivate::WindowSystemEvent*) () from /usr/lib/x86_64-linux-gnu/libQt5Gui.so.5\n",
      "#45 0x00007fb31af0b35b in QWindowSystemInterface::sendWindowSystemEvents(QFlags<QEventLoop::ProcessEventsFlag>) () from /usr/lib/x86_64-linux-gnu/libQt5Gui.so.5\n",
      "#46 0x00007fb306d0932e in ?? () from /usr/lib/x86_64-linux-gnu/libQt5XcbQpa.so.5\n",
      "#47 0x00007fb31a6a417d in g_main_context_dispatch () from /usr/lib/x86_64-linux-gnu/libglib-2.0.so.0\n",
      "#48 0x00007fb31a6a4400 in ?? () from /usr/lib/x86_64-linux-gnu/libglib-2.0.so.0\n",
      "#49 0x00007fb31a6a44a3 in g_main_context_iteration () from /usr/lib/x86_64-linux-gnu/libglib-2.0.so.0\n",
      "#50 0x00007fb320cbb435 in QEventDispatcherGlib::processEvents(QFlags<QEventLoop::ProcessEventsFlag>) () from /usr/lib/x86_64-linux-gnu/libQt5Core.so.5\n",
      "#51 0x00007fb320c623ab in QEventLoop::exec(QFlags<QEventLoop::ProcessEventsFlag>) () from /usr/lib/x86_64-linux-gnu/libQt5Core.so.5\n",
      "#52 0x00007fb320c6a116 in QCoreApplication::exec() () from /usr/lib/x86_64-linux-gnu/libQt5Core.so.5\n",
      "#53 0x00007fb320f8b2ad in G4UIQt::SessionStart() () from /home/mverdier/Geant4/geant4_10_07_p02/geant4-install/lib/libG4interfaces.so\n",
      "#54 0x0000563ec4b1ade4 in main ()\n",
      "===========================================================\n",
      "\n",
      "\n",
      "The lines below might hint at the cause of the crash.\n",
      "You may get help by asking at the ROOT forum http://root.cern.ch/forum\n",
      "Only if you are really convinced it is a bug in ROOT then please submit a\n",
      "report at http://root.cern.ch/bugs Please post the ENTIRE stack trace\n",
      "from above as an attachment in addition to anything else\n",
      "that might help us fixing this issue.\n",
      "===========================================================\n",
      "#6  0x00007fb31af6dd78 in QOpenGLContext::makeCurrent(QSurface*) () from /usr/lib/x86_64-linux-gnu/libQt5Gui.so.5\n",
      "#7  0x00007fb31bab164d in QGLContext::makeCurrent() () from /usr/lib/x86_64-linux-gnu/libQt5OpenGL.so.5\n",
      "#8  0x00007fb31bab7685 in QGLWidgetPrivate::makeCurrent() () from /usr/lib/x86_64-linux-gnu/libQt5OpenGL.so.5\n",
      "#9  0x00007fb3212d6d26 in G4OpenGLImmediateQtViewer::~G4OpenGLImmediateQtViewer() () from /home/mverdier/Geant4/geant4_10_07_p02/geant4-install/lib/libG4OpenGL.so\n",
      "#10 0x00007fb3212d71f4 in non-virtual thunk to G4OpenGLImmediateQtViewer::~G4OpenGLImmediateQtViewer() () from /home/mverdier/Geant4/geant4_10_07_p02/geant4-install/lib/libG4OpenGL.so\n",
      "#11 0x00007fb320c8ceee in QObjectPrivate::deleteChildren() () from /usr/lib/x86_64-linux-gnu/libQt5Core.so.5\n",
      "#12 0x00007fb31b59cc29 in QWidget::~QWidget() () from /usr/lib/x86_64-linux-gnu/libQt5Widgets.so.5\n",
      "#13 0x00007fb31b71305d in QStackedWidget::~QStackedWidget() () from /usr/lib/x86_64-linux-gnu/libQt5Widgets.so.5\n",
      "#14 0x00007fb320c8ceee in QObjectPrivate::deleteChildren() () from /usr/lib/x86_64-linux-gnu/libQt5Core.so.5\n",
      "#15 0x00007fb31b59cc29 in QWidget::~QWidget() () from /usr/lib/x86_64-linux-gnu/libQt5Widgets.so.5\n",
      "#16 0x00007fb320f93b05 in G4QTabWidget::~G4QTabWidget() () from /home/mverdier/Geant4/geant4_10_07_p02/geant4-install/lib/libG4interfaces.so\n",
      "#17 0x00007fb320c8ceee in QObjectPrivate::deleteChildren() () from /usr/lib/x86_64-linux-gnu/libQt5Core.so.5\n",
      "#18 0x00007fb31b59cc29 in QWidget::~QWidget() () from /usr/lib/x86_64-linux-gnu/libQt5Widgets.so.5\n",
      "#19 0x00007fb31b6b44bd in QMainWindow::~QMainWindow() () from /usr/lib/x86_64-linux-gnu/libQt5Widgets.so.5\n",
      "#20 0x00007fb320c8fa44 in QObject::event(QEvent*) () from /usr/lib/x86_64-linux-gnu/libQt5Core.so.5\n",
      "#21 0x00007fb31b5a125d in QWidget::event(QEvent*) () from /usr/lib/x86_64-linux-gnu/libQt5Widgets.so.5\n",
      "#22 0x00007fb31b6b6148 in QMainWindow::event(QEvent*) () from /usr/lib/x86_64-linux-gnu/libQt5Widgets.so.5\n",
      "#23 0x00007fb31b55ea66 in QApplicationPrivate::notify_helper(QObject*, QEvent*) () from /usr/lib/x86_64-linux-gnu/libQt5Widgets.so.5\n",
      "#24 0x00007fb31b5680f0 in QApplication::notify(QObject*, QEvent*) () from /usr/lib/x86_64-linux-gnu/libQt5Widgets.so.5\n",
      "#25 0x00007fb320c6380a in QCoreApplication::notifyInternal2(QObject*, QEvent*) () from /usr/lib/x86_64-linux-gnu/libQt5Core.so.5\n",
      "#26 0x00007fb320c66488 in QCoreApplicationPrivate::sendPostedEvents(QObject*, int, QThreadData*) () from /usr/lib/x86_64-linux-gnu/libQt5Core.so.5\n",
      "#27 0x00007fb320cbbe37 in ?? () from /usr/lib/x86_64-linux-gnu/libQt5Core.so.5\n",
      "#28 0x00007fb31a6a417d in g_main_context_dispatch () from /usr/lib/x86_64-linux-gnu/libglib-2.0.so.0\n",
      "#29 0x00007fb31a6a4400 in ?? () from /usr/lib/x86_64-linux-gnu/libglib-2.0.so.0\n",
      "#30 0x00007fb31a6a44a3 in g_main_context_iteration () from /usr/lib/x86_64-linux-gnu/libglib-2.0.so.0\n",
      "#31 0x00007fb320cbb4b4 in QEventDispatcherGlib::processEvents(QFlags<QEventLoop::ProcessEventsFlag>) () from /usr/lib/x86_64-linux-gnu/libQt5Core.so.5\n",
      "#32 0x00007fb3212f18c4 in G4OpenGLQtViewer::G4MouseReleaseEvent(QMouseEvent*) () from /home/mverdier/Geant4/geant4_10_07_p02/geant4-install/lib/libG4OpenGL.so\n",
      "#33 0x00007fb31b5a12b6 in QWidget::event(QEvent*) () from /usr/lib/x86_64-linux-gnu/libQt5Widgets.so.5\n",
      "#34 0x00007fb31b55ea66 in QApplicationPrivate::notify_helper(QObject*, QEvent*) () from /usr/lib/x86_64-linux-gnu/libQt5Widgets.so.5\n",
      "#35 0x00007fb31b568343 in QApplication::notify(QObject*, QEvent*) () from /usr/lib/x86_64-linux-gnu/libQt5Widgets.so.5\n",
      "#36 0x00007fb320c6380a in QCoreApplication::notifyInternal2(QObject*, QEvent*) () from /usr/lib/x86_64-linux-gnu/libQt5Core.so.5\n",
      "#37 0x00007fb31b567457 in QApplicationPrivate::sendMouseEvent(QWidget*, QMouseEvent*, QWidget*, QWidget*, QWidget**, QPointer<QWidget>&, bool, bool) () from /usr/lib/x86_64-linux-gnu/libQt5Widgets.so.5\n",
      "#38 0x00007fb31b5bd35d in ?? () from /usr/lib/x86_64-linux-gnu/libQt5Widgets.so.5\n",
      "#39 0x00007fb31b5c01ec in ?? () from /usr/lib/x86_64-linux-gnu/libQt5Widgets.so.5\n",
      "#40 0x00007fb31b55ea66 in QApplicationPrivate::notify_helper(QObject*, QEvent*) () from /usr/lib/x86_64-linux-gnu/libQt5Widgets.so.5\n",
      "#41 0x00007fb31b5680f0 in QApplication::notify(QObject*, QEvent*) () from /usr/lib/x86_64-linux-gnu/libQt5Widgets.so.5\n",
      "#42 0x00007fb320c6380a in QCoreApplication::notifyInternal2(QObject*, QEvent*) () from /usr/lib/x86_64-linux-gnu/libQt5Core.so.5\n",
      "#43 0x00007fb31af2f7d3 in QGuiApplicationPrivate::processMouseEvent(QWindowSystemInterfacePrivate::MouseEvent*) () from /usr/lib/x86_64-linux-gnu/libQt5Gui.so.5\n",
      "#44 0x00007fb31af3110b in QGuiApplicationPrivate::processWindowSystemEvent(QWindowSystemInterfacePrivate::WindowSystemEvent*) () from /usr/lib/x86_64-linux-gnu/libQt5Gui.so.5\n",
      "#45 0x00007fb31af0b35b in QWindowSystemInterface::sendWindowSystemEvents(QFlags<QEventLoop::ProcessEventsFlag>) () from /usr/lib/x86_64-linux-gnu/libQt5Gui.so.5\n",
      "#46 0x00007fb306d0932e in ?? () from /usr/lib/x86_64-linux-gnu/libQt5XcbQpa.so.5\n",
      "#47 0x00007fb31a6a417d in g_main_context_dispatch () from /usr/lib/x86_64-linux-gnu/libglib-2.0.so.0\n",
      "#48 0x00007fb31a6a4400 in ?? () from /usr/lib/x86_64-linux-gnu/libglib-2.0.so.0\n",
      "#49 0x00007fb31a6a44a3 in g_main_context_iteration () from /usr/lib/x86_64-linux-gnu/libglib-2.0.so.0\n",
      "#50 0x00007fb320cbb435 in QEventDispatcherGlib::processEvents(QFlags<QEventLoop::ProcessEventsFlag>) () from /usr/lib/x86_64-linux-gnu/libQt5Core.so.5\n",
      "#51 0x00007fb320c623ab in QEventLoop::exec(QFlags<QEventLoop::ProcessEventsFlag>) () from /usr/lib/x86_64-linux-gnu/libQt5Core.so.5\n",
      "#52 0x00007fb320c6a116 in QCoreApplication::exec() () from /usr/lib/x86_64-linux-gnu/libQt5Core.so.5\n",
      "#53 0x00007fb320f8b2ad in G4UIQt::SessionStart() () from /home/mverdier/Geant4/geant4_10_07_p02/geant4-install/lib/libG4interfaces.so\n",
      "#54 0x0000563ec4b1ade4 in main ()\n",
      "===========================================================\n",
      "\n",
      "\n",
      "WARNING - Attempt to delete the physical volume store while geometry closed !\n"
     ]
    }
   ],
   "source": [
    "!Gate main.mac"
   ]
  },
  {
   "cell_type": "code",
   "execution_count": 26,
   "metadata": {
    "slideshow": {
     "slide_type": "subslide"
    }
   },
   "outputs": [],
   "source": [
    "import numpy as np\n",
    "import SimpleITK as sitk\n",
    "import ipywidgets as ipw\n",
    "# to enable interactive widgets in jupyter notebook run this command in a terminal:\n",
    "#jupyter nbextension enable --py widgetsnbextension\n",
    "import matplotlib.pyplot as plt\n",
    "import matplotlib.colors as mplc\n",
    "import uproot\n"
   ]
  },
  {
   "cell_type": "code",
   "execution_count": 7,
   "metadata": {},
   "outputs": [
    {
     "name": "stdout",
     "output_type": "stream",
     "text": [
      "Image size:  (126, 126, 111)\n",
      "Image spacing:  (2.0, 2.0, 2.0)\n",
      "Image origin:  (0.0, 0.0, 0.0)\n"
     ]
    }
   ],
   "source": [
    "# Read the patient CT with sitk\n",
    "img_ct = sitk.ReadImage('data/patient-2mm.mhd')\n",
    "\n",
    "print('Image size: ', img_ct.GetSize())\n",
    "print('Image spacing: ', img_ct.GetSpacing())\n",
    "print('Image origin: ', img_ct.GetOrigin())"
   ]
  },
  {
   "cell_type": "code",
   "execution_count": 8,
   "metadata": {
    "slideshow": {
     "slide_type": "fragment"
    }
   },
   "outputs": [
    {
     "name": "stdout",
     "output_type": "stream",
     "text": [
      "Array size:  (111, 126, 126)  <--- be careful to the dimension order!)\n"
     ]
    }
   ],
   "source": [
    "# Convert sitk image to a numpy array\n",
    "arr_ct = sitk.GetArrayFromImage(img_ct)\n",
    "print('Array size: ', arr_ct.shape, ' <--- be careful to the dimension order!)')"
   ]
  },
  {
   "cell_type": "code",
   "execution_count": 9,
   "metadata": {
    "slideshow": {
     "slide_type": "subslide"
    }
   },
   "outputs": [
    {
     "data": {
      "application/vnd.jupyter.widget-view+json": {
       "model_id": "647872a884e444159542684f3b32a9b8",
       "version_major": 2,
       "version_minor": 0
      },
      "text/plain": [
       "interactive(children=(IntSlider(value=55, description='sx', max=110), IntSlider(value=62, description='sy', ma…"
      ]
     },
     "metadata": {},
     "output_type": "display_data"
    }
   ],
   "source": [
    "\n",
    "\n",
    "# function to display 3D image slices\n",
    "def show_ct(sx,sy,sz):\n",
    "    fig, ax = plt.subplots(1, 3, figsize=(16, 8)) # Create an array of axes : 1 row, 3 columns\n",
    "    ax[0].imshow(arr_ct[sx, :, :], origin='lower', cmap='bone', vmin=arr_ct.min(), vmax=arr_ct.max()*0.7)\n",
    "    ax[1].imshow(arr_ct[:, sy, :], origin='lower', cmap='bone', vmin=arr_ct.min(), vmax=arr_ct.max()*0.7)\n",
    "    ax[2].imshow(arr_ct[:, :, sz], origin='lower', cmap='bone', vmin=arr_ct.min(), vmax=arr_ct.max()*0.7)\n",
    "    plt.show()\n",
    "    \n",
    "ipw.interact(show_ct, sx=(0,arr_ct.shape[0]-1), sy=(0,arr_ct.shape[1]-1), sz=(0,arr_ct.shape[2]-1));"
   ]
  },
  {
   "cell_type": "code",
   "execution_count": 10,
   "metadata": {
    "slideshow": {
     "slide_type": "subslide"
    }
   },
   "outputs": [
    {
     "name": "stdout",
     "output_type": "stream",
     "text": [
      "Image size =  (50, 50, 50)\n",
      "Image min and max:  0.0 2.3486228e-08\n"
     ]
    }
   ],
   "source": [
    "# read the GATE output result\n",
    "img_dose = sitk.ReadImage('output/3d-Dose.mhd')\n",
    "# img_dose = sitk.ReadImage('Ex_dose3D/results.1e6/3d-gamma-Dose.mhd')\n",
    "arr_dose = sitk.GetArrayFromImage(img_dose)\n",
    "print('Image size = ', arr_dose.shape)\n",
    "print('Image min and max: ', np.min(arr_dose), np.max(arr_dose))"
   ]
  },
  {
   "cell_type": "code",
   "execution_count": 11,
   "metadata": {
    "slideshow": {
     "slide_type": "subslide"
    }
   },
   "outputs": [
    {
     "data": {
      "application/vnd.jupyter.widget-view+json": {
       "model_id": "2441a8236f4f4faea644aaa8189d5ba0",
       "version_major": 2,
       "version_minor": 0
      },
      "text/plain": [
       "interactive(children=(IntSlider(value=24, description='nslice', max=49), Output()), _dom_classes=('widget-inte…"
      ]
     },
     "metadata": {},
     "output_type": "display_data"
    }
   ],
   "source": [
    "# display the output result\n",
    "def show_dose(nslice):\n",
    "    plt.figure()\n",
    "    plt.imshow(arr_dose[:, :, nslice], cmap='hot', vmin=0, vmax=arr_dose.max())\n",
    "    plt.colorbar()\n",
    "    plt.show()\n",
    "    \n",
    "ipw.interact(show_dose, nslice=(0, arr_dose.shape[2]-1));"
   ]
  },
  {
   "cell_type": "code",
   "execution_count": 12,
   "metadata": {
    "slideshow": {
     "slide_type": "subslide"
    }
   },
   "outputs": [
    {
     "name": "stdout",
     "output_type": "stream",
     "text": [
      "Image size =  (111, 126, 126)\n",
      "Image min and max:  0.0 1.9964263e-08\n"
     ]
    }
   ],
   "source": [
    "# resample the dose map to match the CT resolution\n",
    "img_resampled_dose = sitk.Resample(img_dose, img_ct, sitk.Transform(), sitk.sitkLinear, 0)\n",
    "arr_resampled_dose = sitk.GetArrayFromImage(img_resampled_dose)\n",
    "print('Image size = ', arr_resampled_dose.shape)\n",
    "print('Image min and max: ',  np.min(arr_resampled_dose), np.max(arr_resampled_dose))"
   ]
  },
  {
   "cell_type": "code",
   "execution_count": 13,
   "metadata": {
    "slideshow": {
     "slide_type": "subslide"
    }
   },
   "outputs": [
    {
     "data": {
      "application/vnd.jupyter.widget-view+json": {
       "model_id": "6cd05e8968d3464f84e4cf0a616a2ce3",
       "version_major": 2,
       "version_minor": 0
      },
      "text/plain": [
       "interactive(children=(IntSlider(value=64, description='nslice', max=125), FloatSlider(value=0.7, description='…"
      ]
     },
     "metadata": {},
     "output_type": "display_data"
    }
   ],
   "source": [
    "# function to overlay the CT and the dose map\n",
    "def show_fusion(nslice=64, opacity=0.7):\n",
    "    min_dose_disp = 1e-9\n",
    "    plt.figure(figsize=(10, 7))\n",
    "    plt.imshow(arr_ct[:, :, nslice], vmin=arr_ct.min(), vmax=arr_ct.max(), cmap='bone')\n",
    "    a = arr_resampled_dose[:, :, nslice]\n",
    "    b = np.ma.masked_where(a <= min_dose_disp, a)\n",
    "    plt.imshow(b, alpha=opacity, cmap='hot', vmin=min_dose_disp, vmax=arr_resampled_dose.max())\n",
    "    plt.colorbar()\n",
    "    plt.show()\n",
    "    \n",
    "ipw.interact(show_fusion, nslice=(0, arr_ct.shape[2]-1), opacity=(0, 1, 0.1));"
   ]
  },
  {
   "cell_type": "markdown",
   "metadata": {
    "slideshow": {
     "slide_type": "subslide"
    }
   },
   "source": [
    "## Exercise\n",
    "* make a depth dose plot\n",
    "* change the particle type to 100 MeV protons in the main.mac\n",
    "* run the exemple again and analyse the results\n",
    "* explain the difference with gammas"
   ]
  },
  {
   "cell_type": "code",
   "execution_count": 14,
   "metadata": {
    "slideshow": {
     "slide_type": "fragment"
    }
   },
   "outputs": [
    {
     "name": "stdout",
     "output_type": "stream",
     "text": [
      "(111,)\n"
     ]
    },
    {
     "data": {
      "image/png": "[encoded data removed]",
      "text/plain": [
       "<Figure size 640x480 with 1 Axes>"
      ]
     },
     "metadata": {},
     "output_type": "display_data"
    }
   ],
   "source": [
    "p_edep = arr_resampled_dose.sum(axis=(2, 1))\n",
    "print(p_edep.shape)\n",
    "\n",
    "plt.figure()\n",
    "plt.plot(p_edep)\n",
    "plt.show()"
   ]
  },
  {
   "cell_type": "markdown",
   "metadata": {
    "slideshow": {
     "slide_type": "slide"
    }
   },
   "source": [
    "# Dose map analysis with the example Ex_internal-RT"
   ]
  },
  {
   "cell_type": "markdown",
   "metadata": {
    "slideshow": {
     "slide_type": "fragment"
    }
   },
   "source": [
    "## Exercise\n",
    "* open a terminal and go to the folder gate_radiotherapy/Ex_Internal-RT\n",
    "* look at the different files and open mac/main.mac\n",
    "* run the example with  \n",
    "`Gate --qt mac/main.mac`\n",
    "* use this notebook to analyse the 3D dose map result (from the \"dose map analysis\" section)  \n",
    "(some high statistic results with 1e6 particles are available in results.1e6/)\n",
    "* display a slice of the 3D data with plt.imshow\n",
    "* display a slice of the SPECT image with plt.imshow\n",
    "* use the SPECT activity matrix to select a region in the dose map region and get the total aborbed dose in that region"
   ]
  },
  {
   "cell_type": "code",
   "execution_count": 15,
   "metadata": {},
   "outputs": [
    {
     "name": "stdout",
     "output_type": "stream",
     "text": [
      "/home/mverdier/Documents/IMNC/Gate_SC/Formation_CNRS/2022/Wednesday/Gate_Radiotherapy/Ex_InternalRT\n"
     ]
    }
   ],
   "source": [
    "cd ../Ex_InternalRT/"
   ]
  },
  {
   "cell_type": "code",
   "execution_count": 16,
   "metadata": {},
   "outputs": [
    {
     "data": {
      "text/plain": [
       "'/home/mverdier/Documents/IMNC/Gate_SC/Formation_CNRS/2022/Wednesday/Gate_Radiotherapy/Ex_InternalRT'"
      ]
     },
     "execution_count": 16,
     "metadata": {},
     "output_type": "execute_result"
    }
   ],
   "source": [
    "pwd"
   ]
  },
  {
   "cell_type": "code",
   "execution_count": 86,
   "metadata": {},
   "outputs": [
    {
     "name": "stdout",
     "output_type": "stream",
     "text": [
      "[G4] \n",
      "[G4] **************************************************************\n",
      "[G4]  Geant4 version Name: geant4-10-07-patch-02    (11-June-2021)\n",
      "[G4]                        Copyright : Geant4 Collaboration\n",
      "[G4]                       References : NIM A 506 (2003), 250-303\n",
      "[G4]                                  : IEEE-TNS 53 (2006), 270-278\n",
      "[G4]                                  : NIM A 835 (2016), 186-225\n",
      "[G4]                              WWW : http://geant4.org/\n",
      "[G4] **************************************************************\n",
      "[G4] \n",
      "[Core-0] Initialization of geometry\n",
      "[Core-0] Initialization of physics\n",
      "[Core-0] Initialization of actors\n",
      "[Core-0] \n",
      "[Core-0] *************************************************\n",
      "[Core-0]  GATE version 9.1 (2021)\n",
      "[Core-0]  Copyright : OpenGATE Collaboration\n",
      "[Core-0]  Reference : Phys. Med. Biol. 49 (2004) 4543-4561\n",
      "[Core-0]  Reference : Phys. Med. Biol. 56 (2011) 881-901\n",
      "[Core-0]  Reference : Med. Phys. 41(6)    (2014)\n",
      "[Core-0]  http://www.opengatecollaboration.org        \n",
      "[Core-0] *************************************************\n",
      "[Core-0] \n",
      "[Core-0] You are using Geant4 version 10.7.2\n",
      "[Core-0] Starting macro main.mac\n",
      "I/O warning : failed to load external entity \"./Materials.xml\"\n",
      "I/O warning: Discard the previous warning if your simulation doesn't transport OPTICAL PHOTONS. \n",
      "Otherwise, please copy the ./Materials.xml file from the gate-source directory in the directory where you run your main macro.\n",
      "[Physic-0] The following Geant4's physic-list is enabled :emstandard_opt1\n",
      "[Core-0] Initialization of geometry\n",
      "[Core-0] Initialization of physics\n",
      "[Core-0] Initialization of actors\n",
      "[Acquisition-0]   \n",
      "[Acquisition-0] ============= Source initialization =============\n",
      "[Acquisition-0]   \n",
      "[Acquisition-0] ============= Acquisition starts! =============\n",
      "[Acquisition-0] Simulation start time = 0 sec\n",
      "[Acquisition-0] Simulation end time   = 1 sec\n",
      "[Acquisition-0] Simulation will have  = 1 run(s)\n",
      "[Acquisition-0] Slice 0 from 0 to 1 s [slice=1 s]\n",
      "\n",
      "### ===  Deexcitation model UAtomDeexcitation is activated for 2 regions:\n",
      "          DefaultRegionForTheWorld  1  1  1\n",
      "          phantom  1  1  1\n",
      "### ===  Auger cascade flag: 1\n",
      "### ===  Ignore cuts flag:   1\n",
      "\n",
      "phot:  for gamma applyCuts:1  SubType=12 BuildTable=0\n",
      "      LambdaPrime table from 200 keV to 100 TeV in 61 bins \n",
      "      ===== EM models for the G4Region  DefaultRegionForTheWorld ======\n",
      " LivermorePhElectric : Emin=    0 eV  Emax=  100 TeV  SauterGavrila Fluo\n",
      "\n",
      "compt:  for gamma applyCuts:1  SubType=13 BuildTable=1\n",
      "      Lambda table from 100 eV  to 1 MeV, 7 bins/decade, spline: 1\n",
      "      LambdaPrime table from 1 MeV to 100 TeV in 56 bins \n",
      "      ===== EM models for the G4Region  DefaultRegionForTheWorld ======\n",
      "       Klein-Nishina : Emin=    0 eV  Emax=  100 TeV\n",
      "\n",
      "conv:  for gamma applyCuts:1  SubType=14 BuildTable=1\n",
      "      Lambda table from 1.022 MeV to 100 TeV, 18 bins/decade, spline: 1\n",
      "      ===== EM models for the G4Region  DefaultRegionForTheWorld ======\n",
      "     BetheHeitlerLPM : Emin=    0 eV  Emax=  100 TeV  ModifiedTsai\n",
      "\n",
      "msc:  for e-  SubType= 10\n",
      "      ===== EM models for the G4Region  DefaultRegionForTheWorld ======\n",
      "            UrbanMsc : Emin=    0 eV  Emax=  100 MeV Nbins=42 100 eV  - 100 MeV\n",
      "              StepLim=Minimal Rfact=0.2 Gfact=2.5 Sfact=0.6 DispFlag:1 Skin=1 Llimit=1\n",
      "        WentzelVIUni : Emin=  100 MeV Emax=  100 TeV Nbins=42 100 MeV - 100 TeV\n",
      "              StepLim=Minimal Rfact=0.2 Gfact=2.5 Sfact=0.6 DispFlag:1 Skin=1 Llimit=1\n",
      "\n",
      "eIoni:  for e-  SubType=2\n",
      "      dE/dx and range tables from 100 eV  to 100 TeV in 84 bins\n",
      "      Lambda tables from threshold to 100 TeV, 7 bins/decade, spline: 1\n",
      "      StepFunction=(0.8, 1 mm), integ: 1, fluct: 1, linLossLim= 0.01\n",
      "      ===== EM models for the G4Region  DefaultRegionForTheWorld ======\n",
      "        MollerBhabha : Emin=    0 eV  Emax=  100 TeV\n",
      "\n",
      "eBrem:  for e-  SubType=3\n",
      "      dE/dx and range tables from 100 eV  to 100 TeV in 84 bins\n",
      "      Lambda tables from threshold to 100 TeV, 7 bins/decade, spline: 1\n",
      "      LPM flag: 1 for E > 1 GeV,  VertexHighEnergyTh(GeV)= 100000\n",
      "      ===== EM models for the G4Region  DefaultRegionForTheWorld ======\n",
      "             eBremSB : Emin=    0 eV  Emax=    1 GeV  ModifiedTsai\n",
      "            eBremLPM : Emin=    1 GeV Emax=  100 TeV  ModifiedTsai\n",
      "\n",
      "CoulombScat:  for e-, integral:1  applyCuts:1  SubType=1 BuildTable=1\n",
      "      Lambda table from 100 MeV to 100 TeV, 7 bins/decade, spline: 1\n",
      "      ThetaMin(p) < Theta(degree) < 180; pLimit(GeV^1)= 0.139531\n",
      "      ===== EM models for the G4Region  DefaultRegionForTheWorld ======\n",
      "  eCoulombScattering : Emin=  100 MeV Emax=  100 TeV\n",
      "\n",
      "msc:  for e+  SubType= 10\n",
      "      ===== EM models for the G4Region  DefaultRegionForTheWorld ======\n",
      "            UrbanMsc : Emin=    0 eV  Emax=  100 MeV Nbins=42 100 eV  - 100 MeV\n",
      "              StepLim=Minimal Rfact=0.2 Gfact=2.5 Sfact=0.6 DispFlag:1 Skin=1 Llimit=1\n",
      "        WentzelVIUni : Emin=  100 MeV Emax=  100 TeV Nbins=42 100 MeV - 100 TeV\n",
      "              StepLim=Minimal Rfact=0.2 Gfact=2.5 Sfact=0.6 DispFlag:1 Skin=1 Llimit=1\n",
      "\n",
      "eIoni:  for e+  SubType=2\n",
      "      dE/dx and range tables from 100 eV  to 100 TeV in 84 bins\n",
      "      Lambda tables from threshold to 100 TeV, 7 bins/decade, spline: 1\n",
      "      StepFunction=(0.8, 1 mm), integ: 1, fluct: 1, linLossLim= 0.01\n",
      "      ===== EM models for the G4Region  DefaultRegionForTheWorld ======\n",
      "        MollerBhabha : Emin=    0 eV  Emax=  100 TeV\n",
      "\n",
      "eBrem:  for e+  SubType=3\n",
      "      dE/dx and range tables from 100 eV  to 100 TeV in 84 bins\n",
      "      Lambda tables from threshold to 100 TeV, 7 bins/decade, spline: 1\n",
      "      LPM flag: 1 for E > 1 GeV,  VertexHighEnergyTh(GeV)= 100000\n",
      "      ===== EM models for the G4Region  DefaultRegionForTheWorld ======\n",
      "             eBremSB : Emin=    0 eV  Emax=    1 GeV  ModifiedTsai\n",
      "            eBremLPM : Emin=    1 GeV Emax=  100 TeV  ModifiedTsai\n",
      "\n",
      "annihil:  for e+, integral:1  applyCuts:1  SubType=5 BuildTable=0\n",
      "      ===== EM models for the G4Region  DefaultRegionForTheWorld ======\n",
      "            eplus2gg : Emin=    0 eV  Emax=  100 TeV\n",
      "\n",
      "CoulombScat:  for e+, integral:1  applyCuts:1  SubType=1 BuildTable=1\n",
      "      Lambda table from 100 MeV to 100 TeV, 7 bins/decade, spline: 1\n",
      "      ThetaMin(p) < Theta(degree) < 180; pLimit(GeV^1)= 0.139531\n",
      "      ===== EM models for the G4Region  DefaultRegionForTheWorld ======\n",
      "  eCoulombScattering : Emin=  100 MeV Emax=  100 TeV\n",
      "\n",
      "msc:  for proton  SubType= 10\n",
      "      ===== EM models for the G4Region  DefaultRegionForTheWorld ======\n",
      "        WentzelVIUni : Emin=    0 eV  Emax=  100 TeV Nbins=84 100 eV  - 100 TeV\n",
      "              StepLim=Minimal Rfact=0.2 Gfact=2.5 Sfact=0.6 DispFlag:0 Skin=1 Llimit=1\n",
      "\n",
      "hIoni:  for proton  SubType=2\n",
      "      dE/dx and range tables from 100 eV  to 100 TeV in 84 bins\n",
      "      Lambda tables from threshold to 100 TeV, 7 bins/decade, spline: 1\n",
      "      StepFunction=(0.2, 0.1 mm), integ: 1, fluct: 1, linLossLim= 0.01\n",
      "      ===== EM models for the G4Region  DefaultRegionForTheWorld ======\n",
      "               Bragg : Emin=    0 eV  Emax=    2 MeV\n",
      "          BetheBloch : Emin=    2 MeV Emax=  100 TeV\n",
      "\n",
      "hBrems:  for proton  SubType=3\n",
      "      dE/dx and range tables from 100 eV  to 100 TeV in 84 bins\n",
      "      Lambda tables from threshold to 100 TeV, 7 bins/decade, spline: 1\n",
      "      ===== EM models for the G4Region  DefaultRegionForTheWorld ======\n",
      "               hBrem : Emin=    0 eV  Emax=  100 TeV  ModifiedMephi\n",
      "      ===== Limit on energy threshold has been applied \n",
      "\n",
      "hPairProd:  for proton  SubType=4\n",
      "      dE/dx and range tables from 100 eV  to 100 TeV in 84 bins\n",
      "      Lambda tables from threshold to 100 TeV, 7 bins/decade, spline: 1\n",
      "      Sampling table 17x1001; from 7.50618 GeV to 100 TeV \n",
      "      ===== EM models for the G4Region  DefaultRegionForTheWorld ======\n",
      "           hPairProd : Emin=    0 eV  Emax=  100 TeV  ModifiedMephi\n",
      "\n",
      "CoulombScat:  for proton, integral:1  applyCuts:1  SubType=1 BuildTable=1\n",
      "      Lambda table from threshold  to 100 TeV, 7 bins/decade, spline: 1\n",
      "      ThetaMin(p) < Theta(degree) < 180; pLimit(GeV^1)= 0.139531\n",
      "      ===== EM models for the G4Region  DefaultRegionForTheWorld ======\n",
      "  eCoulombScattering : Emin=    0 eV  Emax=  100 TeV\n",
      "\n",
      "msc:  for GenericIon  SubType= 10\n",
      "      ===== EM models for the G4Region  DefaultRegionForTheWorld ======\n",
      "            UrbanMsc : Emin=    0 eV  Emax=  100 TeV\n",
      "              StepLim=Minimal Rfact=0.2 Gfact=2.5 Sfact=0.6 DispFlag:0 Skin=1 Llimit=1\n",
      "\n",
      "ionIoni:  for GenericIon  SubType=2\n",
      "      dE/dx and range tables from 100 eV  to 100 TeV in 84 bins\n",
      "      Lambda tables from threshold to 100 TeV, 7 bins/decade, spline: 1\n",
      "      StepFunction=(0.2, 0.1 mm), integ: 1, fluct: 1, linLossLim= 0.02\n",
      "      Stopping Power data for 17 ion/material pairs\n",
      "      ===== EM models for the G4Region  DefaultRegionForTheWorld ======\n",
      "            BraggIon : Emin=    0 eV  Emax=    2 MeV\n",
      "          BetheBloch : Emin=    2 MeV Emax=  100 TeV\n",
      "======================================================================\n",
      "======          Radioactive Decay Physics Parameters           =======\n",
      "======================================================================\n",
      "Max life time                                     1.4427e+06 ps\n",
      "Internal e- conversion flag                       1\n",
      "Stored internal conversion coefficients           1\n",
      "Enable correlated gamma emission                  0\n",
      "Max 2J for sampling of angular correlations       10\n",
      "Atomic de-excitation enabled                      1\n",
      "Auger electron emission enabled                   1\n",
      "Auger cascade enabled                             1\n",
      "Check EM cuts disabled for atomic de-excitation   1\n",
      "Use Bearden atomic level energies                 0\n",
      "======================================================================\n",
      "\n",
      "msc:  for alpha  SubType= 10\n",
      "      ===== EM models for the G4Region  DefaultRegionForTheWorld ======\n",
      "            UrbanMsc : Emin=    0 eV  Emax=  100 TeV Nbins=84 100 eV  - 100 TeV\n",
      "              StepLim=Minimal Rfact=0.2 Gfact=2.5 Sfact=0.6 DispFlag:0 Skin=1 Llimit=1\n",
      "\n",
      "ionIoni:  for alpha  SubType=2\n",
      "      dE/dx and range tables from 100 eV  to 100 TeV in 84 bins\n",
      "      Lambda tables from threshold to 100 TeV, 7 bins/decade, spline: 1\n",
      "      StepFunction=(0.2, 0.1 mm), integ: 1, fluct: 1, linLossLim= 0.02\n",
      "      ===== EM models for the G4Region  DefaultRegionForTheWorld ======\n",
      "            BraggIon : Emin=    0 eV  Emax=7.9452 MeV\n",
      "          BetheBloch : Emin=7.9452 MeV Emax=  100 TeV\n",
      "\n",
      "msc:  for anti_proton  SubType= 10\n",
      "      ===== EM models for the G4Region  DefaultRegionForTheWorld ======\n",
      "        WentzelVIUni : Emin=    0 eV  Emax=  100 TeV Nbins=84 100 eV  - 100 TeV\n",
      "              StepLim=Minimal Rfact=0.2 Gfact=2.5 Sfact=0.6 DispFlag:0 Skin=1 Llimit=1\n",
      "\n",
      "hIoni:  for anti_proton  SubType=2\n",
      "      dE/dx and range tables from 100 eV  to 100 TeV in 84 bins\n",
      "      Lambda tables from threshold to 100 TeV, 7 bins/decade, spline: 1\n",
      "      StepFunction=(0.2, 0.1 mm), integ: 1, fluct: 1, linLossLim= 0.01\n",
      "      ===== EM models for the G4Region  DefaultRegionForTheWorld ======\n",
      "            ICRU73QO : Emin=    0 eV  Emax=    2 MeV\n",
      "          BetheBloch : Emin=    2 MeV Emax=  100 TeV\n",
      "\n",
      "hBrems:  for anti_proton  SubType=3\n",
      "      dE/dx and range tables from 100 eV  to 100 TeV in 84 bins\n",
      "      Lambda tables from threshold to 100 TeV, 7 bins/decade, spline: 1\n",
      "      ===== EM models for the G4Region  DefaultRegionForTheWorld ======\n",
      "               hBrem : Emin=    0 eV  Emax=  100 TeV  ModifiedMephi\n",
      "      ===== Limit on energy threshold has been applied \n",
      "\n",
      "hPairProd:  for anti_proton  SubType=4\n",
      "      dE/dx and range tables from 100 eV  to 100 TeV in 84 bins\n",
      "      Lambda tables from threshold to 100 TeV, 7 bins/decade, spline: 1\n",
      "      Sampling table 17x1001; from 7.50618 GeV to 100 TeV \n",
      "      ===== EM models for the G4Region  DefaultRegionForTheWorld ======\n",
      "           hPairProd : Emin=    0 eV  Emax=  100 TeV  ModifiedMephi\n",
      "\n",
      "CoulombScat:  for anti_proton, integral:1  applyCuts:1  SubType=1 BuildTable=1\n",
      "      Lambda table from threshold  to 100 TeV, 7 bins/decade, spline: 1\n",
      "      ThetaMin(p) < Theta(degree) < 180; pLimit(GeV^1)= 0.139531\n",
      "      ===== EM models for the G4Region  DefaultRegionForTheWorld ======\n",
      "  eCoulombScattering : Emin=    0 eV  Emax=  100 TeV\n",
      "\n",
      "msc:  for kaon+  SubType= 10\n",
      "      ===== EM models for the G4Region  DefaultRegionForTheWorld ======\n",
      "        WentzelVIUni : Emin=    0 eV  Emax=  100 TeV Nbins=84 100 eV  - 100 TeV\n",
      "              StepLim=Minimal Rfact=0.2 Gfact=2.5 Sfact=0.6 DispFlag:0 Skin=1 Llimit=1\n",
      "\n",
      "hIoni:  for kaon+  SubType=2\n",
      "      dE/dx and range tables from 100 eV  to 100 TeV in 84 bins\n",
      "      Lambda tables from threshold to 100 TeV, 7 bins/decade, spline: 1\n",
      "      StepFunction=(0.2, 0.1 mm), integ: 1, fluct: 1, linLossLim= 0.01\n",
      "      ===== EM models for the G4Region  DefaultRegionForTheWorld ======\n",
      "               Bragg : Emin=    0 eV  Emax=1.05231 MeV\n",
      "          BetheBloch : Emin=1.05231 MeV Emax=  100 TeV\n",
      "\n",
      "hBrems:  for kaon+  SubType=3\n",
      "      dE/dx and range tables from 100 eV  to 100 TeV in 84 bins\n",
      "      Lambda tables from threshold to 100 TeV, 7 bins/decade, spline: 1\n",
      "      ===== EM models for the G4Region  DefaultRegionForTheWorld ======\n",
      "               hBrem : Emin=    0 eV  Emax=  100 TeV  ModifiedMephi\n",
      "      ===== Limit on energy threshold has been applied \n",
      "\n",
      "hPairProd:  for kaon+  SubType=4\n",
      "      dE/dx and range tables from 100 eV  to 100 TeV in 84 bins\n",
      "      Lambda tables from threshold to 100 TeV, 7 bins/decade, spline: 1\n",
      "      Sampling table 18x1001; from 3.94942 GeV to 100 TeV \n",
      "      ===== EM models for the G4Region  DefaultRegionForTheWorld ======\n",
      "           hPairProd : Emin=    0 eV  Emax=  100 TeV  ModifiedMephi\n",
      "\n",
      "CoulombScat:  for kaon+, integral:1  applyCuts:1  SubType=1 BuildTable=1\n",
      "      Lambda table from threshold  to 100 TeV, 7 bins/decade, spline: 1\n",
      "      ThetaMin(p) < Theta(degree) < 180; pLimit(GeV^1)= 0.139531\n",
      "      ===== EM models for the G4Region  DefaultRegionForTheWorld ======\n",
      "  eCoulombScattering : Emin=    0 eV  Emax=  100 TeV\n",
      "\n",
      "msc:  for kaon-  SubType= 10\n",
      "      ===== EM models for the G4Region  DefaultRegionForTheWorld ======\n",
      "        WentzelVIUni : Emin=    0 eV  Emax=  100 TeV Nbins=84 100 eV  - 100 TeV\n",
      "              StepLim=Minimal Rfact=0.2 Gfact=2.5 Sfact=0.6 DispFlag:0 Skin=1 Llimit=1\n",
      "\n",
      "hIoni:  for kaon-  SubType=2\n",
      "      dE/dx and range tables from 100 eV  to 100 TeV in 84 bins\n",
      "      Lambda tables from threshold to 100 TeV, 7 bins/decade, spline: 1\n",
      "      StepFunction=(0.2, 0.1 mm), integ: 1, fluct: 1, linLossLim= 0.01\n",
      "      ===== EM models for the G4Region  DefaultRegionForTheWorld ======\n",
      "            ICRU73QO : Emin=    0 eV  Emax=1.05231 MeV\n",
      "          BetheBloch : Emin=1.05231 MeV Emax=  100 TeV\n",
      "\n",
      "hBrems:  for kaon-  SubType=3\n",
      "      dE/dx and range tables from 100 eV  to 100 TeV in 84 bins\n",
      "      Lambda tables from threshold to 100 TeV, 7 bins/decade, spline: 1\n",
      "      ===== EM models for the G4Region  DefaultRegionForTheWorld ======\n",
      "               hBrem : Emin=    0 eV  Emax=  100 TeV  ModifiedMephi\n",
      "      ===== Limit on energy threshold has been applied \n",
      "\n",
      "hPairProd:  for kaon-  SubType=4\n",
      "      dE/dx and range tables from 100 eV  to 100 TeV in 84 bins\n",
      "      Lambda tables from threshold to 100 TeV, 7 bins/decade, spline: 1\n",
      "      Sampling table 18x1001; from 3.94942 GeV to 100 TeV \n",
      "      ===== EM models for the G4Region  DefaultRegionForTheWorld ======\n",
      "           hPairProd : Emin=    0 eV  Emax=  100 TeV  ModifiedMephi\n",
      "\n",
      "CoulombScat:  for kaon-, integral:1  applyCuts:1  SubType=1 BuildTable=1\n",
      "      Used Lambda table of kaon+\n",
      "      ThetaMin(p) < Theta(degree) < 180; pLimit(GeV^1)= 0.139531\n",
      "      ===== EM models for the G4Region  DefaultRegionForTheWorld ======\n",
      "  eCoulombScattering : Emin=    0 eV  Emax=  100 TeV\n",
      "\n",
      "msc:  for mu+  SubType= 10\n",
      "      ===== EM models for the G4Region  DefaultRegionForTheWorld ======\n",
      "        WentzelVIUni : Emin=    0 eV  Emax=  100 TeV Nbins=84 100 eV  - 100 TeV\n",
      "              StepLim=Minimal Rfact=0.2 Gfact=2.5 Sfact=0.6 DispFlag:0 Skin=1 Llimit=1\n",
      "\n",
      "muIoni:  for mu+  SubType=2\n",
      "      dE/dx and range tables from 100 eV  to 100 TeV in 84 bins\n",
      "      Lambda tables from threshold to 100 TeV, 7 bins/decade, spline: 1\n",
      "      StepFunction=(0.2, 0.1 mm), integ: 1, fluct: 1, linLossLim= 0.01\n",
      "      ===== EM models for the G4Region  DefaultRegionForTheWorld ======\n",
      "               Bragg : Emin=    0 eV  Emax=  200 keV\n",
      "          BetheBloch : Emin=  200 keV Emax=    1 GeV\n",
      "        MuBetheBloch : Emin=    1 GeV Emax=  100 TeV\n",
      "\n",
      "muBrems:  for mu+  SubType=3\n",
      "      dE/dx and range tables from 100 eV  to 100 TeV in 84 bins\n",
      "      Lambda tables from threshold to 100 TeV, 7 bins/decade, spline: 1\n",
      "      ===== EM models for the G4Region  DefaultRegionForTheWorld ======\n",
      "              MuBrem : Emin=    0 eV  Emax=  100 TeV  ModifiedMephi\n",
      "      ===== Limit on energy threshold has been applied \n",
      "\n",
      "muPairProd:  for mu+  SubType=4\n",
      "      dE/dx and range tables from 100 eV  to 100 TeV in 84 bins\n",
      "      Lambda tables from threshold to 100 TeV, 7 bins/decade, spline: 1\n",
      "      Sampling table 21x1001; from 1 GeV to 100 TeV \n",
      "      ===== EM models for the G4Region  DefaultRegionForTheWorld ======\n",
      "          muPairProd : Emin=    0 eV  Emax=  100 TeV  ModifiedMephi\n",
      "\n",
      "CoulombScat:  for mu+, integral:1  applyCuts:1  SubType=1 BuildTable=1\n",
      "      Lambda table from threshold  to 100 TeV, 7 bins/decade, spline: 1\n",
      "      ThetaMin(p) < Theta(degree) < 180; pLimit(GeV^1)= 0.139531\n",
      "      ===== EM models for the G4Region  DefaultRegionForTheWorld ======\n",
      "  eCoulombScattering : Emin=    0 eV  Emax=  100 TeV\n",
      "\n",
      "msc:  for mu-  SubType= 10\n",
      "      ===== EM models for the G4Region  DefaultRegionForTheWorld ======\n",
      "        WentzelVIUni : Emin=    0 eV  Emax=  100 TeV Nbins=84 100 eV  - 100 TeV\n",
      "              StepLim=Minimal Rfact=0.2 Gfact=2.5 Sfact=0.6 DispFlag:0 Skin=1 Llimit=1\n",
      "\n",
      "muIoni:  for mu-  SubType=2\n",
      "      dE/dx and range tables from 100 eV  to 100 TeV in 84 bins\n",
      "      Lambda tables from threshold to 100 TeV, 7 bins/decade, spline: 1\n",
      "      StepFunction=(0.2, 0.1 mm), integ: 1, fluct: 1, linLossLim= 0.01\n",
      "      ===== EM models for the G4Region  DefaultRegionForTheWorld ======\n",
      "            ICRU73QO : Emin=    0 eV  Emax=  200 keV\n",
      "          BetheBloch : Emin=  200 keV Emax=    1 GeV\n",
      "        MuBetheBloch : Emin=    1 GeV Emax=  100 TeV\n",
      "\n",
      "muBrems:  for mu-  SubType=3\n",
      "      dE/dx and range tables from 100 eV  to 100 TeV in 84 bins\n",
      "      Lambda tables from threshold to 100 TeV, 7 bins/decade, spline: 1\n",
      "      ===== EM models for the G4Region  DefaultRegionForTheWorld ======\n",
      "              MuBrem : Emin=    0 eV  Emax=  100 TeV  ModifiedMephi\n",
      "      ===== Limit on energy threshold has been applied \n",
      "\n",
      "muPairProd:  for mu-  SubType=4\n",
      "      dE/dx and range tables from 100 eV  to 100 TeV in 84 bins\n",
      "      Lambda tables from threshold to 100 TeV, 7 bins/decade, spline: 1\n",
      "      Sampling table 21x1001; from 1 GeV to 100 TeV \n",
      "      ===== EM models for the G4Region  DefaultRegionForTheWorld ======\n",
      "          muPairProd : Emin=    0 eV  Emax=  100 TeV  ModifiedMephi\n",
      "\n",
      "CoulombScat:  for mu-, integral:1  applyCuts:1  SubType=1 BuildTable=1\n",
      "      Used Lambda table of mu+\n",
      "      ThetaMin(p) < Theta(degree) < 180; pLimit(GeV^1)= 0.139531\n",
      "      ===== EM models for the G4Region  DefaultRegionForTheWorld ======\n",
      "  eCoulombScattering : Emin=    0 eV  Emax=  100 TeV\n",
      "\n",
      "msc:  for pi+  SubType= 10\n",
      "      ===== EM models for the G4Region  DefaultRegionForTheWorld ======\n",
      "        WentzelVIUni : Emin=    0 eV  Emax=  100 TeV Nbins=84 100 eV  - 100 TeV\n",
      "              StepLim=Minimal Rfact=0.2 Gfact=2.5 Sfact=0.6 DispFlag:0 Skin=1 Llimit=1\n",
      "\n",
      "hIoni:  for pi+  SubType=2\n",
      "      dE/dx and range tables from 100 eV  to 100 TeV in 84 bins\n",
      "      Lambda tables from threshold to 100 TeV, 7 bins/decade, spline: 1\n",
      "      StepFunction=(0.2, 0.1 mm), integ: 1, fluct: 1, linLossLim= 0.01\n",
      "      ===== EM models for the G4Region  DefaultRegionForTheWorld ======\n",
      "               Bragg : Emin=    0 eV  Emax=297.505 keV\n",
      "          BetheBloch : Emin=297.505 keV Emax=  100 TeV\n",
      "\n",
      "hBrems:  for pi+  SubType=3\n",
      "      dE/dx and range tables from 100 eV  to 100 TeV in 84 bins\n",
      "      Lambda tables from threshold to 100 TeV, 7 bins/decade, spline: 1\n",
      "      ===== EM models for the G4Region  DefaultRegionForTheWorld ======\n",
      "               hBrem : Emin=    0 eV  Emax=  100 TeV  ModifiedMephi\n",
      "      ===== Limit on energy threshold has been applied \n",
      "\n",
      "hPairProd:  for pi+  SubType=4\n",
      "      dE/dx and range tables from 100 eV  to 100 TeV in 84 bins\n",
      "      Lambda tables from threshold to 100 TeV, 7 bins/decade, spline: 1\n",
      "      Sampling table 20x1001; from 1.11656 GeV to 100 TeV \n",
      "      ===== EM models for the G4Region  DefaultRegionForTheWorld ======\n",
      "           hPairProd : Emin=    0 eV  Emax=  100 TeV  ModifiedMephi\n",
      "\n",
      "CoulombScat:  for pi+, integral:1  applyCuts:1  SubType=1 BuildTable=1\n",
      "      Lambda table from threshold  to 100 TeV, 7 bins/decade, spline: 1\n",
      "      ThetaMin(p) < Theta(degree) < 180; pLimit(GeV^1)= 0.139531\n",
      "      ===== EM models for the G4Region  DefaultRegionForTheWorld ======\n",
      "  eCoulombScattering : Emin=    0 eV  Emax=  100 TeV\n",
      "\n",
      "msc:  for pi-  SubType= 10\n",
      "      ===== EM models for the G4Region  DefaultRegionForTheWorld ======\n",
      "        WentzelVIUni : Emin=    0 eV  Emax=  100 TeV Nbins=84 100 eV  - 100 TeV\n",
      "              StepLim=Minimal Rfact=0.2 Gfact=2.5 Sfact=0.6 DispFlag:0 Skin=1 Llimit=1\n",
      "\n",
      "hIoni:  for pi-  SubType=2\n",
      "      dE/dx and range tables from 100 eV  to 100 TeV in 84 bins\n",
      "      Lambda tables from threshold to 100 TeV, 7 bins/decade, spline: 1\n",
      "      StepFunction=(0.2, 0.1 mm), integ: 1, fluct: 1, linLossLim= 0.01\n",
      "      ===== EM models for the G4Region  DefaultRegionForTheWorld ======\n",
      "            ICRU73QO : Emin=    0 eV  Emax=297.505 keV\n",
      "          BetheBloch : Emin=297.505 keV Emax=  100 TeV\n",
      "\n",
      "hBrems:  for pi-  SubType=3\n",
      "      dE/dx and range tables from 100 eV  to 100 TeV in 84 bins\n",
      "      Lambda tables from threshold to 100 TeV, 7 bins/decade, spline: 1\n",
      "      ===== EM models for the G4Region  DefaultRegionForTheWorld ======\n",
      "               hBrem : Emin=    0 eV  Emax=  100 TeV  ModifiedMephi\n",
      "      ===== Limit on energy threshold has been applied \n",
      "\n",
      "hPairProd:  for pi-  SubType=4\n",
      "      dE/dx and range tables from 100 eV  to 100 TeV in 84 bins\n",
      "      Lambda tables from threshold to 100 TeV, 7 bins/decade, spline: 1\n",
      "      Sampling table 20x1001; from 1.11656 GeV to 100 TeV \n",
      "      ===== EM models for the G4Region  DefaultRegionForTheWorld ======\n",
      "           hPairProd : Emin=    0 eV  Emax=  100 TeV  ModifiedMephi\n",
      "\n",
      "CoulombScat:  for pi-, integral:1  applyCuts:1  SubType=1 BuildTable=1\n",
      "      Used Lambda table of pi+\n",
      "      ThetaMin(p) < Theta(degree) < 180; pLimit(GeV^1)= 0.139531\n",
      "      ===== EM models for the G4Region  DefaultRegionForTheWorld ======\n",
      "  eCoulombScattering : Emin=    0 eV  Emax=  100 TeV\n",
      "G4VisManager: Using G4TrajectoryDrawByCharge as fallback trajectory model.\n",
      "See commands in /vis/modeling/trajectories/ for other options.\n",
      "\n",
      "### ===  Deexcitation model UAtomDeexcitation is activated for 2 regions:\n",
      "          DefaultRegionForTheWorld  1  1  1\n",
      "          phantom  1  1  1\n",
      "### ===  Auger cascade flag: 1\n",
      "### ===  Ignore cuts flag:   1\n",
      "\n",
      "-------- WWWW ------- G4Exception-START -------- WWWW -------\n",
      "*** G4Exception : HAD_RDM_676\n",
      "      issued by : G4RadioactiveDecayBaseMessenger\n",
      "This command is valid but deprecated and will be replaced with the command:\n",
      "/process/had/rdm/verbose in the next major release, Geant4 version 11.0\n",
      "*** This is just a warning message. ***\n",
      "-------- WWWW -------- G4Exception-END --------- WWWW -------\n",
      "\n",
      "\n",
      "-------- WWWW ------- G4Exception-START -------- WWWW -------\n",
      "*** G4Exception : HAD_RDM_674\n",
      "      issued by : G4RadioactiveDecayBaseMessenger\n",
      "This command is valid but deprecated and will be replaced with the command:\n",
      "/process/had/rdm/allVolumes in the next major release, Geant4 version 11.0\n",
      "*** This is just a warning message. ***\n",
      "-------- WWWW -------- G4Exception-END --------- WWWW -------\n",
      "\n",
      "0 events have been kept for refreshing and/or reviewing.\n",
      "  \"/vis/reviewKeptEvents\" to review them one by one.\n",
      "  \"/vis/enable\", then \"/vis/viewer/flush\" or \"/vis/viewer/rebuild\" to see them accumulated.\n",
      "[Core-0] End of macro main.mac\n",
      "Graphics systems deleted.\n",
      "Visualization Manager deleting...\n"
     ]
    }
   ],
   "source": [
    "!Gate main.mac"
   ]
  },
  {
   "cell_type": "code",
   "execution_count": 80,
   "metadata": {
    "slideshow": {
     "slide_type": "skip"
    }
   },
   "outputs": [
    {
     "name": "stdout",
     "output_type": "stream",
     "text": [
      "Image size =  (220, 110, 110)\n",
      "Image min and max:  -1024 3052\n"
     ]
    }
   ],
   "source": [
    "# read the GATE output result\n",
    "img_ct = sitk.ReadImage('data/patient_CT.mhd')\n",
    "arr_ct = sitk.GetArrayFromImage(img_ct)\n",
    "print('Image size = ', arr_ct.shape)\n",
    "print('Image min and max: ',  np.min(arr_ct), np.max(arr_ct))"
   ]
  },
  {
   "cell_type": "code",
   "execution_count": 81,
   "metadata": {},
   "outputs": [
    {
     "data": {
      "application/vnd.jupyter.widget-view+json": {
       "model_id": "78024653f2654be1b05b1698378021f7",
       "version_major": 2,
       "version_minor": 0
      },
      "text/plain": [
       "interactive(children=(IntSlider(value=109, description='sx', max=219), IntSlider(value=54, description='sy', m…"
      ]
     },
     "metadata": {},
     "output_type": "display_data"
    }
   ],
   "source": [
    "# function to display 3D image slices\n",
    "def show_ct(sx,sy,sz):\n",
    "    fig, ax = plt.subplots(1,3, figsize=(10, 5))\n",
    "    ax[0].imshow(arr_ct[sx, :, :], cmap='bone', vmin=arr_ct.min(), vmax=arr_ct.max())\n",
    "    ax[1].imshow(arr_ct[:, sy, :], origin='lower', cmap='bone', vmin=arr_ct.min(), vmax=arr_ct.max())\n",
    "    ax[2].imshow(arr_ct[:, :, sz], origin='lower', cmap='bone', vmin=arr_ct.min(), vmax=arr_ct.max())\n",
    "    plt.show()\n",
    "    \n",
    "ipw.interact(show_ct, sx=(0,arr_ct.shape[0]-1), sy=(0,arr_ct.shape[1]-1), sz=(0,arr_ct.shape[2]-1));"
   ]
  },
  {
   "cell_type": "code",
   "execution_count": 82,
   "metadata": {},
   "outputs": [
    {
     "name": "stdout",
     "output_type": "stream",
     "text": [
      "Image size =  (220, 110, 110)\n",
      "Image min and max:  0.0 2.1957506e-08\n"
     ]
    }
   ],
   "source": [
    "# read the GATE output result\n",
    "# img_dose = sitk.ReadImage('results.1e6/out-Dose.mhd')\n",
    "img_dose = sitk.ReadImage('output/out-Dose.mhd')\n",
    "arr_dose = sitk.GetArrayFromImage(img_dose)\n",
    "print('Image size = ', arr_dose.shape)\n",
    "print('Image min and max: ',  np.min(arr_dose), np.max(arr_dose))"
   ]
  },
  {
   "cell_type": "code",
   "execution_count": 83,
   "metadata": {},
   "outputs": [
    {
     "data": {
      "application/vnd.jupyter.widget-view+json": {
       "model_id": "90274c051ee0402d8aa7ec4e99527b6b",
       "version_major": 2,
       "version_minor": 0
      },
      "text/plain": [
       "interactive(children=(IntSlider(value=54, description='nslice', max=109), Output()), _dom_classes=('widget-int…"
      ]
     },
     "metadata": {},
     "output_type": "display_data"
    }
   ],
   "source": [
    "# display the output result\n",
    "def show_dose(nslice):\n",
    "    plt.figure()\n",
    "    plt.imshow(arr_dose[:, :, nslice], origin='lower', cmap='hot', vmin=0, vmax=arr_dose.max())\n",
    "    # plt.imshow(arr_dose[:, :, nslice], origin='lower', cmap='hot', norm=mplc.LogNorm(vmin=arr_dose[arr_dose>0].min(), vmax=arr_dose.max()))\n",
    "    plt.colorbar()\n",
    "    plt.show()\n",
    "    \n",
    "ipw.interact(show_dose, nslice=(0, arr_dose.shape[2]-1));"
   ]
  },
  {
   "cell_type": "code",
   "execution_count": 84,
   "metadata": {},
   "outputs": [
    {
     "data": {
      "application/vnd.jupyter.widget-view+json": {
       "model_id": "3c469e3661fc45139c83af2195fc9e2e",
       "version_major": 2,
       "version_minor": 0
      },
      "text/plain": [
       "interactive(children=(IntSlider(value=64, description='nslice', max=109), FloatSlider(value=0.7, description='…"
      ]
     },
     "metadata": {},
     "output_type": "display_data"
    }
   ],
   "source": [
    "# function to overlay the CT and the dose map\n",
    "def show_fusion(nslice=64, opacity=0.7):\n",
    "    min_dose_disp = 1e-9\n",
    "    plt.figure(figsize=(10, 6))\n",
    "    plt.imshow(arr_ct[:, :, nslice], cmap='bone', vmin=arr_ct.min(), vmax=arr_ct.max())\n",
    "    a = arr_dose[:, :, nslice]\n",
    "    b = np.ma.masked_where(a <= min_dose_disp, a)\n",
    "    plt.imshow(b, origin='lower', alpha=opacity, cmap='hot', vmin=min_dose_disp, vmax=arr_dose.max())\n",
    "    # plt.imshow(arr_dose[:, :, nslice], origin='lower', cmap='hot', norm=mplc.LogNorm(vmin=arr_dose[arr_dose>0].min(), vmax=arr_dose.max()), alpha=opacity)\n",
    "    plt.colorbar()\n",
    "    plt.show()\n",
    "    \n",
    "ipw.interact(show_fusion, nslice=(0,arr_ct.shape[2]-1), opacity=(0, 1, 0.1));"
   ]
  },
  {
   "cell_type": "code",
   "execution_count": 85,
   "metadata": {},
   "outputs": [
    {
     "data": {
      "image/png": "[encoded data removed]",
      "text/plain": [
       "<Figure size 640x480 with 2 Axes>"
      ]
     },
     "metadata": {},
     "output_type": "display_data"
    }
   ],
   "source": [
    "plt.figure()\n",
    "plt.imshow(arr_dose.sum(axis=0), cmap='hot')\n",
    "plt.colorbar()\n",
    "plt.show()"
   ]
  },
  {
   "cell_type": "code",
   "execution_count": 66,
   "metadata": {},
   "outputs": [
    {
     "data": {
      "image/png": "[encoded data removed]",
      "text/plain": [
       "<Figure size 640x480 with 2 Axes>"
      ]
     },
     "metadata": {},
     "output_type": "display_data"
    }
   ],
   "source": [
    "# read the SPECT image\n",
    "img_spect = sitk.ReadImage('data/patient_SPECT.mhd')\n",
    "arr_spect = sitk.GetArrayFromImage(img_spect)\n",
    "\n",
    "# slice of the SPECT activity image\n",
    "plt.figure()\n",
    "plt.imshow(arr_spect.sum(axis=0), cmap='hot')\n",
    "plt.colorbar()\n",
    "plt.show()"
   ]
  },
  {
   "cell_type": "code",
   "execution_count": 94,
   "metadata": {},
   "outputs": [
    {
     "data": {
      "image/png": "[encoded data removed]",
      "text/plain": [
       "<Figure size 640x480 with 1 Axes>"
      ]
     },
     "metadata": {},
     "output_type": "display_data"
    }
   ],
   "source": [
    "plt.figure()\n",
    "plt.hist(arr_spect.ravel(), bins=280, range=(0, 70000))\n",
    "plt.yscale('log')\n",
    "plt.show()"
   ]
  },
  {
   "cell_type": "code",
   "execution_count": 98,
   "metadata": {},
   "outputs": [
    {
     "data": {
      "application/vnd.jupyter.widget-view+json": {
       "model_id": "4f0b4a2d8e5d48fcadb9201131d579c0",
       "version_major": 2,
       "version_minor": 0
      },
      "text/plain": [
       "interactive(children=(IntSlider(value=54, description='nslice', max=109), Output()), _dom_classes=('widget-int…"
      ]
     },
     "metadata": {},
     "output_type": "display_data"
    }
   ],
   "source": [
    "def show_spect(nslice):\n",
    "    min_dose_disp = 2e3\n",
    "    plt.figure()\n",
    "    a = arr_spect[nslice, :, :]\n",
    "    b = np.ma.masked_where(a <= min_dose_disp, a)\n",
    "    plt.imshow(b, cmap='hot', vmin=min_dose_disp, vmax=arr_spect.max())\n",
    "    # plt.imshow(arr_spect[nslice, :, :], origin='lower', cmap='hot', norm=mplc.LogNorm(vmin=1e4, vmax=arr_spect.max()))\n",
    "    plt.colorbar()\n",
    "    plt.show()\n",
    "    \n",
    "ipw.interact(show_spect, nslice=(0, arr_spect.shape[2]-1));"
   ]
  },
  {
   "cell_type": "code",
   "execution_count": 99,
   "metadata": {},
   "outputs": [
    {
     "name": "stdout",
     "output_type": "stream",
     "text": [
      "Absorbed dose = 1.1237254e-06\n"
     ]
    }
   ],
   "source": [
    "# apply a selection on the dose map\n",
    "cond = arr_spect > 2e3\n",
    "# print(cond)\n",
    "dosi = arr_dose[cond].sum()\n",
    "print('Absorbed dose =', dosi)"
   ]
  },
  {
   "cell_type": "markdown",
   "metadata": {
    "slideshow": {
     "slide_type": "slide"
    }
   },
   "source": [
    "# Phase-space (PhSp) analysis"
   ]
  },
  {
   "cell_type": "markdown",
   "metadata": {
    "slideshow": {
     "slide_type": "subslide"
    }
   },
   "source": [
    "# Reading IAEA phase-space files\n",
    "You can get IAEA phase-space files from the IAEA database: https://www-nds.iaea.org/phsp/phsp.htmlx\n",
    "* CyberKnife_IRIS\n",
    "* ELEKTA_Precise\n",
    "* SIEMENS_Primus\n",
    "* Varian_Clinac\n",
    "* Varian_TrueBeam"
   ]
  },
  {
   "cell_type": "markdown",
   "metadata": {
    "slideshow": {
     "slide_type": "slide"
    }
   },
   "source": [
    "# Example with Varian phase-space file"
   ]
  },
  {
   "cell_type": "code",
   "execution_count": 100,
   "metadata": {},
   "outputs": [
    {
     "name": "stdout",
     "output_type": "stream",
     "text": [
      "/home/mverdier/Documents/IMNC/Gate_SC/Formation_CNRS/2022/Wednesday\n"
     ]
    }
   ],
   "source": [
    "cd ../"
   ]
  },
  {
   "cell_type": "code",
   "execution_count": 104,
   "metadata": {},
   "outputs": [
    {
     "data": {
      "text/plain": [
       "'/home/mverdier/Documents/IMNC/Gate_SC/Formation_CNRS/2022/Wednesday/Gate_Radiotherapy'"
      ]
     },
     "execution_count": 104,
     "metadata": {},
     "output_type": "execute_result"
    }
   ],
   "source": [
    "pwd"
   ]
  },
  {
   "cell_type": "code",
   "execution_count": 105,
   "metadata": {
    "slideshow": {
     "slide_type": "fragment"
    }
   },
   "outputs": [
    {
     "name": "stdout",
     "output_type": "stream",
     "text": [
      "Number of particles: 1000\n"
     ]
    }
   ],
   "source": [
    "\n",
    "# For PHOTON and ELECTRON Varian Native File\n",
    "dt = np.dtype([('p', np.int8), ('e', np.float32), ('x', np.float32), ('y', np.float32), ('z', np.float32), ('dx', np.float32), ('dy', np.float32)])\n",
    "\n",
    "# For PHOTON an ELECTRON phase space actor output file (GATE) \n",
    "#dt=np.dtype([('p', np.int8), ('e', np.float32), ('x', np.float32), ('y', np.float32), ('z', np.float32), ('dx', np.float32), ('dy', np.float32), ('we', np.float32), ('inc', np.float32) ])\n",
    "\n",
    "# Test on Reduced PhSp from the IAEA online database\n",
    "data = np.fromfile('data/Varian_TrueBeam6MV_sample.IAEAphsp', dtype=dt)\n",
    "print('Number of particles:', len(data))\n",
    "# data"
   ]
  },
  {
   "cell_type": "code",
   "execution_count": 106,
   "metadata": {
    "scrolled": true,
    "slideshow": {
     "slide_type": "subslide"
    }
   },
   "outputs": [
    {
     "name": "stdout",
     "output_type": "stream",
     "text": [
      "Number of particles: 800\n"
     ]
    }
   ],
   "source": [
    "# Test on Reduced PhSp from the IAEA online database (first particles)\n",
    "data=np.fromfile('data/Varian_TrueBeam6MV_sample.IAEAphsp', dtype=dt, count=800)\n",
    "print('Number of particles:', len(data))"
   ]
  },
  {
   "cell_type": "code",
   "execution_count": 107,
   "metadata": {
    "scrolled": true,
    "slideshow": {
     "slide_type": "subslide"
    }
   },
   "outputs": [],
   "source": [
    "#to save the data to a file\n",
    "new_data = bytearray(data)\n",
    "with open(\"output/Varian_TrueBeam6MV_test.IAEAphsp\", \"wb\") as file:\n",
    "    file.write(new_data)\n",
    "    \n",
    "# Or you can just\n",
    "data.tofile(\"output/Varian_TrueBeam6MV_test.IAEAphsp\")    \n"
   ]
  },
  {
   "cell_type": "code",
   "execution_count": 108,
   "metadata": {
    "slideshow": {
     "slide_type": "subslide"
    }
   },
   "outputs": [
    {
     "data": {
      "image/png": "[encoded data removed]",
      "text/plain": [
       "<Figure size 640x480 with 1 Axes>"
      ]
     },
     "metadata": {},
     "output_type": "display_data"
    }
   ],
   "source": [
    "\n",
    "\n",
    "# Plot the energy histogram\n",
    "x = data['e']\n",
    "\n",
    "plt.figure()\n",
    "n, bins, patches = plt.hist(x, bins=200, alpha=0.75)\n",
    "plt.show()"
   ]
  },
  {
   "cell_type": "code",
   "execution_count": null,
   "metadata": {
    "slideshow": {
     "slide_type": "subslide"
    }
   },
   "outputs": [],
   "source": [
    "# Plot the particle positions\n",
    "x = data['x']\n",
    "y = data['y']\n",
    "\n",
    "plt.figure()\n",
    "# fig = plt.scatter(x, y, alpha=0.75)\n",
    "# fig = plt.plot(x, y, '.', alpha=0.75)\n",
    "fig = plt.hist2d(x, y, bins=50, cmap='hot')\n",
    "plt.colorbar()\n",
    "plt.show()\n",
    "\n",
    "# print(fig)"
   ]
  },
  {
   "cell_type": "markdown",
   "metadata": {
    "slideshow": {
     "slide_type": "subslide"
    }
   },
   "source": [
    "## Exercise\n",
    "* save the 1000 particles splitted in 10 different files\n",
    "* find a method to save the numpy array directly to a file"
   ]
  },
  {
   "cell_type": "markdown",
   "metadata": {
    "slideshow": {
     "slide_type": "slide"
    }
   },
   "source": [
    "# PhSp analysis with the example Ex_PhSp\n",
    "Example based on the exercise **linac** from the GATE exercices:\n",
    "* Documentation https://davidsarrut.pages.in2p3.fr/gate-exercices-site/docs/exercice4/\n",
    "* Source https://gitlab.in2p3.fr/davidsarrut/gate-exercices/-/tree/master/linac"
   ]
  },
  {
   "cell_type": "markdown",
   "metadata": {
    "slideshow": {
     "slide_type": "fragment"
    }
   },
   "source": [
    "## Exercise\n",
    "* open a terminal and go to the folder Ex_PhSp/\n",
    "* look at the different files and open the different main*.mac\n",
    "* run the example with the different main macros  \n",
    "`Gate mac/main-write-PhS.mac`\n",
    "* check the output folder and the different files produced  \n",
    "(some high statistic results are available in results.MD6k/)\n",
    "\n",
    "\n",
    "* open the ROOT output output-PhS-g.root\n",
    "* read the tree 'PhaseSpace' and get the data\n",
    "(see notebook gate_outputs.ipynb for help)\n",
    "* select and plot the histogram of the particle energies\n",
    "* select and plot the particle positions\n",
    "* select and plot the histogram of the particle theta angle"
   ]
  },
  {
   "cell_type": "code",
   "execution_count": 109,
   "metadata": {},
   "outputs": [
    {
     "name": "stdout",
     "output_type": "stream",
     "text": [
      "/home/mverdier/Documents/IMNC/Gate_SC/Formation_CNRS/2022/Wednesday/Gate_Radiotherapy/Ex_PhSp\n"
     ]
    }
   ],
   "source": [
    "cd Ex_PhSp/"
   ]
  },
  {
   "cell_type": "code",
   "execution_count": 110,
   "metadata": {},
   "outputs": [
    {
     "data": {
      "text/plain": [
       "'/home/mverdier/Documents/IMNC/Gate_SC/Formation_CNRS/2022/Wednesday/Gate_Radiotherapy/Ex_PhSp'"
      ]
     },
     "execution_count": 110,
     "metadata": {},
     "output_type": "execute_result"
    }
   ],
   "source": [
    "pwd"
   ]
  },
  {
   "cell_type": "code",
   "execution_count": 127,
   "metadata": {},
   "outputs": [
    {
     "name": "stdout",
     "output_type": "stream",
     "text": [
      "[G4] \n",
      "[G4] **************************************************************\n",
      "[G4]  Geant4 version Name: geant4-10-07-patch-02    (11-June-2021)\n",
      "[G4]                        Copyright : Geant4 Collaboration\n",
      "[G4]                       References : NIM A 506 (2003), 250-303\n",
      "[G4]                                  : IEEE-TNS 53 (2006), 270-278\n",
      "[G4]                                  : NIM A 835 (2016), 186-225\n",
      "[G4]                              WWW : http://geant4.org/\n",
      "[G4] **************************************************************\n",
      "[G4] \n",
      "[Core-0] Initialization of geometry\n",
      "[Core-0] Initialization of physics\n",
      "[Core-0] Initialization of actors\n",
      "[Core-0] \n",
      "[Core-0] *************************************************\n",
      "[Core-0]  GATE version 9.1 (2021)\n",
      "[Core-0]  Copyright : OpenGATE Collaboration\n",
      "[Core-0]  Reference : Phys. Med. Biol. 49 (2004) 4543-4561\n",
      "[Core-0]  Reference : Phys. Med. Biol. 56 (2011) 881-901\n",
      "[Core-0]  Reference : Med. Phys. 41(6)    (2014)\n",
      "[Core-0]  http://www.opengatecollaboration.org        \n",
      "[Core-0] *************************************************\n",
      "[Core-0] \n",
      "[Core-0] You are using Geant4 version 10.7.2\n",
      "[Core-0] Starting macro main-write-PhS.mac\n",
      "I/O warning : failed to load external entity \"./Materials.xml\"\n",
      "I/O warning: Discard the previous warning if your simulation doesn't transport OPTICAL PHOTONS. \n",
      "Otherwise, please copy the ./Materials.xml file from the gate-source directory in the directory where you run your main macro.\n",
      "I/O warning : failed to load external entity \"./Materials.xml\"\n",
      "I/O warning: Discard the previous warning if your simulation doesn't transport OPTICAL PHOTONS. \n",
      "Otherwise, please copy the ./Materials.xml file from the gate-source directory in the directory where you run your main macro.\n",
      "I/O warning : failed to load external entity \"./Materials.xml\"\n",
      "I/O warning: Discard the previous warning if your simulation doesn't transport OPTICAL PHOTONS. \n",
      "Otherwise, please copy the ./Materials.xml file from the gate-source directory in the directory where you run your main macro.\n",
      "I/O warning : failed to load external entity \"./Materials.xml\"\n",
      "I/O warning: Discard the previous warning if your simulation doesn't transport OPTICAL PHOTONS. \n",
      "Otherwise, please copy the ./Materials.xml file from the gate-source directory in the directory where you run your main macro.\n",
      "I/O warning : failed to load external entity \"./Materials.xml\"\n",
      "I/O warning: Discard the previous warning if your simulation doesn't transport OPTICAL PHOTONS. \n",
      "Otherwise, please copy the ./Materials.xml file from the gate-source directory in the directory where you run your main macro.\n",
      "I/O warning : failed to load external entity \"./Materials.xml\"\n",
      "I/O warning: Discard the previous warning if your simulation doesn't transport OPTICAL PHOTONS. \n",
      "Otherwise, please copy the ./Materials.xml file from the gate-source directory in the directory where you run your main macro.\n",
      "I/O warning : failed to load external entity \"./Materials.xml\"\n",
      "I/O warning: Discard the previous warning if your simulation doesn't transport OPTICAL PHOTONS. \n",
      "Otherwise, please copy the ./Materials.xml file from the gate-source directory in the directory where you run your main macro.\n",
      "I/O warning : failed to load external entity \"./Materials.xml\"\n",
      "I/O warning: Discard the previous warning if your simulation doesn't transport OPTICAL PHOTONS. \n",
      "Otherwise, please copy the ./Materials.xml file from the gate-source directory in the directory where you run your main macro.\n",
      "I/O warning : failed to load external entity \"./Materials.xml\"\n",
      "I/O warning: Discard the previous warning if your simulation doesn't transport OPTICAL PHOTONS. \n",
      "Otherwise, please copy the ./Materials.xml file from the gate-source directory in the directory where you run your main macro.\n",
      "[Physic-0] The following Geant4's physic-list is enabled :emstandard_opt3\n",
      "[Core-0] Initialization of geometry\n",
      "[Core-0] Initialization of physics\n",
      "[Core-0] Initialization of actors\n",
      "[Acquisition-0]   \n",
      "[Acquisition-0] ============= Source initialization =============\n",
      "[Acquisition-0]   \n",
      "[Acquisition-0] ============= Acquisition starts! =============\n",
      "[Acquisition-0] Simulation start time = 0 sec\n",
      "[Acquisition-0] Simulation end time   = 1 sec\n",
      "[Acquisition-0] Simulation will have  = 1 run(s)\n",
      "[Acquisition-0] Slice 0 from 0 to 1 s [slice=1 s]\n",
      "\n",
      "### ===  Deexcitation model UAtomDeexcitation is activated for 35 regions:\n",
      "          DefaultRegionForTheWorld  1  1  1\n",
      "          linac  1  1  1\n",
      "          target_support  1  1  1\n",
      "          target  1  1  1\n",
      "          target_support_top  1  1  1\n",
      "          target_support_bottom  1  1  1\n",
      "          primary_collimator  1  1  1\n",
      "          flattening_filter  1  1  1\n",
      "          flattening_filter_cone1  1  1  1\n",
      "          flattening_filter_cone2  1  1  1\n",
      "          flattening_filter_cone3  1  1  1\n",
      "          flattening_filter_cone4  1  1  1\n",
      "          flattening_filter_cone5  1  1  1\n",
      "          flattening_filter_cone6  1  1  1\n",
      "          ionizing_chamber  1  1  1\n",
      "          ionizing_chamber_mylar_1ayer1  1  1  1\n",
      "          ionizing_chamber_carbon_1ayer1  1  1  1\n",
      "          ionizing_chamber_mylar_1ayer2  1  1  1\n",
      "          ionizing_chamber_carbon_1ayer2  1  1  1\n",
      "          ionizing_chamber_mylar_1ayer3  1  1  1\n",
      "          ionizing_chamber_carbon_1ayer3  1  1  1\n",
      "          ionizing_chamber_mylar_1ayer4  1  1  1\n",
      "          ionizing_chamber_carbon_1ayer4  1  1  1\n",
      "          ionizing_chamber_mylar_1ayer5  1  1  1\n",
      "          ionizing_chamber_carbon_1ayer5  1  1  1\n",
      "          ionizing_chamber_mylar_1ayer6  1  1  1\n",
      "          ionizing_chamber_carbon_1ayer6  1  1  1\n",
      "          back_scatter_plate  1  1  1\n",
      "          mirror  1  1  1\n",
      "          mirror_mylar  1  1  1\n",
      "          mirror_aluminium  1  1  1\n",
      "          kill_box_top  1  1  1\n",
      "          kill_box_bottom  1  1  1\n",
      "          kill_box_bottom2  1  1  1\n",
      "          PhS_Plane  1  1  1\n",
      "### ===  Ignore cuts flag:   0\n",
      " Secondary biasing is activated for e+ and eBrem inside G4Regions: \n",
      "           target  BiasingWeight= 0.01\n",
      " Secondary biasing is activated for e- and eBrem inside G4Regions: \n",
      "           target  BiasingWeight= 0.01\n",
      "\n",
      "phot:  for gamma applyCuts:1  SubType=12 BuildTable=0\n",
      "      LambdaPrime table from 200 keV to 100 TeV in 174 bins \n",
      "      ===== EM models for the G4Region  DefaultRegionForTheWorld ======\n",
      " LivermorePhElectric : Emin=    0 eV  Emax=  100 TeV  SauterGavrila Fluo\n",
      "\n",
      "compt:  for gamma applyCuts:1  SubType=13 BuildTable=1\n",
      "      Lambda table from 10 eV  to 1 MeV, 20 bins/decade, spline: 1\n",
      "      LambdaPrime table from 1 MeV to 100 TeV in 160 bins \n",
      "      ===== EM models for the G4Region  DefaultRegionForTheWorld ======\n",
      "        KleinNishina : Emin=    0 eV  Emax=  100 TeV Fluo\n",
      "\n",
      "conv:  for gamma applyCuts:1  SubType=14 BuildTable=1\n",
      "      Lambda table from 1.022 MeV to 100 TeV, 20 bins/decade, spline: 1\n",
      "      ===== EM models for the G4Region  DefaultRegionForTheWorld ======\n",
      "     BetheHeitlerLPM : Emin=    0 eV  Emax=  100 TeV  ModifiedTsai\n",
      "\n",
      "Rayl:  for gamma applyCuts:1  SubType=11 BuildTable=1\n",
      "      Lambda table from 10 eV  to 100 keV, 20 bins/decade, spline: 0\n",
      "      LambdaPrime table from 100 keV to 100 TeV in 180 bins \n",
      "      ===== EM models for the G4Region  DefaultRegionForTheWorld ======\n",
      "   LivermoreRayleigh : Emin=    0 eV  Emax=  100 TeV  CullenGenerator\n",
      "\n",
      "msc:  for e-  SubType= 10\n",
      "      ===== EM models for the G4Region  DefaultRegionForTheWorld ======\n",
      "            UrbanMsc : Emin=    0 eV  Emax=  100 TeV Nbins=240 100 eV  - 100 TeV\n",
      "              StepLim=DistanceToBoundary Rfact=0.04 Gfact=2.5 Sfact=0.6 DispFlag:1 Skin=1 Llimit=1\n",
      "\n",
      "eIoni:  for e-  SubType=2\n",
      "      dE/dx and range tables from 10 eV  to 100 TeV in 260 bins\n",
      "      Lambda tables from threshold to 100 TeV, 20 bins/decade, spline: 1\n",
      "      StepFunction=(0.2, 0.1 mm), integ: 1, fluct: 1, linLossLim= 0.01\n",
      "      ===== EM models for the G4Region  DefaultRegionForTheWorld ======\n",
      "        MollerBhabha : Emin=    0 eV  Emax=  100 TeV  deltaVI\n",
      "\n",
      "eBrem:  for e-  SubType=3\n",
      "      dE/dx and range tables from 10 eV  to 100 TeV in 260 bins\n",
      "      Lambda tables from threshold to 100 TeV, 20 bins/decade, spline: 1\n",
      "      LPM flag: 1 for E > 1 GeV,  VertexHighEnergyTh(GeV)= 100000\n",
      "      ===== EM models for the G4Region  DefaultRegionForTheWorld ======\n",
      "             eBremSB : Emin=    0 eV  Emax=    1 GeV  AngularGen2BS\n",
      "            eBremLPM : Emin=    1 GeV Emax=  100 TeV  AngularGen2BS\n",
      "\n",
      "ePairProd:  for e-  SubType=4\n",
      "      dE/dx and range tables from 10 eV  to 100 TeV in 260 bins\n",
      "      Lambda tables from threshold to 100 TeV, 20 bins/decade, spline: 1\n",
      "      Sampling table 25x1001; from 0.1 GeV to 100 TeV \n",
      "      ===== EM models for the G4Region  DefaultRegionForTheWorld ======\n",
      "           ePairProd : Emin=    0 eV  Emax=  100 TeV  ModifiedMephi\n",
      "\n",
      "msc:  for e+  SubType= 10\n",
      "      ===== EM models for the G4Region  DefaultRegionForTheWorld ======\n",
      "            UrbanMsc : Emin=    0 eV  Emax=  100 TeV Nbins=240 100 eV  - 100 TeV\n",
      "              StepLim=DistanceToBoundary Rfact=0.04 Gfact=2.5 Sfact=0.6 DispFlag:1 Skin=1 Llimit=1\n",
      "\n",
      "eIoni:  for e+  SubType=2\n",
      "      dE/dx and range tables from 10 eV  to 100 TeV in 260 bins\n",
      "      Lambda tables from threshold to 100 TeV, 20 bins/decade, spline: 1\n",
      "      StepFunction=(0.2, 0.1 mm), integ: 1, fluct: 1, linLossLim= 0.01\n",
      "      ===== EM models for the G4Region  DefaultRegionForTheWorld ======\n",
      "        MollerBhabha : Emin=    0 eV  Emax=  100 TeV  deltaVI\n",
      "\n",
      "eBrem:  for e+  SubType=3\n",
      "      dE/dx and range tables from 10 eV  to 100 TeV in 260 bins\n",
      "      Lambda tables from threshold to 100 TeV, 20 bins/decade, spline: 1\n",
      "      LPM flag: 1 for E > 1 GeV,  VertexHighEnergyTh(GeV)= 100000\n",
      "      ===== EM models for the G4Region  DefaultRegionForTheWorld ======\n",
      "             eBremSB : Emin=    0 eV  Emax=    1 GeV  AngularGen2BS\n",
      "            eBremLPM : Emin=    1 GeV Emax=  100 TeV  AngularGen2BS\n",
      "\n",
      "ePairProd:  for e+  SubType=4\n",
      "      dE/dx and range tables from 10 eV  to 100 TeV in 260 bins\n",
      "      Lambda tables from threshold to 100 TeV, 20 bins/decade, spline: 1\n",
      "      Sampling table 25x1001; from 0.1 GeV to 100 TeV \n",
      "      ===== EM models for the G4Region  DefaultRegionForTheWorld ======\n",
      "           ePairProd : Emin=    0 eV  Emax=  100 TeV  ModifiedMephi\n",
      "\n",
      "annihil:  for e+, integral:1  applyCuts:1  SubType=5 BuildTable=0\n",
      "      ===== EM models for the G4Region  DefaultRegionForTheWorld ======\n",
      "            eplus2gg : Emin=    0 eV  Emax=  100 TeV\n",
      "\n",
      "msc:  for proton  SubType= 10\n",
      "      ===== EM models for the G4Region  DefaultRegionForTheWorld ======\n",
      "            UrbanMsc : Emin=    0 eV  Emax=  100 TeV Nbins=240 100 eV  - 100 TeV\n",
      "              StepLim=Minimal Rfact=0.2 Gfact=2.5 Sfact=0.6 DispFlag:1 Skin=1 Llimit=1\n",
      "\n",
      "hIoni:  for proton  SubType=2\n",
      "      dE/dx and range tables from 10 eV  to 100 TeV in 260 bins\n",
      "      Lambda tables from threshold to 100 TeV, 20 bins/decade, spline: 1\n",
      "      StepFunction=(0.2, 0.05 mm), integ: 1, fluct: 1, linLossLim= 0.01\n",
      "      ===== EM models for the G4Region  DefaultRegionForTheWorld ======\n",
      "               Bragg : Emin=    0 eV  Emax=    2 MeV  deltaVI\n",
      "          BetheBloch : Emin=    2 MeV Emax=  100 TeV  deltaVI\n",
      "\n",
      "hBrems:  for proton  SubType=3\n",
      "      dE/dx and range tables from 10 eV  to 100 TeV in 260 bins\n",
      "      Lambda tables from threshold to 100 TeV, 20 bins/decade, spline: 1\n",
      "      ===== EM models for the G4Region  DefaultRegionForTheWorld ======\n",
      "               hBrem : Emin=    0 eV  Emax=  100 TeV  ModifiedMephi\n",
      "      ===== Limit on energy threshold has been applied \n",
      "\n",
      "hPairProd:  for proton  SubType=4\n",
      "      dE/dx and range tables from 10 eV  to 100 TeV in 260 bins\n",
      "      Lambda tables from threshold to 100 TeV, 20 bins/decade, spline: 1\n",
      "      Sampling table 17x1001; from 7.50618 GeV to 100 TeV \n",
      "      ===== EM models for the G4Region  DefaultRegionForTheWorld ======\n",
      "           hPairProd : Emin=    0 eV  Emax=  100 TeV  ModifiedMephi\n",
      "\n",
      "nuclearStopping:  for proton applyCuts:1  SubType=8 BuildTable=0\n",
      "      ===== EM models for the G4Region  DefaultRegionForTheWorld ======\n",
      "   ICRU49NucStopping : Emin=    0 eV  Emax=    1 MeV\n",
      "\n",
      "msc:  for GenericIon  SubType= 10\n",
      "      ===== EM models for the G4Region  DefaultRegionForTheWorld ======\n",
      "            UrbanMsc : Emin=    0 eV  Emax=  100 TeV\n",
      "              StepLim=Minimal Rfact=0.2 Gfact=2.5 Sfact=0.6 DispFlag:1 Skin=1 Llimit=1\n",
      "\n",
      "ionIoni:  for GenericIon  SubType=2\n",
      "      dE/dx and range tables from 10 eV  to 100 TeV in 260 bins\n",
      "      Lambda tables from threshold to 100 TeV, 20 bins/decade, spline: 1\n",
      "      StepFunction=(0.1, 0.02 mm), integ: 1, fluct: 1, linLossLim= 0.02\n",
      "      ===== EM models for the G4Region  DefaultRegionForTheWorld ======\n",
      "         ParamICRU73 : Emin=    0 eV  Emax=  100 TeV  deltaVI\n",
      "\n",
      "nuclearStopping:  for GenericIon applyCuts:1  SubType=8 BuildTable=0\n",
      "      ===== EM models for the G4Region  DefaultRegionForTheWorld ======\n",
      "   ICRU49NucStopping : Emin=    0 eV  Emax=    1 MeV\n",
      "\n",
      "msc:  for alpha  SubType= 10\n",
      "      ===== EM models for the G4Region  DefaultRegionForTheWorld ======\n",
      "            UrbanMsc : Emin=    0 eV  Emax=  100 TeV Nbins=240 100 eV  - 100 TeV\n",
      "              StepLim=Minimal Rfact=0.2 Gfact=2.5 Sfact=0.6 DispFlag:1 Skin=1 Llimit=1\n",
      "\n",
      "ionIoni:  for alpha  SubType=2\n",
      "      dE/dx and range tables from 10 eV  to 100 TeV in 260 bins\n",
      "      Lambda tables from threshold to 100 TeV, 20 bins/decade, spline: 1\n",
      "      StepFunction=(0.1, 0.02 mm), integ: 1, fluct: 1, linLossLim= 0.02\n",
      "      ===== EM models for the G4Region  DefaultRegionForTheWorld ======\n",
      "            BraggIon : Emin=    0 eV  Emax=7.9452 MeV  deltaVI\n",
      "          BetheBloch : Emin=7.9452 MeV Emax=  100 TeV  deltaVI\n",
      "\n",
      "nuclearStopping:  for alpha applyCuts:1  SubType=8 BuildTable=0\n",
      "      ===== EM models for the G4Region  DefaultRegionForTheWorld ======\n",
      "   ICRU49NucStopping : Emin=    0 eV  Emax=    1 MeV\n",
      "\n",
      "msc:  for anti_proton  SubType= 10\n",
      "      ===== EM models for the G4Region  DefaultRegionForTheWorld ======\n",
      "            UrbanMsc : Emin=    0 eV  Emax=  100 TeV Nbins=240 100 eV  - 100 TeV\n",
      "              StepLim=Minimal Rfact=0.2 Gfact=2.5 Sfact=0.6 DispFlag:1 Skin=1 Llimit=1\n",
      "\n",
      "hIoni:  for anti_proton  SubType=2\n",
      "      dE/dx and range tables from 10 eV  to 100 TeV in 260 bins\n",
      "      Lambda tables from threshold to 100 TeV, 20 bins/decade, spline: 1\n",
      "      StepFunction=(0.2, 0.05 mm), integ: 1, fluct: 1, linLossLim= 0.01\n",
      "      ===== EM models for the G4Region  DefaultRegionForTheWorld ======\n",
      "            ICRU73QO : Emin=    0 eV  Emax=    2 MeV  deltaVI\n",
      "          BetheBloch : Emin=    2 MeV Emax=  100 TeV  deltaVI\n",
      "\n",
      "hBrems:  for anti_proton  SubType=3\n",
      "      dE/dx and range tables from 10 eV  to 100 TeV in 260 bins\n",
      "      Lambda tables from threshold to 100 TeV, 20 bins/decade, spline: 1\n",
      "      ===== EM models for the G4Region  DefaultRegionForTheWorld ======\n",
      "               hBrem : Emin=    0 eV  Emax=  100 TeV  ModifiedMephi\n",
      "      ===== Limit on energy threshold has been applied \n",
      "\n",
      "hPairProd:  for anti_proton  SubType=4\n",
      "      dE/dx and range tables from 10 eV  to 100 TeV in 260 bins\n",
      "      Lambda tables from threshold to 100 TeV, 20 bins/decade, spline: 1\n",
      "      Sampling table 17x1001; from 7.50618 GeV to 100 TeV \n",
      "      ===== EM models for the G4Region  DefaultRegionForTheWorld ======\n",
      "           hPairProd : Emin=    0 eV  Emax=  100 TeV  ModifiedMephi\n",
      "\n",
      "msc:  for kaon+  SubType= 10\n",
      "      ===== EM models for the G4Region  DefaultRegionForTheWorld ======\n",
      "            UrbanMsc : Emin=    0 eV  Emax=  100 TeV Nbins=240 100 eV  - 100 TeV\n",
      "              StepLim=Minimal Rfact=0.2 Gfact=2.5 Sfact=0.6 DispFlag:1 Skin=1 Llimit=1\n",
      "\n",
      "hIoni:  for kaon+  SubType=2\n",
      "      dE/dx and range tables from 10 eV  to 100 TeV in 260 bins\n",
      "      Lambda tables from threshold to 100 TeV, 20 bins/decade, spline: 1\n",
      "      StepFunction=(0.2, 0.05 mm), integ: 1, fluct: 1, linLossLim= 0.01\n",
      "      ===== EM models for the G4Region  DefaultRegionForTheWorld ======\n",
      "               Bragg : Emin=    0 eV  Emax=1.05231 MeV  deltaVI\n",
      "          BetheBloch : Emin=1.05231 MeV Emax=  100 TeV  deltaVI\n",
      "\n",
      "hBrems:  for kaon+  SubType=3\n",
      "      dE/dx and range tables from 10 eV  to 100 TeV in 260 bins\n",
      "      Lambda tables from threshold to 100 TeV, 20 bins/decade, spline: 1\n",
      "      ===== EM models for the G4Region  DefaultRegionForTheWorld ======\n",
      "               hBrem : Emin=    0 eV  Emax=  100 TeV  ModifiedMephi\n",
      "      ===== Limit on energy threshold has been applied \n",
      "\n",
      "hPairProd:  for kaon+  SubType=4\n",
      "      dE/dx and range tables from 10 eV  to 100 TeV in 260 bins\n",
      "      Lambda tables from threshold to 100 TeV, 20 bins/decade, spline: 1\n",
      "      Sampling table 18x1001; from 3.94942 GeV to 100 TeV \n",
      "      ===== EM models for the G4Region  DefaultRegionForTheWorld ======\n",
      "           hPairProd : Emin=    0 eV  Emax=  100 TeV  ModifiedMephi\n",
      "\n",
      "msc:  for kaon-  SubType= 10\n",
      "      ===== EM models for the G4Region  DefaultRegionForTheWorld ======\n",
      "            UrbanMsc : Emin=    0 eV  Emax=  100 TeV Nbins=240 100 eV  - 100 TeV\n",
      "              StepLim=Minimal Rfact=0.2 Gfact=2.5 Sfact=0.6 DispFlag:1 Skin=1 Llimit=1\n",
      "\n",
      "hIoni:  for kaon-  SubType=2\n",
      "      dE/dx and range tables from 10 eV  to 100 TeV in 260 bins\n",
      "      Lambda tables from threshold to 100 TeV, 20 bins/decade, spline: 1\n",
      "      StepFunction=(0.2, 0.05 mm), integ: 1, fluct: 1, linLossLim= 0.01\n",
      "      ===== EM models for the G4Region  DefaultRegionForTheWorld ======\n",
      "            ICRU73QO : Emin=    0 eV  Emax=1.05231 MeV  deltaVI\n",
      "          BetheBloch : Emin=1.05231 MeV Emax=  100 TeV  deltaVI\n",
      "\n",
      "hBrems:  for kaon-  SubType=3\n",
      "      dE/dx and range tables from 10 eV  to 100 TeV in 260 bins\n",
      "      Lambda tables from threshold to 100 TeV, 20 bins/decade, spline: 1\n",
      "      ===== EM models for the G4Region  DefaultRegionForTheWorld ======\n",
      "               hBrem : Emin=    0 eV  Emax=  100 TeV  ModifiedMephi\n",
      "      ===== Limit on energy threshold has been applied \n",
      "\n",
      "hPairProd:  for kaon-  SubType=4\n",
      "      dE/dx and range tables from 10 eV  to 100 TeV in 260 bins\n",
      "      Lambda tables from threshold to 100 TeV, 20 bins/decade, spline: 1\n",
      "      Sampling table 18x1001; from 3.94942 GeV to 100 TeV \n",
      "      ===== EM models for the G4Region  DefaultRegionForTheWorld ======\n",
      "           hPairProd : Emin=    0 eV  Emax=  100 TeV  ModifiedMephi\n",
      "\n",
      "msc:  for mu+  SubType= 10\n",
      "      ===== EM models for the G4Region  DefaultRegionForTheWorld ======\n",
      "            UrbanMsc : Emin=    0 eV  Emax=  100 TeV Nbins=240 100 eV  - 100 TeV\n",
      "              StepLim=Minimal Rfact=0.2 Gfact=2.5 Sfact=0.6 DispFlag:1 Skin=1 Llimit=1\n",
      "\n",
      "muIoni:  for mu+  SubType=2\n",
      "      dE/dx and range tables from 10 eV  to 100 TeV in 260 bins\n",
      "      Lambda tables from threshold to 100 TeV, 20 bins/decade, spline: 1\n",
      "      StepFunction=(0.2, 0.05 mm), integ: 1, fluct: 1, linLossLim= 0.01\n",
      "      ===== EM models for the G4Region  DefaultRegionForTheWorld ======\n",
      "               Bragg : Emin=    0 eV  Emax=  200 keV  deltaVI\n",
      "          BetheBloch : Emin=  200 keV Emax=    1 GeV  deltaVI\n",
      "        MuBetheBloch : Emin=    1 GeV Emax=  100 TeV\n",
      "\n",
      "muBrems:  for mu+  SubType=3\n",
      "      dE/dx and range tables from 10 eV  to 100 TeV in 260 bins\n",
      "      Lambda tables from threshold to 100 TeV, 20 bins/decade, spline: 1\n",
      "      ===== EM models for the G4Region  DefaultRegionForTheWorld ======\n",
      "              MuBrem : Emin=    0 eV  Emax=  100 TeV  ModifiedMephi\n",
      "      ===== Limit on energy threshold has been applied \n",
      "\n",
      "muPairProd:  for mu+  SubType=4\n",
      "      dE/dx and range tables from 10 eV  to 100 TeV in 260 bins\n",
      "      Lambda tables from threshold to 100 TeV, 20 bins/decade, spline: 1\n",
      "      Sampling table 21x1001; from 1 GeV to 100 TeV \n",
      "      ===== EM models for the G4Region  DefaultRegionForTheWorld ======\n",
      "          muPairProd : Emin=    0 eV  Emax=  100 TeV  ModifiedMephi\n",
      "\n",
      "msc:  for mu-  SubType= 10\n",
      "      ===== EM models for the G4Region  DefaultRegionForTheWorld ======\n",
      "            UrbanMsc : Emin=    0 eV  Emax=  100 TeV Nbins=240 100 eV  - 100 TeV\n",
      "              StepLim=Minimal Rfact=0.2 Gfact=2.5 Sfact=0.6 DispFlag:1 Skin=1 Llimit=1\n",
      "\n",
      "muIoni:  for mu-  SubType=2\n",
      "      dE/dx and range tables from 10 eV  to 100 TeV in 260 bins\n",
      "      Lambda tables from threshold to 100 TeV, 20 bins/decade, spline: 1\n",
      "      StepFunction=(0.2, 0.05 mm), integ: 1, fluct: 1, linLossLim= 0.01\n",
      "      ===== EM models for the G4Region  DefaultRegionForTheWorld ======\n",
      "            ICRU73QO : Emin=    0 eV  Emax=  200 keV  deltaVI\n",
      "          BetheBloch : Emin=  200 keV Emax=    1 GeV  deltaVI\n",
      "        MuBetheBloch : Emin=    1 GeV Emax=  100 TeV\n",
      "\n",
      "muBrems:  for mu-  SubType=3\n",
      "      dE/dx and range tables from 10 eV  to 100 TeV in 260 bins\n",
      "      Lambda tables from threshold to 100 TeV, 20 bins/decade, spline: 1\n",
      "      ===== EM models for the G4Region  DefaultRegionForTheWorld ======\n",
      "              MuBrem : Emin=    0 eV  Emax=  100 TeV  ModifiedMephi\n",
      "      ===== Limit on energy threshold has been applied \n",
      "\n",
      "muPairProd:  for mu-  SubType=4\n",
      "      dE/dx and range tables from 10 eV  to 100 TeV in 260 bins\n",
      "      Lambda tables from threshold to 100 TeV, 20 bins/decade, spline: 1\n",
      "      Sampling table 21x1001; from 1 GeV to 100 TeV \n",
      "      ===== EM models for the G4Region  DefaultRegionForTheWorld ======\n",
      "          muPairProd : Emin=    0 eV  Emax=  100 TeV  ModifiedMephi\n",
      "\n",
      "msc:  for pi+  SubType= 10\n",
      "      ===== EM models for the G4Region  DefaultRegionForTheWorld ======\n",
      "            UrbanMsc : Emin=    0 eV  Emax=  100 TeV Nbins=240 100 eV  - 100 TeV\n",
      "              StepLim=Minimal Rfact=0.2 Gfact=2.5 Sfact=0.6 DispFlag:1 Skin=1 Llimit=1\n",
      "\n",
      "hIoni:  for pi+  SubType=2\n",
      "      dE/dx and range tables from 10 eV  to 100 TeV in 260 bins\n",
      "      Lambda tables from threshold to 100 TeV, 20 bins/decade, spline: 1\n",
      "      StepFunction=(0.2, 0.05 mm), integ: 1, fluct: 1, linLossLim= 0.01\n",
      "      ===== EM models for the G4Region  DefaultRegionForTheWorld ======\n",
      "               Bragg : Emin=    0 eV  Emax=297.505 keV  deltaVI\n",
      "          BetheBloch : Emin=297.505 keV Emax=  100 TeV  deltaVI\n",
      "\n",
      "hBrems:  for pi+  SubType=3\n",
      "      dE/dx and range tables from 10 eV  to 100 TeV in 260 bins\n",
      "      Lambda tables from threshold to 100 TeV, 20 bins/decade, spline: 1\n",
      "      ===== EM models for the G4Region  DefaultRegionForTheWorld ======\n",
      "               hBrem : Emin=    0 eV  Emax=  100 TeV  ModifiedMephi\n",
      "      ===== Limit on energy threshold has been applied \n",
      "\n",
      "hPairProd:  for pi+  SubType=4\n",
      "      dE/dx and range tables from 10 eV  to 100 TeV in 260 bins\n",
      "      Lambda tables from threshold to 100 TeV, 20 bins/decade, spline: 1\n",
      "      Sampling table 20x1001; from 1.11656 GeV to 100 TeV \n",
      "      ===== EM models for the G4Region  DefaultRegionForTheWorld ======\n",
      "           hPairProd : Emin=    0 eV  Emax=  100 TeV  ModifiedMephi\n",
      "\n",
      "msc:  for pi-  SubType= 10\n",
      "      ===== EM models for the G4Region  DefaultRegionForTheWorld ======\n",
      "            UrbanMsc : Emin=    0 eV  Emax=  100 TeV Nbins=240 100 eV  - 100 TeV\n",
      "              StepLim=Minimal Rfact=0.2 Gfact=2.5 Sfact=0.6 DispFlag:1 Skin=1 Llimit=1\n",
      "\n",
      "hIoni:  for pi-  SubType=2\n",
      "      dE/dx and range tables from 10 eV  to 100 TeV in 260 bins\n",
      "      Lambda tables from threshold to 100 TeV, 20 bins/decade, spline: 1\n",
      "      StepFunction=(0.2, 0.05 mm), integ: 1, fluct: 1, linLossLim= 0.01\n",
      "      ===== EM models for the G4Region  DefaultRegionForTheWorld ======\n",
      "            ICRU73QO : Emin=    0 eV  Emax=297.505 keV  deltaVI\n",
      "          BetheBloch : Emin=297.505 keV Emax=  100 TeV  deltaVI\n",
      "\n",
      "hBrems:  for pi-  SubType=3\n",
      "      dE/dx and range tables from 10 eV  to 100 TeV in 260 bins\n",
      "      Lambda tables from threshold to 100 TeV, 20 bins/decade, spline: 1\n",
      "      ===== EM models for the G4Region  DefaultRegionForTheWorld ======\n",
      "               hBrem : Emin=    0 eV  Emax=  100 TeV  ModifiedMephi\n",
      "      ===== Limit on energy threshold has been applied \n",
      "\n",
      "hPairProd:  for pi-  SubType=4\n",
      "      dE/dx and range tables from 10 eV  to 100 TeV in 260 bins\n",
      "      Lambda tables from threshold to 100 TeV, 20 bins/decade, spline: 1\n",
      "      Sampling table 20x1001; from 1.11656 GeV to 100 TeV \n",
      "      ===== EM models for the G4Region  DefaultRegionForTheWorld ======\n",
      "           hPairProd : Emin=    0 eV  Emax=  100 TeV  ModifiedMephi\n",
      "G4VisManager: Using G4TrajectoryDrawByCharge as fallback trajectory model.\n",
      "See commands in /vis/modeling/trajectories/ for other options.\n",
      "\n",
      "### ===  Deexcitation model UAtomDeexcitation is activated for 35 regions:\n",
      "          DefaultRegionForTheWorld  1  1  1\n",
      "          linac  1  1  1\n",
      "          target_support  1  1  1\n",
      "          target  1  1  1\n",
      "          target_support_top  1  1  1\n",
      "          target_support_bottom  1  1  1\n",
      "          primary_collimator  1  1  1\n",
      "          flattening_filter  1  1  1\n",
      "          flattening_filter_cone1  1  1  1\n",
      "          flattening_filter_cone2  1  1  1\n",
      "          flattening_filter_cone3  1  1  1\n",
      "          flattening_filter_cone4  1  1  1\n",
      "          flattening_filter_cone5  1  1  1\n",
      "          flattening_filter_cone6  1  1  1\n",
      "          ionizing_chamber  1  1  1\n",
      "          ionizing_chamber_mylar_1ayer1  1  1  1\n",
      "          ionizing_chamber_carbon_1ayer1  1  1  1\n",
      "          ionizing_chamber_mylar_1ayer2  1  1  1\n",
      "          ionizing_chamber_carbon_1ayer2  1  1  1\n",
      "          ionizing_chamber_mylar_1ayer3  1  1  1\n",
      "          ionizing_chamber_carbon_1ayer3  1  1  1\n",
      "          ionizing_chamber_mylar_1ayer4  1  1  1\n",
      "          ionizing_chamber_carbon_1ayer4  1  1  1\n",
      "          ionizing_chamber_mylar_1ayer5  1  1  1\n",
      "          ionizing_chamber_carbon_1ayer5  1  1  1\n",
      "          ionizing_chamber_mylar_1ayer6  1  1  1\n",
      "          ionizing_chamber_carbon_1ayer6  1  1  1\n",
      "          back_scatter_plate  1  1  1\n",
      "          mirror  1  1  1\n",
      "          mirror_mylar  1  1  1\n",
      "          mirror_aluminium  1  1  1\n",
      "          kill_box_top  1  1  1\n",
      "          kill_box_bottom  1  1  1\n",
      "          kill_box_bottom2  1  1  1\n",
      "          PhS_Plane  1  1  1\n",
      "### ===  Ignore cuts flag:   0\n",
      "\n",
      " The number of primary particles (ORIG_HISTORIES) is zero in the HEADER !\n",
      "0 events have been kept for refreshing and/or reviewing.\n",
      "  \"/vis/reviewKeptEvents\" to review them one by one.\n",
      "  \"/vis/enable\", then \"/vis/viewer/flush\" or \"/vis/viewer/rebuild\" to see them accumulated.\n",
      "[Core-0] End of macro main-write-PhS.mac\n",
      "Graphics systems deleted.\n",
      "Visualization Manager deleting...\n"
     ]
    }
   ],
   "source": [
    "!Gate main-write-PhS.mac"
   ]
  },
  {
   "cell_type": "code",
   "execution_count": null,
   "metadata": {
    "slideshow": {
     "slide_type": "skip"
    }
   },
   "outputs": [],
   "source": [
    "# complete here"
   ]
  },
  {
   "cell_type": "code",
   "execution_count": 123,
   "metadata": {
    "slideshow": {
     "slide_type": "skip"
    }
   },
   "outputs": [
    {
     "name": "stdout",
     "output_type": "stream",
     "text": [
      "Trees in the file:\n",
      "['PhaseSpace;2', 'PhaseSpace;1']\n",
      "\n",
      "Leaves (variables) in the Tree:\n",
      "['AtomicNumber', 'Ekine', 'Weight', 'Mass', 'X', 'Y', 'Z', 'dX', 'dY', 'dZ', 'TrackID', 'ParentID', 'EventID', 'RunID']\n",
      "[(0, 4.548489  , 0.01, 0,  36.69373  ,   0.20610073, 5.e-07,  0.12686831,  0.00293137, -0.9919152 ,  71, 1,    1, 0)\n",
      " (0, 3.4269984 , 0.01, 0, -12.769201 ,   1.854649  , 5.e-07, -0.04226361,  0.00128687, -0.9991057 , 178, 1,    7, 0)\n",
      " (0, 2.2160728 , 0.01, 0,  32.9628   , -20.63179   , 5.e-07,  0.11058778, -0.07371456, -0.9911289 , 170, 1,    7, 0)\n",
      " ...\n",
      " (0, 0.24152924, 0.01, 0, -21.22913  ,   5.847843  , 5.e-07, -0.07164813,  0.01807145, -0.99726623,  56, 1, 4999, 0)\n",
      " (0, 0.25385118, 0.01, 0,  -3.6473668,  27.42045   , 5.e-07, -0.0125598 ,  0.09041889, -0.99582464,  25, 1, 4999, 0)\n",
      " (0, 0.7260191 , 0.01, 0,   4.62121  ,  33.36281   , 5.e-07,  0.01514946,  0.11013062, -0.99380165,  23, 1, 4999, 0)]\n",
      "Number of particles: 4980\n",
      "(numpy.record, [('AtomicNumber', '<i4'), ('Ekine', '<f4'), ('Weight', '<f4'), ('Mass', '<i4'), ('X', '<f4'), ('Y', '<f4'), ('Z', '<f4'), ('dX', '<f4'), ('dY', '<f4'), ('dZ', '<f4'), ('TrackID', '<i4'), ('ParentID', '<i4'), ('EventID', '<i4'), ('RunID', '<i4')])\n"
     ]
    },
    {
     "name": "stderr",
     "output_type": "stream",
     "text": [
      "/home/mverdier/.local/lib/python3.8/site-packages/uproot/interpretation/library.py:747: FutureWarning: pandas.Int64Index is deprecated and will be removed from pandas in a future version. Use pandas.Index with the appropriate dtype instead.\n",
      "  return (getattr(pandas, \"RangeIndex\", pandas.Int64Index), pandas.Int64Index)\n"
     ]
    }
   ],
   "source": [
    "\n",
    "f = uproot.open('output/output-PhS-g.root')\n",
    "# f = uproot.open('results.MD6k/output-PhS-g.root')\n",
    "\n",
    "# all trees, branches and leaves names are accessible through the method keys()\n",
    "print('Trees in the file:')\n",
    "print(f.keys())\n",
    "print()\n",
    "print('Leaves (variables) in the Tree:')\n",
    "print(f['PhaseSpace'].keys())\n",
    "\n",
    "data = f[f.keys()[0]].arrays(library=\"pd\").to_records(index=False)\n",
    "print(data)\n",
    "print('Number of particles:', len(data))\n",
    "print(data.dtype)"
   ]
  },
  {
   "cell_type": "code",
   "execution_count": 124,
   "metadata": {},
   "outputs": [
    {
     "name": "stdout",
     "output_type": "stream",
     "text": [
      "Number of particles:  4980\n"
     ]
    },
    {
     "data": {
      "image/png": "[encoded data removed]",
      "text/plain": [
       "<Figure size 640x480 with 1 Axes>"
      ]
     },
     "metadata": {},
     "output_type": "display_data"
    }
   ],
   "source": [
    "# Plot the energy histogram\n",
    "x = data['Ekine']\n",
    "\n",
    "print('Number of particles: ', len(x))\n",
    "plt.figure()\n",
    "n, bins, patches = plt.hist(x, bins=100, density=True, alpha=0.75, label='E')\n",
    "plt.legend()\n",
    "plt.show()"
   ]
  },
  {
   "cell_type": "code",
   "execution_count": 125,
   "metadata": {},
   "outputs": [
    {
     "name": "stdout",
     "output_type": "stream",
     "text": [
      "Number of elements:  4980\n"
     ]
    },
    {
     "data": {
      "image/png": "[encoded data removed]",
      "text/plain": [
       "<Figure size 600x600 with 1 Axes>"
      ]
     },
     "metadata": {},
     "output_type": "display_data"
    }
   ],
   "source": [
    "# Plot the x,y positions of the particles\n",
    "x = data['X']\n",
    "y = data['Y']\n",
    "\n",
    "print('Number of elements: ', len(x))\n",
    "# only keep 500 first elements \n",
    "n = x.shape[0]\n",
    "xn = x[:n]\n",
    "yn = y[:n]\n",
    "\n",
    "plt.figure(figsize=(6, 6))\n",
    "plt.scatter(xn, yn, alpha=0.75, label='x y')\n",
    "plt.legend()\n",
    "# plt.hist2d(x, y, bins=100)\n",
    "# plt.colorbar()\n",
    "plt.show()"
   ]
  },
  {
   "cell_type": "code",
   "execution_count": 126,
   "metadata": {},
   "outputs": [
    {
     "data": {
      "image/png": "[encoded data removed]",
      "text/plain": [
       "<Figure size 640x480 with 1 Axes>"
      ]
     },
     "metadata": {},
     "output_type": "display_data"
    }
   ],
   "source": [
    "# Plot the theta angle (main direction dZ)\n",
    "x = np.rad2deg(np.arccos(data['dZ']))\n",
    "\n",
    "plt.figure()\n",
    "n, bins, patches = plt.hist(x, bins=250, density=True, alpha=0.75, label='theta')\n",
    "plt.legend()\n",
    "plt.show()"
   ]
  },
  {
   "cell_type": "markdown",
   "metadata": {
    "slideshow": {
     "slide_type": "slide"
    }
   },
   "source": [
    "# GATE tools\n",
    "https://github.com/OpenGATE/GateTools"
   ]
  },
  {
   "cell_type": "markdown",
   "metadata": {
    "slideshow": {
     "slide_type": "fragment"
    }
   },
   "source": [
    "**Tools for [GATE](https://github.com/OpenGATE/Gate/) simulations.**\n",
    "\n",
    "Install with : `pip install gatetools`\n",
    "\n",
    "Example of usage:\n",
    "```\n",
    "gt_gate_info\n",
    "gt_image_convert -i input.dcm -o output.mhd\n",
    "gt_image_convert -i input.mhd -o output_float.mhd -p float\n",
    "gt_image_arithm -i *.mhd -o output.mhd -O sum\n",
    "gt_gamma_index dose.mhd gate-DoseToWater.mhd -o gamma.mhd --dd 2 --dta 2.5 -u \"%\" -T 0.2\n",
    "```\n",
    "\n",
    "Use the flag `-h` to get print the help of each tool. Here is the current list of command line tools.\n",
    "\n",
    "| Tool                          | Comment                                                   |\n",
    "| -------------                 | -------------                                             |\n",
    "| `gt_dicom_rt_pbs2gate`        | Convert Dicom RT proton plan for Gate                     |\n",
    "| `gt_dicom_rt_struct_to_image` | Turn Dicom RT Struct contours into mask image             |\n",
    "| `gt_gamma_index`              | Compute gamma index between images                        |\n",
    "| `gt_gate_info`                | Display info about current Gate/G4 version                |\n",
    "| `gt_image_arithm`             | Pixel- or voxel-wise arithmetic operations                |\n",
    "| `gt_image_convert`            | Convert image file format (**dicom**, mhd, hdr, nii ... ) |\n",
    "| `gt_image_crop`               | Crop an image                                             |\n",
    "| `gt_image_uncertainty`        | Compute statistical uncertainty                           |\n",
    "| `gt_phsp_convert`             | Convert a phase space file from root to npy               |\n",
    "| `gt_phsp_info`                | Display information about a phase space file              |\n",
    "| `gt_phsp_merge`               | Merge two phase space files (output in npy only)          |\n",
    "| `gt_phps_peaks`               | Try to detect photopeaks (experimental)                   |\n",
    "| `gt_phsp_plot`                | Plot marginal distributions form a phase space file       |\n",
    "\n",
    "All tools are also available to be use within your own Python script with, for example:\n",
    "```\n",
    "import gatetools as gt\n",
    "gt.image_convert(inputImage, pixeltype)\n",
    "```\n",
    "\n",
    "Tests: run\n",
    "```\n",
    "python -m unittest gatetools -v\n",
    "python -m unittest gatetools.phsp -v\n",
    "```\n",
    "\n",
    "Classes and function documentation. Use the following command to open a browser for documentation (it is still not very convenient ; will be improved later).\n",
    "```\n",
    "pydoc -b\n",
    "```\n",
    "\n",
    "For developers, please have a look at the [readme_dev.md](readme_dev.md) file."
   ]
  }
 ],
 "metadata": {
  "celltoolbar": "Slideshow",
  "kernelspec": {
   "display_name": "Python 3",
   "language": "python",
   "name": "python3"
  },
  "language_info": {
   "codemirror_mode": {
    "name": "ipython",
    "version": 3
   },
   "file_extension": ".py",
   "mimetype": "text/x-python",
   "name": "python",
   "nbconvert_exporter": "python",
   "pygments_lexer": "ipython3",
   "version": "3.8.10"
  }
 },
 "nbformat": 4,
 "nbformat_minor": 4
}
