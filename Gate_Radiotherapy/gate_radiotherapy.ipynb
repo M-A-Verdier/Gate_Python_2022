{
 "cells": [
  {
   "cell_type": "markdown",
   "metadata": {
    "slideshow": {
     "slide_type": "slide"
    }
   },
   "source": [
    "# Python Data Analysis for Radiotherapy Applications"
   ]
  },
  {
   "cell_type": "markdown",
   "metadata": {
    "slideshow": {
     "slide_type": "subslide"
    }
   },
   "source": [
    "## Contents:\n",
    "* Dose map with gammas and protons in external RT\n",
    "* Dose map analysis for internal RT\n",
    "* PhSp files: reading IEAE and ROOT formats\n",
    "* GateTools"
   ]
  },
  {
   "cell_type": "markdown",
   "metadata": {
    "slideshow": {
     "slide_type": "slide"
    }
   },
   "source": [
    "# Dose map analysis with the example Ex_dose3D"
   ]
  },
  {
   "cell_type": "markdown",
   "metadata": {
    "slideshow": {
     "slide_type": "fragment"
    }
   },
   "source": [
    "#### We will first have a look at a GATE example to produce a 3D dose map:\n",
    "* open a terminal and go to the folder gate_radiotherapy/Ex_dose3D\n",
    "* look at the different files and open mac/main.mac\n",
    "* look at all the sections and in particular to the geometry and ouputs section\n",
    "* run the example with  \n",
    "`Gate --qt mac/main.mac`\n",
    "* check the output folder and the different files produced\n",
    "* analyse the output 3D dose map with the following cells  \n",
    "(some high statistic results with 1e6 particles are available in results.1e6/)"
   ]
  },
  {
   "cell_type": "code",
   "execution_count": null,
   "metadata": {},
   "outputs": [],
   "source": [
    "cd Ex_dose3D/"
   ]
  },
  {
   "cell_type": "code",
   "execution_count": null,
   "metadata": {},
   "outputs": [],
   "source": [
    "pwd"
   ]
  },
  {
   "cell_type": "code",
   "execution_count": null,
   "metadata": {},
   "outputs": [],
   "source": [
    "ls"
   ]
  },
  {
   "cell_type": "code",
   "execution_count": null,
   "metadata": {},
   "outputs": [],
   "source": [
    "cat main.mac"
   ]
  },
  {
   "cell_type": "code",
   "execution_count": null,
   "metadata": {},
   "outputs": [],
   "source": [
    "!Gate main.mac"
   ]
  },
  {
   "cell_type": "code",
   "execution_count": null,
   "metadata": {
    "slideshow": {
     "slide_type": "subslide"
    }
   },
   "outputs": [],
   "source": [
    "import numpy as np\n",
    "import SimpleITK as sitk\n",
    "import ipywidgets as ipw\n",
    "# to enable interactive widgets in jupyter notebook run this command in a terminal:\n",
    "#jupyter nbextension enable --py widgetsnbextension\n",
    "import matplotlib.pyplot as plt\n",
    "import matplotlib.colors as mplc\n",
    "import uproot\n"
   ]
  },
  {
   "cell_type": "code",
   "execution_count": null,
   "metadata": {},
   "outputs": [],
   "source": [
    "# Read the patient CT with sitk\n",
    "img_ct = sitk.ReadImage('data/patient-2mm.mhd')\n",
    "\n",
    "print('Image size: ', img_ct.GetSize())\n",
    "print('Image spacing: ', img_ct.GetSpacing())\n",
    "print('Image origin: ', img_ct.GetOrigin())"
   ]
  },
  {
   "cell_type": "code",
   "execution_count": null,
   "metadata": {
    "slideshow": {
     "slide_type": "fragment"
    }
   },
   "outputs": [],
   "source": [
    "# Convert sitk image to a numpy array\n",
    "arr_ct = sitk.GetArrayFromImage(img_ct)\n",
    "print('Array size: ', arr_ct.shape, ' <--- be careful to the dimension order!)')"
   ]
  },
  {
   "cell_type": "code",
   "execution_count": null,
   "metadata": {
    "slideshow": {
     "slide_type": "subslide"
    }
   },
   "outputs": [],
   "source": [
    "\n",
    "\n",
    "# function to display 3D image slices\n",
    "def show_ct(sx,sy,sz):\n",
    "    fig, ax = plt.subplots(1, 3, figsize=(16, 8)) # Create an array of axes : 1 row, 3 columns\n",
    "    ax[0].imshow(arr_ct[sx, :, :], origin='lower', cmap='bone', vmin=arr_ct.min(), vmax=arr_ct.max()*0.7)\n",
    "    ax[1].imshow(arr_ct[:, sy, :], origin='lower', cmap='bone', vmin=arr_ct.min(), vmax=arr_ct.max()*0.7)\n",
    "    ax[2].imshow(arr_ct[:, :, sz], origin='lower', cmap='bone', vmin=arr_ct.min(), vmax=arr_ct.max()*0.7)\n",
    "    plt.show()\n",
    "    \n",
    "ipw.interact(show_ct, sx=(0,arr_ct.shape[0]-1), sy=(0,arr_ct.shape[1]-1), sz=(0,arr_ct.shape[2]-1));"
   ]
  },
  {
   "cell_type": "code",
   "execution_count": null,
   "metadata": {
    "slideshow": {
     "slide_type": "subslide"
    }
   },
   "outputs": [],
   "source": [
    "# read the GATE output result\n",
    "img_dose = sitk.ReadImage('output/3d-Dose.mhd')\n",
    "# img_dose = sitk.ReadImage('Ex_dose3D/results.1e6/3d-gamma-Dose.mhd')\n",
    "arr_dose = sitk.GetArrayFromImage(img_dose)\n",
    "print('Image size = ', arr_dose.shape)\n",
    "print('Image min and max: ', np.min(arr_dose), np.max(arr_dose))"
   ]
  },
  {
   "cell_type": "code",
   "execution_count": null,
   "metadata": {
    "slideshow": {
     "slide_type": "subslide"
    }
   },
   "outputs": [],
   "source": [
    "# display the output result\n",
    "def show_dose(nslice):\n",
    "    plt.figure()\n",
    "    plt.imshow(arr_dose[:, :, nslice], cmap='hot', vmin=0, vmax=arr_dose.max())\n",
    "    plt.colorbar()\n",
    "    plt.show()\n",
    "    \n",
    "ipw.interact(show_dose, nslice=(0, arr_dose.shape[2]-1));"
   ]
  },
  {
   "cell_type": "code",
   "execution_count": null,
   "metadata": {
    "slideshow": {
     "slide_type": "subslide"
    }
   },
   "outputs": [],
   "source": [
    "# resample the dose map to match the CT resolution\n",
    "img_resampled_dose = sitk.Resample(img_dose, img_ct, sitk.Transform(), sitk.sitkLinear, 0)\n",
    "arr_resampled_dose = sitk.GetArrayFromImage(img_resampled_dose)\n",
    "print('Image size = ', arr_resampled_dose.shape)\n",
    "print('Image min and max: ',  np.min(arr_resampled_dose), np.max(arr_resampled_dose))"
   ]
  },
  {
   "cell_type": "code",
   "execution_count": null,
   "metadata": {
    "slideshow": {
     "slide_type": "subslide"
    }
   },
   "outputs": [],
   "source": [
    "# function to overlay the CT and the dose map\n",
    "def show_fusion(nslice=64, opacity=0.7):\n",
    "    min_dose_disp = 1e-9\n",
    "    plt.figure(figsize=(10, 7))\n",
    "    plt.imshow(arr_ct[:, :, nslice], vmin=arr_ct.min(), vmax=arr_ct.max(), cmap='bone')\n",
    "    a = arr_resampled_dose[:, :, nslice]\n",
    "    b = np.ma.masked_where(a <= min_dose_disp, a)\n",
    "    plt.imshow(b, alpha=opacity, cmap='hot', vmin=min_dose_disp, vmax=arr_resampled_dose.max())\n",
    "    plt.colorbar()\n",
    "    plt.show()\n",
    "    \n",
    "ipw.interact(show_fusion, nslice=(0, arr_ct.shape[2]-1), opacity=(0, 1, 0.1));"
   ]
  },
  {
   "cell_type": "markdown",
   "metadata": {
    "slideshow": {
     "slide_type": "subslide"
    }
   },
   "source": [
    "## Exercise\n",
    "* make a depth dose plot\n",
    "* change the particle type to 100 MeV protons in the main.mac\n",
    "* run the exemple again and analyse the results\n",
    "* explain the difference with gammas"
   ]
  },
  {
   "cell_type": "code",
   "execution_count": null,
   "metadata": {
    "slideshow": {
     "slide_type": "fragment"
    }
   },
   "outputs": [],
   "source": [
    "p_edep = arr_resampled_dose.sum(axis=(2, 1))\n",
    "print(p_edep.shape)\n",
    "\n",
    "plt.figure()\n",
    "plt.plot(p_edep)\n",
    "plt.show()"
   ]
  },
  {
   "cell_type": "markdown",
   "metadata": {
    "slideshow": {
     "slide_type": "slide"
    }
   },
   "source": [
    "# Dose map analysis with the example Ex_internal-RT"
   ]
  },
  {
   "cell_type": "markdown",
   "metadata": {
    "slideshow": {
     "slide_type": "fragment"
    }
   },
   "source": [
    "## Exercise\n",
    "* open a terminal and go to the folder gate_radiotherapy/Ex_Internal-RT\n",
    "* look at the different files and open mac/main.mac\n",
    "* run the example with  \n",
    "`Gate --qt mac/main.mac`\n",
    "* use this notebook to analyse the 3D dose map result (from the \"dose map analysis\" section)  \n",
    "(some high statistic results with 1e6 particles are available in results.1e6/)\n",
    "* display a slice of the 3D data with plt.imshow\n",
    "* display a slice of the SPECT image with plt.imshow\n",
    "* use the SPECT activity matrix to select a region in the dose map region and get the total aborbed dose in that region"
   ]
  },
  {
   "cell_type": "code",
   "execution_count": null,
   "metadata": {},
   "outputs": [],
   "source": [
    "cd ../Ex_InternalRT/"
   ]
  },
  {
   "cell_type": "code",
   "execution_count": null,
   "metadata": {},
   "outputs": [],
   "source": [
    "pwd"
   ]
  },
  {
   "cell_type": "code",
   "execution_count": null,
   "metadata": {},
   "outputs": [],
   "source": [
    "!Gate main.mac"
   ]
  },
  {
   "cell_type": "code",
   "execution_count": null,
   "metadata": {
    "slideshow": {
     "slide_type": "skip"
    }
   },
   "outputs": [],
   "source": [
    "# read the GATE output result\n"
   ]
  },
  {
   "cell_type": "code",
   "execution_count": null,
   "metadata": {},
   "outputs": [],
   "source": [
    "# function to display 3D image slices\n"
   ]
  },
  {
   "cell_type": "code",
   "execution_count": null,
   "metadata": {},
   "outputs": [],
   "source": [
    "# read the GATE output result\n"
   ]
  },
  {
   "cell_type": "code",
   "execution_count": null,
   "metadata": {},
   "outputs": [],
   "source": [
    "# display the output result\n"
   ]
  },
  {
   "cell_type": "code",
   "execution_count": null,
   "metadata": {},
   "outputs": [],
   "source": [
    "# function to overlay the CT and the dose map\n"
   ]
  },
  {
   "cell_type": "code",
   "execution_count": null,
   "metadata": {},
   "outputs": [],
   "source": []
  },
  {
   "cell_type": "code",
   "execution_count": null,
   "metadata": {},
   "outputs": [],
   "source": [
    "# read the SPECT image\n"
   ]
  },
  {
   "cell_type": "code",
   "execution_count": null,
   "metadata": {},
   "outputs": [],
   "source": []
  },
  {
   "cell_type": "code",
   "execution_count": null,
   "metadata": {},
   "outputs": [],
   "source": []
  },
  {
   "cell_type": "code",
   "execution_count": null,
   "metadata": {},
   "outputs": [],
   "source": [
    "# apply a selection on the dose map\n"
   ]
  },
  {
   "cell_type": "markdown",
   "metadata": {
    "slideshow": {
     "slide_type": "slide"
    }
   },
   "source": [
    "# Phase-space (PhSp) analysis"
   ]
  },
  {
   "cell_type": "markdown",
   "metadata": {
    "slideshow": {
     "slide_type": "subslide"
    }
   },
   "source": [
    "# Reading IAEA phase-space files\n",
    "You can get IAEA phase-space files from the IAEA database: https://www-nds.iaea.org/phsp/phsp.htmlx\n",
    "* CyberKnife_IRIS\n",
    "* ELEKTA_Precise\n",
    "* SIEMENS_Primus\n",
    "* Varian_Clinac\n",
    "* Varian_TrueBeam"
   ]
  },
  {
   "cell_type": "markdown",
   "metadata": {
    "slideshow": {
     "slide_type": "slide"
    }
   },
   "source": [
    "# Example with Varian phase-space file"
   ]
  },
  {
   "cell_type": "code",
   "execution_count": null,
   "metadata": {},
   "outputs": [],
   "source": [
    "cd ../"
   ]
  },
  {
   "cell_type": "code",
   "execution_count": null,
   "metadata": {},
   "outputs": [],
   "source": [
    "pwd"
   ]
  },
  {
   "cell_type": "code",
   "execution_count": null,
   "metadata": {
    "slideshow": {
     "slide_type": "fragment"
    }
   },
   "outputs": [],
   "source": [
    "\n",
    "# For PHOTON and ELECTRON Varian Native File\n",
    "dt = np.dtype([('p', np.int8), ('e', np.float32), ('x', np.float32), ('y', np.float32), ('z', np.float32), ('dx', np.float32), ('dy', np.float32)])\n",
    "\n",
    "# For PHOTON an ELECTRON phase space actor output file (GATE) \n",
    "#dt=np.dtype([('p', np.int8), ('e', np.float32), ('x', np.float32), ('y', np.float32), ('z', np.float32), ('dx', np.float32), ('dy', np.float32), ('we', np.float32), ('inc', np.float32) ])\n",
    "\n",
    "# Test on Reduced PhSp from the IAEA online database\n",
    "data = np.fromfile('data/Varian_TrueBeam6MV_sample.IAEAphsp', dtype=dt)\n",
    "print('Number of particles:', len(data))\n",
    "# data"
   ]
  },
  {
   "cell_type": "code",
   "execution_count": null,
   "metadata": {
    "scrolled": true,
    "slideshow": {
     "slide_type": "subslide"
    }
   },
   "outputs": [],
   "source": [
    "# Test on Reduced PhSp from the IAEA online database (first particles)\n",
    "data=np.fromfile('data/Varian_TrueBeam6MV_sample.IAEAphsp', dtype=dt, count=800)\n",
    "print('Number of particles:', len(data))"
   ]
  },
  {
   "cell_type": "code",
   "execution_count": null,
   "metadata": {
    "scrolled": true,
    "slideshow": {
     "slide_type": "subslide"
    }
   },
   "outputs": [],
   "source": [
    "#to save the data to a file\n",
    "new_data = bytearray(data)\n",
    "with open(\"output/Varian_TrueBeam6MV_test.IAEAphsp\", \"wb\") as file:\n",
    "    file.write(new_data)\n",
    "    \n",
    "# Or you can just\n",
    "data.tofile(\"output/Varian_TrueBeam6MV_test.IAEAphsp\")    \n"
   ]
  },
  {
   "cell_type": "code",
   "execution_count": null,
   "metadata": {
    "slideshow": {
     "slide_type": "subslide"
    }
   },
   "outputs": [],
   "source": [
    "\n",
    "\n",
    "# Plot the energy histogram\n",
    "x = data['e']\n",
    "\n",
    "plt.figure()\n",
    "n, bins, patches = plt.hist(x, bins=200, alpha=0.75)\n",
    "plt.show()"
   ]
  },
  {
   "cell_type": "code",
   "execution_count": null,
   "metadata": {
    "slideshow": {
     "slide_type": "subslide"
    }
   },
   "outputs": [],
   "source": [
    "# Plot the particle positions\n",
    "x = data['x']\n",
    "y = data['y']\n",
    "\n",
    "plt.figure()\n",
    "# fig = plt.scatter(x, y, alpha=0.75)\n",
    "# fig = plt.plot(x, y, '.', alpha=0.75)\n",
    "fig = plt.hist2d(x, y, bins=50, cmap='hot')\n",
    "plt.colorbar()\n",
    "plt.show()\n",
    "\n",
    "# print(fig)"
   ]
  },
  {
   "cell_type": "markdown",
   "metadata": {
    "slideshow": {
     "slide_type": "subslide"
    }
   },
   "source": [
    "## Exercise\n",
    "* save the 1000 particles splitted in 10 different files\n",
    "* find a method to save the numpy array directly to a file"
   ]
  },
  {
   "cell_type": "code",
   "execution_count": null,
   "metadata": {},
   "outputs": [],
   "source": []
  },
  {
   "cell_type": "code",
   "execution_count": null,
   "metadata": {},
   "outputs": [],
   "source": []
  },
  {
   "cell_type": "markdown",
   "metadata": {
    "slideshow": {
     "slide_type": "slide"
    }
   },
   "source": [
    "# PhSp analysis with the example Ex_PhSp\n",
    "Example based on the exercise **linac** from the GATE exercices:\n",
    "* Documentation https://davidsarrut.pages.in2p3.fr/gate-exercices-site/docs/exercice4/\n",
    "* Source https://gitlab.in2p3.fr/davidsarrut/gate-exercices/-/tree/master/linac"
   ]
  },
  {
   "cell_type": "markdown",
   "metadata": {
    "slideshow": {
     "slide_type": "fragment"
    }
   },
   "source": [
    "## Exercise\n",
    "* open a terminal and go to the folder Ex_PhSp/\n",
    "* look at the different files and open the different main*.mac\n",
    "* run the example with the different main macros  \n",
    "`Gate mac/main-write-PhS.mac`\n",
    "* check the output folder and the different files produced  \n",
    "(some high statistic results are available in results.MD6k/)\n",
    "\n",
    "\n",
    "* open the ROOT output output-PhS-g.root\n",
    "* read the tree 'PhaseSpace' and get the data\n",
    "(see notebook gate_outputs.ipynb for help)\n",
    "* select and plot the histogram of the particle energies\n",
    "* select and plot the particle positions\n",
    "* select and plot the histogram of the particle theta angle"
   ]
  },
  {
   "cell_type": "code",
   "execution_count": null,
   "metadata": {},
   "outputs": [],
   "source": [
    "cd Ex_PhSp/"
   ]
  },
  {
   "cell_type": "code",
   "execution_count": null,
   "metadata": {},
   "outputs": [],
   "source": [
    "pwd"
   ]
  },
  {
   "cell_type": "code",
   "execution_count": null,
   "metadata": {},
   "outputs": [],
   "source": [
    "!Gate main-write-PhS.mac"
   ]
  },
  {
   "cell_type": "code",
   "execution_count": null,
   "metadata": {
    "slideshow": {
     "slide_type": "skip"
    }
   },
   "outputs": [],
   "source": [
    "# complete here"
   ]
  },
  {
   "cell_type": "code",
   "execution_count": null,
   "metadata": {
    "slideshow": {
     "slide_type": "skip"
    }
   },
   "outputs": [],
   "source": [
    "\n",
    "f = uproot.open('output/output-PhS-g.root')\n",
    "# f = uproot.open('results.MD6k/output-PhS-g.root')\n",
    "\n",
    "# all trees, branches and leaves names are accessible through the method keys()\n",
    "print('Trees in the file:')\n",
    "print(f.keys())\n",
    "print()\n",
    "print('Leaves (variables) in the Tree:')\n",
    "print(f['PhaseSpace'].keys())\n",
    "\n",
    "data = f[f.keys()[0]].arrays(library=\"pd\").to_records(index=False)\n",
    "print(data)\n",
    "print('Number of particles:', len(data))\n",
    "print(data.dtype)"
   ]
  },
  {
   "cell_type": "code",
   "execution_count": null,
   "metadata": {},
   "outputs": [],
   "source": [
    "# Plot the energy histogram\n"
   ]
  },
  {
   "cell_type": "code",
   "execution_count": null,
   "metadata": {},
   "outputs": [],
   "source": [
    "# Plot the x,y positions of the particles\n"
   ]
  },
  {
   "cell_type": "code",
   "execution_count": null,
   "metadata": {},
   "outputs": [],
   "source": [
    "# Plot the theta angle (main direction dZ)\n"
   ]
  },
  {
   "cell_type": "markdown",
   "metadata": {
    "slideshow": {
     "slide_type": "slide"
    }
   },
   "source": [
    "# GATE tools\n",
    "https://github.com/OpenGATE/GateTools"
   ]
  },
  {
   "cell_type": "markdown",
   "metadata": {
    "slideshow": {
     "slide_type": "fragment"
    }
   },
   "source": [
    "**Tools for [GATE](https://github.com/OpenGATE/Gate/) simulations.**\n",
    "\n",
    "Install with : `pip install gatetools`\n",
    "\n",
    "Example of usage:\n",
    "```\n",
    "gt_gate_info\n",
    "gt_image_convert -i input.dcm -o output.mhd\n",
    "gt_image_convert -i input.mhd -o output_float.mhd -p float\n",
    "gt_image_arithm -i *.mhd -o output.mhd -O sum\n",
    "gt_gamma_index dose.mhd gate-DoseToWater.mhd -o gamma.mhd --dd 2 --dta 2.5 -u \"%\" -T 0.2\n",
    "```\n",
    "\n",
    "Use the flag `-h` to get print the help of each tool. Here is the current list of command line tools.\n",
    "\n",
    "| Tool                          | Comment                                                   |\n",
    "| -------------                 | -------------                                             |\n",
    "| `gt_dicom_rt_pbs2gate`        | Convert Dicom RT proton plan for Gate                     |\n",
    "| `gt_dicom_rt_struct_to_image` | Turn Dicom RT Struct contours into mask image             |\n",
    "| `gt_gamma_index`              | Compute gamma index between images                        |\n",
    "| `gt_gate_info`                | Display info about current Gate/G4 version                |\n",
    "| `gt_image_arithm`             | Pixel- or voxel-wise arithmetic operations                |\n",
    "| `gt_image_convert`            | Convert image file format (**dicom**, mhd, hdr, nii ... ) |\n",
    "| `gt_image_crop`               | Crop an image                                             |\n",
    "| `gt_image_uncertainty`        | Compute statistical uncertainty                           |\n",
    "| `gt_phsp_convert`             | Convert a phase space file from root to npy               |\n",
    "| `gt_phsp_info`                | Display information about a phase space file              |\n",
    "| `gt_phsp_merge`               | Merge two phase space files (output in npy only)          |\n",
    "| `gt_phps_peaks`               | Try to detect photopeaks (experimental)                   |\n",
    "| `gt_phsp_plot`                | Plot marginal distributions form a phase space file       |\n",
    "\n",
    "All tools are also available to be use within your own Python script with, for example:\n",
    "```\n",
    "import gatetools as gt\n",
    "gt.image_convert(inputImage, pixeltype)\n",
    "```\n",
    "\n",
    "Tests: run\n",
    "```\n",
    "python -m unittest gatetools -v\n",
    "python -m unittest gatetools.phsp -v\n",
    "```\n",
    "\n",
    "Classes and function documentation. Use the following command to open a browser for documentation (it is still not very convenient ; will be improved later).\n",
    "```\n",
    "pydoc -b\n",
    "```\n",
    "\n",
    "For developers, please have a look at the [readme_dev.md](readme_dev.md) file."
   ]
  }
 ],
 "metadata": {
  "celltoolbar": "Slideshow",
  "kernelspec": {
   "display_name": "Python 3",
   "language": "python",
   "name": "python3"
  },
  "language_info": {
   "codemirror_mode": {
    "name": "ipython",
    "version": 3
   },
   "file_extension": ".py",
   "mimetype": "text/x-python",
   "name": "python",
   "nbconvert_exporter": "python",
   "pygments_lexer": "ipython3",
   "version": "3.8.10"
  }
 },
 "nbformat": 4,
 "nbformat_minor": 4
}
