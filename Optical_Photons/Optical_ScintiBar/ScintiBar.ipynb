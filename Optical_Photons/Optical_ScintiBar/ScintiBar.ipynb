{
 "cells": [
  {
   "cell_type": "markdown",
   "metadata": {},
   "source": [
    "# Scintillation bar"
   ]
  },
  {
   "cell_type": "markdown",
   "metadata": {},
   "source": [
    "In this example, we have a $10 \\times 0.6 \\times 0.6$ cm$^3$ teflon wrapped scintillator (LaBr$_3$ crystal), centered in the world and the longest size being along the $x$ axis. It is irradiated with a $^{22}$Na point source set a 4 cm above ($z$ direction) the center of the crystal. The source is monoenergetic and $\\gamma$-rays are only fired along the z-axis, towards the crystal. One photodetectors are set on each end of the scintillator (at $x=-5$ cm and $x=5$ cm), with the *perfect_apd* detection feature.\n",
    "\n",
    "- After running the simulation the Hits are stored in the *ScanPos_0.hits.npy* numpy file.\n",
    "- The goals of this exercise are the following:\n",
    "    - Selecting scintillation events corresponding to a single photoelectric absorption of 511 keV and then counting how many optical photons have reach each photodetector for these events. For this you will have to:\n",
    "        - find which *eventID* correspond to these events (hint: you can use the `numpy.unique` function) ;\n",
    "        - for each event: differentiate optical photons and $\\gamma$-rays based on their *PDGEncoding value (-22 for optical photons and 22 for $\\gamma$-rays) ;\n",
    "        - For a single event, you can display the histograms of the x-positions, y-postions and z-positions and then study for the x-positions histogram, which population correspond to which process.\n",
    "    - Doing the same study with event either obtained with one or several compton/photoelectric interactions and studying the quantity of collected optical photons as a function of the deposited energy."
   ]
  },
  {
   "cell_type": "code",
   "execution_count": null,
   "metadata": {},
   "outputs": [],
   "source": []
  },
  {
   "cell_type": "code",
   "execution_count": null,
   "metadata": {},
   "outputs": [],
   "source": []
  },
  {
   "cell_type": "code",
   "execution_count": null,
   "metadata": {},
   "outputs": [],
   "source": []
  },
  {
   "cell_type": "code",
   "execution_count": null,
   "metadata": {},
   "outputs": [],
   "source": []
  },
  {
   "cell_type": "code",
   "execution_count": null,
   "metadata": {},
   "outputs": [],
   "source": []
  },
  {
   "cell_type": "code",
   "execution_count": null,
   "metadata": {},
   "outputs": [],
   "source": []
  },
  {
   "cell_type": "code",
   "execution_count": null,
   "metadata": {},
   "outputs": [],
   "source": []
  },
  {
   "cell_type": "code",
   "execution_count": null,
   "metadata": {},
   "outputs": [],
   "source": []
  },
  {
   "cell_type": "code",
   "execution_count": null,
   "metadata": {},
   "outputs": [],
   "source": []
  },
  {
   "cell_type": "code",
   "execution_count": null,
   "metadata": {},
   "outputs": [],
   "source": []
  },
  {
   "cell_type": "code",
   "execution_count": null,
   "metadata": {},
   "outputs": [],
   "source": []
  }
 ],
 "metadata": {
  "kernelspec": {
   "display_name": "Python 3",
   "language": "python",
   "name": "python3"
  },
  "language_info": {
   "codemirror_mode": {
    "name": "ipython",
    "version": 3
   },
   "file_extension": ".py",
   "mimetype": "text/x-python",
   "name": "python",
   "nbconvert_exporter": "python",
   "pygments_lexer": "ipython3",
   "version": "3.8.10"
  }
 },
 "nbformat": 4,
 "nbformat_minor": 4
}
