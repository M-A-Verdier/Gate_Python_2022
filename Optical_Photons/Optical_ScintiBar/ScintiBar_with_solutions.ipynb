{
 "cells": [
  {
   "cell_type": "markdown",
   "metadata": {},
   "source": [
    "# Scintillation bar"
   ]
  },
  {
   "cell_type": "markdown",
   "metadata": {},
   "source": [
    "In this example, we have a $10 \\times 0.6 \\times 0.6$ cm$^3$ teflon wrapped scintillator (LaBr$_3$ crystal), centered in the world and the longest size being along the $x$ axis. It is irradiated with a $^{22}$Na point source set a 4 cm above ($z$ direction) the center of the crystal. The source is monoenergetic and $\\gamma$-rays are only fired along the z-axis, towards the crystal. One photodetectors are set on each end of the scintillator (at $x=-5$ cm and $x=5$ cm), with the *perfect_apd* detection feature.\n",
    "\n",
    "- After running the simulation the Hits are stored in the *ScanPos_0.hits.npy* numpy file.\n",
    "- The goals of this exercise are the following:\n",
    "    - Selecting scintillation events corresponding to a single photoelectric absorption of 511 keV and then counting how many optical photons have reach each photodetector for these events. For this you will have to:\n",
    "        - find which *eventID* correspond to these events (hint: you can use the `numpy.unique` function) ;\n",
    "        - for each event: differentiate optical photons and $\\gamma$-rays based on their *PDGEncoding value (-22 for optical photons and 22 for $\\gamma$-rays) ;\n",
    "        - For a single event, you can display the histograms of the x-positions, y-postions and z-positions and then study for the x-positions histogram, which population correspond to which process.\n",
    "    - Doing the same study with event either obtained with one or several compton/photoelectric interactions and studying the quantity of collected optical photons as a function of the deposited energy."
   ]
  },
  {
   "cell_type": "code",
   "execution_count": 2,
   "metadata": {},
   "outputs": [
    {
     "data": {
      "text/plain": [
       "'/home/mverdier/Documents/IMNC/Gate_SC/Formation_CNRS/2022/Wednesday/Optical_Photons/Optical_ScintiBar'"
      ]
     },
     "execution_count": 2,
     "metadata": {},
     "output_type": "execute_result"
    }
   ],
   "source": [
    "pwd"
   ]
  },
  {
   "cell_type": "code",
   "execution_count": 3,
   "metadata": {},
   "outputs": [
    {
     "name": "stdout",
     "output_type": "stream",
     "text": [
      "[G4] \n",
      "[G4] **************************************************************\n",
      "[G4]  Geant4 version Name: geant4-10-07-patch-02    (11-June-2021)\n",
      "[G4]                        Copyright : Geant4 Collaboration\n",
      "[G4]                       References : NIM A 506 (2003), 250-303\n",
      "[G4]                                  : IEEE-TNS 53 (2006), 270-278\n",
      "[G4]                                  : NIM A 835 (2016), 186-225\n",
      "[G4]                              WWW : http://geant4.org/\n",
      "[G4] **************************************************************\n",
      "[G4] \n",
      "[Core-0] Initialization of geometry\n",
      "[Core-0] Initialization of physics\n",
      "[Core-0] Initialization of actors\n",
      "[Core-0] \n",
      "[Core-0] *************************************************\n",
      "[Core-0]  GATE version 9.1 (2021)\n",
      "[Core-0]  Copyright : OpenGATE Collaboration\n",
      "[Core-0]  Reference : Phys. Med. Biol. 49 (2004) 4543-4561\n",
      "[Core-0]  Reference : Phys. Med. Biol. 56 (2011) 881-901\n",
      "[Core-0]  Reference : Med. Phys. 41(6)    (2014)\n",
      "[Core-0]  http://www.opengatecollaboration.org        \n",
      "[Core-0] *************************************************\n",
      "[Core-0] \n",
      "[Core-0] You are using Geant4 version 10.7.2\n",
      "[Core-0] Starting macro main.mac\n",
      "0: RINDEX\n",
      "1.84e-06   1.9\n",
      "4.08e-06   1.9\n",
      "9: GROUPVEL\n",
      "1.84e-06   157.786\n",
      "4.08e-06   157.786\n",
      "16: ABSLENGTH\n",
      "1.84e-06   50000\n",
      "4.08e-06   50000\n",
      "17: FASTCOMPONENT\n",
      "3.263e-06   1\n",
      "10: SCINTILLATIONYIELD\n",
      "63000\n",
      "11: RESOLUTIONSCALE\n",
      "1.71\n",
      "12: FASTTIMECONSTANT\n",
      "16\n",
      "16: YIELDRATIO\n",
      "1\n",
      "\n",
      "\n",
      "List of Enabled processes:\n",
      "\n",
      "\n",
      "   ===  Process: Bremsstrahlung  ===\n",
      "Particle: e+\n",
      "    * Model(s):\n",
      "       - StandardModel\n",
      "Particle: e-\n",
      "    * Model(s):\n",
      "       - StandardModel\n",
      "\n",
      "   ===  Process: Compton  ===\n",
      "Particle: gamma\n",
      "    * Model(s):\n",
      "       - StandardModel\n",
      "\n",
      "   ===  Process: ElectronIonisation  ===\n",
      "Particle: e+\n",
      "    * Model(s):\n",
      "       - StandardModel\n",
      "Particle: e-\n",
      "    * Model(s):\n",
      "       - StandardModel\n",
      "\n",
      "   ===  Process: OpticalAbsorption  ===\n",
      "Particle: opticalphoton\n",
      "\n",
      "   ===  Process: OpticalBoundary  ===\n",
      "Particle: opticalphoton\n",
      "\n",
      "   ===  Process: OpticalMie  ===\n",
      "Particle: opticalphoton\n",
      "\n",
      "   ===  Process: OpticalRayleigh  ===\n",
      "Particle: opticalphoton\n",
      "\n",
      "   ===  Process: OpticalWLS  ===\n",
      "Particle: opticalphoton\n",
      "\n",
      "   ===  Process: PhotoElectric  ===\n",
      "Particle: gamma\n",
      "    * Model(s):\n",
      "       - StandardModel\n",
      "\n",
      "   ===  Process: Scintillation  ===\n",
      "Particle: e+\n",
      "Particle: e-\n",
      "Particle: mu+\n",
      "Particle: mu-\n",
      "Particle: tau+\n",
      "Particle: tau-\n",
      "Particle: pi+\n",
      "Particle: pi-\n",
      "Particle: kaon+\n",
      "Particle: kaon-\n",
      "Particle: sigma+\n",
      "Particle: sigma-\n",
      "Particle: proton\n",
      "Particle: anti_proton\n",
      "Particle: xi-\n",
      "Particle: anti_xi-\n",
      "Particle: anti_sigma+\n",
      "Particle: anti_sigma-\n",
      "Particle: omega-\n",
      "Particle: anti_omega-\n",
      "Particle: deuteron\n",
      "Particle: triton\n",
      "Particle: He3\n",
      "Particle: alpha\n",
      "Particle: GenericIon\n",
      "Particle: neutron\n",
      "Particle: gamma\n",
      "\n",
      "\n",
      "\n",
      "List of initialized processes:\n",
      "\n",
      "\n",
      "[Core-0] Initialization of geometry\n",
      "[Core-0] Initialization of physics\n",
      "[Physic-0] WARNING: manual physic lists are being deprecated.\n",
      "Please, use physics list builder mechanism instead. Related documentation can be found at:\n",
      "http://wiki.opengatecollaboration.org/index.php/Users_Guide:Setting_up_the_physics\n",
      "[Core-0] Initialization of actors\n",
      "[Acquisition-0]   \n",
      "[Acquisition-0] ============= Source initialization =============\n",
      "[Acquisition-0]   \n",
      "[Acquisition-0] ============= Acquisition starts! =============\n",
      "[Acquisition-0] Simulation start time = 0 sec\n",
      "[Acquisition-0] Simulation end time   = 1 sec\n",
      "[Acquisition-0] Simulation will have  = 1 run(s)\n",
      "\n",
      "--------- MTwist engine status ---------\n",
      " Initial seed      = 1030833425\n",
      " Current index     = 131\n",
      " Array status mt[] = \n",
      "1030833425 3944569014 1073732715 1473526074 2918721355\n",
      "1324126418 3063615045 1572970762 2816502879 2282980794\n",
      "1783314850 2298148954 1146294980 154457286 1092610092\n",
      "437366480 1194805280 2471501334 1094750710 2119681414\n",
      "738667863 662270568 2449197854 3050118691 1039371293\n",
      "3621571722 3075539751 1604848308 1375344261 2069071409\n",
      "1175691534 3797455370 2102881965 3563894269 507165528\n",
      "2597716443 911924161 2142895178 1987161277 2574107219\n",
      "3246523165 2848475391 3858706683 1168837123 585368822\n",
      "3042417467 3090202283 1138928092 4133439841 2341168603\n",
      "4235153359 1748150191 897205722 1771387191 3690428548\n",
      "2010369146 442138559 3863649684 3437689805 1048876673\n",
      "677472801 3810625602 3018623715 1254896644 1384788793\n",
      "2356620633 3553073193 1062437589 482974541 4206983846\n",
      "1870311519 509338461 2591586553 2636320336 3183249572\n",
      "2232205257 859328099 1071573084 2815355034 1799560263\n",
      "2307235310 2762906221 1989235997 2980483167 1753463301\n",
      "2158004201 2206163725 380509250 3181279330 1754324537\n",
      "2073797746 311323834 4218843070 1639004910 3556714409\n",
      "4253720689 2997636954 4292437529 186593956 2816786199\n",
      "3172245677 3689548912 3743773893 3467577477 4199027526\n",
      "4087515042 3139152879 1348970988 3562069997 2470491987\n",
      "3923356771 4139803215 244675692 2067315469 651114542\n",
      "638830745 2757166545 2503489460 1123574084 485445040\n",
      "3670857448 4131491376 2757453209 3970697634 2691560961\n",
      "572435116 438526554 3893229569 2806639434 1577802729\n",
      "2449632010 863208107 3559723259 3936643677 542918044\n",
      "3706450707 3550115288 3254760176 3377112425 2598305117\n",
      "1898630663 3092152043 2101461883 1826908593 1451025152\n",
      "2512918774 3422055638 1091825052 307283077 4004230670\n",
      "2223425719 1133055232 3289295613 138241231 819236165\n",
      "4233669076 1522536815 2031927043 1000173160 2852796327\n",
      "2941403577 3770548840 2402236377 2910993674 843275468\n",
      "2060503329 803306054 1850651717 1096909692 1329710586\n",
      "3317919665 3267318757 2360094826 3635331509 378983292\n",
      "3105016987 941070861 1964752082 969108209 4142607048\n",
      "339445195 581070028 2682394930 67018919 2952774043\n",
      "632374038 3648011880 3013403634 1316052588 792565438\n",
      "3760859060 1239653106 3042782623 3866559666 1800311703\n",
      "3021308145 2569202595 2017927242 174383453 2079502200\n",
      "2666921093 920772876 3219207814 1738745567 3946652770\n",
      "1916683282 1166280525 1477610955 3317238658 3316683702\n",
      "3819512891 4087694059 1163497052 1779429510 3887277337\n",
      "1144950297 1767958608 4123394510 1991273403 2807499581\n",
      "2098538423 2308116907 3273157003 1272146823 2275287742\n",
      "1696485645 1705600670 2786694302 417537648 1911878421\n",
      "558209994 3680211353 2135022762 2696975200 3666319508\n",
      "2823357310 3759127768 1615050324 261975415 2599542754\n",
      "828126288 4287591553 2692778556 207862121 2674940001\n",
      "894753540 550210954 4124291689 3756400330 532854598\n",
      "1188087192 2638993240 2158043518 887198441 3841763307\n",
      "81880967 1443240003 3039880459 3055234703 645780388\n",
      "2137212088 1325408002 1488574517 1332879755 2394953338\n",
      "1528239713 1739928810 2050794690 1936612603 2636282287\n",
      "3245512527 3628162571 1062494776 1952626985 2954982874\n",
      "3190560587 249184737 1652844506 4107152765 1377984973\n",
      "2323301012 4004187207 3102227438 1864692023 4280488298\n",
      "856035466 201613712 2162200303 3918543265 1076654091\n",
      "1640206100 4283216236 1916758255 1219347723 1179064344\n",
      "4204848132 733132523 97709792 908992394 601443485\n",
      "3271966749 2996394755 1899721107 792261065 2203776637\n",
      "3527817292 1744797533 242842751 3037140559 1322648214\n",
      "1743967689 799957279 3718179187 481233513 2457882023\n",
      "833548372 988661344 1805165853 2002329930 1443382998\n",
      "51249939 3450954432 204165937 4008971416 2638540139\n",
      "3105742002 1286750902 2936619642 1954640544 1272013774\n",
      "112142581 3669575412 2530488255 426638302 1866477028\n",
      "438610344 1926879384 1561024174 4188396381 3899054953\n",
      "1944472614 2175658936 651856824 3137771759 2079075289\n",
      "2592859537 571621209 2089328760 2937524761 1334286596\n",
      "1015418199 2942817202 3457136080 2974132384 740834124\n",
      "2729382495 2624652565 200364664 3164586686 2372039059\n",
      "3180619933 669212452 882560670 3891794881 2847973110\n",
      "1455115185 3308654046 1489616544 553869301 3496081946\n",
      "137236047 2549935518 2704686080 479248447 2444661073\n",
      "772915766 3312092870 2961807922 3239937642 4134746600\n",
      "2665586227 1812112338 2239467197 1146915290 2806355943\n",
      "97242 651397252 4045373847 4174533864 819610940\n",
      "1238265394 516933286 3486660358 444883842 3758740948\n",
      "875720286 1099422370 1292861148 1712083903 1306507653\n",
      "908580516 3188814917 1980620949 2494877687 2052270653\n",
      "1007535937 4023936827 3794121391 3627125620 3547313804\n",
      "2242809605 93990494 2771819186 3793959181 2295333412\n",
      "1648439453 3405753132 1807987244 432693859 4029992370\n",
      "1388306809 530918909 3753020279 2386434667 1602330133\n",
      "3460830093 1707652784 1019989632 3010132524 1213813715\n",
      "1003976072 2157914199 3786631225 1613048467 2490363724\n",
      "3931908473 1659152598 3027414408 2263044904 3713485641\n",
      "1371623402 141970544 4238612970 2147150760 2210098281\n",
      "1625557748 3968364903 2688500275 2394445845 310383060\n",
      "3269295718 2060053660 898982069 363005486 1524764652\n",
      "1093738312 2837342869 2653675100 2648771296 1556758261\n",
      "2150067216 887178983 3491994097 2030846025 1916003896\n",
      "742217550 2467180952 4032494997 3166000130 3380487637\n",
      "1373533508 2859021072 2236860914 917511561 1846082023\n",
      "345026457 3829213753 1733342399 214105812 3407478659\n",
      "125652832 2945102529 2729960401 3661483810 3290587881\n",
      "887505463 466129049 3417435972 355559403 3364340896\n",
      "3930116409 1277204429 2964066664 4212824767 3648104986\n",
      "3498999500 1438503067 347846835 885828497 965167912\n",
      "129044668 2415147041 3394888389 2872864789 2876606987\n",
      "511527046 2531742936 2678269437 3903616663 3314286177\n",
      "671862952 3018538055 2700260921 1122269768 3449049551\n",
      "3353244543 1593110000 3079592730 4232333950 3627633240\n",
      "1675758319 344567791 1828868693 4031082799 2636788840\n",
      "3197725151 1832454975 355966853 2616401545 470839784\n",
      "3704232602 2317836656 1456305678 3248921856 534220613\n",
      "4070208848 2566829783 2284396834 584332218 796718205\n",
      "109993069 1218170398 3181374297 948473862 3676179070\n",
      "2346846834 2966687826 1922384307 4176031582 2246276822\n",
      "1025595338 2494086873 2427683215 771855306 1094478556\n",
      "974221404 545690232 2059535237 185141570 1230175033\n",
      "3568703304 2774226376 2927097060 3249321713 4020875694\n",
      "902017142 2329790148 1883858005 3253832540 2876954036\n",
      "63879432 2429307491 1762542465 3980403645 262195764\n",
      "2920389827 3474793317 1312460671 1213664504 2266521984\n",
      "3680177294 410938086 1163871492 1504242240 2563258093\n",
      "3236730260 2223363549 3579492934 3999100037 2308540715\n",
      "2149126267 1929593612 1887857521 2224510337 3876379137\n",
      "3603633949 3075551018 4015785245 2044532012 4106842648\n",
      "3829889535 4133420741 2302442616 1657825405 2944898888\n",
      "729500815 2407972297 2420606582 3495436836 3223149252\n",
      "4036645349 3355469857 1355893198 1002104848 2942181558\n",
      "1687108971 3125212986 3671360385 2160490164 181288505\n",
      "1647972329 583233781 3242307607 2796629587\n",
      "----------------------------------------\n",
      "[Acquisition-0] Slice 0 from 0 to 1 s [slice=1 s]\n",
      "\n",
      "Compton:  for gamma applyCuts:1  SubType=13 BuildTable=1\n",
      "      Lambda table from 100 eV  to 1 MeV, 7 bins/decade, spline: 1\n",
      "      LambdaPrime table from 1 MeV to 100 TeV in 56 bins \n",
      "      ===== EM models for the G4Region  DefaultRegionForTheWorld ======\n",
      "       Klein-Nishina : Emin=    0 eV  Emax=  100 TeV\n",
      "\n",
      "PhotoElectric:  for gamma applyCuts:1  SubType=12 BuildTable=0\n",
      "      LambdaPrime table from 200 keV to 100 TeV in 61 bins \n",
      "      ===== EM models for the G4Region  DefaultRegionForTheWorld ======\n",
      "       PhotoElectric : Emin=    0 eV  Emax=  100 TeV  SauterGavrila\n",
      "\n",
      "Bremsstrahlung:  for e-  SubType=3\n",
      "      dE/dx and range tables from 100 eV  to 100 TeV in 84 bins\n",
      "      Lambda tables from threshold to 100 TeV, 7 bins/decade, spline: 1\n",
      "      LPM flag: 1 for E > 1 GeV,  VertexHighEnergyTh(GeV)= 100000\n",
      "      ===== EM models for the G4Region  DefaultRegionForTheWorld ======\n",
      "             eBremSB : Emin=    0 eV  Emax=    1 GeV  ModifiedTsai\n",
      "            eBremLPM : Emin=    1 GeV Emax=  100 TeV  ModifiedTsai\n",
      "\n",
      "ElectronIonisation:  for e-  SubType=2\n",
      "      dE/dx and range tables from 100 eV  to 100 TeV in 84 bins\n",
      "      Lambda tables from threshold to 100 TeV, 7 bins/decade, spline: 1\n",
      "      StepFunction=(0.2, 1 mm), integ: 1, fluct: 1, linLossLim= 0.01\n",
      "      ===== EM models for the G4Region  DefaultRegionForTheWorld ======\n",
      "        MollerBhabha : Emin=    0 eV  Emax=  100 TeV\n",
      "\n",
      "Bremsstrahlung:  for e+  SubType=3\n",
      "      dE/dx and range tables from 100 eV  to 100 TeV in 84 bins\n",
      "      Lambda tables from threshold to 100 TeV, 7 bins/decade, spline: 1\n",
      "      LPM flag: 1 for E > 1 GeV,  VertexHighEnergyTh(GeV)= 100000\n",
      "      ===== EM models for the G4Region  DefaultRegionForTheWorld ======\n",
      "             eBremSB : Emin=    0 eV  Emax=    1 GeV  ModifiedTsai\n",
      "            eBremLPM : Emin=    1 GeV Emax=  100 TeV  ModifiedTsai\n",
      "\n",
      "ElectronIonisation:  for e+  SubType=2\n",
      "      dE/dx and range tables from 100 eV  to 100 TeV in 84 bins\n",
      "      Lambda tables from threshold to 100 TeV, 7 bins/decade, spline: 1\n",
      "      StepFunction=(0.2, 1 mm), integ: 1, fluct: 1, linLossLim= 0.01\n",
      "      ===== EM models for the G4Region  DefaultRegionForTheWorld ======\n",
      "        MollerBhabha : Emin=    0 eV  Emax=  100 TeV\n",
      "G4VisManager: Using G4TrajectoryDrawByCharge as fallback trajectory model.\n",
      "See commands in /vis/modeling/trajectories/ for other options.\n",
      "0 events have been kept for refreshing and/or reviewing.\n",
      "  \"/vis/reviewKeptEvents\" to review them one by one.\n",
      "  \"/vis/enable\", then \"/vis/viewer/flush\" or \"/vis/viewer/rebuild\" to see them accumulated.\n",
      "[Core-0] End of macro main.mac\n",
      "Graphics systems deleted.\n",
      "Visualization Manager deleting...\n"
     ]
    }
   ],
   "source": [
    "!Gate main.mac"
   ]
  },
  {
   "cell_type": "code",
   "execution_count": 4,
   "metadata": {},
   "outputs": [],
   "source": [
    "import numpy as np\n",
    "import matplotlib.pyplot as plt"
   ]
  },
  {
   "cell_type": "code",
   "execution_count": 5,
   "metadata": {},
   "outputs": [],
   "source": [
    "hits = np.load('ScanPos_0.hits.npy')"
   ]
  },
  {
   "cell_type": "code",
   "execution_count": 6,
   "metadata": {},
   "outputs": [
    {
     "name": "stdout",
     "output_type": "stream",
     "text": [
      "[('PDGEncoding', '<i4'), ('trackID', '<i4'), ('parentID', '<i4'), ('trackLocalTime', '<f8'), ('time', '<f8'), ('runID', '<i4'), ('eventID', '<i4'), ('sourceID', '<i4'), ('primaryID', '<i4'), ('posX', '<f4'), ('posY', '<f4'), ('posZ', '<f4'), ('localPosX', '<f4'), ('localPosY', '<f4'), ('localPosZ', '<f4'), ('momDirX', '<f4'), ('momDirY', '<f4'), ('momDirZ', '<f4'), ('edep', '<f4'), ('stepLength', '<f4'), ('trackLength', '<f4'), ('rotationAngle', '<f4'), ('axialPos', '<f4'), ('processName', 'S32'), ('comptVolName', 'S32'), ('RayleighVolName', 'S32'), ('volumeID[0]', '<i4'), ('volumeID[1]', '<i4'), ('volumeID[2]', '<i4'), ('volumeID[3]', '<i4'), ('volumeID[4]', '<i4'), ('volumeID[5]', '<i4'), ('volumeID[6]', '<i4'), ('volumeID[7]', '<i4'), ('volumeID[8]', '<i4'), ('volumeID[9]', '<i4'), ('sourcePosX', '<f4'), ('sourcePosY', '<f4'), ('sourcePosZ', '<f4'), ('nPhantomCompton', '<i4'), ('nCrystalCompton', '<i4'), ('nPhantomRayleigh', '<i4'), ('nCrystalRayleigh', '<i4'), ('', '<i4'), ('level1ID', '<i4'), ('level2ID', '<i4'), ('level3ID', '<i4'), ('level4ID', '<i4'), ('level5ID', '<i4'), ('photonID', '<i4'), ('sourceType', '<i4'), ('decayType', '<i4'), ('gammaType', '<i4')]\n"
     ]
    }
   ],
   "source": [
    "print(hits.dtype)"
   ]
  },
  {
   "cell_type": "code",
   "execution_count": 21,
   "metadata": {},
   "outputs": [
    {
     "name": "stdout",
     "output_type": "stream",
     "text": [
      "(array([b'Compton', b'OpticalAbsorption', b'PhotoElectric',\n",
      "       b'Transportation'], dtype='|S32'), array([  222,  1909,    67, 27477]))\n"
     ]
    }
   ],
   "source": [
    "print(np.unique(hits['processName'], return_counts=True))"
   ]
  },
  {
   "cell_type": "code",
   "execution_count": 19,
   "metadata": {},
   "outputs": [
    {
     "data": {
      "image/png": "[encoded data removed]",
      "text/plain": [
       "<Figure size 640x480 with 1 Axes>"
      ]
     },
     "metadata": {},
     "output_type": "display_data"
    }
   ],
   "source": [
    "plt.figure()\n",
    "plt.hist(hits['processName'], bins=10)\n",
    "plt.yscale('log')\n",
    "plt.show()"
   ]
  },
  {
   "cell_type": "code",
   "execution_count": 7,
   "metadata": {},
   "outputs": [],
   "source": [
    "eid = np.unique(hits[\"eventID\"])"
   ]
  },
  {
   "cell_type": "code",
   "execution_count": 9,
   "metadata": {},
   "outputs": [
    {
     "name": "stdout",
     "output_type": "stream",
     "text": [
      "37 227\n"
     ]
    }
   ],
   "source": [
    "cond = np.abs(hits['edep'] - 0.511) < 0.0001\n",
    "print(cond.sum(), len(eid))\n",
    "g_eid = hits[\"eventID\"][cond]"
   ]
  },
  {
   "cell_type": "code",
   "execution_count": 22,
   "metadata": {},
   "outputs": [
    {
     "data": {
      "image/png": "[encoded data removed]",
      "text/plain": [
       "<Figure size 640x480 with 1 Axes>"
      ]
     },
     "metadata": {},
     "output_type": "display_data"
    },
    {
     "data": {
      "image/png": "[encoded data removed]",
      "text/plain": [
       "<Figure size 640x480 with 1 Axes>"
      ]
     },
     "metadata": {},
     "output_type": "display_data"
    },
    {
     "data": {
      "image/png": "[encoded data removed]",
      "text/plain": [
       "<Figure size 640x480 with 1 Axes>"
      ]
     },
     "metadata": {},
     "output_type": "display_data"
    },
    {
     "data": {
      "image/png": "[encoded data removed]",
      "text/plain": [
       "<Figure size 640x480 with 1 Axes>"
      ]
     },
     "metadata": {},
     "output_type": "display_data"
    },
    {
     "data": {
      "image/png": "[encoded data removed]",
      "text/plain": [
       "<Figure size 640x480 with 1 Axes>"
      ]
     },
     "metadata": {},
     "output_type": "display_data"
    }
   ],
   "source": [
    "l_phot = np.zeros(len(g_eid))\n",
    "r_phot = np.zeros(len(g_eid))\n",
    "cond_opt = hits[\"PDGEncoding\"] == -22\n",
    "\n",
    "cond_evt = hits[\"eventID\"] == g_eid[0]\n",
    "opt_hits = hits[cond_evt & cond_opt]\n",
    "x_pos = opt_hits[\"posX\"]\n",
    "y_pos = opt_hits[\"posY\"]\n",
    "z_pos = opt_hits[\"posZ\"]\n",
    "    \n",
    "proc = opt_hits[\"processName\"]\n",
    "    \n",
    "plt.figure()\n",
    "plt.hist(x_pos, bins=25, range=(-50, 50))\n",
    "    \n",
    "plt.figure()\n",
    "plt.hist(y_pos, bins=30, range=(-3, 3))\n",
    "    \n",
    "plt.figure()\n",
    "plt.hist(z_pos, bins=30, range=(-3, 3))\n",
    "    \n",
    "plt.figure()\n",
    "plt.hist(proc, bins=10)\n",
    "    \n",
    "plt.figure()\n",
    "plt.hist(x_pos[proc == b\"OpticalAbsorption\"], bins=25, range=(-50, 50))\n",
    "plt.hist(x_pos[proc == b\"Transportation\"], bins=25, range=(-50, 50))\n",
    "    \n",
    "# plt.figure()\n",
    "# plt.hist(x_pos[proc == b\"Transportation\"], bins=25, range=(-60, 60))\n",
    "    \n",
    "plt.show()"
   ]
  },
  {
   "cell_type": "code",
   "execution_count": 23,
   "metadata": {},
   "outputs": [],
   "source": [
    "for i in range(len(g_eid)):\n",
    "    cond_evt = hits[\"eventID\"] == g_eid[i]\n",
    "    opt_hits = hits[cond_evt & cond_opt]\n",
    "    x_pos = opt_hits[\"posX\"]\n",
    "    proc = opt_hits[\"processName\"]\n",
    "    l_phot[i] = np.sum((x_pos < 0) & (proc == b\"Transportation\"))\n",
    "    r_phot[i] = np.sum((x_pos > 0) & (proc == b\"Transportation\"))"
   ]
  },
  {
   "cell_type": "code",
   "execution_count": 24,
   "metadata": {},
   "outputs": [
    {
     "data": {
      "text/plain": [
       "(array([ 0.,  0.,  0.,  0.,  0.,  0.,  0.,  0.,  0.,  0.,  0.,  1., 11.,\n",
       "         7., 11.,  3.,  2.,  2.,  0.,  0.,  0.,  0.,  0.,  0.,  0.]),\n",
       " array([  0.,   8.,  16.,  24.,  32.,  40.,  48.,  56.,  64.,  72.,  80.,\n",
       "         88.,  96., 104., 112., 120., 128., 136., 144., 152., 160., 168.,\n",
       "        176., 184., 192., 200.]),\n",
       " [<matplotlib.patches.Polygon at 0x7f0b9afff0d0>])"
      ]
     },
     "execution_count": 24,
     "metadata": {},
     "output_type": "execute_result"
    }
   ],
   "source": [
    "plt.figure()\n",
    "plt.hist(l_phot, bins=25, range=(0, 200), histtype='step')\n",
    "plt.hist(r_phot, bins=25, range=(0, 200), histtype='step')"
   ]
  },
  {
   "cell_type": "code",
   "execution_count": 29,
   "metadata": {},
   "outputs": [
    {
     "data": {
      "image/png": "[encoded data removed]",
      "text/plain": [
       "<Figure size 640x480 with 1 Axes>"
      ]
     },
     "metadata": {},
     "output_type": "display_data"
    }
   ],
   "source": [
    "b_eid = hits[\"eventID\"][~cond]\n",
    "l_phot = np.zeros(len(b_eid))\n",
    "r_phot = np.zeros(len(b_eid))\n",
    "\n",
    "for i in range(len(b_eid)):\n",
    "    cond_evt = hits[\"eventID\"] == b_eid[i]\n",
    "    opt_hits = hits[cond_evt & cond_opt]\n",
    "    x_pos = opt_hits[\"posX\"]\n",
    "    proc = opt_hits[\"processName\"]\n",
    "    l_phot[i] = np.sum((x_pos < 0) & (proc == b\"Transportation\"))\n",
    "    r_phot[i] = np.sum((x_pos > 0) & (proc == b\"Transportation\"))\n",
    "    \n",
    "plt.figure()\n",
    "plt.hist(l_phot, bins=25, range=(0, 200), histtype='step')\n",
    "plt.hist(r_phot, bins=25, range=(0, 200), histtype='step')\n",
    "plt.show()"
   ]
  },
  {
   "cell_type": "code",
   "execution_count": 30,
   "metadata": {},
   "outputs": [
    {
     "data": {
      "image/png": "[encoded data removed]",
      "text/plain": [
       "<Figure size 640x480 with 1 Axes>"
      ]
     },
     "metadata": {},
     "output_type": "display_data"
    }
   ],
   "source": [
    "b_eid = hits[\"eventID\"][~cond]\n",
    "l_phot = np.zeros(len(b_eid))\n",
    "r_phot = np.zeros(len(b_eid))\n",
    "energy = np.zeros(len(b_eid))\n",
    "\n",
    "cond_gam = hits[\"PDGEncoding\"] == 22\n",
    "for i in range(len(b_eid)):\n",
    "    cond_evt = hits[\"eventID\"] == b_eid[i]\n",
    "    opt_hits = hits[cond_evt & cond_opt]\n",
    "    gam_hits = hits[cond_evt & cond_gam]\n",
    "    edep = gam_hits[\"edep\"]\n",
    "    x_pos = opt_hits[\"posX\"]\n",
    "    proc = opt_hits[\"processName\"]\n",
    "    l_phot[i] = np.sum((x_pos < 0) & (proc == b\"Transportation\"))\n",
    "    r_phot[i] = np.sum((x_pos > 0) & (proc == b\"Transportation\"))\n",
    "    energy[i] = np.sum(edep)\n",
    "    \n",
    "plt.figure()\n",
    "plt.plot(energy, l_phot, 'o')\n",
    "plt.plot(energy, r_phot, '*')\n",
    "plt.show()"
   ]
  },
  {
   "cell_type": "code",
   "execution_count": null,
   "metadata": {},
   "outputs": [],
   "source": []
  }
 ],
 "metadata": {
  "kernelspec": {
   "display_name": "Python 3",
   "language": "python",
   "name": "python3"
  },
  "language_info": {
   "codemirror_mode": {
    "name": "ipython",
    "version": 3
   },
   "file_extension": ".py",
   "mimetype": "text/x-python",
   "name": "python",
   "nbconvert_exporter": "python",
   "pygments_lexer": "ipython3",
   "version": "3.8.10"
  }
 },
 "nbformat": 4,
 "nbformat_minor": 4
}
