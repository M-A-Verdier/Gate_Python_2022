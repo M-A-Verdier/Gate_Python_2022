{
 "cells": [
  {
   "cell_type": "markdown",
   "metadata": {
    "slideshow": {
     "slide_type": "slide"
    }
   },
   "source": [
    "# Dealing with Optical Photons"
   ]
  },
  {
   "cell_type": "markdown",
   "metadata": {
    "slideshow": {
     "slide_type": "fragment"
    }
   },
   "source": [
    "- Fluorescence or scintillation simulations provide optical photons inthe *Hits* tree.\n",
    "- Their whole path is not recorded, only some informations are stored:\n",
    "    - position (x, y, z) at their last interaction\n",
    "    - momentum (x, y, z) at their last interaction\n",
    "    - Energy\n",
    "    - Type of interaction\n",
    "    - Volume of interaction\n",
    "    - PDGEncoding value of 0 (Gate <1.9) or -22 (Gate >=1.9)"
   ]
  },
  {
   "cell_type": "markdown",
   "metadata": {
    "slideshow": {
     "slide_type": "fragment"
    }
   },
   "source": [
    "- Some information are also stored in an dedicated Tree called *OpticalData*.\n",
    "- There is also a digitizer module than sum up optical photns in a volume."
   ]
  },
  {
   "cell_type": "markdown",
   "metadata": {
    "slideshow": {
     "slide_type": "subslide"
    }
   },
   "source": [
    "- This module can sometimes be too limited and one can need to reconstruct specific informations from the *Hits tree*.\n",
    "- This can be the case for instance for scintillation simulation with $\\gamma$-rays where some specific optical photons related to specific $\\gamma$-rays interaction are required.\n",
    "- In addition for scintillation simulation, a large number of optical photons are created (usually several thousands).\n"
   ]
  },
  {
   "cell_type": "markdown",
   "metadata": {},
   "source": [
    "![](scinti_scheme.png)"
   ]
  },
  {
   "cell_type": "markdown",
   "metadata": {
    "slideshow": {
     "slide_type": "subslide"
    }
   },
   "source": [
    "- We propose here two simulation based on $\\gamma$-ray induced scintillation."
   ]
  },
  {
   "cell_type": "markdown",
   "metadata": {
    "slideshow": {
     "slide_type": "slide"
    }
   },
   "source": [
    "## Scintillation bar"
   ]
  },
  {
   "cell_type": "markdown",
   "metadata": {
    "slideshow": {
     "slide_type": "fragment"
    }
   },
   "source": [
    "- In this simulation we have a $10\\times 0.6 \\times 0.6$ cm$^3$ scintillator (LaBr$_3$).\n",
    "    - It has a light yield of 61 photon/keV.\n",
    "    - An optical absorption length of 50 m.\n",
    "    - It is wrapped in teflon (non-specular reflection).\n",
    "- A $\\gamma$-ray source is set at the center:\n",
    "    - Mono-energy (511 keV)\n",
    "    - Single direction.\n",
    "- Two photdetectors (SiPM) are set,one on each side of the scintillator with the *perfect_apd* feature.\n",
    "\n",
    "- The simulation can be found and run in Optical_ScintiBar.\n"
   ]
  },
  {
   "cell_type": "markdown",
   "metadata": {},
   "source": [
    "![](ScintiBar_Scheme.png)"
   ]
  },
  {
   "cell_type": "markdown",
   "metadata": {
    "slideshow": {
     "slide_type": "subslide"
    }
   },
   "source": [
    "- The goal is to study fromthe *Hits* how many photons are collected on each SiPM as a funcion of the deposited energy ad the $\\gamma$-rays interaction type.\n",
    "- For this you will have to:\n",
    "    - Select events based on the $\\gamma$-rays interaction type and energy.\n",
    "    - Then get the optical photons position and process.\n",
    "    - Count the optical photons in each phoodetector and compare their histograms\n",
    "    - Plot their number as a function of the deposited energy. "
   ]
  },
  {
   "cell_type": "markdown",
   "metadata": {
    "slideshow": {
     "slide_type": "slide"
    }
   },
   "source": [
    "## Scintillator block"
   ]
  },
  {
   "cell_type": "markdown",
   "metadata": {
    "slideshow": {
     "slide_type": "fragment"
    }
   },
   "source": [
    "- In this second example, we use the same scintillator but with a size of $5 \\times 5 \\times 0.6$cm$^3$.\n",
    "    - It is encapsulated in a mechanical frame covered with a light scattering layer (teflon) on 3 sides.\n",
    "    - The last side is glued to a glass window.\n",
    "- The photodetection system is now a $16 \\times 16$ array of SiPM, alowing to not only to count the optical photons but also to study their spatial distribution.\n",
    "- The source is set as in the previuous exemple but:\n",
    "    - It has a lower energy of 122 keV ($^{57}$Co).\n",
    "    - We'll take into account the photondetection efficiency (PDE) of 40% of the SiPMs.\n",
    "\n",
    "![](ScintiCam_Scheme.png)"
   ]
  },
  {
   "cell_type": "markdown",
   "metadata": {
    "slideshow": {
     "slide_type": "subslide"
    }
   },
   "source": [
    "- The goals here is to study the light distribution.\n",
    "- Fot this you willhave to:\n",
    "    - Get for each scintillation event with a 122 keV photelectric interaction of the $\\gamma$-rays, the $x$ and $y$ position of optical photon that interacted in the detector (at $z=0$).\n",
    "    - Create a 2D histogram for counting photons in each pixels.\n",
    "    - Apply a binomial random generator on each pixel to mimic the PDE.\n",
    "    - Display a couple a these 2D-histograms.\n",
    "    - Display the average expected histogram."
   ]
  }
 ],
 "metadata": {
  "celltoolbar": "Diaporama",
  "kernelspec": {
   "display_name": "Python 3",
   "language": "python",
   "name": "python3"
  },
  "language_info": {
   "codemirror_mode": {
    "name": "ipython",
    "version": 3
   },
   "file_extension": ".py",
   "mimetype": "text/x-python",
   "name": "python",
   "nbconvert_exporter": "python",
   "pygments_lexer": "ipython3",
   "version": "3.8.10"
  }
 },
 "nbformat": 4,
 "nbformat_minor": 4
}
