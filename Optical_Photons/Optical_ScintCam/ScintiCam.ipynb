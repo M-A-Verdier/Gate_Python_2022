{
 "cells": [
  {
   "cell_type": "markdown",
   "metadata": {},
   "source": [
    "# Light distribution\n",
    "\n",
    "- In this example we have a $5 \\times 5 \\times 0.6$ cm$^2$ monolithic scintillators of LaBr$_3$, encapsulated in a mechanical frame and covered on three of its faces with a light scattering coating ang glued to a glass on its fourth face (one of the $5 \\times 5$ cm$^2$ face). A $16 \\times 16$ photodetector array consisting of $6 \\times 6$mm$^2$ SiPM is mounted on the glass to collect the scintillation light induced by a $^{57}$Co point source set above the center of the scintillator. It emits 122 keV $\\gamma$-rays only along the z-axis, toards the scintillator. For each scintillation event, the light is collected in the the 256 channels which a photodetection efficiency of 40%.\n",
    "- The goal here is to study the light distribution for each scintillation event, collected in the photdetector array, which is at $z=0$ a binomial random distribution will be applied on each pixel to represent the photodetection efficiency. You can display a couple of distributions as well as its mean on all the events. You can run the Gate simulation or use the given *CamPos_0.hits.npy* file.\n",
    "- Do the same study, moving the source position in another position."
   ]
  },
  {
   "cell_type": "code",
   "execution_count": null,
   "metadata": {},
   "outputs": [],
   "source": []
  },
  {
   "cell_type": "code",
   "execution_count": null,
   "metadata": {},
   "outputs": [],
   "source": []
  },
  {
   "cell_type": "code",
   "execution_count": null,
   "metadata": {},
   "outputs": [],
   "source": []
  },
  {
   "cell_type": "code",
   "execution_count": null,
   "metadata": {},
   "outputs": [],
   "source": []
  },
  {
   "cell_type": "code",
   "execution_count": null,
   "metadata": {},
   "outputs": [],
   "source": []
  },
  {
   "cell_type": "code",
   "execution_count": null,
   "metadata": {},
   "outputs": [],
   "source": []
  }
 ],
 "metadata": {
  "kernelspec": {
   "display_name": "Python 3",
   "language": "python",
   "name": "python3"
  },
  "language_info": {
   "codemirror_mode": {
    "name": "ipython",
    "version": 3
   },
   "file_extension": ".py",
   "mimetype": "text/x-python",
   "name": "python",
   "nbconvert_exporter": "python",
   "pygments_lexer": "ipython3",
   "version": "3.8.10"
  }
 },
 "nbformat": 4,
 "nbformat_minor": 4
}
