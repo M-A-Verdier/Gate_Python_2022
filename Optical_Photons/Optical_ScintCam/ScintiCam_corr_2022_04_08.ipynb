{
 "cells": [
  {
   "cell_type": "markdown",
   "metadata": {},
   "source": [
    "# Light distribution\n",
    "\n",
    "- In this example we have a $5 \\times 5 \\times 0.6$ cm$^2$ monolithic scintillators of LaBr$_3$, encapsulated in a mechanical frame and covered on three of its faces with a light scattering coating ang glued to a glass on its fourth face (one of the $5 \\times 5$ cm$^2$ face). A $16 \\times 16$ photodetector array consisting of $6 \\times 6$mm$^2$ SiPM is mounted on the glass to collect the scintillation light induced by a $^{57}$Co point source set above the center of the scintillator. It emits 122 keV $\\gamma$-rays only along the z-axis, toards the scintillator. For each scintillation event, the light is collected in the the 256 channels which a photodetection efficiency of 40%.\n",
    "- The goal here is to study the light distribution for each scintillation event, collected in the photdetector array, which is at $z=0$ a binomial random distribution will be applied on each pixel to represent the photodetection efficiency. You can display a couple of distributions as well as its mean on all the events. You can run the Gate simulation or use the given *CamPos_0.hits.npy* file.\n",
    "- Do the same study, moving the source position in another position."
   ]
  },
  {
   "cell_type": "code",
   "execution_count": 1,
   "metadata": {},
   "outputs": [
    {
     "data": {
      "text/plain": [
       "'/home/guest06/Documents/Gate_Python_2022/Optical_Photons/Optical_ScintCam'"
      ]
     },
     "execution_count": 1,
     "metadata": {},
     "output_type": "execute_result"
    }
   ],
   "source": [
    "pwd"
   ]
  },
  {
   "cell_type": "code",
   "execution_count": 2,
   "metadata": {},
   "outputs": [
    {
     "name": "stdout",
     "output_type": "stream",
     "text": [
      "[G4] \r\n",
      "[G4] **************************************************************\r\n",
      "[G4]  Geant4 version Name: geant4-10-07-patch-02    (11-June-2021)\r\n",
      "[G4]                        Copyright : Geant4 Collaboration\r\n",
      "[G4]                       References : NIM A 506 (2003), 250-303\r\n",
      "[G4]                                  : IEEE-TNS 53 (2006), 270-278\r\n",
      "[G4]                                  : NIM A 835 (2016), 186-225\r\n",
      "[G4]                              WWW : http://geant4.org/\r\n",
      "[G4] **************************************************************\r\n",
      "[G4] \r\n",
      "[Core-0] Initialization of geometry\r\n",
      "[Core-0] Initialization of physics\r\n",
      "[Core-0] Initialization of actors\r\n",
      "[Core-0] \r\n",
      "[Core-0] *************************************************\r\n",
      "[Core-0]  GATE version 9.1 (2021)\r\n",
      "[Core-0]  Copyright : OpenGATE Collaboration\r\n",
      "[Core-0]  Reference : Phys. Med. Biol. 49 (2004) 4543-4561\r\n",
      "[Core-0]  Reference : Phys. Med. Biol. 56 (2011) 881-901\r\n",
      "[Core-0]  Reference : Med. Phys. 41(6)    (2014)\r\n",
      "[Core-0]  http://www.opengatecollaboration.org        \r\n",
      "[Core-0] *************************************************\r\n",
      "[Core-0] \r\n",
      "[Core-0] You are using Geant4 version 10.7.2\r\n",
      "[Core-0] Starting macro main.mac\r\n",
      "0: RINDEX\r\n",
      "1.84e-06   1.9\r\n",
      "4.08e-06   1.9\r\n",
      "9: GROUPVEL\r\n",
      "1.84e-06   157.786\r\n",
      "4.08e-06   157.786\r\n",
      "16: ABSLENGTH\r\n",
      "1.84e-06   50000\r\n",
      "4.08e-06   50000\r\n",
      "0: RINDEX\r\n",
      "1.84e-06   1.9\r\n",
      "4.08e-06   1.9\r\n",
      "9: GROUPVEL\r\n",
      "1.84e-06   157.786\r\n",
      "4.08e-06   157.786\r\n",
      "16: ABSLENGTH\r\n",
      "1.84e-06   50000\r\n",
      "4.08e-06   50000\r\n",
      "17: FASTCOMPONENT\r\n",
      "3.263e-06   1\r\n",
      "10: SCINTILLATIONYIELD\r\n",
      "63000\r\n",
      "11: RESOLUTIONSCALE\r\n",
      "1.71\r\n",
      "12: FASTTIMECONSTANT\r\n",
      "16\r\n",
      "16: YIELDRATIO\r\n",
      "1\r\n",
      "\r\n",
      "\r\n",
      "List of Enabled processes:\r\n",
      "\r\n",
      "\r\n",
      "   ===  Process: Bremsstrahlung  ===\r\n",
      "Particle: e+\r\n",
      "    * Model(s):\r\n",
      "       - StandardModel\r\n",
      "Particle: e-\r\n",
      "    * Model(s):\r\n",
      "       - StandardModel\r\n",
      "\r\n",
      "   ===  Process: Compton  ===\r\n",
      "Particle: gamma\r\n",
      "    * Model(s):\r\n",
      "       - StandardModel\r\n",
      "\r\n",
      "   ===  Process: ElectronIonisation  ===\r\n",
      "Particle: e+\r\n",
      "    * Model(s):\r\n",
      "       - StandardModel\r\n",
      "Particle: e-\r\n",
      "    * Model(s):\r\n",
      "       - StandardModel\r\n",
      "\r\n",
      "   ===  Process: OpticalAbsorption  ===\r\n",
      "Particle: opticalphoton\r\n",
      "\r\n",
      "   ===  Process: OpticalBoundary  ===\r\n",
      "Particle: opticalphoton\r\n",
      "\r\n",
      "   ===  Process: OpticalMie  ===\r\n",
      "Particle: opticalphoton\r\n",
      "\r\n",
      "   ===  Process: OpticalRayleigh  ===\r\n",
      "Particle: opticalphoton\r\n",
      "\r\n",
      "   ===  Process: OpticalWLS  ===\r\n",
      "Particle: opticalphoton\r\n",
      "\r\n",
      "   ===  Process: PhotoElectric  ===\r\n",
      "Particle: gamma\r\n",
      "    * Model(s):\r\n",
      "       - StandardModel\r\n",
      "\r\n",
      "   ===  Process: Scintillation  ===\r\n",
      "Particle: e+\r\n",
      "Particle: e-\r\n",
      "Particle: mu+\r\n",
      "Particle: mu-\r\n",
      "Particle: tau+\r\n",
      "Particle: tau-\r\n",
      "Particle: pi+\r\n",
      "Particle: pi-\r\n",
      "Particle: kaon+\r\n",
      "Particle: kaon-\r\n",
      "Particle: sigma+\r\n",
      "Particle: sigma-\r\n",
      "Particle: proton\r\n",
      "Particle: anti_proton\r\n",
      "Particle: xi-\r\n",
      "Particle: anti_xi-\r\n",
      "Particle: anti_sigma+\r\n",
      "Particle: anti_sigma-\r\n",
      "Particle: omega-\r\n",
      "Particle: anti_omega-\r\n",
      "Particle: deuteron\r\n",
      "Particle: triton\r\n",
      "Particle: He3\r\n",
      "Particle: alpha\r\n",
      "Particle: GenericIon\r\n",
      "Particle: neutron\r\n",
      "Particle: gamma\r\n",
      "\r\n",
      "\r\n",
      "\r\n",
      "List of initialized processes:\r\n",
      "\r\n",
      "\r\n",
      "[Core-0] Initialization of geometry\r\n",
      "[Core-0] Initialization of physics\r\n",
      "[Physic-0] WARNING: manual physic lists are being deprecated.\r\n",
      "Please, use physics list builder mechanism instead. Related documentation can be found at:\r\n",
      "http://wiki.opengatecollaboration.org/index.php/Users_Guide:Setting_up_the_physics\r\n",
      "[Core-0] Initialization of actors\r\n",
      "[Acquisition-0]   \r\n",
      "[Acquisition-0] ============= Source initialization =============\r\n",
      "[Acquisition-0]   \r\n",
      "[Acquisition-0] ============= Acquisition starts! =============\r\n",
      "[Acquisition-0] Simulation start time = 0 sec\r\n",
      "[Acquisition-0] Simulation end time   = 1 sec\r\n",
      "[Acquisition-0] Simulation will have  = 1 run(s)\r\n",
      "\r\n",
      "--------- MTwist engine status ---------\r\n",
      " Initial seed      = 1255397353\r\n",
      " Current index     = 131\r\n",
      " Array status mt[] = \r\n",
      "1255397353 2876724873 2234681305 2996882538 4255927564\r\n",
      "3114298864 817881728 493542535 3336454219 2282611825\r\n",
      "3756108905 2285092829 3241282055 4130740129 325780728\r\n",
      "2980687335 1128540265 4267415833 2261274964 3790150913\r\n",
      "2223801310 3909403105 533753920 722372951 966573675\r\n",
      "4121650000 1611307737 3975458643 4186634924 2193985064\r\n",
      "3962278064 4135903678 1197880497 2387933585 2015044129\r\n",
      "1456969411 2584366254 4056697857 2790592240 2771150753\r\n",
      "2272271991 2696651090 4236932282 4163243560 3418724899\r\n",
      "3679514317 1180464500 3481859160 1045043991 2908553028\r\n",
      "2906074320 2944340237 145474079 3112119664 2493313072\r\n",
      "1205044721 1924220904 1657540646 339230365 100514092\r\n",
      "3311835800 1752494692 144617239 3488572242 147818549\r\n",
      "2671254058 1849276938 463686042 1157985286 1181713928\r\n",
      "4009341651 2363808855 4068960977 2874509091 4227201359\r\n",
      "3951626055 617562656 3204986605 405574553 4190248108\r\n",
      "129497179 2918887224 239283252 3096724695 3911722333\r\n",
      "644353131 1352608141 786124947 313161047 2137840300\r\n",
      "2108939163 3518041629 2251989042 4130005837 833776676\r\n",
      "1010822803 2246757215 1208090898 2262996961 1709402098\r\n",
      "1090391619 3584750191 4179718402 2998017740 2456053166\r\n",
      "3552127301 1208860424 3454480376 683688307 1157979596\r\n",
      "652982095 3611400602 3343088333 4260999607 2676519030\r\n",
      "4163793463 3571245816 1232789628 2668132039 2705934640\r\n",
      "4067664690 2890636238 3267929078 278514980 2809279408\r\n",
      "2945886135 3626174439 1816600947 3407099002 1784444222\r\n",
      "972159325 1752508212 1453774189 3724345377 1389445104\r\n",
      "324875164 3181893908 3724504119 739869966 2577923345\r\n",
      "1966801931 699921023 466723753 4025090876 2378760043\r\n",
      "3369793022 3790762595 2222751859 351413801 823394242\r\n",
      "3876633120 4163578726 3473157233 931957651 4129930393\r\n",
      "2493240157 3778100247 1176463489 1422965534 1549167322\r\n",
      "4249115655 3042079285 4230446933 1645495185 588691572\r\n",
      "4225292905 441902712 3538363903 1114233108 2759975666\r\n",
      "3728800090 3531735496 1355634883 181524279 2809616481\r\n",
      "521657022 732625830 2762678063 1634558579 3270826413\r\n",
      "1322909786 749721500 1896254786 973313830 4183292086\r\n",
      "2629893410 2340027994 1688629619 4202611894 1748728102\r\n",
      "3076369441 4060652942 551339617 1978347014 2543577221\r\n",
      "2409889030 154531672 1729146493 2891527090 1705678135\r\n",
      "1117832470 1787302364 2454278651 1033541896 2568726772\r\n",
      "2618249179 2125767275 3507801761 2654484666 2945505641\r\n",
      "3731688201 2704520645 840906583 2991547688 1385981032\r\n",
      "1414451012 921089041 936977550 622684896 3471641403\r\n",
      "1829660148 3773912966 1739634007 3072102861 3640020619\r\n",
      "4008428681 116942164 3817205511 2849796472 2399735815\r\n",
      "3561553887 2696785587 1613342141 306446357 1970423347\r\n",
      "2164552869 3988809167 2616612457 3713817637 1338683885\r\n",
      "1638104844 4191819282 256954023 1678370774 3487270855\r\n",
      "3818943817 437838120 2758229439 2297463177 3942875088\r\n",
      "445536825 738269816 1289857620 2642588038 2687217170\r\n",
      "332545359 1441429547 1626727315 2831805340 3222504537\r\n",
      "3489489542 1985219710 2505172513 3429730262 3619329297\r\n",
      "2715906851 2524321295 2763958572 268721714 1400892615\r\n",
      "1754816812 1952083152 1906296965 2180301093 4244575349\r\n",
      "2848995745 3312712035 1221968885 1843389530 3439774718\r\n",
      "3603161321 1829435243 1604409324 1982891676 2205819405\r\n",
      "2110945288 1518677419 4087414577 1500803546 484188040\r\n",
      "1819294154 264335674 1300215558 3783718376 289851869\r\n",
      "1946151512 2899318597 561983276 564144518 2769492233\r\n",
      "2889663875 1278408210 340804013 3196747632 3740683050\r\n",
      "528718174 3046166856 321465701 1917646605 434562289\r\n",
      "3073658187 771592196 2000156364 935531802 4059577980\r\n",
      "2581307478 247412320 573166877 3982006959 3647935259\r\n",
      "3753009592 1204462344 91301071 134172142 1374690858\r\n",
      "3406687036 2451277857 3719066134 3098099857 911877704\r\n",
      "470131634 2763118725 112962959 718668216 425862886\r\n",
      "2731831309 1378958907 4082145331 2307767362 1147766419\r\n",
      "3164879598 2093452401 468867462 3006269749 3680703243\r\n",
      "2021510017 1812515546 1141128386 126178635 1263323892\r\n",
      "3063689479 352191832 2122069272 1595561278 2243648061\r\n",
      "300897086 2510948058 1504070813 1172289266 3469752902\r\n",
      "3141069729 2298753976 812446668 604527847 2941601679\r\n",
      "1087025422 874636121 2004374668 1402196497 2469163457\r\n",
      "968834657 3246163640 2371370043 2912503026 2783749158\r\n",
      "3341813675 1604579008 1773763742 1983398709 2257934591\r\n",
      "813072973 2526519006 3050924618 1621063655 3311297854\r\n",
      "3809908626 4294796983 1507580551 2639851106 2957471077\r\n",
      "931875369 3351458996 3963272379 1798499873 2405897258\r\n",
      "713842003 2023177803 1879518911 2047549572 443417352\r\n",
      "3258874808 1492837720 824712879 2282275742 2238163488\r\n",
      "450908927 2145662769 1491236743 268033910 3932508455\r\n",
      "442583246 1576663265 669979132 2144728585 172776134\r\n",
      "4028483517 1238793622 234249524 3598687014 3294757948\r\n",
      "2695521663 368374006 491829428 3231528107 1875619824\r\n",
      "2551932094 3168492502 3648761935 3778624424 1110445860\r\n",
      "3675506759 785803395 1478121567 3997248711 3389492998\r\n",
      "3316128684 2280428735 152753478 1352834132 4163120192\r\n",
      "3150598951 1062509650 575115284 853708191 1149565047\r\n",
      "3299290699 2981219366 107007987 2267027359 1570199474\r\n",
      "3565774433 2259540077 3933392015 2526388481 659038965\r\n",
      "1792928112 4187067485 359127263 119597253 3857728644\r\n",
      "539511311 2582659256 2340623664 3714916489 3728585282\r\n",
      "4270005878 3325731579 2871068075 2746068609 2407462532\r\n",
      "3568237236 2620775178 3501110272 56074760 92354306\r\n",
      "2876819365 856696255 1707810104 3025472091 2089138172\r\n",
      "1948450225 3143714897 4217042337 3888422093 3659406634\r\n",
      "1134261266 234354789 2642808512 588752498 629518051\r\n",
      "3834281081 647391245 190907405 13406222 2720945524\r\n",
      "3862814589 930454694 583378287 3616255421 2991078377\r\n",
      "3321718955 1989424189 3591420322 1733781372 474528585\r\n",
      "4293588678 2435173043 3023614672 3989762262 56230662\r\n",
      "457927004 3517370187 112546152 3354511369 4139206644\r\n",
      "2543031670 3462466760 1504686364 2078566263 3098868117\r\n",
      "1075399067 3448993227 2645393906 3717051835 3610258340\r\n",
      "1391368688 1243330339 1809740921 1784687976 4196277630\r\n",
      "1444186467 223193021 546460837 361411630 258455100\r\n",
      "3759473603 3247193304 1994536832 3883593983 89911687\r\n",
      "3761802079 1483159913 2420789286 321971283 4273963487\r\n",
      "1527839213 1759897662 1505188350 2390293183 2333414326\r\n",
      "2697468970 723289583 3279339635 770039385 3223149639\r\n",
      "3083980031 593774333 1299736830 1940579785 3218911767\r\n",
      "2280817017 3629443768 440119545 772871536 658925412\r\n",
      "802640041 2596029923 2731801852 3271082094 1243169338\r\n",
      "1946531457 3530261179 3227978964 476586512 2646606478\r\n",
      "535949179 2214154439 3472444666 962306431 2836181086\r\n",
      "518443664 967845141 3857309839 306480515 3406875127\r\n",
      "2405385101 3097899189 1386490238 728914023 876413424\r\n",
      "2410362366 408169147 3006263575 3447807130 1657170863\r\n",
      "2175441913 2644893531 2657534322 102712198 2250398773\r\n",
      "141087499 3550030000 320461817 1874529432 314104761\r\n",
      "1586738010 2797500485 4118050146 1265253029 1690757397\r\n",
      "79801158 3153791745 335869331 1214615652 2031814463\r\n",
      "2570849245 4263774307 1196601417 2515408594 4040446587\r\n",
      "2234434500 1956787595 2171337696 345265305\r\n",
      "----------------------------------------\r\n",
      "[Acquisition-0] Slice 0 from 0 to 1 s [slice=1 s]\r\n"
     ]
    },
    {
     "name": "stdout",
     "output_type": "stream",
     "text": [
      "\n",
      "Compton:  for gamma applyCuts:1  SubType=13 BuildTable=1\n",
      "      Lambda table from 100 eV  to 1 MeV, 7 bins/decade, spline: 1\n",
      "      LambdaPrime table from 1 MeV to 100 TeV in 56 bins \n",
      "      ===== EM models for the G4Region  DefaultRegionForTheWorld ======\n",
      "       Klein-Nishina : Emin=    0 eV  Emax=  100 TeV\n",
      "\n",
      "PhotoElectric:  for gamma applyCuts:1  SubType=12 BuildTable=0\n",
      "      LambdaPrime table from 200 keV to 100 TeV in 61 bins \n",
      "      ===== EM models for the G4Region  DefaultRegionForTheWorld ======\n",
      "       PhotoElectric : Emin=    0 eV  Emax=  100 TeV  SauterGavrila\n",
      "\n",
      "Bremsstrahlung:  for e-  SubType=3\n",
      "      dE/dx and range tables from 100 eV  to 100 TeV in 84 bins\n",
      "      Lambda tables from threshold to 100 TeV, 7 bins/decade, spline: 1\n",
      "      LPM flag: 1 for E > 1 GeV,  VertexHighEnergyTh(GeV)= 100000\n",
      "      ===== EM models for the G4Region  DefaultRegionForTheWorld ======\n",
      "             eBremSB : Emin=    0 eV  Emax=    1 GeV  ModifiedTsai\n",
      "            eBremLPM : Emin=    1 GeV Emax=  100 TeV  ModifiedTsai\n",
      "\n",
      "ElectronIonisation:  for e-  SubType=2\n",
      "      dE/dx and range tables from 100 eV  to 100 TeV in 84 bins\n",
      "      Lambda tables from threshold to 100 TeV, 7 bins/decade, spline: 1\n",
      "      StepFunction=(0.2, 1 mm), integ: 1, fluct: 1, linLossLim= 0.01\n",
      "      ===== EM models for the G4Region  DefaultRegionForTheWorld ======\n",
      "        MollerBhabha : Emin=    0 eV  Emax=  100 TeV\n",
      "\n",
      "Bremsstrahlung:  for e+  SubType=3\n",
      "      dE/dx and range tables from 100 eV  to 100 TeV in 84 bins\n",
      "      Lambda tables from threshold to 100 TeV, 7 bins/decade, spline: 1\n",
      "      LPM flag: 1 for E > 1 GeV,  VertexHighEnergyTh(GeV)= 100000\n",
      "      ===== EM models for the G4Region  DefaultRegionForTheWorld ======\n",
      "             eBremSB : Emin=    0 eV  Emax=    1 GeV  ModifiedTsai\n",
      "            eBremLPM : Emin=    1 GeV Emax=  100 TeV  ModifiedTsai\n",
      "\n",
      "ElectronIonisation:  for e+  SubType=2\n",
      "      dE/dx and range tables from 100 eV  to 100 TeV in 84 bins\n",
      "      Lambda tables from threshold to 100 TeV, 7 bins/decade, spline: 1\n",
      "      StepFunction=(0.2, 1 mm), integ: 1, fluct: 1, linLossLim= 0.01\n",
      "      ===== EM models for the G4Region  DefaultRegionForTheWorld ======\n",
      "        MollerBhabha : Emin=    0 eV  Emax=  100 TeV\n",
      "G4VisManager: Using G4TrajectoryDrawByCharge as fallback trajectory model.\n",
      "See commands in /vis/modeling/trajectories/ for other options.\n",
      "0 events have been kept for refreshing and/or reviewing.\n",
      "  \"/vis/reviewKeptEvents\" to review them one by one.\n",
      "  \"/vis/enable\", then \"/vis/viewer/flush\" or \"/vis/viewer/rebuild\" to see them accumulated.\n",
      "[Core-0] End of macro main.mac\n",
      "Graphics systems deleted.\n",
      "Visualization Manager deleting...\n"
     ]
    }
   ],
   "source": [
    "!/home/guest07/Gate main.mac"
   ]
  },
  {
   "cell_type": "code",
   "execution_count": 4,
   "metadata": {},
   "outputs": [
    {
     "name": "stdout",
     "output_type": "stream",
     "text": [
      "total 156M\r\n",
      "-rw-rw-r-- 1 guest06 guest06 156M Apr  8 11:47 CamPos_0.hits.npy\r\n",
      "-rw-rw-r-- 1 guest06 guest06  16K Mar 14 12:50 GateMaterials.db\r\n",
      "drwxrwxr-x 2 guest06 guest06  147 Mar 14 12:50 \u001b[0m\u001b[01;34mmacro\u001b[0m/\r\n",
      "-rw-rw-r-- 1 guest06 guest06 4.6K Mar 14 12:50 main.mac\r\n",
      "-rw-rw-r-- 1 guest06 guest06  37K Mar 14 12:50 Materials.xml\r\n",
      "-rw-rw-r-- 1 guest06 guest06 2.7K Apr  8 11:46 ScintiCam.ipynb\r\n",
      "-rw-rw-r-- 1 guest06 guest06 6.3K Mar 14 12:50 Surfaces.xml\r\n"
     ]
    }
   ],
   "source": [
    "ls -lh"
   ]
  },
  {
   "cell_type": "code",
   "execution_count": 5,
   "metadata": {},
   "outputs": [],
   "source": [
    "import numpy as np\n",
    "import matplotlib.pyplot as plt"
   ]
  },
  {
   "cell_type": "code",
   "execution_count": 6,
   "metadata": {},
   "outputs": [
    {
     "data": {
      "text/plain": [
       "array([( 22,    1, 0, 1.21213228e-10, 0.01      , 0,  0, 0, 1,   0.       ,   0.       , 3.6611884,   0.       ,   0.       , -1.8388115, -0.        , -0.        , -1.        , 1.220e-01,  4.8388114, 36.33881 , 0., 4.5, b'PhotoElectric', b'NULL', b'NULL', 0, 0, 1, -1, -1, -1, -1, -1, -1, -1, 0., 0., 40., 0, 0, 0, 0, 0, -1, -1, -1, -1, -1, 1, 0, 0, 0),\n",
       "       (-22, 7788, 1, 1.08416591e-10, 0.01000001, 0,  0, 0, 1,  10.733054 ,  12.807492 , 0.       ,  10.733054 ,  12.807492 , -1.25     ,  0.62742305,  0.7486887 , -0.2140224 , 3.263e-06, 11.68102  , 17.106567, 0., 4.5, b'Transportation', b'NULL', b'NULL', 0, 0, 0, -1, -1, -1, -1, -1, -1, -1, 0., 0., 40., 0, 0, 0, 0, 0, -1, -1, -1, -1, -1, 1, 0, 0, 0),\n",
       "       (-22, 7787, 1, 1.70168364e-10, 0.01000001, 0,  0, 0, 1, -26.655615 , -20.196827 , 0.       , -26.655615 , -20.196827 , -1.25     , -0.78504634, -0.54759693, -0.28955105, 3.263e-06,  8.634056 , 36.66566 , 0., 4.5, b'Transportation', b'NULL', b'NULL', 0, 0, 0, -1, -1, -1, -1, -1, -1, -1, 0., 0., 40., 0, 0, 0, 0, 0, -1, -1, -1, -1, -1, 1, 0, 0, 0),\n",
       "       ...,\n",
       "       (-22,  924, 1, 6.14728245e-11, 1.00000002, 0, 99, 0, 1,   2.6563005,  13.211533 , 0.       ,   2.6563005,  13.211533 , -1.25     , -0.12499095,  0.9104468 , -0.39428905, 3.263e-06,  6.340526 ,  9.699521, 0., 4.5, b'Transportation', b'NULL', b'NULL', 0, 0, 0, -1, -1, -1, -1, -1, -1, -1, 0., 0., 40., 0, 1, 0, 0, 0, -1, -1, -1, -1, -1, 1, 0, 0, 0),\n",
       "       (-22,  923, 1, 1.06744433e-10, 1.        , 0, 99, 0, 1,  -6.684636 ,   7.449053 , 0.       ,  -6.684636 ,   7.449053 , -1.25     , -0.7910629 ,  0.33156738, -0.51408416, 3.263e-06,  4.8630166, 22.371206, 0., 4.5, b'Transportation', b'NULL', b'NULL', 0, 0, 0, -1, -1, -1, -1, -1, -1, -1, 0., 0., 40., 0, 1, 0, 0, 0, -1, -1, -1, -1, -1, 1, 0, 0, 0),\n",
       "       (-22,  922, 1, 2.80667748e-11, 1.00000001, 0, 99, 0, 1,   1.8231866,   3.4852028, 0.       ,   1.8231866,   3.4852028, -1.25     , -0.46188378, -0.20219626, -0.8635856 , 3.263e-06,  2.894907 ,  4.42853 , 0., 4.5, b'Transportation', b'NULL', b'NULL', 0, 0, 0, -1, -1, -1, -1, -1, -1, -1, 0., 0., 40., 0, 1, 0, 0, 0, -1, -1, -1, -1, -1, 1, 0, 0, 0)],\n",
       "      dtype=[('PDGEncoding', '<i4'), ('trackID', '<i4'), ('parentID', '<i4'), ('trackLocalTime', '<f8'), ('time', '<f8'), ('runID', '<i4'), ('eventID', '<i4'), ('sourceID', '<i4'), ('primaryID', '<i4'), ('posX', '<f4'), ('posY', '<f4'), ('posZ', '<f4'), ('localPosX', '<f4'), ('localPosY', '<f4'), ('localPosZ', '<f4'), ('momDirX', '<f4'), ('momDirY', '<f4'), ('momDirZ', '<f4'), ('edep', '<f4'), ('stepLength', '<f4'), ('trackLength', '<f4'), ('rotationAngle', '<f4'), ('axialPos', '<f4'), ('processName', 'S32'), ('comptVolName', 'S32'), ('RayleighVolName', 'S32'), ('volumeID[0]', '<i4'), ('volumeID[1]', '<i4'), ('volumeID[2]', '<i4'), ('volumeID[3]', '<i4'), ('volumeID[4]', '<i4'), ('volumeID[5]', '<i4'), ('volumeID[6]', '<i4'), ('volumeID[7]', '<i4'), ('volumeID[8]', '<i4'), ('volumeID[9]', '<i4'), ('sourcePosX', '<f4'), ('sourcePosY', '<f4'), ('sourcePosZ', '<f4'), ('nPhantomCompton', '<i4'), ('nCrystalCompton', '<i4'), ('nPhantomRayleigh', '<i4'), ('nCrystalRayleigh', '<i4'), ('', '<i4'), ('level1ID', '<i4'), ('level2ID', '<i4'), ('level3ID', '<i4'), ('level4ID', '<i4'), ('level5ID', '<i4'), ('photonID', '<i4'), ('sourceType', '<i4'), ('decayType', '<i4'), ('gammaType', '<i4')])"
      ]
     },
     "execution_count": 6,
     "metadata": {},
     "output_type": "execute_result"
    }
   ],
   "source": [
    "hits  = np.load('CamPos_0.hits.npy')\n",
    "hits"
   ]
  },
  {
   "cell_type": "code",
   "execution_count": 7,
   "metadata": {},
   "outputs": [
    {
     "data": {
      "text/plain": [
       "array([( 22, 0,  0), (-22, 1,  0), (-22, 1,  0), ..., (-22, 1, 99),\n",
       "       (-22, 1, 99), (-22, 1, 99)],\n",
       "      dtype={'names': ['PDGEncoding', 'parentID', 'eventID'], 'formats': ['<i4', '<i4', '<i4'], 'offsets': [0, 8, 32], 'itemsize': 304})"
      ]
     },
     "execution_count": 7,
     "metadata": {},
     "output_type": "execute_result"
    }
   ],
   "source": [
    "hits[['PDGEncoding', 'parentID', 'eventID']]"
   ]
  },
  {
   "cell_type": "code",
   "execution_count": 9,
   "metadata": {},
   "outputs": [
    {
     "name": "stdout",
     "output_type": "stream",
     "text": [
      "[ 0  1  2  3  4  5  6  7  8  9 10 12 13 14 15 16 17 18 20 21 23 24 25 26\n",
      " 27 28 29 30 31 33 34 35 36 38 39 40 41 42 43 44 46 47 48 49 50 51 52 53\n",
      " 54 55 57 58 59 60 61 62 63 64 65 66 67 68 70 71 72 73 74 76 78 79 81 82\n",
      " 83 84 85 86 87 88 90 92 93 94 95 96 98 99]\n",
      "[6683 6475 6540 6539 6584 6459 6146 6273 6158  411 6846 6629 6676 6402\n",
      " 6507 6658 6583 6577 6559 6380 6555 6619 6549 6342 6600 6632 6578 6504\n",
      " 6771 6452 6595 6216 6242 6498 6442 6296 6556  268 6723 6482 6513 6648\n",
      " 6563 6346 6435 6427 6549 6836 6615 6445 6503 6269  206 6609 6411 6475\n",
      " 6605 6472 6448 6395 6312 6445 6481 6640 6473 6550 6451 6575 6564 1150\n",
      " 6525 6588 6629 6311 6529 6478 6696 6332 6631 6476 6633 6592 6546 6478\n",
      " 5797 6486]\n"
     ]
    }
   ],
   "source": [
    "eid, cnt = np.unique(hits['eventID'], return_counts=True)\n",
    "print(eid)\n",
    "print(cnt)"
   ]
  },
  {
   "cell_type": "code",
   "execution_count": 12,
   "metadata": {},
   "outputs": [
    {
     "name": "stdout",
     "output_type": "stream",
     "text": [
      "72\n",
      "86\n"
     ]
    }
   ],
   "source": [
    "w = np.abs(hits['edep'] - 0.122) <= 0.0001\n",
    "print(w.sum())\n",
    "print(eid.shape[0])"
   ]
  },
  {
   "cell_type": "code",
   "execution_count": 13,
   "metadata": {},
   "outputs": [
    {
     "data": {
      "text/plain": [
       "array([ 0,  1,  2,  4,  5,  6,  7,  8, 10, 12, 13, 14, 15, 16, 18, 20, 21,\n",
       "       23, 24, 25, 26, 28, 29, 30, 31, 33, 34, 36, 39, 40, 41, 43, 44, 46,\n",
       "       47, 48, 49, 50, 51, 52, 53, 54, 55, 57, 60, 61, 62, 63, 64, 65, 66,\n",
       "       67, 68, 70, 71, 72, 73, 76, 78, 81, 82, 83, 85, 86, 87, 88, 90, 92,\n",
       "       93, 94, 95, 96], dtype=int32)"
      ]
     },
     "execution_count": 13,
     "metadata": {},
     "output_type": "execute_result"
    }
   ],
   "source": [
    "g_eid = hits['eventID'][w]\n",
    "g_eid"
   ]
  },
  {
   "cell_type": "code",
   "execution_count": 17,
   "metadata": {},
   "outputs": [
    {
     "data": {
      "text/plain": [
       "array([( 22,    1, 0, 1.21213228e-10, 0.01      , 0, 0, 0, 1,   0.      ,   0.       , 3.6611884,   0.      ,   0.       , -1.8388115, -0.        , -0.        , -1.        , 1.220e-01,  4.8388114, 36.33881 , 0., 4.5, b'PhotoElectric', b'NULL', b'NULL', 0, 0, 1, -1, -1, -1, -1, -1, -1, -1, 0., 0., 40., 0, 0, 0, 0, 0, -1, -1, -1, -1, -1, 1, 0, 0, 0),\n",
       "       (-22, 7788, 1, 1.08416591e-10, 0.01000001, 0, 0, 0, 1,  10.733054,  12.807492 , 0.       ,  10.733054,  12.807492 , -1.25     ,  0.62742305,  0.7486887 , -0.2140224 , 3.263e-06, 11.68102  , 17.106567, 0., 4.5, b'Transportation', b'NULL', b'NULL', 0, 0, 0, -1, -1, -1, -1, -1, -1, -1, 0., 0., 40., 0, 0, 0, 0, 0, -1, -1, -1, -1, -1, 1, 0, 0, 0),\n",
       "       (-22, 7787, 1, 1.70168364e-10, 0.01000001, 0, 0, 0, 1, -26.655615, -20.196827 , 0.       , -26.655615, -20.196827 , -1.25     , -0.78504634, -0.54759693, -0.28955105, 3.263e-06,  8.634056 , 36.66566 , 0., 4.5, b'Transportation', b'NULL', b'NULL', 0, 0, 0, -1, -1, -1, -1, -1, -1, -1, 0., 0., 40., 0, 0, 0, 0, 0, -1, -1, -1, -1, -1, 1, 0, 0, 0),\n",
       "       ...,\n",
       "       (-22,    5, 1, 1.62793186e-10, 0.01      , 0, 0, 0, 1, -13.283752,  -6.3404775, 0.       , -13.283752,  -6.3404775, -1.25     ,  0.36711222,  0.23164654, -0.900871  , 3.263e-06,  2.7750921, 28.841246, 0., 4.5, b'Transportation', b'NULL', b'NULL', 0, 0, 0, -1, -1, -1, -1, -1, -1, -1, 0., 0., 40., 0, 0, 0, 0, 0, -1, -1, -1, -1, -1, 1, 0, 0, 0),\n",
       "       (-22,    4, 1, 1.24868653e-10, 0.01000001, 0, 0, 0, 1,  -9.616306, -10.213289 , 0.       ,  -9.616306, -10.213289 , -1.25     , -0.26884663,  0.05827465, -0.9614185 , 3.263e-06,  2.6003244, 22.65862 , 0., 4.5, b'Transportation', b'NULL', b'NULL', 0, 0, 0, -1, -1, -1, -1, -1, -1, -1, 0., 0., 40., 0, 0, 0, 0, 0, -1, -1, -1, -1, -1, 1, 0, 0, 0),\n",
       "       (-22,    3, 1, 1.26508311e-10, 0.01000001, 0, 0, 0, 1,  16.987022, -13.009852 , 0.       ,  16.987022, -13.009852 , -1.25     ,  0.6071186 , -0.61047274, -0.50865513, 3.263e-06,  4.9149213, 25.548668, 0., 4.5, b'Transportation', b'NULL', b'NULL', 0, 0, 0, -1, -1, -1, -1, -1, -1, -1, 0., 0., 40., 0, 0, 0, 0, 0, -1, -1, -1, -1, -1, 1, 0, 0, 0)],\n",
       "      dtype=[('PDGEncoding', '<i4'), ('trackID', '<i4'), ('parentID', '<i4'), ('trackLocalTime', '<f8'), ('time', '<f8'), ('runID', '<i4'), ('eventID', '<i4'), ('sourceID', '<i4'), ('primaryID', '<i4'), ('posX', '<f4'), ('posY', '<f4'), ('posZ', '<f4'), ('localPosX', '<f4'), ('localPosY', '<f4'), ('localPosZ', '<f4'), ('momDirX', '<f4'), ('momDirY', '<f4'), ('momDirZ', '<f4'), ('edep', '<f4'), ('stepLength', '<f4'), ('trackLength', '<f4'), ('rotationAngle', '<f4'), ('axialPos', '<f4'), ('processName', 'S32'), ('comptVolName', 'S32'), ('RayleighVolName', 'S32'), ('volumeID[0]', '<i4'), ('volumeID[1]', '<i4'), ('volumeID[2]', '<i4'), ('volumeID[3]', '<i4'), ('volumeID[4]', '<i4'), ('volumeID[5]', '<i4'), ('volumeID[6]', '<i4'), ('volumeID[7]', '<i4'), ('volumeID[8]', '<i4'), ('volumeID[9]', '<i4'), ('sourcePosX', '<f4'), ('sourcePosY', '<f4'), ('sourcePosZ', '<f4'), ('nPhantomCompton', '<i4'), ('nCrystalCompton', '<i4'), ('nPhantomRayleigh', '<i4'), ('nCrystalRayleigh', '<i4'), ('', '<i4'), ('level1ID', '<i4'), ('level2ID', '<i4'), ('level3ID', '<i4'), ('level4ID', '<i4'), ('level5ID', '<i4'), ('photonID', '<i4'), ('sourceType', '<i4'), ('decayType', '<i4'), ('gammaType', '<i4')])"
      ]
     },
     "execution_count": 17,
     "metadata": {},
     "output_type": "execute_result"
    }
   ],
   "source": [
    "hits_0 = hits[hits['eventID'] == 0]\n",
    "hits_0"
   ]
  },
  {
   "cell_type": "code",
   "execution_count": 19,
   "metadata": {},
   "outputs": [
    {
     "data": {
      "image/png": "[encoded data removed]",
      "text/plain": [
       "<Figure size 576x432 with 1 Axes>"
      ]
     },
     "metadata": {
      "needs_background": "light"
     },
     "output_type": "display_data"
    }
   ],
   "source": [
    "plt.figure(figsize=(8, 6))\n",
    "plt.hist(hits_0['processName'])\n",
    "plt.yscale('log')\n",
    "plt.show()"
   ]
  },
  {
   "cell_type": "code",
   "execution_count": 23,
   "metadata": {},
   "outputs": [
    {
     "data": {
      "image/png": "[encoded data removed]",
      "text/plain": [
       "<Figure size 432x288 with 1 Axes>"
      ]
     },
     "metadata": {
      "needs_background": "light"
     },
     "output_type": "display_data"
    }
   ],
   "source": [
    "plt.hist((hits_0[hits_0['processName']==b'Transportation']['posZ']), bins=50)\n",
    "plt.yscale('log')"
   ]
  },
  {
   "cell_type": "code",
   "execution_count": 27,
   "metadata": {},
   "outputs": [
    {
     "data": {
      "text/plain": [
       "array([False,  True,  True, ...,  True,  True,  True])"
      ]
     },
     "execution_count": 27,
     "metadata": {},
     "output_type": "execute_result"
    }
   ],
   "source": [
    "w_z = (hits_0['processName']==b'Transportation') & (np.abs(hits_0['posZ']-0.0) <= 0.0001)\n",
    "w_z"
   ]
  },
  {
   "cell_type": "code",
   "execution_count": 29,
   "metadata": {},
   "outputs": [
    {
     "data": {
      "image/png": "[encoded data removed]",
      "text/plain": [
       "<Figure size 576x432 with 2 Axes>"
      ]
     },
     "metadata": {
      "needs_background": "light"
     },
     "output_type": "display_data"
    }
   ],
   "source": [
    "plt.figure(figsize=(8, 6))\n",
    "plt.hist2d(hits_0[w_z]['posX'], hits_0[w_z]['posY'], bins=np.linspace(-25, 25, 17))\n",
    "plt.colorbar()\n",
    "plt.show()"
   ]
  },
  {
   "cell_type": "code",
   "execution_count": 31,
   "metadata": {},
   "outputs": [
    {
     "data": {
      "text/plain": [
       "6255"
      ]
     },
     "execution_count": 31,
     "metadata": {},
     "output_type": "execute_result"
    }
   ],
   "source": [
    "hits_0[w_z].shape[0]"
   ]
  },
  {
   "cell_type": "code",
   "execution_count": 37,
   "metadata": {},
   "outputs": [],
   "source": [
    "hits_0z = hits_0[w_z]"
   ]
  },
  {
   "cell_type": "code",
   "execution_count": 40,
   "metadata": {},
   "outputs": [
    {
     "data": {
      "text/plain": [
       "array([False,  True, False, ..., False,  True,  True])"
      ]
     },
     "execution_count": 40,
     "metadata": {},
     "output_type": "execute_result"
    }
   ],
   "source": [
    "pde = 0.4\n",
    "r = np.random.random(hits_0z.shape[0])\n",
    "w_r = r <= pde\n",
    "w_r"
   ]
  },
  {
   "cell_type": "code",
   "execution_count": 41,
   "metadata": {},
   "outputs": [
    {
     "data": {
      "image/png": "[encoded data removed]",
      "text/plain": [
       "<Figure size 576x432 with 2 Axes>"
      ]
     },
     "metadata": {
      "needs_background": "light"
     },
     "output_type": "display_data"
    }
   ],
   "source": [
    "plt.figure(figsize=(8, 6))\n",
    "plt.hist2d(hits_0z[w_r]['posX'], hits_0z[w_r]['posY'], bins=np.linspace(-25, 25, 17))\n",
    "plt.colorbar()\n",
    "plt.show()"
   ]
  },
  {
   "cell_type": "code",
   "execution_count": 52,
   "metadata": {},
   "outputs": [
    {
     "data": {
      "text/plain": [
       "array([[0.00500335, 0.0049981 , 0.0050046 , 0.00499095, 0.00499855,\n",
       "        0.00499655, 0.00498135, 0.00495655, 0.00499985, 0.0050012 ,\n",
       "        0.00501065, 0.00499865, 0.0049872 , 0.0050017 , 0.00497385,\n",
       "        0.0050103 ],\n",
       "       [0.00501015, 0.0049719 , 0.00496815, 0.0049899 , 0.0050039 ,\n",
       "        0.00502725, 0.0049879 , 0.0050076 , 0.00498945, 0.00497895,\n",
       "        0.00500675, 0.00501   , 0.0050037 , 0.0049918 , 0.00501415,\n",
       "        0.00502125],\n",
       "       [0.00498815, 0.00502165, 0.00498405, 0.0050059 , 0.0049967 ,\n",
       "        0.0050146 , 0.0050067 , 0.00501035, 0.00498225, 0.00498575,\n",
       "        0.00499495, 0.0049925 , 0.0050085 , 0.0049969 , 0.00501545,\n",
       "        0.0049789 ],\n",
       "       [0.0049919 , 0.004995  , 0.0049988 , 0.00497345, 0.00500205,\n",
       "        0.00498275, 0.0049973 , 0.0050033 , 0.0049979 , 0.00500315,\n",
       "        0.00500155, 0.0050036 , 0.00499625, 0.0050367 , 0.00500535,\n",
       "        0.00500585],\n",
       "       [0.0050196 , 0.00498635, 0.0050134 , 0.00498435, 0.00500705,\n",
       "        0.00499835, 0.0049918 , 0.00497895, 0.005005  , 0.00500925,\n",
       "        0.00502465, 0.00499985, 0.0050171 , 0.00502775, 0.00499565,\n",
       "        0.00499975],\n",
       "       [0.00499385, 0.0050184 , 0.00497665, 0.00503355, 0.0050279 ,\n",
       "        0.0050209 , 0.00500575, 0.00498015, 0.0050453 , 0.00500525,\n",
       "        0.0050367 , 0.00498545, 0.0050134 , 0.00501965, 0.00499195,\n",
       "        0.0050278 ],\n",
       "       [0.0050057 , 0.00501075, 0.00500955, 0.00499535, 0.0049814 ,\n",
       "        0.0049988 , 0.0050188 , 0.0050134 , 0.00499355, 0.00501445,\n",
       "        0.0049799 , 0.00501475, 0.00500945, 0.0049917 , 0.00498995,\n",
       "        0.005018  ],\n",
       "       [0.0049872 , 0.00499765, 0.00500805, 0.0050086 , 0.00501175,\n",
       "        0.0050129 , 0.005005  , 0.00498675, 0.005017  , 0.00500385,\n",
       "        0.00500715, 0.0049973 , 0.00501475, 0.0049925 , 0.0050036 ,\n",
       "        0.00500505],\n",
       "       [0.00500725, 0.0050196 , 0.0049805 , 0.00501365, 0.0050014 ,\n",
       "        0.00500955, 0.0049943 , 0.0049998 , 0.00498915, 0.00500275,\n",
       "        0.00500515, 0.00500445, 0.0049706 , 0.00500405, 0.00499175,\n",
       "        0.00497195],\n",
       "       [0.0050018 , 0.00499   , 0.0050176 , 0.0049647 , 0.005008  ,\n",
       "        0.00499525, 0.0050173 , 0.00502935, 0.0049974 , 0.00500665,\n",
       "        0.00500595, 0.0050107 , 0.0049889 , 0.0050107 , 0.00500855,\n",
       "        0.0049927 ],\n",
       "       [0.00499655, 0.00499635, 0.00500735, 0.00500055, 0.0049859 ,\n",
       "        0.00498125, 0.00501695, 0.00498745, 0.0049675 , 0.0049785 ,\n",
       "        0.00497745, 0.0049925 , 0.00501795, 0.0049686 , 0.00501115,\n",
       "        0.00501995],\n",
       "       [0.00501095, 0.0049913 , 0.00497835, 0.0050068 , 0.00500085,\n",
       "        0.0049654 , 0.0050168 , 0.00498915, 0.0050005 , 0.00499165,\n",
       "        0.00499585, 0.00500505, 0.00500975, 0.00497805, 0.0049925 ,\n",
       "        0.00497145],\n",
       "       [0.0050077 , 0.00500765, 0.0049817 , 0.0049914 , 0.0050262 ,\n",
       "        0.0050093 , 0.0049906 , 0.00500985, 0.00502015, 0.00501455,\n",
       "        0.0050157 , 0.0050045 , 0.00497565, 0.00498075, 0.0050136 ,\n",
       "        0.00503125],\n",
       "       [0.0049939 , 0.0049968 , 0.00501365, 0.0050047 , 0.00499625,\n",
       "        0.00500675, 0.0050043 , 0.00500875, 0.00500865, 0.00498445,\n",
       "        0.0049986 , 0.0049799 , 0.0050093 , 0.0049981 , 0.00498495,\n",
       "        0.00498085],\n",
       "       [0.00499885, 0.00502245, 0.0049993 , 0.0050162 , 0.00499285,\n",
       "        0.00499885, 0.0049978 , 0.00502205, 0.00498815, 0.0049575 ,\n",
       "        0.0050051 , 0.0050033 , 0.004988  , 0.00497585, 0.00501705,\n",
       "        0.0050036 ],\n",
       "       [0.00502045, 0.00500665, 0.00502885, 0.0049894 , 0.0050172 ,\n",
       "        0.00498915, 0.0050075 , 0.0049836 , 0.00501205, 0.00499595,\n",
       "        0.0049911 , 0.00502035, 0.00496795, 0.00500145, 0.0050241 ,\n",
       "        0.00500505]])"
      ]
     },
     "execution_count": 52,
     "metadata": {},
     "output_type": "execute_result"
    }
   ],
   "source": [
    "noise = np.random.poisson(1e5, (16, 16))\n",
    "noise = noise / 1e9 * 50\n",
    "noise"
   ]
  },
  {
   "cell_type": "code",
   "execution_count": 45,
   "metadata": {},
   "outputs": [
    {
     "data": {
      "text/plain": [
       "array([[  2.,   2.,   2.,   0.,   2.,   3.,   4.,   1.,   0.,   1.,   2.,\n",
       "          2.,   2.,   3.,   1.,   0.],\n",
       "       [  2.,   2.,   1.,   5.,   2.,   1.,   4.,   2.,   3.,   7.,   7.,\n",
       "          2.,   8.,   3.,   0.,   0.],\n",
       "       [  2.,   3.,   4.,   2.,   1.,   4.,   4.,   7.,   0.,   7.,   4.,\n",
       "          2.,   0.,   2.,   2.,   1.],\n",
       "       [  6.,   3.,   3.,   7.,   5.,   6.,   5.,   4.,   6.,   6.,   5.,\n",
       "          6.,   3.,   1.,   1.,   2.],\n",
       "       [  1.,   4.,   2.,   1.,   4.,  10.,  17.,  14.,  10.,  13.,  11.,\n",
       "          6.,   4.,   2.,   9.,   3.],\n",
       "       [  1.,   3.,   6.,   7.,   4.,   7.,  19.,  29.,  30.,  18.,  19.,\n",
       "         12.,   7.,   4.,   3.,   2.],\n",
       "       [  2.,   5.,   6.,   8.,   6.,  15.,  30.,  52.,  56.,  35.,  20.,\n",
       "         11.,  11.,   2.,   2.,   1.],\n",
       "       [  1.,   3.,   7.,   9.,   7.,  28.,  44., 127., 146.,  56.,  28.,\n",
       "         12.,  12.,   6.,   2.,   3.],\n",
       "       [  3.,   4.,   4.,  10.,   7.,  27.,  60., 141., 110.,  69.,  23.,\n",
       "         13.,   8.,   5.,   2.,   1.],\n",
       "       [  2.,   4.,   3.,  10.,  15.,  18.,  31.,  61.,  53.,  33.,  14.,\n",
       "         10.,   9.,   1.,   2.,   4.],\n",
       "       [  3.,   2.,   3.,   5.,   7.,  14.,  13.,  29.,  27.,  19.,  12.,\n",
       "          5.,   5.,   4.,   3.,   0.],\n",
       "       [  5.,   4.,   1.,   6.,   4.,  12.,   7.,  17.,  13.,  15.,   8.,\n",
       "          7.,   6.,   6.,   1.,   3.],\n",
       "       [  1.,   3.,   5.,   2.,   5.,   8.,   5.,   6.,  12.,   5.,   2.,\n",
       "          5.,   1.,   1.,   1.,   2.],\n",
       "       [  2.,   6.,   3.,   8.,   5.,   7.,   8.,   8.,   4.,   6.,   2.,\n",
       "          6.,   3.,   4.,   2.,   1.],\n",
       "       [  1.,   1.,   2.,   1.,   0.,   3.,   1.,   3.,   4.,   6.,   4.,\n",
       "          0.,   1.,   3.,   1.,   4.],\n",
       "       [  1.,   0.,   2.,   3.,   3.,   1.,   3.,   3.,   0.,   4.,   3.,\n",
       "          0.,   0.,   2.,   3.,   1.]])"
      ]
     },
     "execution_count": 45,
     "metadata": {},
     "output_type": "execute_result"
    }
   ],
   "source": [
    "hh, xe, ye = np.histogram2d(hits_0z[w_r]['posX'], hits_0z[w_r]['posY'], bins=np.linspace(-25, 25, 17))\n",
    "hh"
   ]
  },
  {
   "cell_type": "code",
   "execution_count": 53,
   "metadata": {},
   "outputs": [
    {
     "data": {
      "image/png": "[encoded data removed]",
      "text/plain": [
       "<Figure size 576x432 with 2 Axes>"
      ]
     },
     "metadata": {
      "needs_background": "light"
     },
     "output_type": "display_data"
    }
   ],
   "source": [
    "plt.figure(figsize=(8, 6))\n",
    "plt.imshow(np.rot90(hh + noise, 1), aspect='equal', extent=(-25, 25, -25, 25))\n",
    "plt.colorbar()\n",
    "plt.show()"
   ]
  },
  {
   "cell_type": "code",
   "execution_count": 54,
   "metadata": {},
   "outputs": [],
   "source": [
    "h_fin = np.zeros((16, 16))"
   ]
  },
  {
   "cell_type": "code",
   "execution_count": 62,
   "metadata": {},
   "outputs": [],
   "source": [
    "pde = 0.5\n",
    "for i in range(g_eid.shape[0]):\n",
    "    hits_i = hits[hits['eventID'] == g_eid[i]]\n",
    "    w_z = (hits_i['processName']==b'Transportation') & (np.abs(hits_i['posZ']-0.0) <= 0.0001)\n",
    "    hits_iz = hits_i[w_z]\n",
    "    r = np.random.random(hits_iz.shape[0])\n",
    "    w_r = r <= pde\n",
    "    hh, xe, ye = np.histogram2d(hits_iz[w_r]['posX'], hits_iz[w_r]['posY'], bins=16, range=((-25, 25), (-25, 25)))\n",
    "    h_fin += np.rot90(hh + noise, 1)"
   ]
  },
  {
   "cell_type": "code",
   "execution_count": 63,
   "metadata": {},
   "outputs": [
    {
     "data": {
      "image/png": "[encoded data removed]",
      "text/plain": [
       "<Figure size 576x432 with 2 Axes>"
      ]
     },
     "metadata": {
      "needs_background": "light"
     },
     "output_type": "display_data"
    }
   ],
   "source": [
    "plt.figure(figsize=(8, 6))\n",
    "plt.imshow(h_fin, aspect='equal', extent=(-25, 25, -25, 25))\n",
    "plt.colorbar()\n",
    "plt.show()"
   ]
  },
  {
   "cell_type": "code",
   "execution_count": 67,
   "metadata": {},
   "outputs": [
    {
     "data": {
      "text/plain": [
       "9.765625"
      ]
     },
     "execution_count": 67,
     "metadata": {},
     "output_type": "execute_result"
    }
   ],
   "source": [
    "surf = (50/16)**2\n",
    "surf"
   ]
  },
  {
   "cell_type": "code",
   "execution_count": 69,
   "metadata": {},
   "outputs": [
    {
     "data": {
      "text/plain": [
       "6313372.463132809"
      ]
     },
     "execution_count": 69,
     "metadata": {},
     "output_type": "execute_result"
    }
   ],
   "source": [
    "integral = np.sum(h_fin * surf)\n",
    "integral"
   ]
  },
  {
   "cell_type": "code",
   "execution_count": 72,
   "metadata": {},
   "outputs": [
    {
     "data": {
      "image/png": "[encoded data removed]",
      "text/plain": [
       "<Figure size 576x432 with 2 Axes>"
      ]
     },
     "metadata": {
      "needs_background": "light"
     },
     "output_type": "display_data"
    }
   ],
   "source": [
    "\n",
    "\n",
    "plt.figure(figsize=(8, 6))\n",
    "plt.imshow(h_fin/integral, aspect='equal', extent=(-25, 25, -25, 25))\n",
    "plt.colorbar()\n",
    "plt.show()"
   ]
  },
  {
   "cell_type": "code",
   "execution_count": 73,
   "metadata": {},
   "outputs": [
    {
     "data": {
      "image/png": "[encoded data removed]",
      "text/plain": [
       "<Figure size 576x432 with 2 Axes>"
      ]
     },
     "metadata": {
      "needs_background": "light"
     },
     "output_type": "display_data"
    }
   ],
   "source": [
    "pde = 0.4\n",
    "r = np.random.random(hits_0z.shape[0])\n",
    "w_r = r <= pde\n",
    "w_r\n",
    "\n",
    "plt.figure(figsize=(8, 6))\n",
    "plt.hist2d(hits_0z[w_r]['posX'], hits_0z[w_r]['posY'], bins=np.linspace(-25, 25, 17), density=True)\n",
    "plt.colorbar()\n",
    "plt.show()"
   ]
  },
  {
   "cell_type": "code",
   "execution_count": null,
   "metadata": {},
   "outputs": [],
   "source": []
  }
 ],
 "metadata": {
  "kernelspec": {
   "display_name": "Python 3 (ipykernel)",
   "language": "python",
   "name": "python3"
  },
  "language_info": {
   "codemirror_mode": {
    "name": "ipython",
    "version": 3
   },
   "file_extension": ".py",
   "mimetype": "text/x-python",
   "name": "python",
   "nbconvert_exporter": "python",
   "pygments_lexer": "ipython3",
   "version": "3.9.7"
  }
 },
 "nbformat": 4,
 "nbformat_minor": 4
}
