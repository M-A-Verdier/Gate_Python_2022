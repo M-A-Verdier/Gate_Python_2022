{
 "cells": [
  {
   "cell_type": "markdown",
   "metadata": {
    "colab_type": "text",
    "id": "YbLhCWIrvfXe",
    "slideshow": {
     "slide_type": "slide"
    }
   },
   "source": [
    "# Image (.hdr, .mhd, etc...) manipulation for GATE"
   ]
  },
  {
   "cell_type": "markdown",
   "metadata": {
    "slideshow": {
     "slide_type": "fragment"
    }
   },
   "source": [
    "## Contents:\n",
    "* Reading images with NumPy\n",
    "* Reading images with SimpleITK\n",
    "* Converting Dicom image serie to MetaImages (.mhd/.raw)\n",
    "* Merging images"
   ]
  },
  {
   "cell_type": "markdown",
   "metadata": {
    "slideshow": {
     "slide_type": "slide"
    }
   },
   "source": [
    "# Reading images"
   ]
  },
  {
   "cell_type": "markdown",
   "metadata": {
    "slideshow": {
     "slide_type": "subslide"
    }
   },
   "source": [
    "## Reading any binary image\n",
    "PET mouse data from https://neuroimage.usc.edu/neuro/Digimouse_Download in Analyze (.hdr / .img) format."
   ]
  },
  {
   "cell_type": "code",
   "execution_count": null,
   "metadata": {
    "slideshow": {
     "slide_type": "fragment"
    }
   },
   "outputs": [],
   "source": [
    "import numpy as np\n",
    "import ipywidgets as ipw\n",
    "import matplotlib.pyplot as plt\n",
    "import matplotlib.colors as mplc\n",
    "import seaborn as sns\n",
    "import numpy.ma as ma\n",
    "import SimpleITK as sitk\n",
    "import pydicom as dcm\n",
    "import glob\n",
    "# %matplotlib inline"
   ]
  },
  {
   "cell_type": "code",
   "execution_count": null,
   "metadata": {},
   "outputs": [],
   "source": [
    "file = 'data/mouse_PET.img'\n",
    "data_type = np.float32\n",
    "dimension = [128, 128, 129]\n",
    "\n",
    "# read the binary file\n",
    "image = np.fromfile(file, dtype=data_type)\n",
    "image = image.reshape(dimension,order='F')\n",
    "\n",
    "print('image.min() =', image.min())\n",
    "print('image.max() =', image.max())\n",
    "print('image.shape :', image.shape)"
   ]
  },
  {
   "cell_type": "code",
   "execution_count": null,
   "metadata": {
    "slideshow": {
     "slide_type": "subslide"
    }
   },
   "outputs": [],
   "source": [
    "# cmap = sns.color_palette(\"mako_r\", as_cmap=True)\n",
    "# cmap = 'bone_r'\n",
    "cmap = 'cividis'\n",
    "# cmap = sns.color_palette(\"icefire\", as_cmap=True)\n",
    "# cmap = sns.color_palette(\"coolwarm\", as_cmap=True)\n",
    "\n",
    "plt.figure()\n",
    "plt.imshow(ma.masked_less_equal(image[63,:,:], 0), cmap=cmap)\n",
    "# plt.imshow(ma.masked_less_equal(image[63,:,:], 0), cmap=cmap, norm=mplc.LogNorm(1, vmax=image.max()))\n",
    "# plt.imshow(image[63,:,:], cmap=plt.cm.jet)\n",
    "plt.colorbar()\n",
    "plt.show()"
   ]
  },
  {
   "cell_type": "code",
   "execution_count": null,
   "metadata": {},
   "outputs": [],
   "source": [
    "def plot_image(myslice):\n",
    "    plt.figure()\n",
    "    plt.imshow(image[myslice,:,:], cmap=cmap, vmin=image.min(), vmax=image.max())\n",
    "    plt.colorbar()\n",
    "    plt.show()\n",
    "    return;\n",
    "\n",
    "ipw.interact(plot_image, myslice=(0, image.shape[0]-1));"
   ]
  },
  {
   "cell_type": "code",
   "execution_count": null,
   "metadata": {
    "slideshow": {
     "slide_type": "subslide"
    }
   },
   "outputs": [],
   "source": [
    "# save the binary image\n",
    "image.tofile('output/mouse_PET_modified.img')"
   ]
  },
  {
   "cell_type": "markdown",
   "metadata": {
    "slideshow": {
     "slide_type": "subslide"
    }
   },
   "source": [
    "## Reading Meta images (.mhd / .raw)\n",
    "Easy image reading with the library SimpleITK"
   ]
  },
  {
   "cell_type": "code",
   "execution_count": null,
   "metadata": {
    "slideshow": {
     "slide_type": "fragment"
    }
   },
   "outputs": [],
   "source": [
    "# 1) Read the image\n",
    "itkimage = sitk.ReadImage('data/patient_CT.mhd')\n",
    "image = sitk.GetArrayFromImage(itkimage)\n",
    "\n",
    "print ('itkimage.GetSize() :' , itkimage.GetSize())\n",
    "print ('itkimage.GetSpacing() :' , itkimage.GetSpacing())\n",
    "\n",
    "print('image.sum() =', image.sum())\n",
    "print('image.min() =', image.min())\n",
    "print('image.max() =', image.max())\n",
    "print('image.shape :', image.shape)"
   ]
  },
  {
   "cell_type": "code",
   "execution_count": null,
   "metadata": {
    "slideshow": {
     "slide_type": "subslide"
    }
   },
   "outputs": [],
   "source": [
    "plt.figure()\n",
    "plt.imshow(image[140,:,:], cmap='bone')\n",
    "plt.colorbar()\n",
    "plt.show()"
   ]
  },
  {
   "cell_type": "code",
   "execution_count": null,
   "metadata": {},
   "outputs": [],
   "source": [
    "def plot_image(tran, coro, sagi):\n",
    "    mini = image.min()\n",
    "    maxi = image.max()\n",
    "    cmap = 'bone'\n",
    "    \n",
    "    plt.figure(figsize=(16, 6))\n",
    "    plt.subplot(1, 3, 1)\n",
    "    plt.imshow(image[tran, :, :], origin='lower', cmap=cmap, vmin=mini, vmax=maxi)\n",
    "    plt.colorbar()\n",
    "    \n",
    "    plt.subplot(1, 3, 2)\n",
    "    plt.imshow(image[:, coro, :], origin='lower', cmap=cmap, vmin=mini, vmax=maxi)\n",
    "    plt.colorbar()\n",
    "    \n",
    "    plt.subplot(1, 3, 3)\n",
    "    plt.imshow(image[:, :, sagi], origin='lower', cmap=cmap, vmin=mini, vmax=maxi)\n",
    "    plt.colorbar()\n",
    "    plt.show()\n",
    "    return;\n",
    "\n",
    "ipw.interact(plot_image, tran=(0, image.shape[0]-1), coro=(0, image.shape[1]-1), sagi=(0, image.shape[2]-1));"
   ]
  },
  {
   "cell_type": "code",
   "execution_count": null,
   "metadata": {
    "slideshow": {
     "slide_type": "fragment"
    }
   },
   "outputs": [],
   "source": [
    "# save the image\n",
    "output = sitk.GetImageFromArray(image)\n",
    "sitk.WriteImage(output,'output/patient_CT.mhd')"
   ]
  },
  {
   "cell_type": "markdown",
   "metadata": {
    "slideshow": {
     "slide_type": "subslide"
    }
   },
   "source": [
    "## Exercise\n",
    "* modify the image data so that the slices of the CT (220) correspond to the last dimension\n",
    "* crop the image in the sagittal plane to 25:85\n",
    "* save the modified image"
   ]
  },
  {
   "cell_type": "code",
   "execution_count": null,
   "metadata": {
    "slideshow": {
     "slide_type": "skip"
    }
   },
   "outputs": [],
   "source": [
    "# complete here ..."
   ]
  },
  {
   "cell_type": "markdown",
   "metadata": {
    "slideshow": {
     "slide_type": "subslide"
    }
   },
   "source": [
    "## Reading Dicom images (.dcm)\n",
    "Easy image reading with the library SimpleITK"
   ]
  },
  {
   "cell_type": "code",
   "execution_count": null,
   "metadata": {
    "slideshow": {
     "slide_type": "fragment"
    }
   },
   "outputs": [],
   "source": [
    "# 1) Read the image\n",
    "itkimage = sitk.ReadImage('data/patient_SPECT.dcm')\n",
    "image = sitk.GetArrayFromImage(itkimage)\n",
    "\n",
    "print ('itkimage.GetSpacing() :' , itkimage.GetSpacing())\n",
    "print('image.sum() =', image.sum())\n",
    "print('image.min() =', image.min())\n",
    "print('image.max() =', image.max())\n",
    "print('image.shape :', image.shape)"
   ]
  },
  {
   "cell_type": "code",
   "execution_count": null,
   "metadata": {},
   "outputs": [],
   "source": [
    "plt.figure()\n",
    "plt.imshow(image[140, :, :], cmap='bone')\n",
    "plt.colorbar()\n",
    "plt.show()"
   ]
  },
  {
   "cell_type": "markdown",
   "metadata": {
    "slideshow": {
     "slide_type": "subslide"
    }
   },
   "source": [
    "## Reading Dicom images (.dcm)\n",
    "Easy image reading with the library PyDicom"
   ]
  },
  {
   "cell_type": "code",
   "execution_count": null,
   "metadata": {
    "slideshow": {
     "slide_type": "fragment"
    }
   },
   "outputs": [],
   "source": [
    "# open dicom file (works for all .dcm file)\n",
    "File = dcm.read_file('data/patient_SPECT.dcm')\n",
    "# Acces to image pixel data \n",
    "image = File.pixel_array\n",
    "\n",
    "print(type(image))\n",
    "print('Pixel spacing :', File.PixelSpacing)\n",
    "print('image.sum() =', image.sum())\n",
    "print('image.min() =', image.min())\n",
    "print('image.max() =', image.max())\n",
    "print('image.shape :', image.shape)"
   ]
  },
  {
   "cell_type": "code",
   "execution_count": null,
   "metadata": {
    "slideshow": {
     "slide_type": "subslide"
    }
   },
   "outputs": [],
   "source": [
    "plt.figure()\n",
    "plt.imshow(image[140, :, :], cmap='bone')\n",
    "plt.colorbar()\n",
    "plt.show()"
   ]
  },
  {
   "cell_type": "markdown",
   "metadata": {
    "colab_type": "text",
    "id": "2k-6llpovfXq",
    "slideshow": {
     "slide_type": "slide"
    }
   },
   "source": [
    "# Converting DICOM to MetaImage (.mhd/.raw)"
   ]
  },
  {
   "cell_type": "code",
   "execution_count": null,
   "metadata": {
    "slideshow": {
     "slide_type": "fragment"
    }
   },
   "outputs": [],
   "source": [
    "input_dir = 'convert/dicom/'\n",
    "output_dir = 'convert/mhd/'\n",
    "\n",
    "series_IDs = sitk.ImageSeriesReader_GetGDCMSeriesIDs(input_dir)\n",
    "\n",
    "if not series_IDs:\n",
    "    print('No series in directory ' + input_dir)\n",
    "\n",
    "for series in series_IDs:\n",
    "    filename = series.split('.')[-1]\n",
    "    sitk.WriteImage(sitk.ReadImage(sitk.ImageSeriesReader_GetGDCMSeriesFileNames(input_dir, series)),\n",
    "                    output_dir+filename+'.mhd')\n",
    "    print('Dicom serie converted to:', output_dir+filename+'.mhd')"
   ]
  },
  {
   "cell_type": "markdown",
   "metadata": {
    "slideshow": {
     "slide_type": "subslide"
    }
   },
   "source": [
    "## Exercise\n",
    "* place a copy of the data/patient_CT_dcm/*.dcm images in the folder convert/dicom/  \n",
    "* convert the Dicom images serie to a single .mhd image using the cell above\n",
    "* read the converted image and display an axial slice of it"
   ]
  },
  {
   "cell_type": "code",
   "execution_count": null,
   "metadata": {},
   "outputs": [],
   "source": []
  },
  {
   "cell_type": "code",
   "execution_count": null,
   "metadata": {},
   "outputs": [],
   "source": []
  },
  {
   "cell_type": "code",
   "execution_count": null,
   "metadata": {
    "slideshow": {
     "slide_type": "skip"
    }
   },
   "outputs": [],
   "source": [
    "# complete here ..."
   ]
  },
  {
   "cell_type": "markdown",
   "metadata": {
    "slideshow": {
     "slide_type": "slide"
    }
   },
   "source": [
    "# Merging images"
   ]
  },
  {
   "cell_type": "markdown",
   "metadata": {
    "slideshow": {
     "slide_type": "fragment"
    }
   },
   "source": [
    "## Merge GATE output DoseActor .mhd of splitted simulations"
   ]
  },
  {
   "cell_type": "code",
   "execution_count": null,
   "metadata": {
    "slideshow": {
     "slide_type": "fragment"
    }
   },
   "outputs": [],
   "source": [
    "# directory of your simulation splitted outputs\n",
    "output_dir = 'output/'\n",
    "\n",
    "# loop over the .mhd outputs\n",
    "first_image = True\n",
    "for file in glob.glob(output_dir+'*Dose.mhd'):\n",
    "#    if '_merged' not in file:\n",
    "        print ('Reading file:',file)\n",
    "        # 1) Read the image\n",
    "        itkimage = sitk.ReadImage(file)\n",
    "        # 2) Sum the image values\n",
    "        if first_image:\n",
    "            image_merged = sitk.GetArrayFromImage(itkimage)\n",
    "            first_image = False\n",
    "        else: \n",
    "            image_merged += sitk.GetArrayFromImage(itkimage)\n",
    "        #print ('Sum of all voxels:',image_merged.max())\n",
    "\n",
    "# 3) Write the sum of all images\n",
    "itkimage_merged = sitk.GetImageFromArray(image_merged)\n",
    "itkimage_merged.CopyInformation(itkimage)\n",
    "sitk.WriteImage(itkimage_merged, output_dir+'output-Dose_merged.mhd')\n",
    "\n",
    "print ('Merged file created:', output_dir+'output-Dose_merged.mhd')\n",
    "print ('Dimension : ' , itkimage_merged.GetSize())\n",
    "print ('Pixels Size :' , itkimage_merged.GetSpacing())"
   ]
  },
  {
   "cell_type": "markdown",
   "metadata": {},
   "source": [
    "---\n",
    "\n",
    "## Files opening summary\n",
    "\n",
    "- Text files:\n",
    "    - Base Python (open)\n",
    "    - Numpy (loadtxt) if numpy array file (.txt, .dat, etc)\n",
    "    - Pandas (read_csv) if CSV file (.csv, .tsv)\n",
    "- Binary files:\n",
    "    - Base Python (open)\n",
    "    - Numpy (load) if numpy array or structured array file (.npy)\n",
    "    - Numpy (fromfile) if raw binary (.raw, .img, etc)\n",
    "- Excel files:\n",
    "    - Pandas (.xls, .ods)\n",
    "- MHD files:\n",
    "    - SimpleITK\n",
    "- Dicom files:\n",
    "    - SimpleITK\n",
    "    - pydicom\n",
    "- Root files:\n",
    "    - uproot\n",
    "    \n",
    "**In any cases, output should extracted to a numpy array or pandas dataframe**"
   ]
  },
  {
   "cell_type": "code",
   "execution_count": null,
   "metadata": {},
   "outputs": [],
   "source": []
  }
 ],
 "metadata": {
  "celltoolbar": "Slideshow",
  "colab": {
   "collapsed_sections": [
    "2gM213d7vfcO",
    "8ofSBMSXvfck",
    "itCLYGF2vfdA",
    "TQ3VBCCcvfdc",
    "XbL8L2lzvfee",
    "1luSBZkQvff2",
    "aQhTfRhHvff2"
   ],
   "default_view": {},
   "name": "PythonCourse.ipynb",
   "provenance": [],
   "toc_visible": true,
   "version": "0.3.2",
   "views": {}
  },
  "kernelspec": {
   "display_name": "Python 3",
   "language": "python",
   "name": "python3"
  },
  "language_info": {
   "codemirror_mode": {
    "name": "ipython",
    "version": 3
   },
   "file_extension": ".py",
   "mimetype": "text/x-python",
   "name": "python",
   "nbconvert_exporter": "python",
   "pygments_lexer": "ipython3",
   "version": "3.8.10"
  }
 },
 "nbformat": 4,
 "nbformat_minor": 4
}
