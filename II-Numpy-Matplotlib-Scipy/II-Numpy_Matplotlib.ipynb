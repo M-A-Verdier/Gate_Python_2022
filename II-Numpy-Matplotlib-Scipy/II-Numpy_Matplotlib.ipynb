{
 "cells": [
  {
   "cell_type": "markdown",
   "metadata": {
    "slideshow": {
     "slide_type": "slide"
    }
   },
   "source": [
    "# II - Libraries for science: Numpy, Matplotlib, Scipy  "
   ]
  },
  {
   "cell_type": "markdown",
   "metadata": {
    "slideshow": {
     "slide_type": "subslide"
    }
   },
   "source": [
    "## II-1 Libraries"
   ]
  },
  {
   "cell_type": "markdown",
   "metadata": {
    "slideshow": {
     "slide_type": "fragment"
    }
   },
   "source": [
    "- Python allow the development and the use of third-party libraries."
   ]
  },
  {
   "cell_type": "markdown",
   "metadata": {
    "slideshow": {
     "slide_type": "fragment"
    }
   },
   "source": [
    "- These libraries (often called modules) are a set of python elements (functions, classes, *etc*) that can be used in any program."
   ]
  },
  {
   "cell_type": "markdown",
   "metadata": {
    "slideshow": {
     "slide_type": "fragment"
    }
   },
   "source": [
    "- We'll see here 3 libraries dédicated to data analysis, simulation or plotting.\n",
    "    - Numpy : basic scientific computation\n",
    "    - Matplotlib: for figures\n",
    "    - Scipy: for data fitting"
   ]
  },
  {
   "cell_type": "markdown",
   "metadata": {
    "slideshow": {
     "slide_type": "slide"
    }
   },
   "source": [
    "## II-2 Numpy"
   ]
  },
  {
   "cell_type": "markdown",
   "metadata": {
    "slideshow": {
     "slide_type": "fragment"
    }
   },
   "source": [
    "- Numpy is a free and open source library.\n",
    "- Its documentation can be found [here](https://numpy.org/devdocs/)."
   ]
  },
  {
   "cell_type": "markdown",
   "metadata": {
    "slideshow": {
     "slide_type": "fragment"
    }
   },
   "source": [
    "- It provides a set of functions to mainly create and manipulate a new types of object:\n",
    "    - *numpy.ndarray* : n-dimensions arrays"
   ]
  },
  {
   "cell_type": "markdown",
   "metadata": {
    "slideshow": {
     "slide_type": "fragment"
    }
   },
   "source": [
    "- Libraries are imported with the intruction: `import`\n",
    "- And usually with an alias, with the keyword `as`"
   ]
  },
  {
   "cell_type": "code",
   "execution_count": 1,
   "metadata": {
    "slideshow": {
     "slide_type": "subslide"
    }
   },
   "outputs": [],
   "source": [
    "import numpy\n",
    "\n",
    "# or better\n",
    "\n",
    "import numpy as np"
   ]
  },
  {
   "cell_type": "markdown",
   "metadata": {
    "slideshow": {
     "slide_type": "fragment"
    }
   },
   "source": [
    "- Then, one can call its elements such as the function:"
   ]
  },
  {
   "cell_type": "code",
   "execution_count": 2,
   "metadata": {
    "slideshow": {
     "slide_type": "fragment"
    }
   },
   "outputs": [
    {
     "name": "stdout",
     "output_type": "stream",
     "text": [
      "3.0\n"
     ]
    }
   ],
   "source": [
    "print(np.sqrt(9))"
   ]
  },
  {
   "cell_type": "markdown",
   "metadata": {
    "slideshow": {
     "slide_type": "slide"
    }
   },
   "source": [
    "### II-2-a Mathematical functions"
   ]
  },
  {
   "cell_type": "markdown",
   "metadata": {
    "slideshow": {
     "slide_type": "fragment"
    }
   },
   "source": [
    "- Numpy defines a large number of standard mathematical functions:\n",
    "    - Trigonometric functions: **cos**, **sin** **tan**, **arccos**, **arcsin**, **arctan**, **cosh**, **sinh**, **tanh**\n",
    "    - Log nd exp functions: **log**, **log10**, **exp**, *etc*.\n",
    "    - Power and root functions : **sqrt**, **cbrt**, **pow**, **square**\n",
    "    - Rounding and absolute value : **abs**, **round**, **floor**, **ceil**.\n",
    "    - And [Many others](https://numpy.org/doc/stable/reference/routines.math.html)."
   ]
  },
  {
   "cell_type": "code",
   "execution_count": 3,
   "metadata": {
    "slideshow": {
     "slide_type": "fragment"
    }
   },
   "outputs": [
    {
     "name": "stdout",
     "output_type": "stream",
     "text": [
      "2\n",
      "0.1353352832366127\n"
     ]
    }
   ],
   "source": [
    "a = -2\n",
    "print(np.abs(a))\n",
    "print(np.exp(a))"
   ]
  },
  {
   "cell_type": "markdown",
   "metadata": {
    "slideshow": {
     "slide_type": "subslide"
    }
   },
   "source": [
    "- It also defines some usefull constants.\n",
    "    - $\\pi$ : `pi`\n",
    "    - Exponentiel number $e$ : `e`\n",
    "    - Infinity: `infty` ou `inf`\n",
    "    - The *not a number* : `nan`"
   ]
  },
  {
   "cell_type": "code",
   "execution_count": 4,
   "metadata": {
    "slideshow": {
     "slide_type": "fragment"
    }
   },
   "outputs": [
    {
     "name": "stdout",
     "output_type": "stream",
     "text": [
      "3.141592653589793\n",
      "-1.0\n"
     ]
    }
   ],
   "source": [
    "print(np.pi)\n",
    "print(np.cos(np.pi))"
   ]
  },
  {
   "cell_type": "code",
   "execution_count": 5,
   "metadata": {
    "slideshow": {
     "slide_type": "fragment"
    }
   },
   "outputs": [
    {
     "name": "stdout",
     "output_type": "stream",
     "text": [
      "2.718281828459045\n",
      "1.0\n",
      "0.1353352832366127 0.1353352832366127\n"
     ]
    }
   ],
   "source": [
    "print(np.e)\n",
    "print(np.log(np.e))\n",
    "print(np.e**(-2), np.exp(-2))"
   ]
  },
  {
   "cell_type": "code",
   "execution_count": 6,
   "metadata": {
    "slideshow": {
     "slide_type": "subslide"
    }
   },
   "outputs": [
    {
     "name": "stdout",
     "output_type": "stream",
     "text": [
      "inf\n",
      "inf\n"
     ]
    }
   ],
   "source": [
    "print(np.infty)\n",
    "print(np.infty + 1)"
   ]
  },
  {
   "cell_type": "code",
   "execution_count": 7,
   "metadata": {
    "slideshow": {
     "slide_type": "fragment"
    }
   },
   "outputs": [
    {
     "name": "stdout",
     "output_type": "stream",
     "text": [
      "nan\n",
      "nan\n"
     ]
    }
   ],
   "source": [
    "print(np.nan)\n",
    "print(np.nan + 1)"
   ]
  },
  {
   "cell_type": "markdown",
   "metadata": {
    "slideshow": {
     "slide_type": "slide"
    }
   },
   "source": [
    "### II-2-b Numpy arrays"
   ]
  },
  {
   "cell_type": "markdown",
   "metadata": {
    "slideshow": {
     "slide_type": "fragment"
    }
   },
   "source": [
    "- The main interest of the Numpy library is its new kind af object, expecially suited for scientific computation is the n-dimentionnal array: `numpy.ndarray` (just called array)"
   ]
  },
  {
   "cell_type": "markdown",
   "metadata": {
    "slideshow": {
     "slide_type": "fragment"
    }
   },
   "source": [
    "- It is usually created from a list (but not necessary)."
   ]
  },
  {
   "cell_type": "markdown",
   "metadata": {
    "slideshow": {
     "slide_type": "fragment"
    }
   },
   "source": [
    "- Be carefull: it looks like a list but it's very different and way much more efficient."
   ]
  },
  {
   "cell_type": "code",
   "execution_count": 8,
   "metadata": {
    "slideshow": {
     "slide_type": "fragment"
    }
   },
   "outputs": [
    {
     "name": "stdout",
     "output_type": "stream",
     "text": [
      "[1.2, 5.9, 12.0] <class 'list'>\n",
      "[ 1.2  5.9 12. ] <class 'numpy.ndarray'>\n"
     ]
    }
   ],
   "source": [
    "lis = [1.2, 5.9, 12.0]\n",
    "tab = np.array(lis)\n",
    "print(lis, type(lis))\n",
    "print(tab, type(tab))"
   ]
  },
  {
   "cell_type": "code",
   "execution_count": 9,
   "metadata": {
    "slideshow": {
     "slide_type": "fragment"
    }
   },
   "outputs": [
    {
     "name": "stdout",
     "output_type": "stream",
     "text": [
      "<class 'numpy.ndarray'>\n",
      "float64\n"
     ]
    }
   ],
   "source": [
    "print(type(tab))\n",
    "print(tab.dtype)"
   ]
  },
  {
   "cell_type": "markdown",
   "metadata": {
    "slideshow": {
     "slide_type": "subslide"
    }
   },
   "source": [
    "- Indexing is done in the same way as for list yet also acceptin tuple, for multidimensions indexing."
   ]
  },
  {
   "cell_type": "code",
   "execution_count": 10,
   "metadata": {
    "slideshow": {
     "slide_type": "fragment"
    }
   },
   "outputs": [
    {
     "name": "stdout",
     "output_type": "stream",
     "text": [
      "[ 1.2  5.9 12. ]\n",
      "1.2\n",
      "12.0\n"
     ]
    }
   ],
   "source": [
    "print(tab)\n",
    "print(tab[0])\n",
    "print(tab[2])"
   ]
  },
  {
   "cell_type": "markdown",
   "metadata": {
    "slideshow": {
     "slide_type": "subslide"
    }
   },
   "source": [
    "- The main interest of Numpy arrays compared to list, is the possibility to perform vector operation rather than just scalar ones (with basic Python operations).\n",
    "- Operators are directly aplied to the whoe array and the resulting values are stored in a new array."
   ]
  },
  {
   "cell_type": "code",
   "execution_count": 11,
   "metadata": {
    "slideshow": {
     "slide_type": "fragment"
    }
   },
   "outputs": [
    {
     "name": "stdout",
     "output_type": "stream",
     "text": [
      "[ 1.2  5.9 12. ]\n",
      "[ 2.4 11.8 24. ]\n",
      "[ 6.2 10.9 17. ]\n"
     ]
    }
   ],
   "source": [
    "tab_2 = tab * 2\n",
    "tab_3 = tab + 5\n",
    "print(tab)\n",
    "print(tab_2)\n",
    "print(tab_3)"
   ]
  },
  {
   "cell_type": "markdown",
   "metadata": {
    "slideshow": {
     "slide_type": "fragment"
    }
   },
   "source": [
    "- Mathematical operations can be directly performed between array, elementwise."
   ]
  },
  {
   "cell_type": "code",
   "execution_count": 12,
   "metadata": {
    "slideshow": {
     "slide_type": "fragment"
    }
   },
   "outputs": [
    {
     "name": "stdout",
     "output_type": "stream",
     "text": [
      "[ 2.4 11.8 24. ]\n",
      "[ 6.2 10.9 17. ]\n",
      "[ 8.6 22.7 41. ]\n"
     ]
    }
   ],
   "source": [
    "tab_4 = tab_2 + tab_3\n",
    "print(tab_2)\n",
    "print(tab_3)\n",
    "print(tab_4)"
   ]
  },
  {
   "cell_type": "markdown",
   "metadata": {
    "slideshow": {
     "slide_type": "subslide"
    }
   },
   "source": [
    "- Even better math function of the numpy library can be applied on arrays (in addition to scalars) !"
   ]
  },
  {
   "cell_type": "code",
   "execution_count": 13,
   "metadata": {
    "slideshow": {
     "slide_type": "fragment"
    }
   },
   "outputs": [
    {
     "name": "stdout",
     "output_type": "stream",
     "text": [
      "[ 1.2  5.9 12. ]\n",
      "3.0\n",
      "[1.09544512 2.42899156 3.46410162]\n"
     ]
    }
   ],
   "source": [
    "print(tab)\n",
    "print(np.sqrt(9))\n",
    "print(np.sqrt(tab))"
   ]
  },
  {
   "cell_type": "markdown",
   "metadata": {
    "slideshow": {
     "slide_type": "fragment"
    }
   },
   "source": [
    "- Which also work with your owned defined functions (if they rely on numpy math functions)."
   ]
  },
  {
   "cell_type": "code",
   "execution_count": 14,
   "metadata": {
    "slideshow": {
     "slide_type": "fragment"
    }
   },
   "outputs": [
    {
     "name": "stdout",
     "output_type": "stream",
     "text": [
      "[ 5.6 19.7 38. ]\n"
     ]
    }
   ],
   "source": [
    "def ma_fonction(x):\n",
    "    return 3*x + 2\n",
    "\n",
    "print(ma_fonction(tab))"
   ]
  },
  {
   "cell_type": "markdown",
   "metadata": {
    "slideshow": {
     "slide_type": "slide"
    }
   },
   "source": [
    "### II-2-c Array creation"
   ]
  },
  {
   "cell_type": "markdown",
   "metadata": {
    "slideshow": {
     "slide_type": "subslide"
    }
   },
   "source": [
    "- Numpy provides many way to create numpy array.\n",
    "    - `array(my_list)` creates an array from an existing list.\n",
    "    - `zeros(N)` creates an array of $N$ zeros.\n",
    "    - `ones(N)` creates an array of $N$ ones.\n",
    "    - `arange(N1, N2, p)` creates an array with values going from $N_1$ (included) to $N_2$ 'excluded) with a step of $p$ (which can be a real number now).\n",
    "    - `linspace(N1, N2, N)` creates an array with $N$ values going from $N_1$ to $N_2$ (both included) with a linear step step of $(N_2-N_1+1)/N$\n",
    "    - `logspace(N1, N2, N)` creates an array with $N$ values going from $10^{N_1}$ to $10^{N_2}$ (both included) logarithmically spaced."
   ]
  },
  {
   "cell_type": "code",
   "execution_count": 15,
   "metadata": {
    "slideshow": {
     "slide_type": "fragment"
    }
   },
   "outputs": [
    {
     "name": "stdout",
     "output_type": "stream",
     "text": [
      "[0. 0. 0. 0. 0.]\n"
     ]
    }
   ],
   "source": [
    "t1 = np.zeros(5)\n",
    "print(t1)"
   ]
  },
  {
   "cell_type": "code",
   "execution_count": 16,
   "metadata": {
    "slideshow": {
     "slide_type": "fragment"
    }
   },
   "outputs": [
    {
     "name": "stdout",
     "output_type": "stream",
     "text": [
      "[1. 1. 1. 1. 1.]\n"
     ]
    }
   ],
   "source": [
    "t2 = np.ones(5)\n",
    "print(t2)"
   ]
  },
  {
   "cell_type": "code",
   "execution_count": 17,
   "metadata": {
    "slideshow": {
     "slide_type": "subslide"
    }
   },
   "outputs": [
    {
     "name": "stdout",
     "output_type": "stream",
     "text": [
      "[0.  0.5 1.  1.5 2.  2.5]\n"
     ]
    }
   ],
   "source": [
    "t3 = np.arange(0, 3, 0.5)\n",
    "print(t3)"
   ]
  },
  {
   "cell_type": "code",
   "execution_count": 18,
   "metadata": {},
   "outputs": [
    {
     "name": "stdout",
     "output_type": "stream",
     "text": [
      "[0.  0.5 1.  1.5 2.  2.5 3. ]\n"
     ]
    }
   ],
   "source": [
    "t4 = np.linspace(0, 3, 7)\n",
    "print(t4)"
   ]
  },
  {
   "cell_type": "markdown",
   "metadata": {
    "slideshow": {
     "slide_type": "subslide"
    }
   },
   "source": [
    "- One can also create N-dimension arrays, which are convenient for data storing."
   ]
  },
  {
   "cell_type": "code",
   "execution_count": 19,
   "metadata": {
    "slideshow": {
     "slide_type": "fragment"
    }
   },
   "outputs": [
    {
     "name": "stdout",
     "output_type": "stream",
     "text": [
      "[[0. 0. 0. 0. 0.]\n",
      " [0. 0. 0. 0. 0.]]\n",
      "[[1. 1. 1. 1. 1.]\n",
      " [1. 1. 1. 1. 1.]]\n"
     ]
    }
   ],
   "source": [
    "length_dim = (2, 5) # rows, colunms\n",
    "\n",
    "tab_2d_0 = np.zeros(length_dim)\n",
    "print(tab_2d_0)\n",
    "\n",
    "tab_2d_1 = np.ones(length_dim)\n",
    "print(tab_2d_1)"
   ]
  },
  {
   "cell_type": "code",
   "execution_count": 20,
   "metadata": {},
   "outputs": [
    {
     "name": "stdout",
     "output_type": "stream",
     "text": [
      "[ 0  1  2  3  4  5  6  7  8  9 10 11 12 13 14 15 16 17 18 19 20 21 22 23\n",
      " 24]\n",
      "[[ 0  1  2  3  4]\n",
      " [ 5  6  7  8  9]\n",
      " [10 11 12 13 14]\n",
      " [15 16 17 18 19]\n",
      " [20 21 22 23 24]]\n"
     ]
    }
   ],
   "source": [
    "tab_1d = np.arange(25)\n",
    "print(tab_1d)\n",
    "\n",
    "length_dim = (5, 5)  # rows, colunms\n",
    "tab_2d = np.reshape(tab_1d, length_dim)\n",
    "print(tab_2d)"
   ]
  },
  {
   "cell_type": "markdown",
   "metadata": {
    "slideshow": {
     "slide_type": "slide"
    }
   },
   "source": [
    "### II-2-d Array Indexing"
   ]
  },
  {
   "cell_type": "markdown",
   "metadata": {
    "slideshow": {
     "slide_type": "fragment"
    }
   },
   "source": [
    "- Array indexing is basically done in the same way as standard list but with more options:\n",
    "    - a tuple of indices can be used to index multi-dimension array.\n",
    "    - more features to come later."
   ]
  },
  {
   "cell_type": "code",
   "execution_count": 21,
   "metadata": {
    "slideshow": {
     "slide_type": "fragment"
    }
   },
   "outputs": [
    {
     "name": "stdout",
     "output_type": "stream",
     "text": [
      "[[ 0  1  2  3  4]\n",
      " [ 5  6  7  8  9]\n",
      " [10 11 12 13 14]\n",
      " [15 16 17 18 19]\n",
      " [20 21 22 23 24]]\n",
      "7\n",
      "[5 6 7 8 9]\n",
      "[ 3  8 13 18 23]\n",
      "[[0 1]\n",
      " [5 6]]\n"
     ]
    }
   ],
   "source": [
    "print(tab_2d)\n",
    "print(tab_2d[1, 2]) # value at row 1 and column 2\n",
    "print(tab_2d[1, :]) # all tha values of row 1\n",
    "print(tab_2d[:, 3]) # all the values of column 3\n",
    "print(tab_2d[0:2, 0:2]) # the top left 2x2 array"
   ]
  },
  {
   "cell_type": "markdown",
   "metadata": {
    "slideshow": {
     "slide_type": "slide"
    }
   },
   "source": [
    "### II-2-e Arrays manipulation"
   ]
  },
  {
   "cell_type": "markdown",
   "metadata": {
    "slideshow": {
     "slide_type": "fragment"
    }
   },
   "source": [
    "- There are many convenient function for array manipulation:\n",
    "- Thty can be applied on separated dimensions of the array\n",
    "    - flip along one several dimensions: `flip`\n",
    "    - shift along one several dimensions: `roll`\n",
    "    - calculate the sum or the product along one several dimensions: `sum` et `prod`\n",
    "    - calculate the mean or the std along one several dimensions: `mean` et `std`\n",
    "    - copy an array (true copy not reference): `copy`"
   ]
  },
  {
   "cell_type": "code",
   "execution_count": 22,
   "metadata": {
    "slideshow": {
     "slide_type": "subslide"
    }
   },
   "outputs": [
    {
     "name": "stdout",
     "output_type": "stream",
     "text": [
      "[[ 0  1  2  3  4]\n",
      " [ 5  6  7  8  9]\n",
      " [10 11 12 13 14]\n",
      " [15 16 17 18 19]\n",
      " [20 21 22 23 24]]\n"
     ]
    }
   ],
   "source": [
    "print(tab_2d)"
   ]
  },
  {
   "cell_type": "code",
   "execution_count": 23,
   "metadata": {
    "slideshow": {
     "slide_type": "fragment"
    }
   },
   "outputs": [
    {
     "name": "stdout",
     "output_type": "stream",
     "text": [
      "[[24 23 22 21 20]\n",
      " [19 18 17 16 15]\n",
      " [14 13 12 11 10]\n",
      " [ 9  8  7  6  5]\n",
      " [ 4  3  2  1  0]]\n"
     ]
    }
   ],
   "source": [
    "print(np.flip(tab_2d)) # flip both dimensions"
   ]
  },
  {
   "cell_type": "code",
   "execution_count": 24,
   "metadata": {
    "slideshow": {
     "slide_type": "subslide"
    }
   },
   "outputs": [
    {
     "data": {
      "text/plain": [
       "array([[20, 21, 22, 23, 24],\n",
       "       [15, 16, 17, 18, 19],\n",
       "       [10, 11, 12, 13, 14],\n",
       "       [ 5,  6,  7,  8,  9],\n",
       "       [ 0,  1,  2,  3,  4]])"
      ]
     },
     "execution_count": 24,
     "metadata": {},
     "output_type": "execute_result"
    }
   ],
   "source": [
    "np.flip(tab_2d, axis=0) # flip along the rows"
   ]
  },
  {
   "cell_type": "code",
   "execution_count": 25,
   "metadata": {
    "slideshow": {
     "slide_type": "fragment"
    }
   },
   "outputs": [
    {
     "data": {
      "text/plain": [
       "array([[ 4,  3,  2,  1,  0],\n",
       "       [ 9,  8,  7,  6,  5],\n",
       "       [14, 13, 12, 11, 10],\n",
       "       [19, 18, 17, 16, 15],\n",
       "       [24, 23, 22, 21, 20]])"
      ]
     },
     "execution_count": 25,
     "metadata": {},
     "output_type": "execute_result"
    }
   ],
   "source": [
    "np.flip(tab_2d, axis=1) # flip along the columns"
   ]
  },
  {
   "cell_type": "code",
   "execution_count": 26,
   "metadata": {
    "slideshow": {
     "slide_type": "subslide"
    }
   },
   "outputs": [
    {
     "name": "stdout",
     "output_type": "stream",
     "text": [
      "[[0 1]\n",
      " [2 3]\n",
      " [4 5]\n",
      " [6 7]\n",
      " [8 9]]\n"
     ]
    }
   ],
   "source": [
    "tab_2d = np.arange(10).reshape([5,2]) # array of 5 rows and 2 columns\n",
    "print(tab_2d)"
   ]
  },
  {
   "cell_type": "code",
   "execution_count": 27,
   "metadata": {
    "slideshow": {
     "slide_type": "fragment"
    }
   },
   "outputs": [
    {
     "name": "stdout",
     "output_type": "stream",
     "text": [
      "45\n"
     ]
    }
   ],
   "source": [
    "print(np.sum(tab_2d)) # sum all the elements"
   ]
  },
  {
   "cell_type": "code",
   "execution_count": 28,
   "metadata": {},
   "outputs": [
    {
     "name": "stdout",
     "output_type": "stream",
     "text": [
      "[20 25]\n"
     ]
    }
   ],
   "source": [
    "print(np.sum(tab_2d, axis=0)) # sum along the rows"
   ]
  },
  {
   "cell_type": "code",
   "execution_count": 29,
   "metadata": {},
   "outputs": [
    {
     "name": "stdout",
     "output_type": "stream",
     "text": [
      "[ 1  5  9 13 17]\n"
     ]
    }
   ],
   "source": [
    "print(np.sum(tab_2d, axis=1)) # sum along the columns"
   ]
  },
  {
   "cell_type": "markdown",
   "metadata": {
    "slideshow": {
     "slide_type": "subslide"
    }
   },
   "source": [
    "- One can also easily concatenate or stack arrays"
   ]
  },
  {
   "cell_type": "code",
   "execution_count": 30,
   "metadata": {
    "slideshow": {
     "slide_type": "fragment"
    }
   },
   "outputs": [
    {
     "name": "stdout",
     "output_type": "stream",
     "text": [
      "[0 1 2 3 4]\n",
      "---\n",
      "[5 6 7 8 9]\n",
      "---\n",
      "[0 1 2 3 4 5 6 7 8 9]\n",
      "---\n",
      "[[0 1 2 3 4]\n",
      " [5 6 7 8 9]]\n",
      "---\n",
      "[0 1 2 3 4 5 6 7 8 9]\n"
     ]
    }
   ],
   "source": [
    "t1 = np.arange(0, 5)\n",
    "t2 = np.arange(5, 10)\n",
    "\n",
    "print(t1)\n",
    "print(\"---\")\n",
    "print(t2)\n",
    "print(\"---\")\n",
    "print(np.concatenate([t1, t2]))\n",
    "print(\"---\")\n",
    "print(np.vstack([t1, t2]))\n",
    "print(\"---\")\n",
    "print(np.hstack([t1, t2]))"
   ]
  },
  {
   "cell_type": "code",
   "execution_count": 31,
   "metadata": {
    "slideshow": {
     "slide_type": "subslide"
    }
   },
   "outputs": [
    {
     "name": "stdout",
     "output_type": "stream",
     "text": [
      "[[0 1 2 3 4]\n",
      " [5 6 7 8 9]]\n",
      "---\n",
      "[[10 11 12 13 14]\n",
      " [15 16 17 18 19]]\n",
      "---\n",
      "[[ 0  1  2  3  4]\n",
      " [ 5  6  7  8  9]\n",
      " [10 11 12 13 14]\n",
      " [15 16 17 18 19]]\n",
      "---\n",
      "[[ 0  1  2  3  4]\n",
      " [ 5  6  7  8  9]\n",
      " [10 11 12 13 14]\n",
      " [15 16 17 18 19]]\n",
      "---\n",
      "[[ 0  1  2  3  4 10 11 12 13 14]\n",
      " [ 5  6  7  8  9 15 16 17 18 19]]\n"
     ]
    }
   ],
   "source": [
    "t1 = np.arange(0, 10).reshape([2, 5]) # 2 rows and 5 columns\n",
    "t2 = np.arange(10, 20).reshape([2, 5]) # 2 rows and 5 columns\n",
    "\n",
    "print(t1)\n",
    "print(\"---\")\n",
    "print(t2)\n",
    "print(\"---\")\n",
    "print(np.concatenate([t1, t2]))\n",
    "print(\"---\")\n",
    "print(np.vstack([t1, t2]))\n",
    "print(\"---\")\n",
    "print(np.hstack([t1, t2]))"
   ]
  },
  {
   "cell_type": "markdown",
   "metadata": {
    "slideshow": {
     "slide_type": "slide"
    }
   },
   "source": [
    "### II-2-f Input/output files"
   ]
  },
  {
   "cell_type": "markdown",
   "metadata": {
    "slideshow": {
     "slide_type": "fragment"
    }
   },
   "source": [
    "- Numpy provides function to save an array in a file or reading it from a file:"
   ]
  },
  {
   "cell_type": "code",
   "execution_count": 32,
   "metadata": {
    "slideshow": {
     "slide_type": "fragment"
    }
   },
   "outputs": [
    {
     "name": "stdout",
     "output_type": "stream",
     "text": [
      "[[0. 0. 0. 0. 0.]\n",
      " [0. 0. 0. 0. 0.]]\n"
     ]
    }
   ],
   "source": [
    "my_array = np.zeros([2, 5])\n",
    "print(my_array)"
   ]
  },
  {
   "cell_type": "markdown",
   "metadata": {
    "slideshow": {
     "slide_type": "subslide"
    }
   },
   "source": [
    "- In text format (convenient for small 1D or 2D arrays): `savetxt` and `loadtxt`"
   ]
  },
  {
   "cell_type": "code",
   "execution_count": 33,
   "metadata": {
    "slideshow": {
     "slide_type": "fragment"
    }
   },
   "outputs": [],
   "source": [
    "np.savetxt(\"file_name.txt\", my_array) # Save\n",
    "my_array = np.loadtxt(\"file_name.txt\") # Load"
   ]
  },
  {
   "cell_type": "markdown",
   "metadata": {
    "slideshow": {
     "slide_type": "subslide"
    }
   },
   "source": [
    "- In a dedicated binary format (much more efficient, especially for Gate trees): `save` and `load` (extension `.npy`)"
   ]
  },
  {
   "cell_type": "code",
   "execution_count": 34,
   "metadata": {
    "slideshow": {
     "slide_type": "fragment"
    }
   },
   "outputs": [],
   "source": [
    "np.save(\"file_name.npy\", my_array) # Save\n",
    "my_array = np.load(\"file_name.npy\") # Load"
   ]
  },
  {
   "cell_type": "markdown",
   "metadata": {
    "slideshow": {
     "slide_type": "fragment"
    }
   },
   "source": [
    "- One can also save several several arrays in a single file (in binary): `savez` (extension `.npz`)"
   ]
  },
  {
   "cell_type": "code",
   "execution_count": 35,
   "metadata": {
    "slideshow": {
     "slide_type": "fragment"
    }
   },
   "outputs": [
    {
     "name": "stdout",
     "output_type": "stream",
     "text": [
      "['my_array_name_1', 'my_array_name_2']\n",
      "[[0. 0. 0. 0. 0.]\n",
      " [0. 0. 0. 0. 0.]]\n",
      "[[0. 0. 0. 0. 0.]\n",
      " [0. 0. 0. 0. 0.]]\n"
     ]
    }
   ],
   "source": [
    "np.savez(\"file_name.npz\", my_array_name_1=my_array, my_array_name_2=my_array) # Save\n",
    "my_arrays = np.load(\"file_name.npz\") # Load the whole file\n",
    "print(my_arrays.files)\n",
    "my_array_1 = my_arrays[\"my_array_name_1\"] # get array 1\n",
    "my_array_2 = my_arrays[\"my_array_name_2\"] # get array 2\n",
    "print(my_array_1)\n",
    "print(my_array_2)"
   ]
  },
  {
   "cell_type": "markdown",
   "metadata": {
    "slideshow": {
     "slide_type": "slide"
    }
   },
   "source": [
    "### II-2-g Structured Arrays"
   ]
  },
  {
   "cell_type": "markdown",
   "metadata": {
    "slideshow": {
     "slide_type": "fragment"
    }
   },
   "source": [
    "- Numpy provides a more advanced version of its standard array called the structured array (or record array).\n",
    "- Their main features compared to stndard arrays are:\n",
    "    - Data are more easily accessed by columns\n",
    "    - Columns have a name\n",
    "    - Each column can be of a different type (an even a array)\n",
    "- They are the most convenient (numpy) object for data analysis.\n",
    "- This is the one to be used for Gate as they are the closest object to a root tree."
   ]
  },
  {
   "cell_type": "code",
   "execution_count": 36,
   "metadata": {
    "slideshow": {
     "slide_type": "fragment"
    }
   },
   "outputs": [
    {
     "name": "stdout",
     "output_type": "stream",
     "text": [
      "[(0, 0., False) (0, 0., False) (0, 0., False) (0, 0., False)\n",
      " (0, 0., False)]\n"
     ]
    }
   ],
   "source": [
    "s_tab = np.zeros(5, dtype=[(\"colonne_1\", int), (\"colonne_2\", float), (\"colonne_3\", bool)])\n",
    "print(s_tab) # their printing is quite ugly"
   ]
  },
  {
   "cell_type": "markdown",
   "metadata": {
    "slideshow": {
     "slide_type": "subslide"
    }
   },
   "source": [
    "- Lines are accessed by standard indexing."
   ]
  },
  {
   "cell_type": "code",
   "execution_count": 37,
   "metadata": {
    "slideshow": {
     "slide_type": "fragment"
    }
   },
   "outputs": [
    {
     "name": "stdout",
     "output_type": "stream",
     "text": [
      "(0, 0., False)\n"
     ]
    }
   ],
   "source": [
    "print(s_tab[0])"
   ]
  },
  {
   "cell_type": "markdown",
   "metadata": {
    "slideshow": {
     "slide_type": "fragment"
    }
   },
   "source": [
    "- Columns are accessed by its name."
   ]
  },
  {
   "cell_type": "code",
   "execution_count": 38,
   "metadata": {
    "slideshow": {
     "slide_type": "fragment"
    }
   },
   "outputs": [
    {
     "name": "stdout",
     "output_type": "stream",
     "text": [
      "[0 0 0 0 0]\n",
      "[False False False False False]\n"
     ]
    }
   ],
   "source": [
    "print(s_tab[\"colonne_1\"])\n",
    "print(s_tab[\"colonne_3\"])"
   ]
  },
  {
   "cell_type": "markdown",
   "metadata": {
    "slideshow": {
     "slide_type": "slide"
    }
   },
   "source": [
    "## II-3 Matplotlib"
   ]
  },
  {
   "cell_type": "markdown",
   "metadata": {
    "slideshow": {
     "slide_type": "subslide"
    }
   },
   "source": [
    "- **Matplotlib** (and in particular its sub-module **matplotlib.pyplot**) is the graphical library that allow to produce nice figures of all kinds. "
   ]
  },
  {
   "cell_type": "markdown",
   "metadata": {
    "slideshow": {
     "slide_type": "fragment"
    }
   },
   "source": [
    "- As for each library, it comes with its own [online documentation](https://matplotlib.org/).\n",
    "- It's a quite rich library providing tones of graphical options."
   ]
  },
  {
   "cell_type": "code",
   "execution_count": 39,
   "metadata": {
    "slideshow": {
     "slide_type": "fragment"
    }
   },
   "outputs": [],
   "source": [
    "import matplotlib.pyplot as plt"
   ]
  },
  {
   "cell_type": "markdown",
   "metadata": {
    "slideshow": {
     "slide_type": "slide"
    }
   },
   "source": [
    "### II-3-a Images"
   ]
  },
  {
   "cell_type": "markdown",
   "metadata": {
    "slideshow": {
     "slide_type": "fragment"
    }
   },
   "source": [
    "- Image (black and white) are basically 2D-arrays with the values corresponding to a value on a colorscale."
   ]
  },
  {
   "cell_type": "markdown",
   "metadata": {
    "slideshow": {
     "slide_type": "fragment"
    }
   },
   "source": [
    "- The `imshow` function can be used to display these 2D-arrays."
   ]
  },
  {
   "cell_type": "code",
   "execution_count": 40,
   "metadata": {
    "slideshow": {
     "slide_type": "fragment"
    }
   },
   "outputs": [
    {
     "name": "stdout",
     "output_type": "stream",
     "text": [
      "[[0. 0. 1. ... 2. 2. 2.]\n",
      " [0. 0. 1. ... 2. 2. 2.]\n",
      " [1. 1. 1. ... 2. 2. 2.]\n",
      " ...\n",
      " [1. 1. 1. ... 1. 1. 1.]\n",
      " [0. 0. 0. ... 1. 1. 1.]\n",
      " [0. 0. 0. ... 1. 1. 1.]]\n"
     ]
    }
   ],
   "source": [
    "imag = np.loadtxt('image.txt')\n",
    "print(imag)"
   ]
  },
  {
   "cell_type": "code",
   "execution_count": 41,
   "metadata": {
    "slideshow": {
     "slide_type": "subslide"
    }
   },
   "outputs": [
    {
     "data": {
      "image/png": "[encoded data removed]",
      "text/plain": [
       "<Figure size 640x480 with 2 Axes>"
      ]
     },
     "metadata": {},
     "output_type": "display_data"
    }
   ],
   "source": [
    "plt.figure() # create a new figure\n",
    "plt.imshow(imag, cmap='Greys_r') # draw the image\n",
    "plt.colorbar() # draw the colorscale\n",
    "plt.show() # display the image"
   ]
  },
  {
   "cell_type": "markdown",
   "metadata": {
    "slideshow": {
     "slide_type": "subslide"
    }
   },
   "source": [
    "- Various colormap can be used.\n",
    "- The colormap list can be found [here](https://matplotlib.org/tutorials/colors/colormaps.html?highlight=colormap)"
   ]
  },
  {
   "cell_type": "code",
   "execution_count": 42,
   "metadata": {
    "slideshow": {
     "slide_type": "fragment"
    }
   },
   "outputs": [
    {
     "data": {
      "image/png": "[encoded data removed]",
      "text/plain": [
       "<Figure size 640x480 with 2 Axes>"
      ]
     },
     "metadata": {},
     "output_type": "display_data"
    }
   ],
   "source": [
    "plt.figure()\n",
    "plt.imshow(imag, cmap='viridis') #the (current) default colormap\n",
    "plt.colorbar()\n",
    "plt.show()"
   ]
  },
  {
   "cell_type": "markdown",
   "metadata": {
    "slideshow": {
     "slide_type": "slide"
    }
   },
   "source": [
    "### II-3-b XY plots"
   ]
  },
  {
   "cell_type": "markdown",
   "metadata": {
    "slideshow": {
     "slide_type": "fragment"
    }
   },
   "source": [
    "- The probably most common figure one have to create are the basic cartesian *xy plots*.\n",
    "- This is easily dome by using the `plot` function with the following arguments:\n",
    "    - an array (or list) `x` pour the abscissae\n",
    "    - an array (or list) `y` pour the ordinates\n",
    "- This is very useful to plot mathematical functions."
   ]
  },
  {
   "cell_type": "code",
   "execution_count": 43,
   "metadata": {
    "slideshow": {
     "slide_type": "subslide"
    }
   },
   "outputs": [],
   "source": [
    "def square(x):\n",
    "    return x**2"
   ]
  },
  {
   "cell_type": "code",
   "execution_count": 44,
   "metadata": {
    "slideshow": {
     "slide_type": "fragment"
    }
   },
   "outputs": [],
   "source": [
    "x = np.arange(-5, 5, 0.1) # from -5 (included) to 5 (excluded) by step of 0.1\n",
    "y = square(x)"
   ]
  },
  {
   "cell_type": "code",
   "execution_count": 45,
   "metadata": {
    "slideshow": {
     "slide_type": "fragment"
    }
   },
   "outputs": [
    {
     "data": {
      "image/png": "[encoded data removed]",
      "text/plain": [
       "<Figure size 640x480 with 1 Axes>"
      ]
     },
     "metadata": {},
     "output_type": "display_data"
    }
   ],
   "source": [
    "plt.figure() # create the figure\n",
    "plt.plot(x, y) # draw the curve\n",
    "plt.show() # display the figure"
   ]
  },
  {
   "cell_type": "markdown",
   "metadata": {
    "slideshow": {
     "slide_type": "subslide"
    }
   },
   "source": [
    "- By default a solid line is drawn between the points.\n",
    "- Discret markers can also be drawn instead or in addition.\n",
    "- They are selected by passing a character:\n",
    "    - `\"o\"` for a large dot; \n",
    "    - `\"x\"` for a cross ;\n",
    "    - `\"-\"` for a solid line ;\n",
    "    - \"`--\"` for a dashed line ;\n",
    "    - *etc*.\n",
    "    \n",
    " - The **markers** list can be found [here](https://matplotlib.org/api/markers_api.html?highlight=marker#module-matplotlib.markers)."
   ]
  },
  {
   "cell_type": "markdown",
   "metadata": {
    "slideshow": {
     "slide_type": "fragment"
    }
   },
   "source": [
    "- The color of the marker/line can be changed by passing a character as an argument.\n",
    "- The color list can be found [here](https://matplotlib.org/stable/tutorials/colors/colors.html)."
   ]
  },
  {
   "cell_type": "code",
   "execution_count": 46,
   "metadata": {
    "slideshow": {
     "slide_type": "subslide"
    }
   },
   "outputs": [
    {
     "data": {
      "image/png": "[encoded data removed]",
      "text/plain": [
       "<Figure size 640x480 with 1 Axes>"
      ]
     },
     "metadata": {},
     "output_type": "display_data"
    }
   ],
   "source": [
    "plt.figure()\n",
    "plt.plot(x, y, 'rx') # red cross\n",
    "plt.show()"
   ]
  },
  {
   "cell_type": "markdown",
   "metadata": {
    "slideshow": {
     "slide_type": "slide"
    }
   },
   "source": [
    "### II-3-c Errorbar plots"
   ]
  },
  {
   "cell_type": "markdown",
   "metadata": {
    "slideshow": {
     "slide_type": "fragment"
    }
   },
   "source": [
    "- As physicists we mostly prefer to make plot with diplayed errorbars.\n",
    "- This can be done with the `errorbar` function, taking the same arguments than the `plot` function."
   ]
  },
  {
   "cell_type": "markdown",
   "metadata": {
    "slideshow": {
     "slide_type": "fragment"
    }
   },
   "source": [
    "- Let's take the example of a dataset following a linear behavior a  slope $a=2$ and intercept $b=3$ with uncertainties.\n",
    "- It is stored in a text file *data_lin.txt* containing a 2D array of four columns: $x$, $y$, $\\Delta x$ and $\\Delta y$."
   ]
  },
  {
   "cell_type": "code",
   "execution_count": 47,
   "metadata": {
    "slideshow": {
     "slide_type": "fragment"
    }
   },
   "outputs": [
    {
     "name": "stdout",
     "output_type": "stream",
     "text": [
      "[[-1.08520203  0.83483844  1.          1.        ]\n",
      " [ 2.88317633  3.67748837  1.          1.        ]\n",
      " [ 3.15927146  6.02708045  1.          1.        ]\n",
      " [ 2.14104221  7.4480692   1.          1.        ]\n",
      " [ 5.08065137 10.36070796  1.          1.        ]\n",
      " [ 6.53374381 14.35258021  1.          1.        ]\n",
      " [ 5.00098971 14.69572241  1.          1.        ]\n",
      " [ 7.23303821 18.04277489  1.          1.        ]\n",
      " [ 7.5006877  18.62087372  1.          1.        ]\n",
      " [ 9.71585835 21.71083493  1.          1.        ]]\n"
     ]
    }
   ],
   "source": [
    "data = np.loadtxt('data_lin.txt')\n",
    "print(data)"
   ]
  },
  {
   "cell_type": "code",
   "execution_count": 48,
   "metadata": {
    "slideshow": {
     "slide_type": "subslide"
    }
   },
   "outputs": [
    {
     "name": "stdout",
     "output_type": "stream",
     "text": [
      "[-1.08520203  2.88317633  3.15927146  2.14104221  5.08065137  6.53374381\n",
      "  5.00098971  7.23303821  7.5006877   9.71585835]\n",
      "[ 0.83483844  3.67748837  6.02708045  7.4480692  10.36070796 14.35258021\n",
      " 14.69572241 18.04277489 18.62087372 21.71083493]\n",
      "[1. 1. 1. 1. 1. 1. 1. 1. 1. 1.]\n",
      "[1. 1. 1. 1. 1. 1. 1. 1. 1. 1.]\n"
     ]
    }
   ],
   "source": [
    "x = data[:,0] # first column\n",
    "y = data[:,1] # second column\n",
    "dx = data[:,2] # third column\n",
    "dy = data[:,3] # fourth column\n",
    "print(x)\n",
    "print(y)\n",
    "print(dx)\n",
    "print(dy)"
   ]
  },
  {
   "cell_type": "code",
   "execution_count": 49,
   "metadata": {
    "slideshow": {
     "slide_type": "subslide"
    }
   },
   "outputs": [
    {
     "data": {
      "image/png": "[encoded data removed]",
      "text/plain": [
       "<Figure size 640x480 with 1 Axes>"
      ]
     },
     "metadata": {},
     "output_type": "display_data"
    }
   ],
   "source": [
    "plt.figure()\n",
    "plt.errorbar(x, y, xerr=dx, yerr=dy, fmt='o')\n",
    "plt.show()"
   ]
  },
  {
   "cell_type": "markdown",
   "metadata": {
    "slideshow": {
     "slide_type": "subslide"
    }
   },
   "source": [
    "- Let's superimpose a linear function on the data."
   ]
  },
  {
   "cell_type": "code",
   "execution_count": 50,
   "metadata": {
    "slideshow": {
     "slide_type": "fragment"
    }
   },
   "outputs": [],
   "source": [
    "def lin_fonc(x, a, b):\n",
    "    return a*x + b"
   ]
  },
  {
   "cell_type": "code",
   "execution_count": 51,
   "metadata": {
    "slideshow": {
     "slide_type": "fragment"
    }
   },
   "outputs": [],
   "source": [
    "pente = 2\n",
    "intercept = 3\n",
    "x_fonc = np.arange(-5, 15, 0.01) # we take a very small step\n",
    "y_fonc = lin_fonc(x_fonc, pente, intercept)"
   ]
  },
  {
   "cell_type": "code",
   "execution_count": 52,
   "metadata": {
    "slideshow": {
     "slide_type": "subslide"
    }
   },
   "outputs": [
    {
     "data": {
      "image/png": "[encoded data removed]",
      "text/plain": [
       "<Figure size 640x480 with 1 Axes>"
      ]
     },
     "metadata": {},
     "output_type": "display_data"
    }
   ],
   "source": [
    "plt.figure()\n",
    "plt.errorbar(x, y, xerr=dx, yerr=dy, fmt='o', label=\"Exp data\") # draw the datapoint with errorbars\n",
    "plt.plot(x_fonc, y_fonc, label=\"lin func\") # draw the linear function\n",
    "plt.legend() # Draw the lengend\n",
    "plt.show()"
   ]
  },
  {
   "cell_type": "markdown",
   "metadata": {
    "slideshow": {
     "slide_type": "slide"
    }
   },
   "source": [
    "### II-3-d Histograms"
   ]
  },
  {
   "cell_type": "markdown",
   "metadata": {
    "slideshow": {
     "slide_type": "fragment"
    }
   },
   "source": [
    "- As we produce data from Monte Carlo simulation, we usually to deal with distributions that can be studied with histrogams \n",
    "    - The function `hist` creates 1D histograms\n",
    "    - The function `hist2d` creates 2D histograms"
   ]
  },
  {
   "cell_type": "markdown",
   "metadata": {
    "slideshow": {
     "slide_type": "fragment"
    }
   },
   "source": [
    "- Let's create a random dataset of energy, x-position and y-position following a normal distributions "
   ]
  },
  {
   "cell_type": "code",
   "execution_count": 53,
   "metadata": {
    "slideshow": {
     "slide_type": "subslide"
    }
   },
   "outputs": [],
   "source": [
    "N = 10000 # number of particles\n",
    "ener = np.random.normal(511, 20, N) # mean energy 511 keV, sigma=22 keV\n",
    "xpos = np.random.normal(10, 2, N)\n",
    "ypos = np.random.normal(-10, 2, N)"
   ]
  },
  {
   "cell_type": "code",
   "execution_count": 54,
   "metadata": {
    "slideshow": {
     "slide_type": "subslide"
    }
   },
   "outputs": [
    {
     "data": {
      "image/png": "[encoded data removed]",
      "text/plain": [
       "<Figure size 640x480 with 1 Axes>"
      ]
     },
     "metadata": {},
     "output_type": "display_data"
    }
   ],
   "source": [
    "plt.figure()\n",
    "plt.hist(ener, bins=100, range=(400, 600), density=True)\n",
    "plt.xlabel(\"Energy (keV)\")\n",
    "plt.ylabel(\"Density frequency\")\n",
    "plt.title(\"Energy distribution\")\n",
    "plt.show()"
   ]
  },
  {
   "cell_type": "code",
   "execution_count": 55,
   "metadata": {
    "slideshow": {
     "slide_type": "subslide"
    }
   },
   "outputs": [
    {
     "data": {
      "image/png": "[encoded data removed]",
      "text/plain": [
       "<Figure size 640x480 with 2 Axes>"
      ]
     },
     "metadata": {},
     "output_type": "display_data"
    }
   ],
   "source": [
    "plt.figure()\n",
    "plt.hist2d(xpos, ypos, bins=50, range=((-20, 20), (-20,20)), density=True)\n",
    "plt.colorbar()\n",
    "plt.show()"
   ]
  },
  {
   "cell_type": "markdown",
   "metadata": {
    "slideshow": {
     "slide_type": "slide"
    }
   },
   "source": [
    "## II-4 Advanced numpy indexing"
   ]
  },
  {
   "cell_type": "markdown",
   "metadata": {
    "slideshow": {
     "slide_type": "subslide"
    }
   },
   "source": [
    "- As previously seen, one can index an array by extracting a sub-array from index `i1` (included) to `i2` (excluded)."
   ]
  },
  {
   "cell_type": "code",
   "execution_count": 56,
   "metadata": {
    "slideshow": {
     "slide_type": "fragment"
    }
   },
   "outputs": [
    {
     "name": "stdout",
     "output_type": "stream",
     "text": [
      "[ 1 24  5 36 42  9  8 11]\n"
     ]
    }
   ],
   "source": [
    "tab_1 = np.array([1, 24, 5, 36, 42, 9, 8, 11])\n",
    "print(tab_1)"
   ]
  },
  {
   "cell_type": "code",
   "execution_count": 57,
   "metadata": {
    "slideshow": {
     "slide_type": "fragment"
    }
   },
   "outputs": [
    {
     "name": "stdout",
     "output_type": "stream",
     "text": [
      "[ 5 36 42]\n"
     ]
    }
   ],
   "source": [
    "tab_2 = tab_1[2:5]\n",
    "print(tab_2)"
   ]
  },
  {
   "cell_type": "markdown",
   "metadata": {
    "slideshow": {
     "slide_type": "fragment"
    }
   },
   "source": [
    "- This is usefull but limited to contiguous values."
   ]
  },
  {
   "cell_type": "markdown",
   "metadata": {
    "slideshow": {
     "slide_type": "fragment"
    }
   },
   "source": [
    "- For data analysis it will be often usefull to cut values at various position at once.\n",
    "    - To remove spurious values ;\n",
    "    - To select a region of interest ;"
   ]
  },
  {
   "cell_type": "markdown",
   "metadata": {
    "slideshow": {
     "slide_type": "slide"
    }
   },
   "source": [
    "### II-4-a Indexing by an array of integers"
   ]
  },
  {
   "cell_type": "markdown",
   "metadata": {
    "slideshow": {
     "slide_type": "fragment"
    }
   },
   "source": [
    "- It is possible to index numoy arrays by an array of integers corresponding to the values to be kept. \n",
    "- A sub-array with these values will be created."
   ]
  },
  {
   "cell_type": "code",
   "execution_count": 58,
   "metadata": {
    "slideshow": {
     "slide_type": "fragment"
    }
   },
   "outputs": [
    {
     "name": "stdout",
     "output_type": "stream",
     "text": [
      "[ 1 24  5 36 42  9  8 11]\n"
     ]
    }
   ],
   "source": [
    "print(tab_1)"
   ]
  },
  {
   "cell_type": "markdown",
   "metadata": {
    "slideshow": {
     "slide_type": "fragment"
    }
   },
   "source": [
    "- We want to extract the even values of `tab_1`"
   ]
  },
  {
   "cell_type": "code",
   "execution_count": 59,
   "metadata": {
    "slideshow": {
     "slide_type": "fragment"
    }
   },
   "outputs": [
    {
     "name": "stdout",
     "output_type": "stream",
     "text": [
      "[1 3 4 6]\n"
     ]
    }
   ],
   "source": [
    "indices_even = np.array([1, 3, 4, 6])\n",
    "print(indices_even)"
   ]
  },
  {
   "cell_type": "markdown",
   "metadata": {
    "slideshow": {
     "slide_type": "subslide"
    }
   },
   "source": [
    "- Problem here: we created the indexing array by hand !"
   ]
  },
  {
   "cell_type": "markdown",
   "metadata": {
    "slideshow": {
     "slide_type": "fragment"
    }
   },
   "source": [
    "- It would be more usefull to be able to set a condition and index the array to extract the values where the condition is true !"
   ]
  },
  {
   "cell_type": "markdown",
   "metadata": {
    "slideshow": {
     "slide_type": "fragment"
    }
   },
   "source": [
    "- <font color=\"red\">Well, this work exactly as said !</font>"
   ]
  },
  {
   "cell_type": "markdown",
   "metadata": {
    "slideshow": {
     "slide_type": "slide"
    }
   },
   "source": [
    "## II-4-b Indexing with booleans"
   ]
  },
  {
   "cell_type": "markdown",
   "metadata": {
    "slideshow": {
     "slide_type": "subslide"
    }
   },
   "source": [
    "- <font color=\"red\">One can apply a condition directly on an array.</font>\n",
    "- <font color=\"red\">This will create an array of boolean of the exact same length with the value at `True` where the condition is satisfied.</font>\n",
    "- <font color=\"red\">This boolean array can be used to index the initial array.</font>\n",
    "- <font color=\"red\">This will create a sub-array with the values satifying the condition.</font>"
   ]
  },
  {
   "cell_type": "markdown",
   "metadata": {
    "slideshow": {
     "slide_type": "subslide"
    }
   },
   "source": [
    "- Let's try on the previous array to extract the even values."
   ]
  },
  {
   "cell_type": "code",
   "execution_count": 60,
   "metadata": {
    "slideshow": {
     "slide_type": "fragment"
    }
   },
   "outputs": [
    {
     "name": "stdout",
     "output_type": "stream",
     "text": [
      "[ 1 24  5 36 42  9  8 11]\n"
     ]
    }
   ],
   "source": [
    "print(tab_1)"
   ]
  },
  {
   "cell_type": "code",
   "execution_count": 61,
   "metadata": {
    "slideshow": {
     "slide_type": "fragment"
    }
   },
   "outputs": [
    {
     "name": "stdout",
     "output_type": "stream",
     "text": [
      "[False  True False  True  True False  True False]\n"
     ]
    }
   ],
   "source": [
    "cond_1 = (tab_1%2 == 0)\n",
    "print(cond_1)"
   ]
  },
  {
   "cell_type": "code",
   "execution_count": 62,
   "metadata": {
    "slideshow": {
     "slide_type": "fragment"
    }
   },
   "outputs": [
    {
     "name": "stdout",
     "output_type": "stream",
     "text": [
      "[24 36 42  8]\n"
     ]
    }
   ],
   "source": [
    "print(tab_1[cond_1])"
   ]
  },
  {
   "cell_type": "markdown",
   "metadata": {
    "slideshow": {
     "slide_type": "fragment"
    }
   },
   "source": [
    "- This can be written in an even a more compact way to cut undesired values:"
   ]
  },
  {
   "cell_type": "code",
   "execution_count": 63,
   "metadata": {
    "slideshow": {
     "slide_type": "fragment"
    }
   },
   "outputs": [],
   "source": [
    "tab_2 = tab_1[tab_1%2 == 0]"
   ]
  },
  {
   "cell_type": "markdown",
   "metadata": {
    "slideshow": {
     "slide_type": "subslide"
    }
   },
   "source": [
    "- If the values of the indices is required, the boolean array can be passes to the `where` function."
   ]
  },
  {
   "cell_type": "code",
   "execution_count": 64,
   "metadata": {
    "slideshow": {
     "slide_type": "fragment"
    }
   },
   "outputs": [
    {
     "name": "stdout",
     "output_type": "stream",
     "text": [
      "(array([1, 3, 4, 6]),)\n"
     ]
    }
   ],
   "source": [
    "print(np.where(cond_1))"
   ]
  },
  {
   "cell_type": "markdown",
   "metadata": {
    "slideshow": {
     "slide_type": "slide"
    }
   },
   "source": [
    "### II-4-c Combining conditions - bitwise operations"
   ]
  },
  {
   "cell_type": "markdown",
   "metadata": {
    "slideshow": {
     "slide_type": "fragment"
    }
   },
   "source": [
    "- It is sometimes necessary to apply several condition at ones.\n",
    "- Each condition will generate its boolean array which can then be combined followin bool algebra, using bitwise operators."
   ]
  },
  {
   "cell_type": "markdown",
   "metadata": {
    "slideshow": {
     "slide_type": "fragment"
    }
   },
   "source": [
    "- Be carefull !!!\n",
    "    - The standard boolean operators `and` et `or` previoulsly seen wont work here.\n",
    "    - One has to use the bitwise operator `&`,  and `|` and `~` for **and**, **or** and **not** operations on boolean arrays."
   ]
  },
  {
   "cell_type": "markdown",
   "metadata": {
    "slideshow": {
     "slide_type": "subslide"
    }
   },
   "source": [
    "- Let's go back to or previous example and say that we now want both even values an values greater than 30."
   ]
  },
  {
   "cell_type": "code",
   "execution_count": 65,
   "metadata": {
    "slideshow": {
     "slide_type": "fragment"
    }
   },
   "outputs": [
    {
     "name": "stdout",
     "output_type": "stream",
     "text": [
      "[ 1 24  5 36 42  9  8 11]\n",
      "[False  True False  True  True False  True False]\n"
     ]
    }
   ],
   "source": [
    "print(tab_1)\n",
    "print(cond_1) # condition of even values"
   ]
  },
  {
   "cell_type": "code",
   "execution_count": 66,
   "metadata": {
    "slideshow": {
     "slide_type": "fragment"
    }
   },
   "outputs": [
    {
     "name": "stdout",
     "output_type": "stream",
     "text": [
      "[False False False  True  True False False False]\n"
     ]
    }
   ],
   "source": [
    "cond_2 = (tab_1 > 30)\n",
    "print(cond_2)"
   ]
  },
  {
   "cell_type": "markdown",
   "metadata": {
    "slideshow": {
     "slide_type": "subslide"
    }
   },
   "source": [
    "- We want both `cond_1` and `cond_2`.\n",
    "- We'll then use the `&` (**and**) operator "
   ]
  },
  {
   "cell_type": "code",
   "execution_count": 67,
   "metadata": {
    "slideshow": {
     "slide_type": "fragment"
    }
   },
   "outputs": [
    {
     "name": "stdout",
     "output_type": "stream",
     "text": [
      "[False False False  True  True False False False]\n"
     ]
    }
   ],
   "source": [
    "cond_3 = cond_1 & cond_2\n",
    "print(cond_3)"
   ]
  },
  {
   "cell_type": "code",
   "execution_count": 68,
   "metadata": {
    "slideshow": {
     "slide_type": "fragment"
    }
   },
   "outputs": [
    {
     "name": "stdout",
     "output_type": "stream",
     "text": [
      "[36 42]\n"
     ]
    }
   ],
   "source": [
    "print(tab_1[cond_3])"
   ]
  },
  {
   "cell_type": "markdown",
   "metadata": {
    "slideshow": {
     "slide_type": "fragment"
    }
   },
   "source": [
    "- Once again this can be done *on the fly* in a more compact way:"
   ]
  },
  {
   "cell_type": "code",
   "execution_count": 69,
   "metadata": {
    "slideshow": {
     "slide_type": "fragment"
    }
   },
   "outputs": [
    {
     "name": "stdout",
     "output_type": "stream",
     "text": [
      "[36 42]\n"
     ]
    }
   ],
   "source": [
    "tab_3 = tab_1[(tab_1%2 == 0) & (tab_1 > 30)]\n",
    "print(tab_3)"
   ]
  },
  {
   "cell_type": "markdown",
   "metadata": {
    "slideshow": {
     "slide_type": "subslide"
    }
   },
   "source": [
    "- Moreover, this can be done both in 2D-arrays or structured arrays ! (usefull for Gate Trees).\n",
    "- This will allow to remove rows containing spurious or uninteresting events. "
   ]
  },
  {
   "cell_type": "code",
   "execution_count": 70,
   "metadata": {
    "slideshow": {
     "slide_type": "fragment"
    }
   },
   "outputs": [
    {
     "name": "stdout",
     "output_type": "stream",
     "text": [
      "[[ 0.          2.45252343]\n",
      " [ 0.1         3.29543351]\n",
      " [ 0.2         2.10148584]\n",
      " [ 0.3         2.82416863]\n",
      " [ 0.4         2.63562906]\n",
      " [ 0.5         3.83124062]\n",
      " [ 0.6         5.60251378]\n",
      " [ 0.7         3.62974467]\n",
      " [ 0.8         5.06920258]\n",
      " [ 0.9         3.34477602]\n",
      " [ 1.          5.60903762]\n",
      " [ 1.1         4.78003719]\n",
      " [ 1.2         4.47725909]\n",
      " [ 1.3         4.52322212]\n",
      " [ 1.4         6.0135451 ]\n",
      " [ 1.5         7.07137561]\n",
      " [ 1.6         6.38950896]\n",
      " [ 1.7         6.71431208]\n",
      " [ 1.8         6.19391808]\n",
      " [ 1.9         7.72718322]\n",
      " [ 2.         50.        ]\n",
      " [ 2.1         6.67086374]\n",
      " [ 2.2         9.43858252]\n",
      " [ 2.3         7.02606485]\n",
      " [ 2.4         8.01438352]\n",
      " [ 2.5         7.21736514]\n",
      " [ 2.6         9.67166132]\n",
      " [ 2.7         8.84101915]\n",
      " [ 2.8         8.57449218]\n",
      " [ 2.9         8.68084292]\n",
      " [ 3.          9.46730967]\n",
      " [ 3.1         8.49298879]\n",
      " [ 3.2         8.36591824]\n",
      " [ 3.3         8.72509809]\n",
      " [ 3.4        11.83125366]\n",
      " [ 3.5         9.74270215]\n",
      " [ 3.6         9.44174773]\n",
      " [ 3.7         9.7722622 ]\n",
      " [ 3.8        10.55804216]\n",
      " [ 3.9         9.92090769]\n",
      " [ 4.         50.        ]\n",
      " [ 4.1        10.71630317]\n",
      " [ 4.2        12.44664234]\n",
      " [ 4.3         9.57371737]\n",
      " [ 4.4        12.44370633]\n",
      " [ 4.5        11.34463432]\n",
      " [ 4.6        13.14386149]\n",
      " [ 4.7        12.3546462 ]\n",
      " [ 4.8        12.47735191]\n",
      " [ 4.9        13.62981298]\n",
      " [ 5.         13.16031452]\n",
      " [ 5.1        12.41828223]\n",
      " [ 5.2        12.79795905]\n",
      " [ 5.3        13.2663269 ]\n",
      " [ 5.4        14.39867884]\n",
      " [ 5.5        13.11470926]\n",
      " [ 5.6        13.00384599]\n",
      " [ 5.7        12.85932544]\n",
      " [ 5.8        14.89180194]\n",
      " [ 5.9        14.05340833]\n",
      " [ 6.         14.70482388]\n",
      " [ 6.1        16.12496658]\n",
      " [ 6.2        14.34230537]\n",
      " [ 6.3        15.48308732]\n",
      " [ 6.4        15.46457829]\n",
      " [ 6.5        15.95471651]\n",
      " [ 6.6        16.53018374]\n",
      " [ 6.7        16.21008222]\n",
      " [ 6.8        14.82791232]\n",
      " [ 6.9        50.        ]\n",
      " [ 7.         16.5953868 ]\n",
      " [ 7.1        17.02942028]\n",
      " [ 7.2        15.57065691]\n",
      " [ 7.3        17.76011161]\n",
      " [ 7.4        18.25187839]\n",
      " [ 7.5        17.97052206]\n",
      " [ 7.6        16.66317212]\n",
      " [ 7.7        16.91326125]\n",
      " [ 7.8        18.50613169]\n",
      " [ 7.9        18.6219235 ]\n",
      " [ 8.         18.31259376]\n",
      " [ 8.1        20.77844737]\n",
      " [ 8.2        18.62754078]\n",
      " [ 8.3        19.05638047]\n",
      " [ 8.4        19.72180865]\n",
      " [ 8.5        19.11791169]\n",
      " [ 8.6        20.56401416]\n",
      " [ 8.7        20.65606624]\n",
      " [ 8.8        19.99524599]\n",
      " [ 8.9        21.88752918]\n",
      " [ 9.         20.76642719]\n",
      " [ 9.1        19.99019028]\n",
      " [ 9.2        24.56679851]\n",
      " [ 9.3        21.79419226]\n",
      " [ 9.4        20.86535285]\n",
      " [ 9.5        22.89450147]\n",
      " [ 9.6        20.76625258]\n",
      " [ 9.7        22.63083525]\n",
      " [ 9.8        22.98440152]\n",
      " [ 9.9        22.67485881]]\n"
     ]
    }
   ],
   "source": [
    "tab_lin = np.loadtxt('tab_lin.txt')\n",
    "print(tab_lin)"
   ]
  },
  {
   "cell_type": "code",
   "execution_count": 71,
   "metadata": {
    "slideshow": {
     "slide_type": "subslide"
    }
   },
   "outputs": [
    {
     "data": {
      "image/png": "[encoded data removed]",
      "text/plain": [
       "<Figure size 640x480 with 1 Axes>"
      ]
     },
     "metadata": {},
     "output_type": "display_data"
    }
   ],
   "source": [
    "plt.figure()\n",
    "plt.plot(tab_lin[:,0], tab_lin[:,1], 'o')\n",
    "plt.show()"
   ]
  },
  {
   "cell_type": "markdown",
   "metadata": {
    "slideshow": {
     "slide_type": "subslide"
    }
   },
   "source": [
    "- This data set clearly shows spurious datapoints \n",
    "- Let's get rid of them"
   ]
  },
  {
   "cell_type": "code",
   "execution_count": 72,
   "metadata": {
    "slideshow": {
     "slide_type": "fragment"
    }
   },
   "outputs": [
    {
     "name": "stdout",
     "output_type": "stream",
     "text": [
      "[ True  True  True  True  True  True  True  True  True  True  True  True\n",
      "  True  True  True  True  True  True  True  True False  True  True  True\n",
      "  True  True  True  True  True  True  True  True  True  True  True  True\n",
      "  True  True  True  True False  True  True  True  True  True  True  True\n",
      "  True  True  True  True  True  True  True  True  True  True  True  True\n",
      "  True  True  True  True  True  True  True  True  True False  True  True\n",
      "  True  True  True  True  True  True  True  True  True  True  True  True\n",
      "  True  True  True  True  True  True  True  True  True  True  True  True\n",
      "  True  True  True  True]\n"
     ]
    }
   ],
   "source": [
    "tab_bool = tab_lin[:, 1] != 50\n",
    "print(tab_bool)"
   ]
  },
  {
   "cell_type": "markdown",
   "metadata": {
    "slideshow": {
     "slide_type": "subslide"
    }
   },
   "source": [
    "- The condition was applied on the second column (the ordinates).\n",
    "- Then the indexing will be performed on all the rows to remove the bad ones (both x and y)."
   ]
  },
  {
   "cell_type": "code",
   "execution_count": 73,
   "metadata": {
    "slideshow": {
     "slide_type": "fragment"
    }
   },
   "outputs": [
    {
     "name": "stdout",
     "output_type": "stream",
     "text": [
      "[[ 0.          2.45252343]\n",
      " [ 0.1         3.29543351]\n",
      " [ 0.2         2.10148584]\n",
      " [ 0.3         2.82416863]\n",
      " [ 0.4         2.63562906]\n",
      " [ 0.5         3.83124062]\n",
      " [ 0.6         5.60251378]\n",
      " [ 0.7         3.62974467]\n",
      " [ 0.8         5.06920258]\n",
      " [ 0.9         3.34477602]\n",
      " [ 1.          5.60903762]\n",
      " [ 1.1         4.78003719]\n",
      " [ 1.2         4.47725909]\n",
      " [ 1.3         4.52322212]\n",
      " [ 1.4         6.0135451 ]\n",
      " [ 1.5         7.07137561]\n",
      " [ 1.6         6.38950896]\n",
      " [ 1.7         6.71431208]\n",
      " [ 1.8         6.19391808]\n",
      " [ 1.9         7.72718322]\n",
      " [ 2.1         6.67086374]\n",
      " [ 2.2         9.43858252]\n",
      " [ 2.3         7.02606485]\n",
      " [ 2.4         8.01438352]\n",
      " [ 2.5         7.21736514]\n",
      " [ 2.6         9.67166132]\n",
      " [ 2.7         8.84101915]\n",
      " [ 2.8         8.57449218]\n",
      " [ 2.9         8.68084292]\n",
      " [ 3.          9.46730967]\n",
      " [ 3.1         8.49298879]\n",
      " [ 3.2         8.36591824]\n",
      " [ 3.3         8.72509809]\n",
      " [ 3.4        11.83125366]\n",
      " [ 3.5         9.74270215]\n",
      " [ 3.6         9.44174773]\n",
      " [ 3.7         9.7722622 ]\n",
      " [ 3.8        10.55804216]\n",
      " [ 3.9         9.92090769]\n",
      " [ 4.1        10.71630317]\n",
      " [ 4.2        12.44664234]\n",
      " [ 4.3         9.57371737]\n",
      " [ 4.4        12.44370633]\n",
      " [ 4.5        11.34463432]\n",
      " [ 4.6        13.14386149]\n",
      " [ 4.7        12.3546462 ]\n",
      " [ 4.8        12.47735191]\n",
      " [ 4.9        13.62981298]\n",
      " [ 5.         13.16031452]\n",
      " [ 5.1        12.41828223]\n",
      " [ 5.2        12.79795905]\n",
      " [ 5.3        13.2663269 ]\n",
      " [ 5.4        14.39867884]\n",
      " [ 5.5        13.11470926]\n",
      " [ 5.6        13.00384599]\n",
      " [ 5.7        12.85932544]\n",
      " [ 5.8        14.89180194]\n",
      " [ 5.9        14.05340833]\n",
      " [ 6.         14.70482388]\n",
      " [ 6.1        16.12496658]\n",
      " [ 6.2        14.34230537]\n",
      " [ 6.3        15.48308732]\n",
      " [ 6.4        15.46457829]\n",
      " [ 6.5        15.95471651]\n",
      " [ 6.6        16.53018374]\n",
      " [ 6.7        16.21008222]\n",
      " [ 6.8        14.82791232]\n",
      " [ 7.         16.5953868 ]\n",
      " [ 7.1        17.02942028]\n",
      " [ 7.2        15.57065691]\n",
      " [ 7.3        17.76011161]\n",
      " [ 7.4        18.25187839]\n",
      " [ 7.5        17.97052206]\n",
      " [ 7.6        16.66317212]\n",
      " [ 7.7        16.91326125]\n",
      " [ 7.8        18.50613169]\n",
      " [ 7.9        18.6219235 ]\n",
      " [ 8.         18.31259376]\n",
      " [ 8.1        20.77844737]\n",
      " [ 8.2        18.62754078]\n",
      " [ 8.3        19.05638047]\n",
      " [ 8.4        19.72180865]\n",
      " [ 8.5        19.11791169]\n",
      " [ 8.6        20.56401416]\n",
      " [ 8.7        20.65606624]\n",
      " [ 8.8        19.99524599]\n",
      " [ 8.9        21.88752918]\n",
      " [ 9.         20.76642719]\n",
      " [ 9.1        19.99019028]\n",
      " [ 9.2        24.56679851]\n",
      " [ 9.3        21.79419226]\n",
      " [ 9.4        20.86535285]\n",
      " [ 9.5        22.89450147]\n",
      " [ 9.6        20.76625258]\n",
      " [ 9.7        22.63083525]\n",
      " [ 9.8        22.98440152]\n",
      " [ 9.9        22.67485881]]\n"
     ]
    }
   ],
   "source": [
    "tab_lin_corr = tab_lin[tab_bool]\n",
    "print(tab_lin_corr)"
   ]
  },
  {
   "cell_type": "code",
   "execution_count": 74,
   "metadata": {
    "slideshow": {
     "slide_type": "subslide"
    }
   },
   "outputs": [
    {
     "data": {
      "image/png": "[encoded data removed]",
      "text/plain": [
       "<Figure size 640x480 with 1 Axes>"
      ]
     },
     "metadata": {},
     "output_type": "display_data"
    }
   ],
   "source": [
    "plt.figure()\n",
    "plt.plot(tab_lin_corr[:,0], tab_lin_corr[:,1], 'o')\n",
    "plt.show()"
   ]
  },
  {
   "cell_type": "markdown",
   "metadata": {
    "slideshow": {
     "slide_type": "subslide"
    }
   },
   "source": [
    "- One last usefull trick for boolean arrays.\n",
    "    - Python use boolean as 0 and 1 integers.\n",
    "    - Summing an array of boolean (with the `sum` function) gives the number of `True` values"
   ]
  },
  {
   "cell_type": "code",
   "execution_count": 75,
   "metadata": {
    "slideshow": {
     "slide_type": "fragment"
    }
   },
   "outputs": [
    {
     "name": "stdout",
     "output_type": "stream",
     "text": [
      "100\n",
      "97\n",
      "3\n"
     ]
    }
   ],
   "source": [
    "print(len(tab_bool))\n",
    "\n",
    "print(np.sum(tab_bool)) # Number of True\n",
    "\n",
    "print(np.sum((~tab_bool))) # Number of False"
   ]
  },
  {
   "cell_type": "markdown",
   "metadata": {
    "slideshow": {
     "slide_type": "slide"
    }
   },
   "source": [
    "## II-5 Data Fitting "
   ]
  },
  {
   "cell_type": "markdown",
   "metadata": {
    "slideshow": {
     "slide_type": "fragment"
    }
   },
   "source": [
    "- As physicist we often have to fit dataset with a model to extract information about physical parameters.\n",
    "- The **Scipy** library offers a bunch of statiscal and mathematical function to adress this.\n",
    "- We'll se here how to perform curve fitting with the least square method.\n",
    "- (Other methods such as maximum likelihood are also possible with **scipy** but won't be covered here)"
   ]
  },
  {
   "cell_type": "markdown",
   "metadata": {
    "slideshow": {
     "slide_type": "subslide"
    }
   },
   "source": [
    "### II-5-a Least square method \n",
    "\n",
    "- How to compare experimental (or simulation) data with uncertainties to a theoritical model ?"
   ]
  },
  {
   "cell_type": "markdown",
   "metadata": {
    "slideshow": {
     "slide_type": "fragment"
    }
   },
   "source": [
    "- Let's have a dataset $\\mathbf{y}= \\{y_1, y_2, \\dots , y_n\\}$ with uncertainties $\\mathbf{\\sigma}= \\{\\sigma_1, \\sigma_2, \\dots , \\sigma_n\\}$, correspondint to datapoints $\\mathbf{x}= \\{x_1, x_2, \\dots , x_n\\}$.\n",
    "\n",
    "- Let's also have a model $f(\\mathbf{x} | \\mathbf{\\theta})$, with unknown parameters $\\mathbf{\\theta} = \\{\\theta_1, \\theta_2, \\dots, \\theta_k\\}$\n",
    "\n",
    "- One can define the quadratic sum $S(\\mathbf{\\theta})$ of the variations of the measurements to the predicted values from the model $f(\\mathbf{x}, \\mathbf{\\theta})$ : \n",
    "\n",
    "\n",
    "$$S(\\mathbf{\\theta}) = \\sum_{i=1}^{n}(y_{i}-f(x_{i} | \\mathbf{\\theta}))^2 = \\sum_{i=1}^{n} r_i^2(\\mathbf{\\theta})$$\n",
    "\n",
    "where $r_i^2(\\theta)$ are the residuals."
   ]
  },
  {
   "cell_type": "markdown",
   "metadata": {
    "slideshow": {
     "slide_type": "subslide"
    }
   },
   "source": [
    "- As we know the uncertainties (one standard deviation) $\\sigma_i$, we'll use instead the quantty : \n",
    "\n",
    "\n",
    "$$\\chi^2(\\theta) = \\sum_{i=1}^{n}\\left(\\frac{y_{i}-f(x_{i} | \\theta)}{\\sigma_i}\\right)^2$$ \n",
    "\n",
    "(Worst variable name ever. $\\chi^2(\\theta)$ is just the name, it's not the square of $\\chi(\\theta)$ !) "
   ]
  },
  {
   "cell_type": "markdown",
   "metadata": {
    "slideshow": {
     "slide_type": "subslide"
    }
   },
   "source": [
    "- The least square method consits of finding the parameters $\\mathbf{\\theta}$ that minimize the $\\chi^2(\\mathbf{\\theta})$.\n",
    "\n",
    "- The obtained parameters will be the closest one to fit the model on the dataset."
   ]
  },
  {
   "cell_type": "markdown",
   "metadata": {
    "slideshow": {
     "slide_type": "fragment"
    }
   },
   "source": [
    "- This is done by solving $$grad\\chi^2(\\mathbf{\\theta})=0$$\n",
    "- But there is in general no analytical solution for this (except for linear model).\n",
    "\n",
    "$\\Rightarrow$ **Scipy** propose function to calculate an approximative solution (by default by the Levenberg-Marquardt algorithm). \n",
    "\n",
    "$\\Rightarrow$ This is done by the `curve_fit` function from the `scipy.optimize` library."
   ]
  },
  {
   "cell_type": "code",
   "execution_count": 76,
   "metadata": {
    "slideshow": {
     "slide_type": "subslide"
    }
   },
   "outputs": [],
   "source": [
    "import scipy.optimize as opt"
   ]
  },
  {
   "cell_type": "markdown",
   "metadata": {
    "slideshow": {
     "slide_type": "fragment"
    }
   },
   "source": [
    "- Let's study a dataset corresponding to an exponential decay as a function of time. It is saved in the *data_exp_fit.npy* file (a structured array)."
   ]
  },
  {
   "cell_type": "code",
   "execution_count": 77,
   "metadata": {
    "slideshow": {
     "slide_type": "fragment"
    }
   },
   "outputs": [
    {
     "name": "stdout",
     "output_type": "stream",
     "text": [
      "[('t', '<f8'), ('y', '<f8'), ('s', '<f8')]\n"
     ]
    }
   ],
   "source": [
    "data = np.load('data_exp_fit.npy')\n",
    "print(data.dtype)"
   ]
  },
  {
   "cell_type": "code",
   "execution_count": 78,
   "metadata": {
    "slideshow": {
     "slide_type": "fragment"
    }
   },
   "outputs": [],
   "source": [
    "t = data[\"t\"]\n",
    "y = data[\"y\"]\n",
    "s = data[\"s\"]"
   ]
  },
  {
   "cell_type": "code",
   "execution_count": 79,
   "metadata": {
    "slideshow": {
     "slide_type": "subslide"
    }
   },
   "outputs": [
    {
     "data": {
      "image/png": "[encoded data removed]",
      "text/plain": [
       "<Figure size 640x480 with 1 Axes>"
      ]
     },
     "metadata": {},
     "output_type": "display_data"
    }
   ],
   "source": [
    "plt.figure()\n",
    "plt.errorbar(t, y, yerr=s, fmt='o')\n",
    "plt.yscale('log')\n",
    "plt.show()"
   ]
  },
  {
   "cell_type": "markdown",
   "metadata": {
    "slideshow": {
     "slide_type": "subslide"
    }
   },
   "source": [
    "- Let's now make a model function to be fit: $$f(t|(A, \\tau) = Ae^{-t/\\tau}$$"
   ]
  },
  {
   "cell_type": "code",
   "execution_count": 80,
   "metadata": {
    "slideshow": {
     "slide_type": "fragment"
    }
   },
   "outputs": [],
   "source": [
    "def expo_func(t, A, tau):\n",
    "    return A * np.exp(-t / tau)"
   ]
  },
  {
   "cell_type": "markdown",
   "metadata": {
    "slideshow": {
     "slide_type": "fragment"
    }
   },
   "source": [
    "- To help the fitter, we estimate initial parameters value:\n",
    "    - for $A$ we take the max value of $y$\n",
    "    - for $\\tau$ we can take the mean value of $t$ weighted by $y$.\n",
    "- They will be the $p_0$ parameter (a tuple)."
   ]
  },
  {
   "cell_type": "code",
   "execution_count": 81,
   "metadata": {
    "slideshow": {
     "slide_type": "fragment"
    }
   },
   "outputs": [
    {
     "name": "stdout",
     "output_type": "stream",
     "text": [
      "(370.0, 4.591182364729459)\n"
     ]
    }
   ],
   "source": [
    "A0 = np.max(y)\n",
    "tau0 = np.sum(t*y) / (np.sum(y))\n",
    "p0 = (A0, tau0)\n",
    "print(p0)"
   ]
  },
  {
   "cell_type": "markdown",
   "metadata": {
    "slideshow": {
     "slide_type": "subslide"
    }
   },
   "source": [
    "- Let's check is $p_0$ is not to bad:"
   ]
  },
  {
   "cell_type": "code",
   "execution_count": 82,
   "metadata": {
    "slideshow": {
     "slide_type": "fragment"
    }
   },
   "outputs": [
    {
     "data": {
      "image/png": "[encoded data removed]",
      "text/plain": [
       "<Figure size 640x480 with 1 Axes>"
      ]
     },
     "metadata": {},
     "output_type": "display_data"
    }
   ],
   "source": [
    "t_fit = np.arange(0, 30, 0.001)\n",
    "y_fit = expo_func(t_fit, p0[0], p0[1])\n",
    "\n",
    "plt.figure()\n",
    "plt.errorbar(t, y, yerr=s, fmt='o')\n",
    "plt.plot(t_fit, y_fit)\n",
    "plt.yscale('log')\n",
    "plt.show()"
   ]
  },
  {
   "cell_type": "markdown",
   "metadata": {
    "slideshow": {
     "slide_type": "subslide"
    }
   },
   "source": [
    "- Now we can fit the data using `curve_fit`:"
   ]
  },
  {
   "cell_type": "code",
   "execution_count": 83,
   "metadata": {
    "slideshow": {
     "slide_type": "fragment"
    }
   },
   "outputs": [
    {
     "name": "stdout",
     "output_type": "stream",
     "text": [
      "[355.00958394   5.07594623]\n",
      "---\n",
      "[[ 1.20633098e+02 -9.19125947e-01]\n",
      " [-9.19125947e-01  1.48360418e-02]]\n",
      "---\n",
      "[10.98330998  0.12180329]\n"
     ]
    }
   ],
   "source": [
    "popt, pcov = opt.curve_fit(expo_func, t, y, sigma=s, p0=p0, absolute_sigma=True)\n",
    "perr = np.sqrt(np.diag(pcov))\n",
    "\n",
    "print(popt) # Optimized paramters\n",
    "print(\"---\") \n",
    "print(pcov) # Covariance matrix\n",
    "print(\"---\")\n",
    "print(perr) # Fit paruncertainties"
   ]
  },
  {
   "cell_type": "code",
   "execution_count": 84,
   "metadata": {
    "slideshow": {
     "slide_type": "subslide"
    }
   },
   "outputs": [
    {
     "data": {
      "image/png": "[encoded data removed]",
      "text/plain": [
       "<Figure size 640x480 with 1 Axes>"
      ]
     },
     "metadata": {},
     "output_type": "display_data"
    }
   ],
   "source": [
    "t_fit = np.arange(0, 30, 0.001)\n",
    "y_fit = expo_func(t_fit, popt[0], popt[1])\n",
    "\n",
    "plt.figure()\n",
    "plt.errorbar(t, y, yerr=s, fmt='o', label=\"data\")\n",
    "plt.plot(t_fit, y_fit, label='fit')\n",
    "plt.yscale('log')\n",
    "plt.legend()\n",
    "plt.xlabel(\"t (a.u.)\")\n",
    "plt.ylabel(\"y (a.u)\")\n",
    "plt.show()"
   ]
  }
 ],
 "metadata": {
  "celltoolbar": "Diaporama",
  "kernelspec": {
   "display_name": "Python 3",
   "language": "python",
   "name": "python3"
  },
  "language_info": {
   "codemirror_mode": {
    "name": "ipython",
    "version": 3
   },
   "file_extension": ".py",
   "mimetype": "text/x-python",
   "name": "python",
   "nbconvert_exporter": "python",
   "pygments_lexer": "ipython3",
   "version": "3.8.10"
  }
 },
 "nbformat": 4,
 "nbformat_minor": 4
}
