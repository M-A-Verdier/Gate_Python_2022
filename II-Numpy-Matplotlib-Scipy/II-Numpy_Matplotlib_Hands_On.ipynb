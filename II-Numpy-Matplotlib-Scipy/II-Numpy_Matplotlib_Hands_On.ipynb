{
 "cells": [
  {
   "cell_type": "code",
   "execution_count": null,
   "id": "correct-worker",
   "metadata": {},
   "outputs": [],
   "source": [
    "import numpy as np\n",
    "import matplotlib.pyplot as plt\n",
    "import scipy.optimize as opt"
   ]
  },
  {
   "cell_type": "markdown",
   "id": "rental-bristol",
   "metadata": {},
   "source": [
    "---\n",
    "**Ex 1:** Array creation.\n",
    "- Create 3 *lists* `l_f`, `l_i` and `l_s` composed of *floats*, *integers* and *Strings* (one type per list) and convert them to *arrays* `a_f`, `a_i` adn `a_s`. Print the *dtype* of the created arrays.\n",
    "- Create two *arrays* `a0` and `a1` composed of two hundred times the number 9, one from an array of 0 and one from an array of 1.\n",
    "- Create two arrays `a2` and `a3`of shape 3 by 3 containing the number from 0 to 8, one from a list of lists and one by reshaping a one-dimentonel array. Finally create an array `a4` by summing these two."
   ]
  },
  {
   "cell_type": "code",
   "execution_count": null,
   "id": "flying-stand",
   "metadata": {},
   "outputs": [],
   "source": []
  },
  {
   "cell_type": "code",
   "execution_count": null,
   "id": "velvet-layout",
   "metadata": {},
   "outputs": [],
   "source": []
  },
  {
   "cell_type": "code",
   "execution_count": null,
   "id": "bulgarian-morgan",
   "metadata": {},
   "outputs": [],
   "source": []
  },
  {
   "cell_type": "markdown",
   "id": "typical-hawaiian",
   "metadata": {},
   "source": [
    "---\n",
    "**Ex 2:** Numpy functions.\n",
    "- Apply the numpy functions `sum`, `prod`, `flip`, `mean`, `std` and `median`and the array `a4` and print the results.\n",
    "- Do the sameas previous but adding the option `axis=0` or `axis=1` to the function to apply it only on rows or columns."
   ]
  },
  {
   "cell_type": "code",
   "execution_count": null,
   "id": "handed-irish",
   "metadata": {},
   "outputs": [],
   "source": []
  },
  {
   "cell_type": "markdown",
   "id": "authentic-prior",
   "metadata": {},
   "source": [
    "---\n",
    "**Ex 3:** Matplotlib\n",
    "- Create an array `theta` of values from $0$ to $2\\pi$ with a step of 0.01 and plot $f(\\theta) = \\cos(\\theta)$ without using any loop.\n",
    "- Create a 2D array of shape 5 by 5 with value 0 everywhere execpt on the central value which will be at value 2 and the outermost values set to 1.\n",
    "- Generate an array containing a randomdistribution of $N=10000$ values drawn from an exponential probability density function with the parameter $\\tau=5$ (use `numpy.random.exponential(tau, N)`) and plot its histogram on the interval $[0;50]$ and 50 bins. Compare linear and log display scale. Optional : Superimpose Poissonian uncertainties calculated as `numpy.sqrt(bin_height)`"
   ]
  },
  {
   "cell_type": "code",
   "execution_count": null,
   "id": "digital-hardware",
   "metadata": {},
   "outputs": [],
   "source": []
  },
  {
   "cell_type": "code",
   "execution_count": null,
   "id": "meaning-amber",
   "metadata": {},
   "outputs": [],
   "source": []
  },
  {
   "cell_type": "code",
   "execution_count": null,
   "id": "blind-crime",
   "metadata": {},
   "outputs": [],
   "source": []
  },
  {
   "cell_type": "markdown",
   "id": "dried-wayne",
   "metadata": {},
   "source": [
    "---\n",
    "**Ex 4:** Advanced Numpy\n",
    "The file *Spectrum.npy* contains a structured array saved in numpy binary format corresponding to the light emission spectrum of a scintillating cristal under x-rays. The array has two columns: the first one `\"wavelength_nm\"` correspond to the values of the wavelength (in nm) and the second `\"intensity_au\"` the light intensity in aribtary units. Unfortunatey the data are polluted withspurious hits from cosmic muons hitting the detector, saturating it.\n",
    "- Load and plot the data in a figure.\n",
    "- Filter the data to remove the bad data point using numpy bollena indexing and plot again the spectrum."
   ]
  },
  {
   "cell_type": "code",
   "execution_count": null,
   "id": "talented-tunisia",
   "metadata": {},
   "outputs": [],
   "source": []
  },
  {
   "cell_type": "markdown",
   "id": "expanded-portal",
   "metadata": {},
   "source": [
    "---\n",
    "**Ex 5:** Data fitting\n",
    "The file *data_G.dat* contains a standard 2D numpy array saved in text format. The first column contains the abscissae and the second column the ordinates of a noisy gaussian curve.\n",
    "- Load the file and plot the gaussian.\n",
    "- Define a `gauss(x, amp, mu, sig)` function following the équation $$g(x) = A \\times e^{\\frac{1}{2}\\left( \\frac{x-\\mu}{\\sigma} \\right)^2}$$ and evaluate the tuple `p0` of the initial parameter guess (by eye).\n",
    "- Fit the gauss function on the data using the `scipy.optimize.curve_fit` and display the model function with the fit parameters on the data."
   ]
  },
  {
   "cell_type": "code",
   "execution_count": null,
   "id": "artificial-domestic",
   "metadata": {},
   "outputs": [],
   "source": []
  },
  {
   "cell_type": "code",
   "execution_count": null,
   "id": "noble-seller",
   "metadata": {},
   "outputs": [],
   "source": []
  }
 ],
 "metadata": {
  "kernelspec": {
   "display_name": "Python 3",
   "language": "python",
   "name": "python3"
  },
  "language_info": {
   "codemirror_mode": {
    "name": "ipython",
    "version": 3
   },
   "file_extension": ".py",
   "mimetype": "text/x-python",
   "name": "python",
   "nbconvert_exporter": "python",
   "pygments_lexer": "ipython3",
   "version": "3.8.10"
  }
 },
 "nbformat": 4,
 "nbformat_minor": 5
}
