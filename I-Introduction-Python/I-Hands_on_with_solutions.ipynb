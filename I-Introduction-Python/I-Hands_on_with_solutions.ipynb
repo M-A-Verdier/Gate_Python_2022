{
 "cells": [
  {
   "cell_type": "markdown",
   "metadata": {},
   "source": [
    "## Warmup exercises"
   ]
  },
  {
   "cell_type": "markdown",
   "metadata": {},
   "source": [
    "- Define a list of 10 numbers of your choice, then calculate its sum using a loop (not using the `sum` function). Print the result."
   ]
  },
  {
   "cell_type": "code",
   "execution_count": 1,
   "metadata": {},
   "outputs": [
    {
     "name": "stdout",
     "output_type": "stream",
     "text": [
      "227.7\n"
     ]
    }
   ],
   "source": [
    "lis = [0.1, 3, 96, 12, 0, 2, 3.6, 9, 88, 14]\n",
    "s = 0\n",
    "for l in lis:\n",
    "    s += l\n",
    "print(s)"
   ]
  },
  {
   "cell_type": "markdown",
   "metadata": {},
   "source": [
    "- Define a function `scrimger` that takes 5 real numbers `x`, `y`, `x0`, `y0` and `z0` as arguments and that calculate and return tha value defined as: $$I = \\displaystyle\\frac{1}{2\\pi z_0^2 \\left(1+\\displaystyle\\frac{(x-x_0)^2 + (y-y_0)^2}{z_0^2} \\right)^{3/2}}$$.\n",
    "- You can use the value of 3.14 for $\\pi$.\n",
    "- Print the result for $x_0=0$, $y_0=0$, $z_0=5$, $x=1.5$ and $y=-1.5$.\n",
    "*Note: take care of operators priorities*"
   ]
  },
  {
   "cell_type": "code",
   "execution_count": 2,
   "metadata": {},
   "outputs": [
    {
     "name": "stdout",
     "output_type": "stream",
     "text": [
      "0.004969095422100419\n"
     ]
    }
   ],
   "source": [
    "def scrimger(x, y, x0, y0, z0):\n",
    "    return 1 / (2*3.14*z0**2 * (1 + ((x-x0)**2 + (y-y0)**2)/z0**2)**(3/2))\n",
    "\n",
    "print(scrimger(1.5, -1.5, 0, 0, 5))"
   ]
  },
  {
   "cell_type": "markdown",
   "metadata": {},
   "source": [
    "- Define a the list of strings corresponding to the days of the week. Using a loop iterating over the list, print the boolean `True` if it correspond to a weekend day, and `False` otherwise. "
   ]
  },
  {
   "cell_type": "code",
   "execution_count": 3,
   "metadata": {},
   "outputs": [
    {
     "name": "stdout",
     "output_type": "stream",
     "text": [
      "False\n",
      "False\n",
      "False\n",
      "False\n",
      "False\n",
      "True\n",
      "True\n",
      "False\n",
      "False\n",
      "False\n",
      "False\n",
      "False\n",
      "True\n",
      "True\n"
     ]
    }
   ],
   "source": [
    "days = [\"Monday\", \"Tuesday\", \"Wednesday\", \"Thursday\", \"Friday\", \"Saturday\", \"Sunday\"]\n",
    "\n",
    "for d in days:\n",
    "    if d=='Saturday' or d=='Sunday':\n",
    "        print(True)\n",
    "    else:\n",
    "        print(False)\n",
    "        \n",
    "# or better\n",
    "for d in days:\n",
    "    print(d in days[-2:])\n"
   ]
  },
  {
   "cell_type": "markdown",
   "metadata": {},
   "source": [
    "define a function `even` taking an integer a argument an return the boolean `True` ifthe value is even, and `False` otherwise. Test your function with some numbers."
   ]
  },
  {
   "cell_type": "code",
   "execution_count": 4,
   "metadata": {},
   "outputs": [
    {
     "data": {
      "text/plain": [
       "True"
      ]
     },
     "execution_count": 4,
     "metadata": {},
     "output_type": "execute_result"
    }
   ],
   "source": [
    "def even(x):\n",
    "    if x % 2 == 0:\n",
    "        b = True\n",
    "    else:\n",
    "        b = False\n",
    "    return b\n",
    "\n",
    "# or \n",
    "def even(x):\n",
    "    return x % 2 == 0\n",
    "        \n",
    "n = 4\n",
    "even(n)"
   ]
  },
  {
   "cell_type": "markdown",
   "metadata": {},
   "source": [
    "- Define a function `sumdif` that takes 2 numbers `x` and `y` as argument and that calculate and return both their sum and theur difference. Test your function with some couple of (x, y) values."
   ]
  },
  {
   "cell_type": "code",
   "execution_count": 5,
   "metadata": {},
   "outputs": [
    {
     "name": "stdout",
     "output_type": "stream",
     "text": [
      "7 -3\n"
     ]
    }
   ],
   "source": [
    "def sumdif(x, y):\n",
    "    s = x+y\n",
    "    d = x - y\n",
    "    return s, d\n",
    "\n",
    "s, d = sumdif(2, 5)\n",
    "print(s, d)"
   ]
  },
  {
   "cell_type": "markdown",
   "metadata": {},
   "source": [
    "- Write a program that swap the values contained in two variables `a` and `b` and print the result."
   ]
  },
  {
   "cell_type": "code",
   "execution_count": 6,
   "metadata": {},
   "outputs": [
    {
     "name": "stdout",
     "output_type": "stream",
     "text": [
      "6 2\n",
      "6 2\n"
     ]
    }
   ],
   "source": [
    "a = 2\n",
    "b = 6\n",
    "\n",
    "c = a\n",
    "a = b\n",
    "b = c\n",
    "print(a, b)\n",
    "\n",
    "# or better\n",
    "a = 2\n",
    "b = 6\n",
    "a, b = b, a\n",
    "print(a, b)"
   ]
  },
  {
   "cell_type": "markdown",
   "metadata": {},
   "source": [
    "## Exercices"
   ]
  },
  {
   "cell_type": "markdown",
   "metadata": {},
   "source": [
    "---\n",
    "**Ex 1:** Leap years (bissextile years) are years that can be either divided by 4 but not by 100 or that can be divided by 400.\n",
    "- Write a function `leap` that takes a year as argument, calculate if the year if bissextile or not and return True or False.\n",
    "- Create en empty list `leap_list` and fill (method `append`) it with all the leap years from 2020 to 3020 using a `for` loop, and the function `leap`. *Hint: you can use `range(a, b, p)` to get all the value between $a$ (included) anb $b$ (excluded) with a step $p$ (integer)*.\n",
    "- Print the result.\n",
    "- Bonus stage (optional): do the whole exercise with a one-liner instruction (without defining any function), using list comprehension."
   ]
  },
  {
   "cell_type": "code",
   "execution_count": 7,
   "metadata": {},
   "outputs": [
    {
     "name": "stdout",
     "output_type": "stream",
     "text": [
      "[2020, 2024, 2028, 2032, 2036, 2040, 2044, 2048, 2052, 2056, 2060, 2064, 2068, 2072, 2076, 2080, 2084, 2088, 2092, 2096, 2104, 2108, 2112, 2116, 2120, 2124, 2128, 2132, 2136, 2140, 2144, 2148, 2152, 2156, 2160, 2164, 2168, 2172, 2176, 2180, 2184, 2188, 2192, 2196, 2204, 2208, 2212, 2216, 2220, 2224, 2228, 2232, 2236, 2240, 2244, 2248, 2252, 2256, 2260, 2264, 2268, 2272, 2276, 2280, 2284, 2288, 2292, 2296, 2304, 2308, 2312, 2316, 2320, 2324, 2328, 2332, 2336, 2340, 2344, 2348, 2352, 2356, 2360, 2364, 2368, 2372, 2376, 2380, 2384, 2388, 2392, 2396, 2400, 2404, 2408, 2412, 2416, 2420, 2424, 2428, 2432, 2436, 2440, 2444, 2448, 2452, 2456, 2460, 2464, 2468, 2472, 2476, 2480, 2484, 2488, 2492, 2496, 2504, 2508, 2512, 2516, 2520, 2524, 2528, 2532, 2536, 2540, 2544, 2548, 2552, 2556, 2560, 2564, 2568, 2572, 2576, 2580, 2584, 2588, 2592, 2596, 2604, 2608, 2612, 2616, 2620, 2624, 2628, 2632, 2636, 2640, 2644, 2648, 2652, 2656, 2660, 2664, 2668, 2672, 2676, 2680, 2684, 2688, 2692, 2696, 2704, 2708, 2712, 2716, 2720, 2724, 2728, 2732, 2736, 2740, 2744, 2748, 2752, 2756, 2760, 2764, 2768, 2772, 2776, 2780, 2784, 2788, 2792, 2796, 2800, 2804, 2808, 2812, 2816, 2820, 2824, 2828, 2832, 2836, 2840, 2844, 2848, 2852, 2856, 2860, 2864, 2868, 2872, 2876, 2880, 2884, 2888, 2892, 2896, 2904, 2908, 2912, 2916, 2920, 2924, 2928, 2932, 2936, 2940, 2944, 2948, 2952, 2956, 2960, 2964, 2968, 2972, 2976, 2980, 2984, 2988, 2992, 2996, 3004, 3008, 3012, 3016]\n",
      "[2020, 2024, 2028, 2032, 2036, 2040, 2044, 2048, 2052, 2056, 2060, 2064, 2068, 2072, 2076, 2080, 2084, 2088, 2092, 2096, 2104, 2108, 2112, 2116, 2120, 2124, 2128, 2132, 2136, 2140, 2144, 2148, 2152, 2156, 2160, 2164, 2168, 2172, 2176, 2180, 2184, 2188, 2192, 2196, 2204, 2208, 2212, 2216, 2220, 2224, 2228, 2232, 2236, 2240, 2244, 2248, 2252, 2256, 2260, 2264, 2268, 2272, 2276, 2280, 2284, 2288, 2292, 2296, 2304, 2308, 2312, 2316, 2320, 2324, 2328, 2332, 2336, 2340, 2344, 2348, 2352, 2356, 2360, 2364, 2368, 2372, 2376, 2380, 2384, 2388, 2392, 2396, 2400, 2404, 2408, 2412, 2416, 2420, 2424, 2428, 2432, 2436, 2440, 2444, 2448, 2452, 2456, 2460, 2464, 2468, 2472, 2476, 2480, 2484, 2488, 2492, 2496, 2504, 2508, 2512, 2516, 2520, 2524, 2528, 2532, 2536, 2540, 2544, 2548, 2552, 2556, 2560, 2564, 2568, 2572, 2576, 2580, 2584, 2588, 2592, 2596, 2604, 2608, 2612, 2616, 2620, 2624, 2628, 2632, 2636, 2640, 2644, 2648, 2652, 2656, 2660, 2664, 2668, 2672, 2676, 2680, 2684, 2688, 2692, 2696, 2704, 2708, 2712, 2716, 2720, 2724, 2728, 2732, 2736, 2740, 2744, 2748, 2752, 2756, 2760, 2764, 2768, 2772, 2776, 2780, 2784, 2788, 2792, 2796, 2800, 2804, 2808, 2812, 2816, 2820, 2824, 2828, 2832, 2836, 2840, 2844, 2848, 2852, 2856, 2860, 2864, 2868, 2872, 2876, 2880, 2884, 2888, 2892, 2896, 2904, 2908, 2912, 2916, 2920, 2924, 2928, 2932, 2936, 2940, 2944, 2948, 2952, 2956, 2960, 2964, 2968, 2972, 2976, 2980, 2984, 2988, 2992, 2996, 3004, 3008, 3012, 3016]\n"
     ]
    }
   ],
   "source": [
    "def leap(y):\n",
    "    return (y%4 == 0 and y%100 != 0) or y%400 == 0\n",
    "\n",
    "leap_list = []\n",
    "for i in range(2020, 3020):\n",
    "    if leap(i):\n",
    "        leap_list.append(i)\n",
    "        \n",
    "print(leap_list)\n",
    "\n",
    "# Bonus\n",
    "print([i for i in range(2020, 3020) if ((i%4==0 and i%100!=0) or i%400==0)])"
   ]
  },
  {
   "cell_type": "markdown",
   "metadata": {},
   "source": [
    "---\n",
    "**Ex 2:** Trigonometric functions\n",
    "- Define a function `fac` that takes an integer `n`as argument and that calculate and return $n!$\n",
    "- Define a function `cos` that take a real `x` and an integer `n` as arguments and that, using the fucntion `fac`, calculate and return: $$\\displaystyle \\cos(x) = \\sum_{i=0}^{n} \\frac{(-1)^i x^{2i}}{(2i)!}$$\n",
    "- Define a function `sin` that take a real `x` and an integer `n` as arguments and that, using the fucntion `fac`, calculate and return: $$\\displaystyle \\sin(x) = \\sum_{i=0}^{n} \\frac{(-1)^i x^{2i+1}}{(2i+1)!}$$\n",
    "- Define a function `trigo` that take a function `func`, a real `x` and an integer `n` as arguments and that calculate and return $func(x, n)$, where `func` will be either `cos` or `sin` when used.\n",
    "- Using the `input` function as bellow to define the various parameters, print the result of yout prefered function, angle, and computation order (don't go to high for n)."
   ]
  },
  {
   "cell_type": "code",
   "execution_count": 10,
   "metadata": {},
   "outputs": [
    {
     "name": "stdin",
     "output_type": "stream",
     "text": [
      "Enter the function to use (cos or sin):  sin\n",
      "Enter the angle x:  2\n",
      "Enter the computation order n:  10\n"
     ]
    },
    {
     "name": "stdout",
     "output_type": "stream",
     "text": [
      "0.909297426825682\n"
     ]
    }
   ],
   "source": [
    "def fac(n):\n",
    "    f = 1\n",
    "    for i in range(n):\n",
    "        f *= (i+1)\n",
    "    return f\n",
    "\n",
    "def sin(x, n):\n",
    "    s = 0\n",
    "    for i in range(n+1):\n",
    "        s += (-1)**(i) * x**(2*i + 1) / fac(2*i+1)\n",
    "    return s\n",
    "\n",
    "def cos(x, n):\n",
    "    c = 0\n",
    "    for i in range(n+1):\n",
    "        c += (-1)**i * x**(2*i) / fac(2*i)\n",
    "    return c\n",
    "\n",
    "def trigo(func, x, n):\n",
    "    return func(x, n)\n",
    "\n",
    "ff = input(\"Enter the function to use (cos or sin): \")\n",
    "xx = float(input(\"Enter the angle x: \"))\n",
    "nn = int(input(\"Enter the computation order n: \"))\n",
    "\n",
    "if ff == \"cos\":\n",
    "    print(trigo(cos, xx, nn))\n",
    "elif ff == \"sin\":\n",
    "    print(trigo(sin, xx, nn))\n",
    "else:\n",
    "    print(\"Wrong function entered !\")"
   ]
  },
  {
   "cell_type": "markdown",
   "metadata": {},
   "source": [
    "---\n",
    "**Ex 3:** The function in the cell below calculate and return the 0 of a function in the $[a, b]$ interval by a dichotomy algorithm. There must be exactly one zeros in the interval.\n",
    "- Define a fonction $f(x) = (x-1)^2 - 3$ and calculate the 0 using the `dichotomy` function. The research interval must be choosen wisely.\n",
    "- Print the obtained value and the number of loops required."
   ]
  },
  {
   "cell_type": "code",
   "execution_count": 9,
   "metadata": {},
   "outputs": [
    {
     "name": "stdout",
     "output_type": "stream",
     "text": [
      "2.7320508006960154 29\n"
     ]
    }
   ],
   "source": [
    "def dichotomy(f, a, b, eps=1e-8):\n",
    "    fa = f(a)\n",
    "    fb = f(b)\n",
    "    df = f((a+b)*0.5)\n",
    "    counter = 0\n",
    "    while abs(df) > eps and counter < 1e8:\n",
    "        c = 0.5*(b + a)\n",
    "        fc = f(c)\n",
    "        if fc*fa < 0:\n",
    "            b = c\n",
    "            fb = f(b)\n",
    "        else:\n",
    "            a = c\n",
    "            fa = f(a)\n",
    "        df = fc\n",
    "        counter += 1\n",
    "    return 0.5*(b + a), counter\n",
    "\n",
    "def square(x):\n",
    "    return (x - 1)**2 - 3\n",
    "\n",
    "val, counts = dichotomy(square, 0, 10, 1e-8)\n",
    "print(val, counts)"
   ]
  }
 ],
 "metadata": {
  "kernelspec": {
   "display_name": "Python 3",
   "language": "python",
   "name": "python3"
  },
  "language_info": {
   "codemirror_mode": {
    "name": "ipython",
    "version": 3
   },
   "file_extension": ".py",
   "mimetype": "text/x-python",
   "name": "python",
   "nbconvert_exporter": "python",
   "pygments_lexer": "ipython3",
   "version": "3.8.10"
  }
 },
 "nbformat": 4,
 "nbformat_minor": 4
}
