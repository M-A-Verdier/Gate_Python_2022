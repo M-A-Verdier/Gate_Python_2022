{
 "cells": [
  {
   "cell_type": "markdown",
   "metadata": {},
   "source": [
    "## Warmup exercises"
   ]
  },
  {
   "cell_type": "markdown",
   "metadata": {},
   "source": [
    "- Define a list of 10 numbers of your choice, then calculate its sum using a loop (not using the `sum` function). Print the result."
   ]
  },
  {
   "cell_type": "code",
   "execution_count": null,
   "metadata": {},
   "outputs": [],
   "source": []
  },
  {
   "cell_type": "markdown",
   "metadata": {},
   "source": [
    "- Define a function `scrimger` that takes 5 real numbers `x`, `y`, `x0`, `y0` and `z0` as arguments and that calculate and return tha value defined as: $$I = \\displaystyle\\frac{1}{2\\pi z_0^2 \\left(1+\\displaystyle\\frac{(x-x_0)^2 + (y-y_0)^2}{z_0^2} \\right)^{3/2}}$$.\n",
    "- You can use the value of 3.14 for $\\pi$.\n",
    "- Print the result for $x_0=0$, $y_0=0$, $z_0=5$, $x=1.5$ and $y=-1.5$.\n",
    "*Note: take care of operators priorities*"
   ]
  },
  {
   "cell_type": "code",
   "execution_count": null,
   "metadata": {},
   "outputs": [],
   "source": []
  },
  {
   "cell_type": "markdown",
   "metadata": {},
   "source": [
    "- Define a the list of strings corresponding to the days of the week. Using a loop iterating over the list, print the boolean `True` if it correspond to a weekend day, and `False` otherwise. "
   ]
  },
  {
   "cell_type": "code",
   "execution_count": null,
   "metadata": {},
   "outputs": [],
   "source": []
  },
  {
   "cell_type": "markdown",
   "metadata": {},
   "source": [
    "define a function `even` taking an integer a argument an return the boolean `True` ifthe value is even, and `False` otherwise. Test your function with some numbers."
   ]
  },
  {
   "cell_type": "code",
   "execution_count": null,
   "metadata": {},
   "outputs": [],
   "source": []
  },
  {
   "cell_type": "markdown",
   "metadata": {},
   "source": [
    "- Define a function `sumdif` that takes 2 numbers `x` and `y` as argument and that calculate and return both their sum and theur difference. Test your function with some couple of (x, y) values."
   ]
  },
  {
   "cell_type": "code",
   "execution_count": null,
   "metadata": {},
   "outputs": [],
   "source": []
  },
  {
   "cell_type": "markdown",
   "metadata": {},
   "source": [
    "- Write a program that swap the values contained in two variables `a` and `b` and print the result."
   ]
  },
  {
   "cell_type": "code",
   "execution_count": null,
   "metadata": {},
   "outputs": [],
   "source": []
  },
  {
   "cell_type": "markdown",
   "metadata": {},
   "source": [
    "## Exercices"
   ]
  },
  {
   "cell_type": "markdown",
   "metadata": {},
   "source": [
    "---\n",
    "**Ex 1:** Leap years (bissextile years) are years that can be either divided by 4 but not by 100 or that can be divided by 400.\n",
    "- Write a function `leap` that takes a year as argument, calculate if the year if bissextile or not and return True or False.\n",
    "- Create en empty list `leap_list` and fill (method `append`) it with all the leap years from 2020 to 3020 using a `for` loop, and the function `leap`. *Hint: you can use `range(a, b, p)` to get all the value between $a$ (included) anb $b$ (excluded) with a step $p$ (integer)*.\n",
    "- Print the result.\n",
    "- Bonus stage (optional): do the whole exercise with a one-liner instruction (without defining any function), using list comprehension."
   ]
  },
  {
   "cell_type": "code",
   "execution_count": null,
   "metadata": {},
   "outputs": [],
   "source": []
  },
  {
   "cell_type": "markdown",
   "metadata": {},
   "source": [
    "---\n",
    "**Ex 2:** Trigonometric functions\n",
    "- Define a function `fac` that takes an integer `n`as argument and that calculate and return $n!$\n",
    "- Define a function `cos` that take a real `x` and an integer `n` as arguments and that, using the fucntion `fac`, calculate and return: $$\\displaystyle \\cos(x) = \\sum_{i=0}^{n} \\frac{(-1)^i x^{2i}}{(2i)!}$$\n",
    "- Define a function `sin` that take a real `x` and an integer `n` as arguments and that, using the fucntion `fac`, calculate and return: $$\\displaystyle \\sin(x) = \\sum_{i=0}^{n} \\frac{(-1)^i x^{2i+1}}{(2i+1)!}$$\n",
    "- Define a function `trigo` that take a function `func`, a real `x` and an integer `n` as arguments and that calculate and return $func(x, n)$, where `func` will be either `cos` or `sin` when used.\n",
    "- Using the `input` function as bellow to define the various parameters, print the result of yout prefered function, angle, and computation order (don't go to high for n)."
   ]
  },
  {
   "cell_type": "code",
   "execution_count": null,
   "metadata": {},
   "outputs": [],
   "source": [
    "\n",
    "\n",
    "ff = input(\"Enter the function to use (cos or sin): \")\n",
    "xx = float(input(\"Enter the angle x: \"))\n",
    "nn = int(input(\"Enter the computation order n: \"))\n",
    "\n",
    "if ff == \"cos\":\n",
    "    print(trigo(cos, xx, nn))\n",
    "elif ff == \"sin\":\n",
    "    print(trigo(sin, xx, nn))\n",
    "else:\n",
    "    print(\"Wrong function entered !\")"
   ]
  },
  {
   "cell_type": "markdown",
   "metadata": {},
   "source": [
    "---\n",
    "**Ex 3:** The function in the cell below calculate and return the 0 of a function in the $[a, b]$ interval by a dichotomy algorithm. There must be exactly one zeros in the interval.\n",
    "- Define a fonction $f(x) = (x-1)^2 - 3$ and calculate the 0 using the `dichotomy` function. The research interval must be choosen wisely.\n",
    "- Print the obtained value and the number of loops required."
   ]
  },
  {
   "cell_type": "code",
   "execution_count": null,
   "metadata": {},
   "outputs": [],
   "source": [
    "def dichotomy(f, a, b, eps=1e-8):\n",
    "    fa = f(a)\n",
    "    fb = f(b)\n",
    "    df = f((a+b)*0.5)\n",
    "    counter = 0\n",
    "    while abs(df) > eps and counter < 1e8:\n",
    "        c = 0.5*(b + a)\n",
    "        fc = f(c)\n",
    "        if fc*fa < 0:\n",
    "            b = c\n",
    "            fb = f(b)\n",
    "        else:\n",
    "            a = c\n",
    "            fa = f(a)\n",
    "        df = fc\n",
    "        counter += 1\n",
    "    return 0.5*(b + a), counter\n",
    "\n"
   ]
  }
 ],
 "metadata": {
  "kernelspec": {
   "display_name": "Python 3",
   "language": "python",
   "name": "python3"
  },
  "language_info": {
   "codemirror_mode": {
    "name": "ipython",
    "version": 3
   },
   "file_extension": ".py",
   "mimetype": "text/x-python",
   "name": "python",
   "nbconvert_exporter": "python",
   "pygments_lexer": "ipython3",
   "version": "3.8.10"
  }
 },
 "nbformat": 4,
 "nbformat_minor": 4
}
