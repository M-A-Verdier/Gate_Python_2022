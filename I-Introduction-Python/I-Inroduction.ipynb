{
 "cells": [
  {
   "cell_type": "markdown",
   "metadata": {
    "slideshow": {
     "slide_type": "slide"
    }
   },
   "source": [
    "# I - Python basics"
   ]
  },
  {
   "cell_type": "markdown",
   "metadata": {
    "slideshow": {
     "slide_type": "slide"
    }
   },
   "source": [
    "## I-1 Python"
   ]
  },
  {
   "cell_type": "markdown",
   "metadata": {
    "slideshow": {
     "slide_type": "subslide"
    }
   },
   "source": [
    "- Python is a free  and open source programming language (not a software)\n",
    "- It is nowadays used a lot both in the industry and in science.\n",
    "- It allows to write programs for various kind of applications:\n",
    "    - Creating softwares: Blender (3d), Kodi (multimedia), video games, *etc*\n",
    "    - Scripts for managing other programs or softwares\n",
    "    - Web\n",
    "    - Scientific use: simulation, data acquisition, data analysis, etc\n",
    "- See this survey comparing the use of Python to other programming languages: https://opensource.com/article/18/5/numbers-python-community-trends"
   ]
  },
  {
   "cell_type": "markdown",
   "metadata": {
    "slideshow": {
     "slide_type": "subslide"
    }
   },
   "source": [
    "- Python is an interpreted language: it is not compiled before executing.\n",
    "- It runs instruction one after the others until it reach the end of the program (or crashes).\n",
    "- It is versatile in its use (duck typing) and multi-paradigm: can do both procedural and object oriented (or a mix of the two)\n",
    "- Multi-platform: Windows, Linux, Mac, Android, etc.\n",
    "- It has a high level of abstraction: (closer to human language with lots of english words)\n",
    "- The syntax simple and intuituve"
   ]
  },
  {
   "cell_type": "markdown",
   "metadata": {
    "slideshow": {
     "slide_type": "subslide"
    }
   },
   "source": [
    "- For instance doing a mathematical operation and displaying the result is as simple as:"
   ]
  },
  {
   "cell_type": "code",
   "execution_count": 1,
   "metadata": {
    "slideshow": {
     "slide_type": "fragment"
    }
   },
   "outputs": [
    {
     "name": "stdout",
     "output_type": "stream",
     "text": [
      "18\n"
     ]
    }
   ],
   "source": [
    "print(3 + 15)"
   ]
  },
  {
   "cell_type": "markdown",
   "metadata": {
    "slideshow": {
     "slide_type": "fragment"
    }
   },
   "source": [
    "- Here we used 3 different elements:\n",
    "    - Numbers (type int): `3` et `15`.\n",
    "    - The sum operator: `+`.\n",
    "    - The function `print` that display the result (here after the cell).\n",
    "- Therefore the above command line can be translated as: Display the result of the sum of 3 and 15"
   ]
  },
  {
   "cell_type": "markdown",
   "metadata": {
    "slideshow": {
     "slide_type": "slide"
    }
   },
   "source": [
    "## I -2 Jupyter-lab (or Jupyter notebook)"
   ]
  },
  {
   "cell_type": "markdown",
   "metadata": {
    "slideshow": {
     "slide_type": "subslide"
    }
   },
   "source": [
    "- Jupyter is a web application that allow to run *notebooks*, which are documents that can contain both Python programs (also other languages nowadays) but also *markdown* formated text.\n",
    "- Block of code or text are run in independant cells (one must be careful about the execution order)..\n",
    "- Display is done in internet browser but Python run as à separated process.\n",
    "- It is not the only way to run Python programs, but it is very convenient.\n",
    "- This what will be used here.\n",
    "- You will run it on a local server (while diplaying on your own computer)."
   ]
  },
  {
   "cell_type": "markdown",
   "metadata": {
    "slideshow": {
     "slide_type": "slide"
    }
   },
   "source": [
    "## I - 3 Back to Python\n",
    "- Python also possessed its own exception handling: if an error occurs it will tell you what has gone wrong."
   ]
  },
  {
   "cell_type": "code",
   "execution_count": 3,
   "metadata": {
    "slideshow": {
     "slide_type": "subslide"
    }
   },
   "outputs": [
    {
     "ename": "NameError",
     "evalue": "name 'a' is not defined",
     "output_type": "error",
     "traceback": [
      "\u001b[0;31m---------------------------------------------------------------------------\u001b[0m",
      "\u001b[0;31mNameError\u001b[0m                                 Traceback (most recent call last)",
      "Input \u001b[0;32mIn [3]\u001b[0m, in \u001b[0;36m<cell line: 1>\u001b[0;34m()\u001b[0m\n\u001b[0;32m----> 1\u001b[0m \u001b[38;5;28mprint\u001b[39m(\u001b[43ma\u001b[49m\u001b[38;5;241m+\u001b[39mb)\n",
      "\u001b[0;31mNameError\u001b[0m: name 'a' is not defined"
     ]
    }
   ],
   "source": [
    "print(a+b)"
   ]
  },
  {
   "cell_type": "code",
   "execution_count": 4,
   "metadata": {
    "slideshow": {
     "slide_type": "fragment"
    }
   },
   "outputs": [
    {
     "ename": "NameError",
     "evalue": "name 'b' is not defined",
     "output_type": "error",
     "traceback": [
      "\u001b[0;31m---------------------------------------------------------------------------\u001b[0m",
      "\u001b[0;31mNameError\u001b[0m                                 Traceback (most recent call last)",
      "Input \u001b[0;32mIn [4]\u001b[0m, in \u001b[0;36m<cell line: 1>\u001b[0;34m()\u001b[0m\n\u001b[0;32m----> 1\u001b[0m \u001b[38;5;28mprint\u001b[39m(\u001b[43mb\u001b[49m\u001b[38;5;241m+\u001b[39ma)\n",
      "\u001b[0;31mNameError\u001b[0m: name 'b' is not defined"
     ]
    }
   ],
   "source": [
    "print(b+a)"
   ]
  },
  {
   "cell_type": "markdown",
   "metadata": {
    "slideshow": {
     "slide_type": "subslide"
    }
   },
   "source": [
    "- In Python string or char are defined between quotation mark `\"` or apostrophe `'`."
   ]
  },
  {
   "cell_type": "code",
   "execution_count": 5,
   "metadata": {
    "slideshow": {
     "slide_type": "fragment"
    }
   },
   "outputs": [
    {
     "name": "stdout",
     "output_type": "stream",
     "text": [
      "a\n",
      "Gate\n",
      "a\n",
      "Gate\n"
     ]
    }
   ],
   "source": [
    "print(\"a\")\n",
    "print(\"Gate\")\n",
    "# or\n",
    "print('a')\n",
    "print('Gate')"
   ]
  },
  {
   "cell_type": "code",
   "execution_count": 6,
   "metadata": {},
   "outputs": [
    {
     "name": "stdout",
     "output_type": "stream",
     "text": [
      "3\n",
      "3\n"
     ]
    }
   ],
   "source": [
    "a = 3\n",
    "print(a)\n",
    "a = \"3\"\n",
    "print(a)"
   ]
  },
  {
   "cell_type": "markdown",
   "metadata": {
    "slideshow": {
     "slide_type": "slide"
    }
   },
   "source": [
    "## I-4 Type"
   ]
  },
  {
   "cell_type": "markdown",
   "metadata": {
    "slideshow": {
     "slide_type": "fragment"
    }
   },
   "source": [
    "- As you can see from the exemples above, the type is implicite and dynamic.\n",
    "- <font color=\"red\">$\\Rightarrow$ However Python is still a strongly typed language !</font>\n",
    "- Basic types are:\n",
    "    - Integers: `int` \n",
    "    - Reals: `float`\n",
    "    - String: `str`\n",
    "    - Booleans: `bool` `True` and `False` (which are also considered as 0 and 1 by Python)\n",
    "    - Functions are also considered as object (and can therefore be passed as an argument to another function/method)\n",
    "    - None type: `None`\n",
    "- As an object oriented programming language, anyone can create its own type."
   ]
  },
  {
   "cell_type": "markdown",
   "metadata": {
    "slideshow": {
     "slide_type": "subslide"
    }
   },
   "source": [
    "- It is therefore very important to keep track of the type of an object.\n",
    "- This can be easily achived with the `type` function."
   ]
  },
  {
   "cell_type": "code",
   "execution_count": 7,
   "metadata": {
    "slideshow": {
     "slide_type": "fragment"
    }
   },
   "outputs": [
    {
     "name": "stdout",
     "output_type": "stream",
     "text": [
      "2\n",
      "<class 'int'>\n"
     ]
    }
   ],
   "source": [
    "print(2)\n",
    "print(type(2))"
   ]
  },
  {
   "cell_type": "code",
   "execution_count": 8,
   "metadata": {
    "slideshow": {
     "slide_type": "fragment"
    }
   },
   "outputs": [
    {
     "name": "stdout",
     "output_type": "stream",
     "text": [
      "2.0\n",
      "<class 'float'>\n"
     ]
    }
   ],
   "source": [
    "print(2.0)\n",
    "print(type(2.0))"
   ]
  },
  {
   "cell_type": "code",
   "execution_count": 9,
   "metadata": {},
   "outputs": [
    {
     "name": "stdout",
     "output_type": "stream",
     "text": [
      "2\n",
      "<class 'str'>\n"
     ]
    }
   ],
   "source": [
    "print(\"2\")\n",
    "print(type(\"2\"))"
   ]
  },
  {
   "cell_type": "code",
   "execution_count": 10,
   "metadata": {
    "slideshow": {
     "slide_type": "subslide"
    }
   },
   "outputs": [
    {
     "name": "stdout",
     "output_type": "stream",
     "text": [
      "True\n",
      "<class 'bool'>\n"
     ]
    }
   ],
   "source": [
    "print(True)\n",
    "print(type(True))"
   ]
  },
  {
   "cell_type": "code",
   "execution_count": 11,
   "metadata": {
    "slideshow": {
     "slide_type": "fragment"
    }
   },
   "outputs": [
    {
     "name": "stdout",
     "output_type": "stream",
     "text": [
      "<class 'str'>\n"
     ]
    }
   ],
   "source": [
    "print(type(\"a\"))"
   ]
  },
  {
   "cell_type": "markdown",
   "metadata": {
    "slideshow": {
     "slide_type": "subslide"
    }
   },
   "source": [
    "## I-5 Variables"
   ]
  },
  {
   "cell_type": "markdown",
   "metadata": {
    "slideshow": {
     "slide_type": "fragment"
    }
   },
   "source": [
    "- As for many language, variable are defined using the `=` operator.\n",
    "- There are a few mandatory rules for variable name:\n",
    "    - It can contain lower or upper case characters ;\n",
    "    - It can contain digit but connot start with a digit ;\n",
    "    - The only special character allowed is the underscore `_`.\n",
    "- There are also a few conventionnal rules:\n",
    "    - first char should be lower case (and upper case for class name)\n",
    "    - *word* in names should be separated by an underscore "
   ]
  },
  {
   "cell_type": "code",
   "execution_count": 12,
   "metadata": {
    "slideshow": {
     "slide_type": "subslide"
    }
   },
   "outputs": [],
   "source": [
    "tree_length = 2 # Good\n",
    "TreeLength = 2 # Bad (but legit)"
   ]
  },
  {
   "cell_type": "markdown",
   "metadata": {
    "slideshow": {
     "slide_type": "slide"
    }
   },
   "source": [
    "## I-6 Operators"
   ]
  },
  {
   "cell_type": "markdown",
   "metadata": {
    "slideshow": {
     "slide_type": "subslide"
    }
   },
   "source": [
    "- As you would expect, Python can use all the standard mathematical operators :\n",
    "    - Sum: `+`\n",
    "    - Subtraction: `-`\n",
    "    - Multiplcation: `*`\n",
    "    - Division: `/`\n",
    "- Scalar operation can be applied on variable themselves."
   ]
  },
  {
   "cell_type": "code",
   "execution_count": 13,
   "metadata": {
    "slideshow": {
     "slide_type": "fragment"
    }
   },
   "outputs": [
    {
     "name": "stdout",
     "output_type": "stream",
     "text": [
      "Multiplication :  14\n",
      "Division :  0.2857142857142857\n"
     ]
    }
   ],
   "source": [
    "var_1 = 2\n",
    "var_2 = 7\n",
    "print(\"Multiplication : \", var_1 * var_2)\n",
    "print(\"Division : \", var_1 / var_2)"
   ]
  },
  {
   "cell_type": "markdown",
   "metadata": {
    "slideshow": {
     "slide_type": "subslide"
    }
   },
   "source": [
    "- Other operators are\n",
    "    - Additive inverse : `-`\n",
    "    - Power : `**`\n",
    "    - Euclidean division: `//`\n",
    "    - Rest of the division (mod) : `%`"
   ]
  },
  {
   "cell_type": "code",
   "execution_count": 14,
   "metadata": {
    "slideshow": {
     "slide_type": "subslide"
    }
   },
   "outputs": [
    {
     "name": "stdout",
     "output_type": "stream",
     "text": [
      "-2\n",
      "49\n",
      "3\n",
      "1\n"
     ]
    }
   ],
   "source": [
    "var_1 = 2\n",
    "var_2 = 7\n",
    "print(-var_1)\n",
    "print(var_2 ** var_1)\n",
    "print(var_2 // var_1)\n",
    "print(var_2 % var_1)"
   ]
  },
  {
   "cell_type": "markdown",
   "metadata": {},
   "source": [
    "- Logical operators\n",
    "    - NOT: `not`\n",
    "    - AND: `and`\n",
    "    - OR: `or`\n",
    "    - XOR: `!=`"
   ]
  },
  {
   "cell_type": "code",
   "execution_count": 15,
   "metadata": {},
   "outputs": [
    {
     "name": "stdout",
     "output_type": "stream",
     "text": [
      "False\n",
      "False\n",
      "True\n",
      "True\n"
     ]
    }
   ],
   "source": [
    "var_1 = True\n",
    "var_2 = False\n",
    "print(not var_1)\n",
    "print(var_1 and var_2)\n",
    "print(var_1 or var_2)\n",
    "print(var_1 != var_2)"
   ]
  },
  {
   "cell_type": "markdown",
   "metadata": {
    "slideshow": {
     "slide_type": "subslide"
    }
   },
   "source": [
    "- Comparison operators:\n",
    "    - Strictly less and strictly greater`<` et `>`\n",
    "    - Less and greater: `<=`, `>=`\n",
    "    - Equal : `==`\n",
    "    - Not equal: `!=`\n",
    "    - Object identity: `is`\n",
    "    - Negated object identity: `is not`\n",
    "    \n",
    "<font color=\"red\">$\\Rightarrow$ These operators yield a boolean.</font>\n",
    "<font color=\"red\">$\\Rightarrow$ They can be combined on the fly.</font>"
   ]
  },
  {
   "cell_type": "code",
   "execution_count": 16,
   "metadata": {
    "slideshow": {
     "slide_type": "fragment"
    }
   },
   "outputs": [
    {
     "name": "stdout",
     "output_type": "stream",
     "text": [
      "True\n",
      "False\n",
      "False\n",
      "True\n",
      "False\n",
      "True\n",
      "False\n"
     ]
    }
   ],
   "source": [
    "var_1 = 2\n",
    "var_2 = 7\n",
    "var_3 = 5\n",
    "print(var_1 < var_2)\n",
    "print(var_1 >= var_2)\n",
    "print(var_1 == var_2)\n",
    "print(var_1 != var_2)\n",
    "print(var_1 is None)\n",
    "print(var_1 is not None)\n",
    "print(var_1 < var_2 <var_3)"
   ]
  },
  {
   "cell_type": "markdown",
   "metadata": {
    "slideshow": {
     "slide_type": "slide"
    }
   },
   "source": [
    "## I-7 Sequences and indexation"
   ]
  },
  {
   "cell_type": "markdown",
   "metadata": {
    "slideshow": {
     "slide_type": "fragment"
    }
   },
   "source": [
    "- Python has various types of container *sequences* that allow to store objects inside. The most common are the `list`, the `tuple` and the `dictionnary`."
   ]
  },
  {
   "cell_type": "markdown",
   "metadata": {
    "slideshow": {
     "slide_type": "subslide"
    }
   },
   "source": [
    "### List\n",
    "\n",
    "- The list is a set of objects between square brackets.\n",
    "- It can be dynamically increased (or decreased) in size with the `append` method.\n",
    "- Elements can be of different types."
   ]
  },
  {
   "cell_type": "code",
   "execution_count": 17,
   "metadata": {
    "slideshow": {
     "slide_type": "fragment"
    }
   },
   "outputs": [
    {
     "name": "stdout",
     "output_type": "stream",
     "text": [
      "[0, 1, 5, 8, 50]\n",
      "<class 'list'>\n",
      "[]\n",
      "[0, [True, 3.8]]\n"
     ]
    }
   ],
   "source": [
    "list_1 = [0, 1, 5, 8, 50]\n",
    "list_2 = [] # an empty list\n",
    "print(list_1)\n",
    "print(type(list_1))\n",
    "\n",
    "print(list_2)\n",
    "list_2.append(0)\n",
    "list_2.append([True, 3.8])\n",
    "print(list_2)"
   ]
  },
  {
   "cell_type": "markdown",
   "metadata": {
    "slideshow": {
     "slide_type": "subslide"
    }
   },
   "source": [
    "- One can access any element of a list by indexing it with its index.\n",
    "    - <font color=\"red\">Indices start at 0</font>\n",
    "    - Indexing can be done from one index (included) to another one (excluded) to extract a sub-list\n",
    "    - Revert indexing is allowed: index -1 is the last element, -2 the previous one, *etc*."
   ]
  },
  {
   "cell_type": "code",
   "execution_count": 18,
   "metadata": {
    "slideshow": {
     "slide_type": "fragment"
    }
   },
   "outputs": [
    {
     "name": "stdout",
     "output_type": "stream",
     "text": [
      "[0.0, 2.0, 4.0, [6.0, 7.0]]\n",
      "0.0\n",
      "2.0\n",
      "4.0\n",
      "7.0\n",
      "[0.0, 2.0]\n",
      "[6.0, 7.0]\n"
     ]
    }
   ],
   "source": [
    "liste_3 = [0.0, 2.0, 4.0, [6.0, 7.0]]\n",
    "print(liste_3)\n",
    "print(liste_3[0])\n",
    "print(liste_3[1])\n",
    "print(liste_3[2])\n",
    "print(liste_3[3][1])\n",
    "print(liste_3[0:2])\n",
    "print(liste_3[-1])"
   ]
  },
  {
   "cell_type": "markdown",
   "metadata": {
    "slideshow": {
     "slide_type": "subslide"
    }
   },
   "source": [
    "### Tuple\n",
    "\n",
    "- Tuple are basically immutable lists that are defined between brackets.\n",
    "- They will be used (mostly implicitely) a lot while using the **Numpy** library"
   ]
  },
  {
   "cell_type": "code",
   "execution_count": 19,
   "metadata": {
    "slideshow": {
     "slide_type": "fragment"
    }
   },
   "outputs": [
    {
     "name": "stdout",
     "output_type": "stream",
     "text": [
      "(1, 2)\n",
      "1\n"
     ]
    }
   ],
   "source": [
    "tuple_1 = (1, 2)\n",
    "print(tuple_1)\n",
    "print(tuple_1[0])"
   ]
  },
  {
   "cell_type": "code",
   "execution_count": 20,
   "metadata": {},
   "outputs": [
    {
     "ename": "TypeError",
     "evalue": "'tuple' object does not support item assignment",
     "output_type": "error",
     "traceback": [
      "\u001b[0;31m---------------------------------------------------------------------------\u001b[0m",
      "\u001b[0;31mTypeError\u001b[0m                                 Traceback (most recent call last)",
      "Input \u001b[0;32mIn [20]\u001b[0m, in \u001b[0;36m<cell line: 1>\u001b[0;34m()\u001b[0m\n\u001b[0;32m----> 1\u001b[0m tuple_1[\u001b[38;5;241m0\u001b[39m] \u001b[38;5;241m=\u001b[39m \u001b[38;5;241m0\u001b[39m\n",
      "\u001b[0;31mTypeError\u001b[0m: 'tuple' object does not support item assignment"
     ]
    }
   ],
   "source": [
    "tuple_1[0] = 0"
   ]
  },
  {
   "cell_type": "markdown",
   "metadata": {
    "slideshow": {
     "slide_type": "subslide"
    }
   },
   "source": [
    "### Dictionnary\n",
    "\n",
    "- Dictionnary are sequences that couple a keyword to a value (key)\n",
    "- They are defined with curly brackets\n",
    "- They are very useful to used optionnal argument in functions\n",
    "- They will be used a lot (implcitely) with plotting functions (**Matplotlib** library)"
   ]
  },
  {
   "cell_type": "code",
   "execution_count": 21,
   "metadata": {
    "slideshow": {
     "slide_type": "fragment"
    }
   },
   "outputs": [
    {
     "name": "stdout",
     "output_type": "stream",
     "text": [
      "{'k1': 0, 'k2': 1}\n",
      "1\n"
     ]
    }
   ],
   "source": [
    "dict_1 = {\"k1\":0, \"k2\":1}\n",
    "print(dict_1)\n",
    "print(dict_1[\"k2\"])"
   ]
  },
  {
   "cell_type": "markdown",
   "metadata": {
    "slideshow": {
     "slide_type": "slide"
    }
   },
   "source": [
    "## I-8 Conditions"
   ]
  },
  {
   "cell_type": "markdown",
   "metadata": {
    "slideshow": {
     "slide_type": "fragment"
    }
   },
   "source": [
    "- Condition are performed using the instruction `if`.\n",
    "- The syntax is:\n",
    "``` Python\n",
    "if condition_1:\n",
    "    # do something\n",
    "elif condition_2:\n",
    "    # do something else\n",
    "etc ...\n",
    "else:\n",
    "    # do something\n",
    "```\n",
    "- Condition line must end by a `:`\n",
    "- Instruction block is then obtained by indenting the code (rather than using curly brackets)\n",
    "- Instruction for additionnal condition is `elif` and `else` for the last one. Both are optionnal."
   ]
  },
  {
   "cell_type": "code",
   "execution_count": 22,
   "metadata": {
    "slideshow": {
     "slide_type": "subslide"
    }
   },
   "outputs": [
    {
     "name": "stdout",
     "output_type": "stream",
     "text": [
      "2\n"
     ]
    }
   ],
   "source": [
    "a = 2\n",
    "b = 5\n",
    "c = 0\n",
    "\n",
    "if a < b:\n",
    "    print(a)"
   ]
  },
  {
   "cell_type": "code",
   "execution_count": 23,
   "metadata": {
    "slideshow": {
     "slide_type": "fragment"
    }
   },
   "outputs": [
    {
     "name": "stdout",
     "output_type": "stream",
     "text": [
      "False\n"
     ]
    }
   ],
   "source": [
    "if a > b:\n",
    "    print(True)\n",
    "else:\n",
    "    print(False)"
   ]
  },
  {
   "cell_type": "code",
   "execution_count": 24,
   "metadata": {
    "slideshow": {
     "slide_type": "fragment"
    }
   },
   "outputs": [
    {
     "name": "stdout",
     "output_type": "stream",
     "text": [
      "3\n"
     ]
    }
   ],
   "source": [
    "if a < b < c:\n",
    "    print(1)\n",
    "elif b < c < a:\n",
    "    print(2)\n",
    "elif c < a < b:\n",
    "    print(3)\n",
    "else:\n",
    "    print(None)"
   ]
  },
  {
   "cell_type": "markdown",
   "metadata": {
    "slideshow": {
     "slide_type": "slide"
    }
   },
   "source": [
    "## I-9 Loops\n",
    "\n",
    "- The most basic way of iteration in Python is the use of the `for` and the `while` loops\n",
    "\n",
    "### `for` loop\n",
    "\n",
    "- This loop uses a local variable that takes at each loop the value of the next element in a sequence (usually a list)\n",
    "- The syntax for the `for` loop is:\n",
    "\n",
    "``` Python\n",
    "for element in list:\n",
    "    # do something with element\n",
    "```"
   ]
  },
  {
   "cell_type": "code",
   "execution_count": 25,
   "metadata": {
    "slideshow": {
     "slide_type": "fragment"
    }
   },
   "outputs": [
    {
     "name": "stdout",
     "output_type": "stream",
     "text": [
      "True\n",
      "1\n",
      "None\n",
      "[5.2, 0]\n"
     ]
    }
   ],
   "source": [
    "list_1 = [True, 1, None, [5.2, 0]]\n",
    "\n",
    "for val in list_1:\n",
    "    print(val)"
   ]
  },
  {
   "cell_type": "markdown",
   "metadata": {
    "slideshow": {
     "slide_type": "subslide"
    }
   },
   "source": [
    "- It is sometime more useful to have the local variable used as an index to iterate through a list.\n",
    "- In that case the syntax becomes:"
   ]
  },
  {
   "cell_type": "code",
   "execution_count": 26,
   "metadata": {
    "slideshow": {
     "slide_type": "fragment"
    }
   },
   "outputs": [
    {
     "name": "stdout",
     "output_type": "stream",
     "text": [
      "0 True\n",
      "1 1\n",
      "2 None\n",
      "3 [5.2, 0]\n"
     ]
    }
   ],
   "source": [
    "for i in range(len(list_1)):\n",
    "    print(i, list_1[i])"
   ]
  },
  {
   "cell_type": "markdown",
   "metadata": {
    "slideshow": {
     "slide_type": "fragment"
    }
   },
   "source": [
    "- This uses the function `len` which gives the length of a sequence (the number of elements inside)\n",
    "- It also une the function `range` which gives to the variable `i` all tha values from `0` to `len(list)-1`"
   ]
  },
  {
   "cell_type": "markdown",
   "metadata": {
    "slideshow": {
     "slide_type": "subslide"
    }
   },
   "source": [
    "### `while` loop\n",
    "\n",
    "- The while loop iterates until a condition is reached.\n",
    "- Its basic syntax is:\n",
    "``` Python\n",
    "while True:\n",
    "    # do something\n",
    "```"
   ]
  },
  {
   "cell_type": "code",
   "execution_count": 27,
   "metadata": {
    "slideshow": {
     "slide_type": "fragment"
    }
   },
   "outputs": [
    {
     "name": "stdout",
     "output_type": "stream",
     "text": [
      "True\n",
      "1\n",
      "None\n",
      "[5.2, 0]\n"
     ]
    }
   ],
   "source": [
    "list_1 = [True, 1, None, [5.2, 0]]\n",
    "\n",
    "k = 0\n",
    "while k < len(list_1):\n",
    "    print(list_1[k])\n",
    "    k += 1"
   ]
  },
  {
   "cell_type": "markdown",
   "metadata": {
    "slideshow": {
     "slide_type": "subslide"
    }
   },
   "source": [
    "### List comprehension"
   ]
  },
  {
   "cell_type": "markdown",
   "metadata": {
    "slideshow": {
     "slide_type": "fragment"
    }
   },
   "source": [
    "- A convenient way of combining loop and conditions and automatically generating a list is called list comprehenion\n",
    "- The syntax is:\n",
    "\n",
    "```Python\n",
    "my_list = [f(x) if condition else g(x) for x in sequence]\n",
    "```\n",
    "\n",
    "\n",
    "- or if only the `if` is required:\n",
    "\n",
    "```Python\n",
    "my_list = [f(x) for x in sequence if condition]\n",
    "```\n",
    "\n",
    "\n",
    "- Or even if no condition is required:\n",
    "\n",
    "```Python\n",
    "my_list = [f(x) for x in sequence]\n",
    "```\n",
    "\n",
    "- where `f(x)` and `g(x)` are any instruction that can use the local loop variable x running through a sequence"
   ]
  },
  {
   "cell_type": "markdown",
   "metadata": {
    "slideshow": {
     "slide_type": "subslide"
    }
   },
   "source": [
    "- Therefore the code that add -1 to event numbers and add +1 to odd ones is the same written as:"
   ]
  },
  {
   "cell_type": "code",
   "execution_count": 28,
   "metadata": {
    "slideshow": {
     "slide_type": "fragment"
    }
   },
   "outputs": [
    {
     "name": "stdout",
     "output_type": "stream",
     "text": [
      "[-1, 2, 1, 4, 3, 6, 5, 8, 7, 10]\n"
     ]
    }
   ],
   "source": [
    "l1 = [i-1 if i%2==0 else i+1 for i in range(10)]\n",
    "print(l1)"
   ]
  },
  {
   "cell_type": "markdown",
   "metadata": {
    "slideshow": {
     "slide_type": "fragment"
    }
   },
   "source": [
    "- Or in the traditional way:"
   ]
  },
  {
   "cell_type": "code",
   "execution_count": 29,
   "metadata": {
    "slideshow": {
     "slide_type": "fragment"
    }
   },
   "outputs": [
    {
     "name": "stdout",
     "output_type": "stream",
     "text": [
      "[-1, 2, 1, 4, 3, 6, 5, 8, 7, 10]\n"
     ]
    }
   ],
   "source": [
    "l1 = []\n",
    "for i in range(10):\n",
    "    if i%2 == 0:\n",
    "        l1.append(i-1)\n",
    "    else:\n",
    "        l1.append(i+1)\n",
    "print(l1)"
   ]
  },
  {
   "cell_type": "markdown",
   "metadata": {
    "slideshow": {
     "slide_type": "slide"
    }
   },
   "source": [
    "## I-9 Function\n",
    "\n",
    "- As most of modern languages, Python intensively rely on functions.\n",
    "- The basic syntax is:\n",
    "\n",
    "``` Python\n",
    "def my_function(arg1, arg2, etc):\n",
    "    # do something\n",
    "    return # something\n",
    "```\n",
    "\n",
    "- Arguments can be of any type (inclufing other functions).\n",
    "- Arguments can be set with a default value, making them optionnal to use.\n",
    "- The default return result (is nothing is returned) is a `None` object.\n",
    "- Function can return several elements. They will be return as a `tuple`.  "
   ]
  },
  {
   "cell_type": "code",
   "execution_count": 30,
   "metadata": {
    "slideshow": {
     "slide_type": "subslide"
    }
   },
   "outputs": [
    {
     "data": {
      "text/plain": [
       "4"
      ]
     },
     "execution_count": 30,
     "metadata": {},
     "output_type": "execute_result"
    }
   ],
   "source": [
    "def square(x):\n",
    "    return x**2\n",
    "    \n",
    "square(2)"
   ]
  },
  {
   "cell_type": "code",
   "execution_count": 31,
   "metadata": {
    "slideshow": {
     "slide_type": "fragment"
    }
   },
   "outputs": [
    {
     "name": "stdout",
     "output_type": "stream",
     "text": [
      "8\n",
      "0\n"
     ]
    }
   ],
   "source": [
    "def cube(x=0):\n",
    "    return x**3\n",
    "\n",
    "print(cube(2))\n",
    "print(cube())"
   ]
  },
  {
   "cell_type": "code",
   "execution_count": 32,
   "metadata": {
    "slideshow": {
     "slide_type": "fragment"
    }
   },
   "outputs": [
    {
     "name": "stdout",
     "output_type": "stream",
     "text": [
      "4\n",
      "8\n"
     ]
    }
   ],
   "source": [
    "def p2p3(x, square_or_cube):\n",
    "    return square_or_cube(x)\n",
    "\n",
    "print(p2p3(2, square))\n",
    "print(p2p3(2, cube))"
   ]
  },
  {
   "cell_type": "markdown",
   "metadata": {
    "slideshow": {
     "slide_type": "slide"
    }
   },
   "source": [
    "## I-10 Class"
   ]
  },
  {
   "cell_type": "markdown",
   "metadata": {
    "slideshow": {
     "slide_type": "subslide"
    }
   },
   "source": [
    "- As previously said, Python can also be used using oriented object (OO) approaches.\n",
    "- Classes are defined using the keyword `class`.\n",
    "- A constructor-equivalent can then be defined as a standard method called `__init__` (with double underscores on both sides).\n",
    "- All instance methods and variable must be defined and used with a defined keywork, usually `self`."
   ]
  },
  {
   "cell_type": "code",
   "execution_count": 33,
   "metadata": {
    "slideshow": {
     "slide_type": "fragment"
    }
   },
   "outputs": [
    {
     "name": "stdout",
     "output_type": "stream",
     "text": [
      "5\n"
     ]
    }
   ],
   "source": [
    "class Printer():\n",
    "    \n",
    "    def __init__(self, value):\n",
    "        self.var = value\n",
    "    \n",
    "    def display_value(self):\n",
    "        print(self.var)\n",
    "        \n",
    "A = Printer(5)\n",
    "A.display_value()"
   ]
  },
  {
   "cell_type": "markdown",
   "metadata": {
    "slideshow": {
     "slide_type": "subslide"
    }
   },
   "source": [
    "- Classes can benefit from inheritance (not seen here)\n",
    "- Everything in Python is an object, including functions -> functions can pas directly passed as arguments to other functions\n",
    "- Du to the vectorial approach that we'll be using for data analysis (arrays), OO approaches will be not used much."
   ]
  }
 ],
 "metadata": {
  "celltoolbar": "Diaporama",
  "kernelspec": {
   "display_name": "Python 3",
   "language": "python",
   "name": "python3"
  },
  "language_info": {
   "codemirror_mode": {
    "name": "ipython",
    "version": 3
   },
   "file_extension": ".py",
   "mimetype": "text/x-python",
   "name": "python",
   "nbconvert_exporter": "python",
   "pygments_lexer": "ipython3",
   "version": "3.8.10"
  }
 },
 "nbformat": 4,
 "nbformat_minor": 4
}
